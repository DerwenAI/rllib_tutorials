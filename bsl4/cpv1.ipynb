{
 "cells": [
  {
   "cell_type": "code",
   "execution_count": 1,
   "metadata": {},
   "outputs": [
    {
     "name": "stdout",
     "output_type": "stream",
     "text": [
      "Python implementation: CPython\n",
      "Python version       : 3.7.4\n",
      "IPython version      : 7.16.1\n",
      "\n",
      "Compiler    : Clang 4.0.1 (tags/RELEASE_401/final)\n",
      "OS          : Darwin\n",
      "Release     : 17.7.0\n",
      "Machine     : x86_64\n",
      "Processor   : i386\n",
      "CPU cores   : 4\n",
      "Architecture: 64bit\n",
      "\n"
     ]
    }
   ],
   "source": [
    "%load_ext watermark\n",
    "%watermark -v -m"
   ]
  },
  {
   "cell_type": "code",
   "execution_count": 2,
   "metadata": {},
   "outputs": [
    {
     "name": "stdout",
     "output_type": "stream",
     "text": [
      "WARNING:tensorflow:From /opt/anaconda3/lib/python3.7/site-packages/tensorflow/python/compat/v2_compat.py:96: disable_resource_variables (from tensorflow.python.ops.variable_scope) is deprecated and will be removed in a future version.\n",
      "Instructions for updating:\n",
      "non-resource variables are not supported in the long term\n"
     ]
    }
   ],
   "source": [
    "import pandas as pd\n",
    "import json\n",
    "import os\n",
    "import shutil\n",
    "import sys\n",
    "\n",
    "import ray\n",
    "import ray.rllib.agents.ppo as ppo"
   ]
  },
  {
   "cell_type": "code",
   "execution_count": 3,
   "metadata": {},
   "outputs": [],
   "source": [
    "checkpoint_root = \"tmp/ppo/cart\"\n",
    "shutil.rmtree(checkpoint_root, ignore_errors=True, onerror=None)\n",
    "\n",
    "ray_results = f'{os.getenv(\"HOME\")}/ray_results/'\n",
    "shutil.rmtree(ray_results, ignore_errors=True, onerror=None)"
   ]
  },
  {
   "cell_type": "code",
   "execution_count": 4,
   "metadata": {},
   "outputs": [
    {
     "name": "stderr",
     "output_type": "stream",
     "text": [
      "File descriptor limit 256 is too low for production servers and may result in connection errors. At least 8192 is recommended. --- Fix with 'ulimit -n 8192'\n",
      "2021-04-28 15:20:48,110\tINFO services.py:1174 -- View the Ray dashboard at \u001b[1m\u001b[32mhttp://127.0.0.1:8265\u001b[39m\u001b[22m\n"
     ]
    }
   ],
   "source": [
    "info = ray.init(ignore_reinit_error=True)"
   ]
  },
  {
   "cell_type": "code",
   "execution_count": 5,
   "metadata": {},
   "outputs": [],
   "source": [
    "SELECT_ENV = \"CartPole-v1\"                      # Specifies the OpenAI Gym environment for Cart Pole\n",
    "N_ITER = 10                                     # Number of training runs.\n",
    "\n",
    "config = ppo.DEFAULT_CONFIG.copy()              # PPO's default configuration. See the next code cell.\n",
    "config[\"log_level\"] = \"WARN\"                    # Suppress too many messages, but try \"INFO\" to see what can be printed.\n",
    "\n",
    "# Other settings we might adjust:\n",
    "config[\"num_workers\"] = 1                       # Use > 1 for using more CPU cores, including over a cluster\n",
    "config[\"num_sgd_iter\"] = 10                     # Number of SGD (stochastic gradient descent) iterations per training minibatch.\n",
    "                                                # I.e., for each minibatch of data, do this many passes over it to train. \n",
    "config[\"sgd_minibatch_size\"] = 250              # The amount of data records per minibatch\n",
    "config[\"model\"][\"fcnet_hiddens\"] = [100, 50]    #\n",
    "config[\"num_cpus_per_worker\"] = 0  # This avoids running out of resources in the notebook environment when this cell is re-executed"
   ]
  },
  {
   "cell_type": "code",
   "execution_count": 6,
   "metadata": {
    "scrolled": true,
    "tags": []
   },
   "outputs": [
    {
     "name": "stderr",
     "output_type": "stream",
     "text": [
      "2021-04-28 15:20:50,842\tINFO trainer.py:616 -- Tip: set framework=tfe or the --eager flag to enable TensorFlow eager execution\n",
      "2021-04-28 15:20:50,843\tINFO trainer.py:643 -- Current log_level is WARN. For more information, set 'log_level': 'INFO' / 'DEBUG' or use the -v and -vv flags.\n",
      "\u001b[2m\u001b[36m(pid=5591)\u001b[0m WARNING:tensorflow:From /opt/anaconda3/lib/python3.7/site-packages/tensorflow/python/compat/v2_compat.py:96: disable_resource_variables (from tensorflow.python.ops.variable_scope) is deprecated and will be removed in a future version.\n",
      "\u001b[2m\u001b[36m(pid=5591)\u001b[0m Instructions for updating:\n",
      "\u001b[2m\u001b[36m(pid=5591)\u001b[0m non-resource variables are not supported in the long term\n",
      "2021-04-28 15:20:52,961\tWARNING worker.py:1107 -- Failed to unpickle actor class 'RolloutWorker' for actor ID a67dc375e60ddd1a23bd3bb901000000. Traceback:\n",
      "Traceback (most recent call last):\n",
      "  File \"/opt/anaconda3/lib/python3.7/site-packages/ray/function_manager.py\", line 496, in _load_actor_class_from_gcs\n",
      "    actor_class = pickle.loads(pickled_class)\n",
      "  File \"/opt/anaconda3/lib/python3.7/site-packages/ray/rllib/__init__.py\", line 5, in <module>\n",
      "    from ray.rllib.env.base_env import BaseEnv\n",
      "  File \"/opt/anaconda3/lib/python3.7/site-packages/ray/rllib/env/__init__.py\", line 1, in <module>\n",
      "    from ray.rllib.env.base_env import BaseEnv\n",
      "  File \"/opt/anaconda3/lib/python3.7/site-packages/ray/rllib/env/base_env.py\", line 3, in <module>\n",
      "    from ray.rllib.env.external_env import ExternalEnv\n",
      "  File \"/opt/anaconda3/lib/python3.7/site-packages/ray/rllib/env/external_env.py\", line 7, in <module>\n",
      "    from ray.rllib.utils.annotations import PublicAPI\n",
      "  File \"/opt/anaconda3/lib/python3.7/site-packages/ray/rllib/utils/__init__.py\", line 10, in <module>\n",
      "    from ray.rllib.utils.numpy import sigmoid, softmax, relu, one_hot, fc, lstm, \\\n",
      "  File \"/opt/anaconda3/lib/python3.7/site-packages/ray/rllib/utils/numpy.py\", line 8, in <module>\n",
      "    torch, _ = try_import_torch()\n",
      "  File \"/opt/anaconda3/lib/python3.7/site-packages/ray/rllib/utils/framework.py\", line 178, in try_import_torch\n",
      "    import torch\n",
      "  File \"/opt/anaconda3/lib/python3.7/site-packages/torch/__init__.py\", line 635, in <module>\n",
      "    import torch.utils.data\n",
      "  File \"/opt/anaconda3/lib/python3.7/site-packages/torch/utils/data/__init__.py\", line 6, in <module>\n",
      "    from .dataloader import DataLoader, _DatasetKind, get_worker_info\n",
      "  File \"/opt/anaconda3/lib/python3.7/site-packages/torch/utils/data/dataloader.py\", line 21, in <module>\n",
      "    from . import _utils\n",
      "  File \"/opt/anaconda3/lib/python3.7/site-packages/torch/utils/data/_utils/__init__.py\", line 45, in <module>\n",
      "    from . import worker, signal_handling, pin_memory, collate, fetch\n",
      "  File \"/opt/anaconda3/lib/python3.7/site-packages/torch/utils/data/_utils/worker.py\", line 114, in <module>\n",
      "    class _IterableDatasetStopIteration(object):\n",
      "  File \"/opt/anaconda3/lib/python3.7/site-packages/dataclasses.py\", line 950, in wrap\n",
      "    return _process_class(cls, init, repr, eq, order, unsafe_hash, frozen)\n",
      "  File \"/opt/anaconda3/lib/python3.7/site-packages/dataclasses.py\", line 801, in _process_class\n",
      "    for name, type in cls_annotations.items()]\n",
      "  File \"/opt/anaconda3/lib/python3.7/site-packages/dataclasses.py\", line 801, in <listcomp>\n",
      "    for name, type in cls_annotations.items()]\n",
      "  File \"/opt/anaconda3/lib/python3.7/site-packages/dataclasses.py\", line 659, in _get_field\n",
      "    if (_is_classvar(a_type, typing)\n",
      "  File \"/opt/anaconda3/lib/python3.7/site-packages/dataclasses.py\", line 550, in _is_classvar\n",
      "    return type(a_type) is typing._ClassVar\n",
      "AttributeError: module 'typing' has no attribute '_ClassVar'\n",
      "\n",
      "\u001b[2m\u001b[36m(pid=5591)\u001b[0m 2021-04-28 15:20:52,944\tERROR function_manager.py:498 -- Failed to load actor class RolloutWorker.\n",
      "\u001b[2m\u001b[36m(pid=5591)\u001b[0m Traceback (most recent call last):\n",
      "\u001b[2m\u001b[36m(pid=5591)\u001b[0m   File \"/opt/anaconda3/lib/python3.7/site-packages/ray/function_manager.py\", line 496, in _load_actor_class_from_gcs\n",
      "\u001b[2m\u001b[36m(pid=5591)\u001b[0m     actor_class = pickle.loads(pickled_class)\n",
      "\u001b[2m\u001b[36m(pid=5591)\u001b[0m   File \"/opt/anaconda3/lib/python3.7/site-packages/ray/rllib/__init__.py\", line 5, in <module>\n",
      "\u001b[2m\u001b[36m(pid=5591)\u001b[0m     from ray.rllib.env.base_env import BaseEnv\n",
      "\u001b[2m\u001b[36m(pid=5591)\u001b[0m   File \"/opt/anaconda3/lib/python3.7/site-packages/ray/rllib/env/__init__.py\", line 1, in <module>\n",
      "\u001b[2m\u001b[36m(pid=5591)\u001b[0m     from ray.rllib.env.base_env import BaseEnv\n",
      "\u001b[2m\u001b[36m(pid=5591)\u001b[0m   File \"/opt/anaconda3/lib/python3.7/site-packages/ray/rllib/env/base_env.py\", line 3, in <module>\n",
      "\u001b[2m\u001b[36m(pid=5591)\u001b[0m     from ray.rllib.env.external_env import ExternalEnv\n",
      "\u001b[2m\u001b[36m(pid=5591)\u001b[0m   File \"/opt/anaconda3/lib/python3.7/site-packages/ray/rllib/env/external_env.py\", line 7, in <module>\n",
      "\u001b[2m\u001b[36m(pid=5591)\u001b[0m     from ray.rllib.utils.annotations import PublicAPI\n",
      "\u001b[2m\u001b[36m(pid=5591)\u001b[0m   File \"/opt/anaconda3/lib/python3.7/site-packages/ray/rllib/utils/__init__.py\", line 10, in <module>\n",
      "\u001b[2m\u001b[36m(pid=5591)\u001b[0m     from ray.rllib.utils.numpy import sigmoid, softmax, relu, one_hot, fc, lstm, \\\n",
      "\u001b[2m\u001b[36m(pid=5591)\u001b[0m   File \"/opt/anaconda3/lib/python3.7/site-packages/ray/rllib/utils/numpy.py\", line 8, in <module>\n",
      "\u001b[2m\u001b[36m(pid=5591)\u001b[0m     torch, _ = try_import_torch()\n",
      "\u001b[2m\u001b[36m(pid=5591)\u001b[0m   File \"/opt/anaconda3/lib/python3.7/site-packages/ray/rllib/utils/framework.py\", line 178, in try_import_torch\n",
      "\u001b[2m\u001b[36m(pid=5591)\u001b[0m     import torch\n",
      "\u001b[2m\u001b[36m(pid=5591)\u001b[0m   File \"/opt/anaconda3/lib/python3.7/site-packages/torch/__init__.py\", line 635, in <module>\n",
      "\u001b[2m\u001b[36m(pid=5591)\u001b[0m     import torch.utils.data\n",
      "\u001b[2m\u001b[36m(pid=5591)\u001b[0m   File \"/opt/anaconda3/lib/python3.7/site-packages/torch/utils/data/__init__.py\", line 6, in <module>\n",
      "\u001b[2m\u001b[36m(pid=5591)\u001b[0m     from .dataloader import DataLoader, _DatasetKind, get_worker_info\n",
      "\u001b[2m\u001b[36m(pid=5591)\u001b[0m   File \"/opt/anaconda3/lib/python3.7/site-packages/torch/utils/data/dataloader.py\", line 21, in <module>\n",
      "\u001b[2m\u001b[36m(pid=5591)\u001b[0m     from . import _utils\n",
      "\u001b[2m\u001b[36m(pid=5591)\u001b[0m   File \"/opt/anaconda3/lib/python3.7/site-packages/torch/utils/data/_utils/__init__.py\", line 45, in <module>\n",
      "\u001b[2m\u001b[36m(pid=5591)\u001b[0m     from . import worker, signal_handling, pin_memory, collate, fetch\n",
      "\u001b[2m\u001b[36m(pid=5591)\u001b[0m   File \"/opt/anaconda3/lib/python3.7/site-packages/torch/utils/data/_utils/worker.py\", line 114, in <module>\n",
      "\u001b[2m\u001b[36m(pid=5591)\u001b[0m     class _IterableDatasetStopIteration(object):\n",
      "\u001b[2m\u001b[36m(pid=5591)\u001b[0m   File \"/opt/anaconda3/lib/python3.7/site-packages/dataclasses.py\", line 950, in wrap\n",
      "\u001b[2m\u001b[36m(pid=5591)\u001b[0m     return _process_class(cls, init, repr, eq, order, unsafe_hash, frozen)\n",
      "\u001b[2m\u001b[36m(pid=5591)\u001b[0m   File \"/opt/anaconda3/lib/python3.7/site-packages/dataclasses.py\", line 801, in _process_class\n",
      "\u001b[2m\u001b[36m(pid=5591)\u001b[0m     for name, type in cls_annotations.items()]\n",
      "\u001b[2m\u001b[36m(pid=5591)\u001b[0m   File \"/opt/anaconda3/lib/python3.7/site-packages/dataclasses.py\", line 801, in <listcomp>\n",
      "\u001b[2m\u001b[36m(pid=5591)\u001b[0m     for name, type in cls_annotations.items()]\n",
      "\u001b[2m\u001b[36m(pid=5591)\u001b[0m   File \"/opt/anaconda3/lib/python3.7/site-packages/dataclasses.py\", line 659, in _get_field\n",
      "\u001b[2m\u001b[36m(pid=5591)\u001b[0m     if (_is_classvar(a_type, typing)\n",
      "\u001b[2m\u001b[36m(pid=5591)\u001b[0m   File \"/opt/anaconda3/lib/python3.7/site-packages/dataclasses.py\", line 550, in _is_classvar\n",
      "\u001b[2m\u001b[36m(pid=5591)\u001b[0m     return type(a_type) is typing._ClassVar\n",
      "\u001b[2m\u001b[36m(pid=5591)\u001b[0m AttributeError: module 'typing' has no attribute '_ClassVar'\n"
     ]
    },
    {
     "ename": "RayTaskError(NameError)",
     "evalue": "\u001b[36mray::RolloutWorker.foreach_policy()\u001b[39m (pid=5591, ip=192.168.1.65)\n  File \"python/ray/_raylet.pyx\", line 439, in ray._raylet.execute_task\n  File \"python/ray/_raylet.pyx\", line 442, in ray._raylet.execute_task\n  File \"python/ray/_raylet.pyx\", line 459, in ray._raylet.execute_task\n  File \"/opt/anaconda3/lib/python3.7/site-packages/ray/serialization.py\", line 245, in deserialize_objects\n    self._deserialize_object(data, metadata, object_ref))\n  File \"/opt/anaconda3/lib/python3.7/site-packages/ray/serialization.py\", line 192, in _deserialize_object\n    return self._deserialize_msgpack_data(data, metadata_fields)\n  File \"/opt/anaconda3/lib/python3.7/site-packages/ray/serialization.py\", line 170, in _deserialize_msgpack_data\n    python_objects = self._deserialize_pickle5_data(pickle5_data)\n  File \"/opt/anaconda3/lib/python3.7/site-packages/ray/serialization.py\", line 160, in _deserialize_pickle5_data\n    obj = pickle.loads(in_band)\n  File \"/opt/anaconda3/lib/python3.7/site-packages/ray/rllib/__init__.py\", line 5, in <module>\n    from ray.rllib.env.base_env import BaseEnv\n  File \"/opt/anaconda3/lib/python3.7/site-packages/ray/rllib/env/__init__.py\", line 6, in <module>\n    from ray.rllib.env.policy_client import PolicyClient\n  File \"/opt/anaconda3/lib/python3.7/site-packages/ray/rllib/env/policy_client.py\", line 14, in <module>\n    from ray.rllib.policy.sample_batch import MultiAgentBatch\n  File \"/opt/anaconda3/lib/python3.7/site-packages/ray/rllib/policy/__init__.py\", line 1, in <module>\n    from ray.rllib.policy.policy import Policy\n  File \"/opt/anaconda3/lib/python3.7/site-packages/ray/rllib/policy/policy.py\", line 9, in <module>\n    from ray.rllib.models.catalog import ModelCatalog\n  File \"/opt/anaconda3/lib/python3.7/site-packages/ray/rllib/models/__init__.py\", line 1, in <module>\n    from ray.rllib.models.action_dist import ActionDistribution\n  File \"/opt/anaconda3/lib/python3.7/site-packages/ray/rllib/models/action_dist.py\", line 4, in <module>\n    from ray.rllib.models.modelv2 import ModelV2\n  File \"/opt/anaconda3/lib/python3.7/site-packages/ray/rllib/models/modelv2.py\", line 7, in <module>\n    from ray.rllib.models.preprocessors import get_preprocessor, \\\n  File \"/opt/anaconda3/lib/python3.7/site-packages/ray/rllib/models/preprocessors.py\", line 9, in <module>\n    from ray.rllib.utils.spaces.repeated import Repeated\n  File \"/opt/anaconda3/lib/python3.7/site-packages/ray/rllib/utils/__init__.py\", line 10, in <module>\n    from ray.rllib.utils.numpy import sigmoid, softmax, relu, one_hot, fc, lstm, \\\n  File \"/opt/anaconda3/lib/python3.7/site-packages/ray/rllib/utils/numpy.py\", line 8, in <module>\n    torch, _ = try_import_torch()\n  File \"/opt/anaconda3/lib/python3.7/site-packages/ray/rllib/utils/framework.py\", line 178, in try_import_torch\n    import torch\n  File \"/opt/anaconda3/lib/python3.7/site-packages/torch/__init__.py\", line 228, in <module>\n    __all__ += [name for name in dir(_C)\nNameError: name '_C' is not defined",
     "output_type": "error",
     "traceback": [
      "\u001b[0;31m---------------------------------------------------------------------------\u001b[0m",
      "\u001b[0;31mRayTaskError(NameError)\u001b[0m                   Traceback (most recent call last)",
      "\u001b[0;32m<ipython-input-6-5059b944cd73>\u001b[0m in \u001b[0;36m<module>\u001b[0;34m\u001b[0m\n\u001b[0;32m----> 1\u001b[0;31m \u001b[0magent\u001b[0m \u001b[0;34m=\u001b[0m \u001b[0mppo\u001b[0m\u001b[0;34m.\u001b[0m\u001b[0mPPOTrainer\u001b[0m\u001b[0;34m(\u001b[0m\u001b[0mconfig\u001b[0m\u001b[0;34m,\u001b[0m \u001b[0menv\u001b[0m\u001b[0;34m=\u001b[0m\u001b[0mSELECT_ENV\u001b[0m\u001b[0;34m)\u001b[0m\u001b[0;34m\u001b[0m\u001b[0;34m\u001b[0m\u001b[0m\n\u001b[0m\u001b[1;32m      2\u001b[0m \u001b[0;34m\u001b[0m\u001b[0m\n\u001b[1;32m      3\u001b[0m \u001b[0mresults\u001b[0m \u001b[0;34m=\u001b[0m \u001b[0;34m[\u001b[0m\u001b[0;34m]\u001b[0m\u001b[0;34m\u001b[0m\u001b[0;34m\u001b[0m\u001b[0m\n\u001b[1;32m      4\u001b[0m \u001b[0mepisode_data\u001b[0m \u001b[0;34m=\u001b[0m \u001b[0;34m[\u001b[0m\u001b[0;34m]\u001b[0m\u001b[0;34m\u001b[0m\u001b[0;34m\u001b[0m\u001b[0m\n\u001b[1;32m      5\u001b[0m \u001b[0mepisode_json\u001b[0m \u001b[0;34m=\u001b[0m \u001b[0;34m[\u001b[0m\u001b[0;34m]\u001b[0m\u001b[0;34m\u001b[0m\u001b[0;34m\u001b[0m\u001b[0m\n",
      "\u001b[0;32m/opt/anaconda3/lib/python3.7/site-packages/ray/rllib/agents/trainer_template.py\u001b[0m in \u001b[0;36m__init__\u001b[0;34m(self, config, env, logger_creator)\u001b[0m\n\u001b[1;32m    105\u001b[0m \u001b[0;34m\u001b[0m\u001b[0m\n\u001b[1;32m    106\u001b[0m         \u001b[0;32mdef\u001b[0m \u001b[0m__init__\u001b[0m\u001b[0;34m(\u001b[0m\u001b[0mself\u001b[0m\u001b[0;34m,\u001b[0m \u001b[0mconfig\u001b[0m\u001b[0;34m=\u001b[0m\u001b[0;32mNone\u001b[0m\u001b[0;34m,\u001b[0m \u001b[0menv\u001b[0m\u001b[0;34m=\u001b[0m\u001b[0;32mNone\u001b[0m\u001b[0;34m,\u001b[0m \u001b[0mlogger_creator\u001b[0m\u001b[0;34m=\u001b[0m\u001b[0;32mNone\u001b[0m\u001b[0;34m)\u001b[0m\u001b[0;34m:\u001b[0m\u001b[0;34m\u001b[0m\u001b[0;34m\u001b[0m\u001b[0m\n\u001b[0;32m--> 107\u001b[0;31m             \u001b[0mTrainer\u001b[0m\u001b[0;34m.\u001b[0m\u001b[0m__init__\u001b[0m\u001b[0;34m(\u001b[0m\u001b[0mself\u001b[0m\u001b[0;34m,\u001b[0m \u001b[0mconfig\u001b[0m\u001b[0;34m,\u001b[0m \u001b[0menv\u001b[0m\u001b[0;34m,\u001b[0m \u001b[0mlogger_creator\u001b[0m\u001b[0;34m)\u001b[0m\u001b[0;34m\u001b[0m\u001b[0;34m\u001b[0m\u001b[0m\n\u001b[0m\u001b[1;32m    108\u001b[0m \u001b[0;34m\u001b[0m\u001b[0m\n\u001b[1;32m    109\u001b[0m         def _init(self, config: TrainerConfigDict,\n",
      "\u001b[0;32m/opt/anaconda3/lib/python3.7/site-packages/ray/rllib/agents/trainer.py\u001b[0m in \u001b[0;36m__init__\u001b[0;34m(self, config, env, logger_creator)\u001b[0m\n\u001b[1;32m    484\u001b[0m             \u001b[0mlogger_creator\u001b[0m \u001b[0;34m=\u001b[0m \u001b[0mdefault_logger_creator\u001b[0m\u001b[0;34m\u001b[0m\u001b[0;34m\u001b[0m\u001b[0m\n\u001b[1;32m    485\u001b[0m \u001b[0;34m\u001b[0m\u001b[0m\n\u001b[0;32m--> 486\u001b[0;31m         \u001b[0msuper\u001b[0m\u001b[0;34m(\u001b[0m\u001b[0;34m)\u001b[0m\u001b[0;34m.\u001b[0m\u001b[0m__init__\u001b[0m\u001b[0;34m(\u001b[0m\u001b[0mconfig\u001b[0m\u001b[0;34m,\u001b[0m \u001b[0mlogger_creator\u001b[0m\u001b[0;34m)\u001b[0m\u001b[0;34m\u001b[0m\u001b[0;34m\u001b[0m\u001b[0m\n\u001b[0m\u001b[1;32m    487\u001b[0m \u001b[0;34m\u001b[0m\u001b[0m\n\u001b[1;32m    488\u001b[0m     \u001b[0;34m@\u001b[0m\u001b[0mclassmethod\u001b[0m\u001b[0;34m\u001b[0m\u001b[0;34m\u001b[0m\u001b[0m\n",
      "\u001b[0;32m/opt/anaconda3/lib/python3.7/site-packages/ray/tune/trainable.py\u001b[0m in \u001b[0;36m__init__\u001b[0;34m(self, config, logger_creator)\u001b[0m\n\u001b[1;32m     95\u001b[0m \u001b[0;34m\u001b[0m\u001b[0m\n\u001b[1;32m     96\u001b[0m         \u001b[0mstart_time\u001b[0m \u001b[0;34m=\u001b[0m \u001b[0mtime\u001b[0m\u001b[0;34m.\u001b[0m\u001b[0mtime\u001b[0m\u001b[0;34m(\u001b[0m\u001b[0;34m)\u001b[0m\u001b[0;34m\u001b[0m\u001b[0;34m\u001b[0m\u001b[0m\n\u001b[0;32m---> 97\u001b[0;31m         \u001b[0mself\u001b[0m\u001b[0;34m.\u001b[0m\u001b[0msetup\u001b[0m\u001b[0;34m(\u001b[0m\u001b[0mcopy\u001b[0m\u001b[0;34m.\u001b[0m\u001b[0mdeepcopy\u001b[0m\u001b[0;34m(\u001b[0m\u001b[0mself\u001b[0m\u001b[0;34m.\u001b[0m\u001b[0mconfig\u001b[0m\u001b[0;34m)\u001b[0m\u001b[0;34m)\u001b[0m\u001b[0;34m\u001b[0m\u001b[0;34m\u001b[0m\u001b[0m\n\u001b[0m\u001b[1;32m     98\u001b[0m         \u001b[0msetup_time\u001b[0m \u001b[0;34m=\u001b[0m \u001b[0mtime\u001b[0m\u001b[0;34m.\u001b[0m\u001b[0mtime\u001b[0m\u001b[0;34m(\u001b[0m\u001b[0;34m)\u001b[0m \u001b[0;34m-\u001b[0m \u001b[0mstart_time\u001b[0m\u001b[0;34m\u001b[0m\u001b[0;34m\u001b[0m\u001b[0m\n\u001b[1;32m     99\u001b[0m         \u001b[0;32mif\u001b[0m \u001b[0msetup_time\u001b[0m \u001b[0;34m>\u001b[0m \u001b[0mSETUP_TIME_THRESHOLD\u001b[0m\u001b[0;34m:\u001b[0m\u001b[0;34m\u001b[0m\u001b[0;34m\u001b[0m\u001b[0m\n",
      "\u001b[0;32m/opt/anaconda3/lib/python3.7/site-packages/ray/rllib/agents/trainer.py\u001b[0m in \u001b[0;36msetup\u001b[0;34m(self, config)\u001b[0m\n\u001b[1;32m    652\u001b[0m \u001b[0;34m\u001b[0m\u001b[0m\n\u001b[1;32m    653\u001b[0m         \u001b[0;32mwith\u001b[0m \u001b[0mget_scope\u001b[0m\u001b[0;34m(\u001b[0m\u001b[0;34m)\u001b[0m\u001b[0;34m:\u001b[0m\u001b[0;34m\u001b[0m\u001b[0;34m\u001b[0m\u001b[0m\n\u001b[0;32m--> 654\u001b[0;31m             \u001b[0mself\u001b[0m\u001b[0;34m.\u001b[0m\u001b[0m_init\u001b[0m\u001b[0;34m(\u001b[0m\u001b[0mself\u001b[0m\u001b[0;34m.\u001b[0m\u001b[0mconfig\u001b[0m\u001b[0;34m,\u001b[0m \u001b[0mself\u001b[0m\u001b[0;34m.\u001b[0m\u001b[0menv_creator\u001b[0m\u001b[0;34m)\u001b[0m\u001b[0;34m\u001b[0m\u001b[0;34m\u001b[0m\u001b[0m\n\u001b[0m\u001b[1;32m    655\u001b[0m \u001b[0;34m\u001b[0m\u001b[0m\n\u001b[1;32m    656\u001b[0m             \u001b[0;31m# Evaluation setup.\u001b[0m\u001b[0;34m\u001b[0m\u001b[0;34m\u001b[0m\u001b[0;34m\u001b[0m\u001b[0m\n",
      "\u001b[0;32m/opt/anaconda3/lib/python3.7/site-packages/ray/rllib/agents/trainer_template.py\u001b[0m in \u001b[0;36m_init\u001b[0;34m(self, config, env_creator)\u001b[0m\n\u001b[1;32m    137\u001b[0m                 \u001b[0mpolicy_class\u001b[0m\u001b[0;34m=\u001b[0m\u001b[0mself\u001b[0m\u001b[0;34m.\u001b[0m\u001b[0m_policy_class\u001b[0m\u001b[0;34m,\u001b[0m\u001b[0;34m\u001b[0m\u001b[0;34m\u001b[0m\u001b[0m\n\u001b[1;32m    138\u001b[0m                 \u001b[0mconfig\u001b[0m\u001b[0;34m=\u001b[0m\u001b[0mconfig\u001b[0m\u001b[0;34m,\u001b[0m\u001b[0;34m\u001b[0m\u001b[0;34m\u001b[0m\u001b[0m\n\u001b[0;32m--> 139\u001b[0;31m                 num_workers=self.config[\"num_workers\"])\n\u001b[0m\u001b[1;32m    140\u001b[0m             \u001b[0mself\u001b[0m\u001b[0;34m.\u001b[0m\u001b[0mexecution_plan\u001b[0m \u001b[0;34m=\u001b[0m \u001b[0mexecution_plan\u001b[0m\u001b[0;34m\u001b[0m\u001b[0;34m\u001b[0m\u001b[0m\n\u001b[1;32m    141\u001b[0m             \u001b[0mself\u001b[0m\u001b[0;34m.\u001b[0m\u001b[0mtrain_exec_impl\u001b[0m \u001b[0;34m=\u001b[0m \u001b[0mexecution_plan\u001b[0m\u001b[0;34m(\u001b[0m\u001b[0mself\u001b[0m\u001b[0;34m.\u001b[0m\u001b[0mworkers\u001b[0m\u001b[0;34m,\u001b[0m \u001b[0mconfig\u001b[0m\u001b[0;34m)\u001b[0m\u001b[0;34m\u001b[0m\u001b[0;34m\u001b[0m\u001b[0m\n",
      "\u001b[0;32m/opt/anaconda3/lib/python3.7/site-packages/ray/rllib/agents/trainer.py\u001b[0m in \u001b[0;36m_make_workers\u001b[0;34m(self, env_creator, validate_env, policy_class, config, num_workers)\u001b[0m\n\u001b[1;32m    729\u001b[0m             \u001b[0mtrainer_config\u001b[0m\u001b[0;34m=\u001b[0m\u001b[0mconfig\u001b[0m\u001b[0;34m,\u001b[0m\u001b[0;34m\u001b[0m\u001b[0;34m\u001b[0m\u001b[0m\n\u001b[1;32m    730\u001b[0m             \u001b[0mnum_workers\u001b[0m\u001b[0;34m=\u001b[0m\u001b[0mnum_workers\u001b[0m\u001b[0;34m,\u001b[0m\u001b[0;34m\u001b[0m\u001b[0;34m\u001b[0m\u001b[0m\n\u001b[0;32m--> 731\u001b[0;31m             logdir=self.logdir)\n\u001b[0m\u001b[1;32m    732\u001b[0m \u001b[0;34m\u001b[0m\u001b[0m\n\u001b[1;32m    733\u001b[0m     \u001b[0;34m@\u001b[0m\u001b[0mDeveloperAPI\u001b[0m\u001b[0;34m\u001b[0m\u001b[0;34m\u001b[0m\u001b[0m\n",
      "\u001b[0;32m/opt/anaconda3/lib/python3.7/site-packages/ray/rllib/evaluation/worker_set.py\u001b[0m in \u001b[0;36m__init__\u001b[0;34m(self, env_creator, validate_env, policy_class, trainer_config, num_workers, logdir, _setup)\u001b[0m\n\u001b[1;32m     79\u001b[0m                 remote_spaces = ray.get(self.remote_workers(\n\u001b[1;32m     80\u001b[0m                 \u001b[0;34m)\u001b[0m\u001b[0;34m[\u001b[0m\u001b[0;36m0\u001b[0m\u001b[0;34m]\u001b[0m\u001b[0;34m.\u001b[0m\u001b[0mforeach_policy\u001b[0m\u001b[0;34m.\u001b[0m\u001b[0mremote\u001b[0m\u001b[0;34m(\u001b[0m\u001b[0;34m\u001b[0m\u001b[0;34m\u001b[0m\u001b[0m\n\u001b[0;32m---> 81\u001b[0;31m                     lambda p, pid: (pid, p.observation_space, p.action_space)))\n\u001b[0m\u001b[1;32m     82\u001b[0m                 spaces = {\n\u001b[1;32m     83\u001b[0m                     \u001b[0me\u001b[0m\u001b[0;34m[\u001b[0m\u001b[0;36m0\u001b[0m\u001b[0;34m]\u001b[0m\u001b[0;34m:\u001b[0m \u001b[0;34m(\u001b[0m\u001b[0mgetattr\u001b[0m\u001b[0;34m(\u001b[0m\u001b[0me\u001b[0m\u001b[0;34m[\u001b[0m\u001b[0;36m1\u001b[0m\u001b[0;34m]\u001b[0m\u001b[0;34m,\u001b[0m \u001b[0;34m\"original_space\"\u001b[0m\u001b[0;34m,\u001b[0m \u001b[0me\u001b[0m\u001b[0;34m[\u001b[0m\u001b[0;36m1\u001b[0m\u001b[0;34m]\u001b[0m\u001b[0;34m)\u001b[0m\u001b[0;34m,\u001b[0m \u001b[0me\u001b[0m\u001b[0;34m[\u001b[0m\u001b[0;36m2\u001b[0m\u001b[0;34m]\u001b[0m\u001b[0;34m)\u001b[0m\u001b[0;34m\u001b[0m\u001b[0;34m\u001b[0m\u001b[0m\n",
      "\u001b[0;32m/opt/anaconda3/lib/python3.7/site-packages/ray/_private/client_mode_hook.py\u001b[0m in \u001b[0;36mwrapper\u001b[0;34m(*args, **kwargs)\u001b[0m\n\u001b[1;32m     45\u001b[0m         \u001b[0;32mif\u001b[0m \u001b[0mclient_mode_enabled\u001b[0m \u001b[0;32mand\u001b[0m \u001b[0m_client_hook_enabled\u001b[0m\u001b[0;34m:\u001b[0m\u001b[0;34m\u001b[0m\u001b[0;34m\u001b[0m\u001b[0m\n\u001b[1;32m     46\u001b[0m             \u001b[0;32mreturn\u001b[0m \u001b[0mgetattr\u001b[0m\u001b[0;34m(\u001b[0m\u001b[0mray\u001b[0m\u001b[0;34m,\u001b[0m \u001b[0mfunc\u001b[0m\u001b[0;34m.\u001b[0m\u001b[0m__name__\u001b[0m\u001b[0;34m)\u001b[0m\u001b[0;34m(\u001b[0m\u001b[0;34m*\u001b[0m\u001b[0margs\u001b[0m\u001b[0;34m,\u001b[0m \u001b[0;34m**\u001b[0m\u001b[0mkwargs\u001b[0m\u001b[0;34m)\u001b[0m\u001b[0;34m\u001b[0m\u001b[0;34m\u001b[0m\u001b[0m\n\u001b[0;32m---> 47\u001b[0;31m         \u001b[0;32mreturn\u001b[0m \u001b[0mfunc\u001b[0m\u001b[0;34m(\u001b[0m\u001b[0;34m*\u001b[0m\u001b[0margs\u001b[0m\u001b[0;34m,\u001b[0m \u001b[0;34m**\u001b[0m\u001b[0mkwargs\u001b[0m\u001b[0;34m)\u001b[0m\u001b[0;34m\u001b[0m\u001b[0;34m\u001b[0m\u001b[0m\n\u001b[0m\u001b[1;32m     48\u001b[0m \u001b[0;34m\u001b[0m\u001b[0m\n\u001b[1;32m     49\u001b[0m     \u001b[0;32mreturn\u001b[0m \u001b[0mwrapper\u001b[0m\u001b[0;34m\u001b[0m\u001b[0;34m\u001b[0m\u001b[0m\n",
      "\u001b[0;32m/opt/anaconda3/lib/python3.7/site-packages/ray/worker.py\u001b[0m in \u001b[0;36mget\u001b[0;34m(object_refs, timeout)\u001b[0m\n\u001b[1;32m   1454\u001b[0m                     \u001b[0mworker\u001b[0m\u001b[0;34m.\u001b[0m\u001b[0mcore_worker\u001b[0m\u001b[0;34m.\u001b[0m\u001b[0mdump_object_store_memory_usage\u001b[0m\u001b[0;34m(\u001b[0m\u001b[0;34m)\u001b[0m\u001b[0;34m\u001b[0m\u001b[0;34m\u001b[0m\u001b[0m\n\u001b[1;32m   1455\u001b[0m                 \u001b[0;32mif\u001b[0m \u001b[0misinstance\u001b[0m\u001b[0;34m(\u001b[0m\u001b[0mvalue\u001b[0m\u001b[0;34m,\u001b[0m \u001b[0mRayTaskError\u001b[0m\u001b[0;34m)\u001b[0m\u001b[0;34m:\u001b[0m\u001b[0;34m\u001b[0m\u001b[0;34m\u001b[0m\u001b[0m\n\u001b[0;32m-> 1456\u001b[0;31m                     \u001b[0;32mraise\u001b[0m \u001b[0mvalue\u001b[0m\u001b[0;34m.\u001b[0m\u001b[0mas_instanceof_cause\u001b[0m\u001b[0;34m(\u001b[0m\u001b[0;34m)\u001b[0m\u001b[0;34m\u001b[0m\u001b[0;34m\u001b[0m\u001b[0m\n\u001b[0m\u001b[1;32m   1457\u001b[0m                 \u001b[0;32melse\u001b[0m\u001b[0;34m:\u001b[0m\u001b[0;34m\u001b[0m\u001b[0;34m\u001b[0m\u001b[0m\n\u001b[1;32m   1458\u001b[0m                     \u001b[0;32mraise\u001b[0m \u001b[0mvalue\u001b[0m\u001b[0;34m\u001b[0m\u001b[0;34m\u001b[0m\u001b[0m\n",
      "\u001b[0;31mRayTaskError(NameError)\u001b[0m: \u001b[36mray::RolloutWorker.foreach_policy()\u001b[39m (pid=5591, ip=192.168.1.65)\n  File \"python/ray/_raylet.pyx\", line 439, in ray._raylet.execute_task\n  File \"python/ray/_raylet.pyx\", line 442, in ray._raylet.execute_task\n  File \"python/ray/_raylet.pyx\", line 459, in ray._raylet.execute_task\n  File \"/opt/anaconda3/lib/python3.7/site-packages/ray/serialization.py\", line 245, in deserialize_objects\n    self._deserialize_object(data, metadata, object_ref))\n  File \"/opt/anaconda3/lib/python3.7/site-packages/ray/serialization.py\", line 192, in _deserialize_object\n    return self._deserialize_msgpack_data(data, metadata_fields)\n  File \"/opt/anaconda3/lib/python3.7/site-packages/ray/serialization.py\", line 170, in _deserialize_msgpack_data\n    python_objects = self._deserialize_pickle5_data(pickle5_data)\n  File \"/opt/anaconda3/lib/python3.7/site-packages/ray/serialization.py\", line 160, in _deserialize_pickle5_data\n    obj = pickle.loads(in_band)\n  File \"/opt/anaconda3/lib/python3.7/site-packages/ray/rllib/__init__.py\", line 5, in <module>\n    from ray.rllib.env.base_env import BaseEnv\n  File \"/opt/anaconda3/lib/python3.7/site-packages/ray/rllib/env/__init__.py\", line 6, in <module>\n    from ray.rllib.env.policy_client import PolicyClient\n  File \"/opt/anaconda3/lib/python3.7/site-packages/ray/rllib/env/policy_client.py\", line 14, in <module>\n    from ray.rllib.policy.sample_batch import MultiAgentBatch\n  File \"/opt/anaconda3/lib/python3.7/site-packages/ray/rllib/policy/__init__.py\", line 1, in <module>\n    from ray.rllib.policy.policy import Policy\n  File \"/opt/anaconda3/lib/python3.7/site-packages/ray/rllib/policy/policy.py\", line 9, in <module>\n    from ray.rllib.models.catalog import ModelCatalog\n  File \"/opt/anaconda3/lib/python3.7/site-packages/ray/rllib/models/__init__.py\", line 1, in <module>\n    from ray.rllib.models.action_dist import ActionDistribution\n  File \"/opt/anaconda3/lib/python3.7/site-packages/ray/rllib/models/action_dist.py\", line 4, in <module>\n    from ray.rllib.models.modelv2 import ModelV2\n  File \"/opt/anaconda3/lib/python3.7/site-packages/ray/rllib/models/modelv2.py\", line 7, in <module>\n    from ray.rllib.models.preprocessors import get_preprocessor, \\\n  File \"/opt/anaconda3/lib/python3.7/site-packages/ray/rllib/models/preprocessors.py\", line 9, in <module>\n    from ray.rllib.utils.spaces.repeated import Repeated\n  File \"/opt/anaconda3/lib/python3.7/site-packages/ray/rllib/utils/__init__.py\", line 10, in <module>\n    from ray.rllib.utils.numpy import sigmoid, softmax, relu, one_hot, fc, lstm, \\\n  File \"/opt/anaconda3/lib/python3.7/site-packages/ray/rllib/utils/numpy.py\", line 8, in <module>\n    torch, _ = try_import_torch()\n  File \"/opt/anaconda3/lib/python3.7/site-packages/ray/rllib/utils/framework.py\", line 178, in try_import_torch\n    import torch\n  File \"/opt/anaconda3/lib/python3.7/site-packages/torch/__init__.py\", line 228, in <module>\n    __all__ += [name for name in dir(_C)\nNameError: name '_C' is not defined"
     ]
    }
   ],
   "source": [
    "agent = ppo.PPOTrainer(config, env=SELECT_ENV)\n",
    "\n",
    "results = []\n",
    "episode_data = []\n",
    "episode_json = []\n",
    "\n",
    "for n in range(N_ITER):\n",
    "    result = agent.train()\n",
    "    results.append(result)\n",
    "    \n",
    "    episode = {\n",
    "        \"n\": n,\n",
    "        \"episode_reward_min\": result[\"episode_reward_min\"],\n",
    "        \"episode_reward_mean\": result[\"episode_reward_mean\"], \n",
    "        \"episode_reward_max\": result[\"episode_reward_max\"],  \n",
    "        \"episode_len_mean\": result[\"episode_len_mean\"],\n",
    "    }\n",
    "    \n",
    "    episode_data.append(episode)\n",
    "    episode_json.append(json.dumps(episode))\n",
    "    file_name = agent.save(checkpoint_root)\n",
    "    \n",
    "    print(f'{n:3d}: Min/Mean/Max reward: {result[\"episode_reward_min\"]:8.4f}/{result[\"episode_reward_mean\"]:8.4f}/{result[\"episode_reward_max\"]:8.4f}. Checkpoint saved to {file_name}')"
   ]
  },
  {
   "cell_type": "code",
   "execution_count": null,
   "metadata": {},
   "outputs": [],
   "source": [
    "df = pd.DataFrame(data=episode_data)\n",
    "df"
   ]
  },
  {
   "cell_type": "code",
   "execution_count": null,
   "metadata": {},
   "outputs": [],
   "source": [
    "df.plot(x=\"n\", y=[\"episode_reward_mean\", \"episode_reward_min\", \"episode_reward_max\"], secondary_y=True)"
   ]
  },
  {
   "cell_type": "code",
   "execution_count": null,
   "metadata": {},
   "outputs": [],
   "source": [
    "ray.shutdown()"
   ]
  }
 ],
 "metadata": {
  "colab": {
   "collapsed_sections": [],
   "name": "Copy of rllib_ppo_dqn.ipynb",
   "provenance": []
  },
  "kernelspec": {
   "display_name": "Python 3",
   "language": "python",
   "name": "python3"
  },
  "language_info": {
   "codemirror_mode": {
    "name": "ipython",
    "version": 3
   },
   "file_extension": ".py",
   "mimetype": "text/x-python",
   "name": "python",
   "nbconvert_exporter": "python",
   "pygments_lexer": "ipython3",
   "version": "3.7.4"
  }
 },
 "nbformat": 4,
 "nbformat_minor": 4
}
