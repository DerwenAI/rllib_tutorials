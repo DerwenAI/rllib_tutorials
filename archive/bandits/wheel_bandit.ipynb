{
 "cells": [
  {
   "cell_type": "markdown",
   "metadata": {},
   "source": [
    "# Multi-Arm Bandits: LinTS"
   ]
  },
  {
   "cell_type": "markdown",
   "metadata": {},
   "source": [
    "Example of using **Linear Thompson Sampling** on the `WheelBandit` environment.\n",
    "\n",
    "For more information about `WheelBandit` see https://arxiv.org/abs/1802.09127"
   ]
  },
  {
   "cell_type": "code",
   "execution_count": 1,
   "metadata": {},
   "outputs": [
    {
     "name": "stderr",
     "output_type": "stream",
     "text": [
      "\n",
      "Bad key \"text.kerning_factor\" on line 4 in\n",
      "/opt/anaconda3/lib/python3.7/site-packages/matplotlib/mpl-data/stylelib/_classic_test_patch.mplstyle.\n",
      "You probably need to get an updated matplotlibrc file from\n",
      "http://github.com/matplotlib/matplotlib/blob/master/matplotlibrc.template\n",
      "or from the matplotlib source distribution\n"
     ]
    }
   ],
   "source": [
    "import time\n",
    "import numpy as np\n",
    "import pandas as pd\n",
    "from matplotlib import pyplot as plt\n",
    "from ray import tune\n",
    "from ray.rllib.contrib.bandits.agents import LinTSTrainer\n",
    "from ray.rllib.contrib.bandits.agents.lin_ts import TS_CONFIG\n",
    "from ray.rllib.contrib.bandits.envs import WheelBanditEnv\n",
    "\n",
    "%matplotlib inline"
   ]
  },
  {
   "cell_type": "markdown",
   "metadata": {},
   "source": [
    "The effective number of `training_iterations` will be `20 * timesteps_per_iteration == 2,000` where the timesteps per iteration is `100` by default."
   ]
  },
  {
   "cell_type": "code",
   "execution_count": 2,
   "metadata": {},
   "outputs": [
    {
     "name": "stdout",
     "output_type": "stream",
     "text": [
      "Running training for 20 time steps\n"
     ]
    }
   ],
   "source": [
    "TS_CONFIG[\"env\"] = WheelBanditEnv\n",
    "\n",
    "training_iterations = 20\n",
    "print(\"Running training for %s time steps\" % training_iterations)"
   ]
  },
  {
   "cell_type": "code",
   "execution_count": 3,
   "metadata": {},
   "outputs": [
    {
     "name": "stdout",
     "output_type": "stream",
     "text": [
      "{'num_workers': 0, 'num_envs_per_worker': 1, 'rollout_fragment_length': 1, 'sample_batch_size': -1, 'batch_mode': 'truncate_episodes', 'num_gpus': 0, 'train_batch_size': 1, 'model': {'conv_filters': None, 'conv_activation': 'relu', 'fcnet_activation': 'tanh', 'fcnet_hiddens': [256, 256], 'free_log_std': False, 'no_final_linear': False, 'vf_share_layers': True, 'use_lstm': False, 'max_seq_len': 20, 'lstm_cell_size': 256, 'lstm_use_prev_action_reward': False, 'state_shape': None, 'framestack': True, 'dim': 84, 'grayscale': False, 'zero_mean': True, 'custom_model': None, 'custom_action_dist': None, 'custom_options': {}, 'custom_preprocessor': None}, 'optimizer': {}, 'gamma': 0.99, 'horizon': None, 'soft_horizon': False, 'no_done_at_end': False, 'env_config': {}, 'env': <class 'ray.rllib.contrib.bandits.envs.discrete.WheelBanditEnv'>, 'normalize_actions': False, 'clip_rewards': None, 'clip_actions': True, 'preprocessor_pref': 'deepmind', 'lr': 0.0001, 'monitor': False, 'log_level': 'WARN', 'callbacks': <class 'ray.rllib.agents.callbacks.DefaultCallbacks'>, 'ignore_worker_failures': False, 'log_sys_usage': True, 'use_pytorch': True, 'eager': False, 'eager_tracing': False, 'no_eager_on_workers': False, 'explore': True, 'exploration_config': {'type': 'ray.rllib.contrib.bandits.exploration.ThompsonSampling'}, 'evaluation_interval': None, 'evaluation_num_episodes': 10, 'in_evaluation': False, 'evaluation_config': {}, 'evaluation_num_workers': 0, 'custom_eval_function': None, 'use_exec_api': False, 'sample_async': False, 'observation_filter': 'NoFilter', 'synchronize_filters': True, 'tf_session_args': {'intra_op_parallelism_threads': 2, 'inter_op_parallelism_threads': 2, 'gpu_options': {'allow_growth': True}, 'log_device_placement': False, 'device_count': {'CPU': 1}, 'allow_soft_placement': True}, 'local_tf_session_args': {'intra_op_parallelism_threads': 8, 'inter_op_parallelism_threads': 8}, 'compress_observations': False, 'collect_metrics_timeout': 180, 'metrics_smoothing_episodes': 100, 'remote_worker_envs': False, 'remote_env_batch_wait_ms': 0, 'min_iter_time_s': 0, 'timesteps_per_iteration': 100, 'seed': None, 'extra_python_environs_for_driver': {}, 'extra_python_environs_for_worker': {}, 'num_cpus_per_worker': 1, 'num_gpus_per_worker': 0, 'custom_resources_per_worker': {}, 'num_cpus_for_driver': 1, 'memory': 0, 'object_store_memory': 0, 'memory_per_worker': 0, 'object_store_memory_per_worker': 0, 'input': 'sampler', 'input_evaluation': ['is', 'wis'], 'postprocess_inputs': False, 'shuffle_buffer_size': 0, 'output': None, 'output_compress_columns': ['obs', 'new_obs'], 'output_max_file_size': 67108864, 'multiagent': {'policies': {}, 'policy_mapping_fn': None, 'policies_to_train': None}}\n"
     ]
    }
   ],
   "source": [
    "print(TS_CONFIG)"
   ]
  },
  {
   "cell_type": "code",
   "execution_count": 66,
   "metadata": {
    "collapsed": true,
    "jupyter": {
     "outputs_hidden": true
    }
   },
   "outputs": [
    {
     "data": {
      "text/html": [
       "== Status ==<br>Memory usage on this node: 11.1/16.0 GiB<br>Using FIFO scheduling algorithm.<br>Resources requested: 1/4 CPUs, 0/0 GPUs, 0.0/3.32 GiB heap, 0.0/1.12 GiB objects<br>Result logdir: /Users/paco/ray_results/LinTS<br>Number of trials: 2 (1 PENDING, 1 RUNNING)<br><table>\n",
       "<thead>\n",
       "<tr><th>Trial name                </th><th>status  </th><th>loc  </th></tr>\n",
       "</thead>\n",
       "<tbody>\n",
       "<tr><td>LinTS_WheelBanditEnv_00000</td><td>RUNNING </td><td>     </td></tr>\n",
       "<tr><td>LinTS_WheelBanditEnv_00001</td><td>PENDING </td><td>     </td></tr>\n",
       "</tbody>\n",
       "</table><br><br>"
      ],
      "text/plain": [
       "<IPython.core.display.HTML object>"
      ]
     },
     "metadata": {},
     "output_type": "display_data"
    },
    {
     "name": "stdout",
     "output_type": "stream",
     "text": [
      "\u001b[2m\u001b[36m(pid=89483)\u001b[0m 2020-05-17 14:27:16,341\tINFO trainer.py:421 -- Tip: set 'eager': true or the --eager flag to enable TensorFlow eager execution\n",
      "\u001b[2m\u001b[36m(pid=89483)\u001b[0m 2020-05-17 14:27:16,342\tINFO trainer.py:580 -- Current log_level is WARN. For more information, set 'log_level': 'INFO' / 'DEBUG' or use the -v and -vv flags.\n",
      "\u001b[2m\u001b[36m(pid=89483)\u001b[0m /opt/anaconda3/lib/python3.7/site-packages/gym/logger.py:30: UserWarning: \u001b[33mWARN: Box bound precision lowered by casting to float32\u001b[0m\n",
      "\u001b[2m\u001b[36m(pid=89483)\u001b[0m   warnings.warn(colorize('%s: %s'%('WARN', msg % args), 'yellow'))\n",
      "\u001b[2m\u001b[36m(pid=89483)\u001b[0m 2020-05-17 14:27:16,350\tINFO trainable.py:217 -- Getting current IP.\n",
      "\u001b[2m\u001b[36m(pid=89483)\u001b[0m 2020-05-17 14:27:16,350\tWARNING util.py:37 -- Install gputil for GPU system monitoring.\n",
      "Result for LinTS_WheelBanditEnv_00000:\n",
      "  custom_metrics: {}\n",
      "  date: 2020-05-17_14-27-16\n",
      "  done: false\n",
      "  episode_len_mean: 1.0\n",
      "  episode_reward_max: 50.02331449169518\n",
      "  episode_reward_mean: 30.893651527165694\n",
      "  episode_reward_min: 0.9773324038321672\n",
      "  episodes_this_iter: 100\n",
      "  episodes_total: 100\n",
      "  experiment_id: 7639cc0791d74af98bbe0ac6e9d23966\n",
      "  experiment_tag: '0'\n",
      "  grad_time_ms: 0.307\n",
      "  hostname: derwen\n",
      "  info:\n",
      "    grad_time_ms: 0.307\n",
      "    learner:\n",
      "      cumulative_regret: 885.8386845467879\n",
      "      update_latency: 0.00019693374633789062\n",
      "    num_steps_sampled: 100\n",
      "    num_steps_trained: 100\n",
      "    opt_peak_throughput: 3258.471\n",
      "    opt_samples: 1.0\n",
      "    sample_peak_throughput: 908.448\n",
      "    sample_time_ms: 1.101\n",
      "    update_time_ms: 0.001\n",
      "  iterations_since_restore: 1\n",
      "  learner:\n",
      "    cumulative_regret: 885.8386845467879\n",
      "    update_latency: 0.00019693374633789062\n",
      "  node_ip: 192.168.1.244\n",
      "  num_healthy_workers: 0\n",
      "  num_steps_sampled: 100\n",
      "  num_steps_trained: 100\n",
      "  off_policy_estimator: {}\n",
      "  opt_peak_throughput: 3258.471\n",
      "  opt_samples: 1.0\n",
      "  optimizer_steps_this_iter: 100\n",
      "  perf:\n",
      "    cpu_util_percent: 21.6\n",
      "    ram_util_percent: 71.6\n",
      "  pid: 89483\n",
      "  policy_reward_max: {}\n",
      "  policy_reward_mean: {}\n",
      "  policy_reward_min: {}\n",
      "  sample_peak_throughput: 908.448\n",
      "  sample_time_ms: 1.101\n",
      "  sampler_perf:\n",
      "    mean_env_wait_ms: 0.11890241415193768\n",
      "    mean_inference_ms: 0.623086891552009\n",
      "    mean_processing_ms: 0.46461879616916774\n",
      "  time_since_restore: 0.17719602584838867\n",
      "  time_this_iter_s: 0.17719602584838867\n",
      "  time_total_s: 0.17719602584838867\n",
      "  timestamp: 1589750836\n",
      "  timesteps_since_restore: 100\n",
      "  timesteps_this_iter: 100\n",
      "  timesteps_total: 100\n",
      "  training_iteration: 1\n",
      "  trial_id: '00000'\n",
      "  update_time_ms: 0.001\n",
      "  \n",
      "\u001b[2m\u001b[36m(pid=89531)\u001b[0m 2020-05-17 14:27:17,005\tINFO trainer.py:421 -- Tip: set 'eager': true or the --eager flag to enable TensorFlow eager execution\n",
      "\u001b[2m\u001b[36m(pid=89531)\u001b[0m 2020-05-17 14:27:17,007\tINFO trainer.py:580 -- Current log_level is WARN. For more information, set 'log_level': 'INFO' / 'DEBUG' or use the -v and -vv flags.\n",
      "\u001b[2m\u001b[36m(pid=89531)\u001b[0m /opt/anaconda3/lib/python3.7/site-packages/gym/logger.py:30: UserWarning: \u001b[33mWARN: Box bound precision lowered by casting to float32\u001b[0m\n",
      "\u001b[2m\u001b[36m(pid=89531)\u001b[0m   warnings.warn(colorize('%s: %s'%('WARN', msg % args), 'yellow'))\n",
      "\u001b[2m\u001b[36m(pid=89531)\u001b[0m 2020-05-17 14:27:17,015\tINFO trainable.py:217 -- Getting current IP.\n",
      "\u001b[2m\u001b[36m(pid=89531)\u001b[0m 2020-05-17 14:27:17,015\tWARNING util.py:37 -- Install gputil for GPU system monitoring.\n",
      "Result for LinTS_WheelBanditEnv_00001:\n",
      "  custom_metrics: {}\n",
      "  date: 2020-05-17_14-27-17\n",
      "  done: false\n",
      "  episode_len_mean: 1.0\n",
      "  episode_reward_max: 50.02436850949535\n",
      "  episode_reward_mean: 12.280750803660291\n",
      "  episode_reward_min: 0.9745215614087672\n",
      "  episodes_this_iter: 100\n",
      "  episodes_total: 100\n",
      "  experiment_id: 83c7d2ef51494aea9b369f10fc721f57\n",
      "  experiment_tag: '1'\n",
      "  grad_time_ms: 0.38\n",
      "  hostname: derwen\n",
      "  info:\n",
      "    grad_time_ms: 0.38\n",
      "    learner:\n",
      "      cumulative_regret: 2112.8362624164934\n",
      "      update_latency: 0.00016307830810546875\n",
      "    num_steps_sampled: 100\n",
      "    num_steps_trained: 100\n",
      "    opt_peak_throughput: 2633.124\n",
      "    opt_samples: 1.0\n",
      "    sample_peak_throughput: 798.474\n",
      "    sample_time_ms: 1.252\n",
      "    update_time_ms: 0.003\n",
      "  iterations_since_restore: 1\n",
      "  learner:\n",
      "    cumulative_regret: 2112.8362624164934\n",
      "    update_latency: 0.00016307830810546875\n",
      "  node_ip: 192.168.1.244\n",
      "  num_healthy_workers: 0\n",
      "  num_steps_sampled: 100\n",
      "  num_steps_trained: 100\n",
      "  off_policy_estimator: {}\n",
      "  opt_peak_throughput: 2633.124\n",
      "  opt_samples: 1.0\n",
      "  optimizer_steps_this_iter: 100\n",
      "  perf:\n",
      "    cpu_util_percent: 62.0\n",
      "    ram_util_percent: 71.6\n",
      "  pid: 89531\n",
      "  policy_reward_max: {}\n",
      "  policy_reward_mean: {}\n",
      "  policy_reward_min: {}\n",
      "  sample_peak_throughput: 798.474\n",
      "  sample_time_ms: 1.252\n",
      "  sampler_perf:\n",
      "    mean_env_wait_ms: 0.11321105579338449\n",
      "    mean_inference_ms: 0.6681550847421782\n",
      "    mean_processing_ms: 0.46830838269526415\n",
      "  time_since_restore: 0.18416476249694824\n",
      "  time_this_iter_s: 0.18416476249694824\n",
      "  time_total_s: 0.18416476249694824\n",
      "  timestamp: 1589750837\n",
      "  timesteps_since_restore: 100\n",
      "  timesteps_this_iter: 100\n",
      "  timesteps_total: 100\n",
      "  training_iteration: 1\n",
      "  trial_id: '00001'\n",
      "  update_time_ms: 0.003\n",
      "  \n"
     ]
    },
    {
     "data": {
      "text/html": [
       "== Status ==<br>Memory usage on this node: 11.5/16.0 GiB<br>Using FIFO scheduling algorithm.<br>Resources requested: 2/4 CPUs, 0/0 GPUs, 0.0/3.32 GiB heap, 0.0/1.12 GiB objects<br>Result logdir: /Users/paco/ray_results/LinTS<br>Number of trials: 2 (2 RUNNING)<br><table>\n",
       "<thead>\n",
       "<tr><th>Trial name                </th><th>status  </th><th>loc                </th><th style=\"text-align: right;\">  iter</th><th style=\"text-align: right;\">  total time (s)</th><th style=\"text-align: right;\">  ts</th><th style=\"text-align: right;\">  reward</th></tr>\n",
       "</thead>\n",
       "<tbody>\n",
       "<tr><td>LinTS_WheelBanditEnv_00000</td><td>RUNNING </td><td>192.168.1.244:89483</td><td style=\"text-align: right;\">    11</td><td style=\"text-align: right;\">         1.82232</td><td style=\"text-align: right;\">1100</td><td style=\"text-align: right;\"> 38.7308</td></tr>\n",
       "<tr><td>LinTS_WheelBanditEnv_00001</td><td>RUNNING </td><td>192.168.1.244:89531</td><td style=\"text-align: right;\">     8</td><td style=\"text-align: right;\">         1.33611</td><td style=\"text-align: right;\"> 800</td><td style=\"text-align: right;\"> 35.7915</td></tr>\n",
       "</tbody>\n",
       "</table><br><br>"
      ],
      "text/plain": [
       "<IPython.core.display.HTML object>"
      ]
     },
     "metadata": {},
     "output_type": "display_data"
    },
    {
     "name": "stdout",
     "output_type": "stream",
     "text": [
      "Result for LinTS_WheelBanditEnv_00000:\n",
      "  custom_metrics: {}\n",
      "  date: 2020-05-17_14-27-19\n",
      "  done: true\n",
      "  episode_len_mean: 1.0\n",
      "  episode_reward_max: 50.02980941361751\n",
      "  episode_reward_mean: 38.24052000377522\n",
      "  episode_reward_min: 0.976267798700682\n",
      "  episodes_this_iter: 100\n",
      "  episodes_total: 2000\n",
      "  experiment_id: 7639cc0791d74af98bbe0ac6e9d23966\n",
      "  experiment_tag: '0'\n",
      "  grad_time_ms: 0.452\n",
      "  hostname: derwen\n",
      "  info:\n",
      "    grad_time_ms: 0.452\n",
      "    learner:\n",
      "      cumulative_regret: 1817.806782027969\n",
      "      update_latency: 0.0003600120544433594\n",
      "    num_steps_sampled: 2000\n",
      "    num_steps_trained: 2000\n",
      "    opt_peak_throughput: 2209.971\n",
      "    opt_samples: 1.0\n",
      "    sample_peak_throughput: 865.251\n",
      "    sample_time_ms: 1.156\n",
      "    update_time_ms: 0.002\n",
      "  iterations_since_restore: 20\n",
      "  learner:\n",
      "    cumulative_regret: 1817.806782027969\n",
      "    update_latency: 0.0003600120544433594\n",
      "  node_ip: 192.168.1.244\n",
      "  num_healthy_workers: 0\n",
      "  num_steps_sampled: 2000\n",
      "  num_steps_trained: 2000\n",
      "  off_policy_estimator: {}\n",
      "  opt_peak_throughput: 2209.971\n",
      "  opt_samples: 1.0\n",
      "  optimizer_steps_this_iter: 100\n",
      "  perf: {}\n",
      "  pid: 89483\n",
      "  policy_reward_max: {}\n",
      "  policy_reward_mean: {}\n",
      "  policy_reward_min: {}\n",
      "  sample_peak_throughput: 865.251\n",
      "  sample_time_ms: 1.156\n",
      "  sampler_perf:\n",
      "    mean_env_wait_ms: 0.11016296661239687\n",
      "    mean_inference_ms: 0.6062357739053449\n",
      "    mean_processing_ms: 0.4162441665443523\n",
      "  time_since_restore: 3.2633776664733887\n",
      "  time_this_iter_s: 0.1646897792816162\n",
      "  time_total_s: 3.2633776664733887\n",
      "  timestamp: 1589750839\n",
      "  timesteps_since_restore: 2000\n",
      "  timesteps_this_iter: 100\n",
      "  timesteps_total: 2000\n",
      "  training_iteration: 20\n",
      "  trial_id: '00000'\n",
      "  update_time_ms: 0.002\n",
      "  \n",
      "Result for LinTS_WheelBanditEnv_00001:\n",
      "  custom_metrics: {}\n",
      "  date: 2020-05-17_14-27-20\n",
      "  done: true\n",
      "  episode_len_mean: 1.0\n",
      "  episode_reward_max: 50.023363781304816\n",
      "  episode_reward_mean: 34.32013205771219\n",
      "  episode_reward_min: 0.9873901905855188\n",
      "  episodes_this_iter: 100\n",
      "  episodes_total: 2000\n",
      "  experiment_id: 83c7d2ef51494aea9b369f10fc721f57\n",
      "  experiment_tag: '1'\n",
      "  grad_time_ms: 0.317\n",
      "  hostname: derwen\n",
      "  info:\n",
      "    grad_time_ms: 0.317\n",
      "    learner:\n",
      "      cumulative_regret: 4907.5759902311365\n",
      "      update_latency: 0.00020885467529296875\n",
      "    num_steps_sampled: 2000\n",
      "    num_steps_trained: 2000\n",
      "    opt_peak_throughput: 3156.222\n",
      "    opt_samples: 1.0\n",
      "    sample_peak_throughput: 916.367\n",
      "    sample_time_ms: 1.091\n",
      "    update_time_ms: 0.001\n",
      "  iterations_since_restore: 20\n",
      "  learner:\n",
      "    cumulative_regret: 4907.5759902311365\n",
      "    update_latency: 0.00020885467529296875\n",
      "  node_ip: 192.168.1.244\n",
      "  num_healthy_workers: 0\n",
      "  num_steps_sampled: 2000\n",
      "  num_steps_trained: 2000\n",
      "  off_policy_estimator: {}\n",
      "  opt_peak_throughput: 3156.222\n",
      "  opt_samples: 1.0\n",
      "  optimizer_steps_this_iter: 100\n",
      "  perf: {}\n",
      "  pid: 89531\n",
      "  policy_reward_max: {}\n",
      "  policy_reward_mean: {}\n",
      "  policy_reward_min: {}\n",
      "  sample_peak_throughput: 916.367\n",
      "  sample_time_ms: 1.091\n",
      "  sampler_perf:\n",
      "    mean_env_wait_ms: 0.11187979485141461\n",
      "    mean_inference_ms: 0.6079284147522798\n",
      "    mean_processing_ms: 0.41403191379163934\n",
      "  time_since_restore: 3.2774882316589355\n",
      "  time_this_iter_s: 0.14011812210083008\n",
      "  time_total_s: 3.2774882316589355\n",
      "  timestamp: 1589750840\n",
      "  timesteps_since_restore: 2000\n",
      "  timesteps_this_iter: 100\n",
      "  timesteps_total: 2000\n",
      "  training_iteration: 20\n",
      "  trial_id: '00001'\n",
      "  update_time_ms: 0.001\n",
      "  \n"
     ]
    },
    {
     "data": {
      "text/html": [
       "== Status ==<br>Memory usage on this node: 11.3/16.0 GiB<br>Using FIFO scheduling algorithm.<br>Resources requested: 0/4 CPUs, 0/0 GPUs, 0.0/3.32 GiB heap, 0.0/1.12 GiB objects<br>Result logdir: /Users/paco/ray_results/LinTS<br>Number of trials: 2 (2 TERMINATED)<br><table>\n",
       "<thead>\n",
       "<tr><th>Trial name                </th><th>status    </th><th>loc  </th><th style=\"text-align: right;\">  iter</th><th style=\"text-align: right;\">  total time (s)</th><th style=\"text-align: right;\">  ts</th><th style=\"text-align: right;\">  reward</th></tr>\n",
       "</thead>\n",
       "<tbody>\n",
       "<tr><td>LinTS_WheelBanditEnv_00000</td><td>TERMINATED</td><td>     </td><td style=\"text-align: right;\">    20</td><td style=\"text-align: right;\">         3.26338</td><td style=\"text-align: right;\">2000</td><td style=\"text-align: right;\"> 38.2405</td></tr>\n",
       "<tr><td>LinTS_WheelBanditEnv_00001</td><td>TERMINATED</td><td>     </td><td style=\"text-align: right;\">    20</td><td style=\"text-align: right;\">         3.27749</td><td style=\"text-align: right;\">2000</td><td style=\"text-align: right;\"> 34.3201</td></tr>\n",
       "</tbody>\n",
       "</table><br><br>"
      ],
      "text/plain": [
       "<IPython.core.display.HTML object>"
      ]
     },
     "metadata": {},
     "output_type": "display_data"
    },
    {
     "name": "stdout",
     "output_type": "stream",
     "text": [
      "The trials took 7.234298944473267 seconds\n",
      "\n"
     ]
    }
   ],
   "source": [
    "start_time = time.time()\n",
    "\n",
    "analysis = tune.run(\n",
    "    LinTSTrainer,\n",
    "    config=TS_CONFIG,\n",
    "    stop={\"training_iteration\": training_iterations},\n",
    "    num_samples=2,\n",
    "    checkpoint_at_end=True\n",
    "    )\n",
    "\n",
    "print(\"The trials took\", time.time() - start_time, \"seconds\\n\")"
   ]
  },
  {
   "cell_type": "markdown",
   "metadata": {},
   "source": [
    "Analyze cumulative regrets of the trials"
   ]
  },
  {
   "cell_type": "code",
   "execution_count": 67,
   "metadata": {},
   "outputs": [],
   "source": [
    "df = pd.DataFrame()\n",
    "\n",
    "for key, df_trial in analysis.trial_dataframes.items():\n",
    "    df = df.append(df_trial, ignore_index=True)\n",
    "\n",
    "regrets = df \\\n",
    "    .groupby(\"num_steps_trained\")[\"learner/cumulative_regret\"] \\\n",
    "    .aggregate([\"mean\", \"max\", \"min\", \"std\"])"
   ]
  },
  {
   "cell_type": "code",
   "execution_count": 68,
   "metadata": {},
   "outputs": [
    {
     "data": {
      "text/plain": [
       "Text(0.5, 0, 'Training steps')"
      ]
     },
     "execution_count": 68,
     "metadata": {},
     "output_type": "execute_result"
    },
    {
     "data": {
      "image/png": "[encoded data removed]",
      "text/plain": [
       "<Figure size 432x288 with 1 Axes>"
      ]
     },
     "metadata": {
      "needs_background": "light"
     },
     "output_type": "display_data"
    }
   ],
   "source": [
    "fig, ax = plt.subplots()\n",
    "\n",
    "ax.plot(regrets[\"mean\"])\n",
    "ax.set_title(\"Cumulative Regret\")\n",
    "ax.set_xlabel(\"Training steps\")"
   ]
  },
  {
   "cell_type": "markdown",
   "metadata": {},
   "source": [
    "Restore trainer from checkpoint"
   ]
  },
  {
   "cell_type": "code",
   "execution_count": 69,
   "metadata": {},
   "outputs": [
    {
     "name": "stderr",
     "output_type": "stream",
     "text": [
      "2020-05-17 14:27:46,768\tINFO trainable.py:217 -- Getting current IP.\n",
      "2020-05-17 14:27:46,770\tWARNING util.py:37 -- Install gputil for GPU system monitoring.\n",
      "2020-05-17 14:27:46,772\tINFO trainable.py:217 -- Getting current IP.\n",
      "2020-05-17 14:27:46,773\tINFO trainable.py:423 -- Restored on 192.168.1.244 from checkpoint: /Users/paco/ray_results/LinTS/LinTS_WheelBanditEnv_0_2020-05-17_14-27-13jahzdubk/checkpoint_20/checkpoint-20\n",
      "2020-05-17 14:27:46,775\tINFO trainable.py:430 -- Current state after restoring: {'_iteration': 20, '_timesteps_total': 2000, '_time_total': 3.2633776664733887, '_episodes_total': 2000}\n"
     ]
    }
   ],
   "source": [
    "trial = analysis.trials[0]\n",
    "trainer = LinTSTrainer(config=TS_CONFIG)\n",
    "trainer.restore(trial.checkpoint.value)"
   ]
  },
  {
   "cell_type": "markdown",
   "metadata": {},
   "source": [
    "Get model to plot arm weights distribution"
   ]
  },
  {
   "cell_type": "code",
   "execution_count": 70,
   "metadata": {},
   "outputs": [],
   "source": [
    "model = trainer.get_policy().model\n",
    "means = [model.arms[i].theta.numpy() for i in range(5)]\n",
    "covs = [model.arms[i].covariance.numpy() for i in range(5)]"
   ]
  },
  {
   "cell_type": "markdown",
   "metadata": {},
   "source": [
    "Plot weight distributions for different arms"
   ]
  },
  {
   "cell_type": "code",
   "execution_count": 71,
   "metadata": {},
   "outputs": [],
   "source": [
    "def plot_model_weights (means, covs, ax):\n",
    "    fmts = [\"bo\", \"ro\", \"yx\", \"k+\", \"gx\"]\n",
    "    labels = [\"arm{}\".format(i) for i in range(5)]\n",
    "\n",
    "    ax.set_title(\"Weights distributions of arms\")\n",
    "\n",
    "    for i in range(0, 5):\n",
    "        x, y = np.random.multivariate_normal(means[i] / 30, covs[i], 5000).T\n",
    "        ax.plot(x, y, fmts[i], label=labels[i])\n",
    "\n",
    "    ax.set_aspect(\"equal\")\n",
    "    ax.grid(True, which=\"both\")\n",
    "    ax.axhline(y=0, color=\"k\")\n",
    "    ax.axvline(x=0, color=\"k\")\n",
    "    ax.legend(loc=\"best\")"
   ]
  },
  {
   "cell_type": "code",
   "execution_count": 72,
   "metadata": {},
   "outputs": [
    {
     "data": {
      "image/png": "[encoded data removed]",
      "text/plain": [
       "<Figure size 576x432 with 1 Axes>"
      ]
     },
     "metadata": {
      "needs_background": "light"
     },
     "output_type": "display_data"
    }
   ],
   "source": [
    "fig, ax = plt.subplots(figsize=(8, 6))\n",
    "plot_model_weights(means, covs, ax)\n",
    "\n",
    "fig.tight_layout()\n",
    "plt.show()"
   ]
  },
  {
   "cell_type": "code",
   "execution_count": null,
   "metadata": {},
   "outputs": [],
   "source": []
  }
 ],
 "metadata": {
  "kernelspec": {
   "display_name": "Python 3",
   "language": "python",
   "name": "python3"
  },
  "language_info": {
   "codemirror_mode": {
    "name": "ipython",
    "version": 3
   },
   "file_extension": ".py",
   "mimetype": "text/x-python",
   "name": "python",
   "nbconvert_exporter": "python",
   "pygments_lexer": "ipython3",
   "version": "3.7.4"
  }
 },
 "nbformat": 4,
 "nbformat_minor": 4
}
