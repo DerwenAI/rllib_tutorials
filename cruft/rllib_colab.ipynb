{
  "nbformat": 4,
  "nbformat_minor": 0,
  "metadata": {
    "colab": {
      "name": "Copy of RLlib Tutorial",
      "provenance": []
    },
    "hide_code_all_hidden": false,
    "kernelspec": {
      "display_name": "Python 3",
      "language": "python",
      "name": "python3"
    },
    "language_info": {
      "codemirror_mode": {
        "name": "ipython",
        "version": 3
      },
      "file_extension": ".py",
      "mimetype": "text/x-python",
      "name": "python",
      "nbconvert_exporter": "python",
      "pygments_lexer": "ipython3",
      "version": "3.7.4"
    }
  },
  "cells": [
    {
      "cell_type": "markdown",
      "metadata": {
        "colab_type": "text",
        "id": "7ghlHAH0Nlhi"
      },
      "source": [
        "# Install Dependencies\n",
        "\n",
        "If you are running on Google Colab, you need to install the necessary dependencies before beginning the exercise."
      ]
    },
    {
      "cell_type": "code",
      "metadata": {
        "colab_type": "code",
        "id": "tHNPcnXPNlhj",
        "outputId": "8bd62f8f-82c2-47df-ee67-17cb07e07fe2",
        "colab": {
          "base_uri": "https://localhost:8080/",
          "height": 887
        }
      },
      "source": [
        "print('NOTE: Intentionally crashing session to use the newly installed library.\\n')\n",
        "\n",
        "!pip uninstall -y pyarrow\n",
        "!pip install ray[debug]==0.7.5\n",
        "!pip install bs4\n",
        "\n",
        "!git clone https://github.com/ray-project/tutorial || true\n",
        "from tutorial.rllib_exercises import test_exercises\n",
        "\n",
        "print(\"Successfully installed all the dependencies!\")\n",
        "\n",
        "# A hack to force the runtime to restart, needed to include the above dependencies.\n",
        "import os\n",
        "os._exit(0)"
      ],
      "execution_count": 0,
      "outputs": [
        {
          "output_type": "stream",
          "text": [
            "NOTE: Intentionally crashing session to use the newly installed library.\n",
            "\n",
            "Uninstalling pyarrow-0.14.1:\n",
            "  Successfully uninstalled pyarrow-0.14.1\n",
            "Collecting ray[debug]==0.7.5\n",
            "\u001b[?25l  Downloading https://files.pythonhosted.org/packages/9b/e7/37a7f8dc2b1f96c760a3950d8bb5a3f14066f1699f5d004f0f6462d880c9/ray-0.7.5-cp36-cp36m-manylinux1_x86_64.whl (74.9MB)\n",
            "\u001b[K     |████████████████████████████████| 74.9MB 70kB/s \n",
            "\u001b[?25hCollecting colorama\n",
            "  Downloading https://files.pythonhosted.org/packages/c9/dc/45cdef1b4d119eb96316b3117e6d5708a08029992b2fee2c143c7a0a5cc5/colorama-0.4.3-py2.py3-none-any.whl\n",
            "Requirement already satisfied: filelock in /usr/local/lib/python3.6/dist-packages (from ray[debug]==0.7.5) (3.0.12)\n",
            "Requirement already satisfied: pytest in /usr/local/lib/python3.6/dist-packages (from ray[debug]==0.7.5) (3.6.4)\n",
            "Requirement already satisfied: jsonschema in /usr/local/lib/python3.6/dist-packages (from ray[debug]==0.7.5) (2.6.0)\n",
            "Requirement already satisfied: pyyaml in /usr/local/lib/python3.6/dist-packages (from ray[debug]==0.7.5) (3.13)\n",
            "Requirement already satisfied: six>=1.0.0 in /usr/local/lib/python3.6/dist-packages (from ray[debug]==0.7.5) (1.12.0)\n",
            "Requirement already satisfied: click in /usr/local/lib/python3.6/dist-packages (from ray[debug]==0.7.5) (7.0)\n",
            "Requirement already satisfied: protobuf>=3.8.0 in /usr/local/lib/python3.6/dist-packages (from ray[debug]==0.7.5) (3.10.0)\n",
            "Collecting redis>=3.3.2\n",
            "\u001b[?25l  Downloading https://files.pythonhosted.org/packages/32/ae/28613a62eea0d53d3db3147f8715f90da07667e99baeedf1010eb400f8c0/redis-3.3.11-py2.py3-none-any.whl (66kB)\n",
            "\u001b[K     |████████████████████████████████| 71kB 9.1MB/s \n",
            "\u001b[?25hRequirement already satisfied: numpy>=1.14 in /usr/local/lib/python3.6/dist-packages (from ray[debug]==0.7.5) (1.17.5)\n",
            "Collecting funcsigs\n",
            "  Downloading https://files.pythonhosted.org/packages/69/cb/f5be453359271714c01b9bd06126eaf2e368f1fddfff30818754b5ac2328/funcsigs-1.0.2-py2.py3-none-any.whl\n",
            "Collecting py-spy; extra == \"debug\"\n",
            "\u001b[?25l  Downloading https://files.pythonhosted.org/packages/4f/a2/ebd4e717eba57a8192834497411822c5ec8597287f50c4ec034d1cfe47b1/py_spy-0.3.2-py2.py3-none-manylinux1_x86_64.whl (2.8MB)\n",
            "\u001b[K     |████████████████████████████████| 2.8MB 42.4MB/s \n",
            "\u001b[?25hCollecting setproctitle; extra == \"debug\"\n",
            "  Downloading https://files.pythonhosted.org/packages/5a/0d/dc0d2234aacba6cf1a729964383e3452c52096dc695581248b548786f2b3/setproctitle-1.1.10.tar.gz\n",
            "Requirement already satisfied: psutil; extra == \"debug\" in /usr/local/lib/python3.6/dist-packages (from ray[debug]==0.7.5) (5.4.8)\n",
            "Requirement already satisfied: pluggy<0.8,>=0.5 in /usr/local/lib/python3.6/dist-packages (from pytest->ray[debug]==0.7.5) (0.7.1)\n",
            "Requirement already satisfied: atomicwrites>=1.0 in /usr/local/lib/python3.6/dist-packages (from pytest->ray[debug]==0.7.5) (1.3.0)\n",
            "Requirement already satisfied: py>=1.5.0 in /usr/local/lib/python3.6/dist-packages (from pytest->ray[debug]==0.7.5) (1.8.1)\n",
            "Requirement already satisfied: setuptools in /usr/local/lib/python3.6/dist-packages (from pytest->ray[debug]==0.7.5) (42.0.2)\n",
            "Requirement already satisfied: more-itertools>=4.0.0 in /usr/local/lib/python3.6/dist-packages (from pytest->ray[debug]==0.7.5) (8.0.2)\n",
            "Requirement already satisfied: attrs>=17.4.0 in /usr/local/lib/python3.6/dist-packages (from pytest->ray[debug]==0.7.5) (19.3.0)\n",
            "Building wheels for collected packages: setproctitle\n",
            "  Building wheel for setproctitle (setup.py) ... \u001b[?25l\u001b[?25hdone\n",
            "  Created wheel for setproctitle: filename=setproctitle-1.1.10-cp36-cp36m-linux_x86_64.whl size=33930 sha256=f10973451e391be0876423ba489f53345c5edecb4047785647f25830617c0513\n",
            "  Stored in directory: /root/.cache/pip/wheels/e6/b1/a6/9719530228e258eba904501fef99d5d85c80d52bd8f14438a3\n",
            "Successfully built setproctitle\n",
            "Installing collected packages: colorama, redis, funcsigs, py-spy, setproctitle, ray\n",
            "Successfully installed colorama-0.4.3 funcsigs-1.0.2 py-spy-0.3.2 ray-0.7.5 redis-3.3.11 setproctitle-1.1.10\n",
            "Requirement already satisfied: bs4 in /usr/local/lib/python3.6/dist-packages (0.0.1)\n",
            "Requirement already satisfied: beautifulsoup4 in /usr/local/lib/python3.6/dist-packages (from bs4) (4.6.3)\n",
            "Cloning into 'tutorial'...\n",
            "remote: Enumerating objects: 2, done.\u001b[K\n",
            "remote: Counting objects: 100% (2/2), done.\u001b[K\n",
            "remote: Compressing objects: 100% (2/2), done.\u001b[K\n",
            "remote: Total 921 (delta 0), reused 0 (delta 0), pack-reused 919\n",
            "Receiving objects: 100% (921/921), 31.13 MiB | 18.93 MiB/s, done.\n",
            "Resolving deltas: 100% (511/511), done.\n"
          ],
          "name": "stdout"
        }
      ]
    },
    {
      "cell_type": "markdown",
      "metadata": {
        "colab_type": "text",
        "hideCode": false,
        "hidePrompt": false,
        "id": "bAptEafKNlhm"
      },
      "source": [
        "# RL Exercise - Markov Decision Processes\n",
        "\n",
        "**GOAL:** The goal of the exercise is to introduce the Markov Decision Process abstraction and to show how to use Markov Decision Processes in Python.\n",
        "\n",
        "**The key abstraction in reinforcement learning is the Markov decision process (MDP).** An MDP models sequential interactions with an external environment. It consists of the following:\n",
        "- a **state space**\n",
        "- a set of **actions**\n",
        "- a **transition function** which describes the probability of being in a state $s'$ at time $t+1$ given that the MDP was in state $s$ at time $t$ and action $a$ was taken\n",
        "- a **reward function**, which determines the reward received at time $t$\n",
        "- a **discount factor** $\\gamma$\n",
        "\n",
        "More details are available [here](https://en.wikipedia.org/wiki/Markov_decision_process).\n",
        "\n",
        "**NOTE:** Reinforcement learning algorithms are often applied to problems that don't strictly fit into the MDP framework. In particular, situations in which the state of the environment is not fully observed lead to violations of the MDP assumption. Nevertheless, RL algorithms can be applied anyway.\n",
        "\n",
        "## Policies\n",
        "\n",
        "A **policy** is a function that takes in a **state** and returns an **action**. A policy may be stochastic (i.e., it may sample from a probability distribution) or it can be deterministic.\n",
        "\n",
        "The **goal of reinforcement learning** is to learn a **policy** for maximizing the cumulative reward in an MDP. That is, we wish to find a policy $\\pi$ which solves the following optimization problem\n",
        "\n",
        "\\begin{equation}\n",
        "\\arg\\max_{\\pi} \\sum_{t=1}^T \\gamma^t R_t(\\pi),\n",
        "\\end{equation}\n",
        "\n",
        "where $T$ is the number of steps taken in the MDP (this is a random variable and may depend on $\\pi$) and $R_t$ is the reward received at time $t$ (also a random variable which depends on $\\pi$).\n",
        "\n",
        "A number of algorithms are available for solving reinforcement learning problems. Several of the most widely known are [value iteration](https://en.wikipedia.org/wiki/Markov_decision_process#Value_iteration), [policy iteration](https://en.wikipedia.org/wiki/Markov_decision_process#Policy_iteration), and [Q learning](https://en.wikipedia.org/wiki/Q-learning).\n",
        "\n",
        "## RL in Python\n",
        "\n",
        "The `gym` Python module provides MDP interfaces to a variety of simulators. For example, the CartPole environment interfaces with a simple simulator which simulates the physics of balancing a pole on a cart. The CartPole problem is described at https://gym.openai.com/envs/CartPole-v0. This example fits into the MDP framework as follows.\n",
        "- The **state** consists of the position and velocity of the cart as well as the angle and angular velocity of the pole that is balancing on the cart.\n",
        "- The **actions** are to decrease or increase the cart's velocity by one unit.\n",
        "- The **transition function** is deterministic and is determined by simulating physical laws.\n",
        "- The **reward function** is a constant 1 as long as the pole is upright, and 0 once the pole has fallen over. Therefore, maximizing the reward means balancing the pole for as long as possible.\n",
        "- The **discount factor** in this case can be taken to be 1.\n",
        "\n",
        "More information about the `gym` Python module is available at https://gym.openai.com/."
      ]
    },
    {
      "cell_type": "code",
      "metadata": {
        "colab_type": "code",
        "id": "a9Kwo5ZfNlhn",
        "colab": {}
      },
      "source": [
        "from __future__ import absolute_import\n",
        "from __future__ import division\n",
        "from __future__ import print_function\n",
        "\n",
        "import gym\n",
        "import numpy as np"
      ],
      "execution_count": 0,
      "outputs": []
    },
    {
      "cell_type": "markdown",
      "metadata": {
        "colab_type": "text",
        "id": "WPpofaxQNlhp"
      },
      "source": [
        "The code below illustrates how to create and manipulate MDPs in Python. An MDP can be created by calling `gym.make`. Gym environments are identified by names like `CartPole-v0`. A **catalog of built-in environments** can be found at https://gym.openai.com/envs."
      ]
    },
    {
      "cell_type": "code",
      "metadata": {
        "colab_type": "code",
        "hideCode": false,
        "hidePrompt": false,
        "id": "6DZ68SG9Nlhp",
        "outputId": "293be60b-8107-42f2-c54a-58f3eaf295f2",
        "colab": {
          "base_uri": "https://localhost:8080/",
          "height": 34
        }
      },
      "source": [
        "env = gym.make('CartPole-v0')\n",
        "print('Created env:', env)"
      ],
      "execution_count": 0,
      "outputs": [
        {
          "output_type": "stream",
          "text": [
            "Created env: <TimeLimit<CartPoleEnv<CartPole-v0>>>\n"
          ],
          "name": "stdout"
        }
      ]
    },
    {
      "cell_type": "markdown",
      "metadata": {
        "colab_type": "text",
        "id": "Xn5PqgDzNlhr"
      },
      "source": [
        "Reset the state of the MDP by calling `env.reset()`. This call returns the initial state of the MDP."
      ]
    },
    {
      "cell_type": "code",
      "metadata": {
        "colab_type": "code",
        "hideCode": false,
        "hidePrompt": false,
        "id": "zRA58dOFNlhs",
        "outputId": "7aba4eac-fb0f-4654-eb49-0fbd6d664f28",
        "colab": {
          "base_uri": "https://localhost:8080/",
          "height": 34
        }
      },
      "source": [
        "state = env.reset()\n",
        "print('The starting state is:', state)"
      ],
      "execution_count": 0,
      "outputs": [
        {
          "output_type": "stream",
          "text": [
            "The starting state is: [-0.01791933 -0.04077564  0.03550711  0.02628827]\n"
          ],
          "name": "stdout"
        }
      ]
    },
    {
      "cell_type": "markdown",
      "metadata": {
        "colab_type": "text",
        "id": "8MuXXesWNlhu"
      },
      "source": [
        "The `env.step` method takes an action (in the case of the CartPole environment, the appropriate actions are 0 or 1, for moving left or right). It returns a tuple of four things:\n",
        "1. the new state of the environment\n",
        "2. a reward\n",
        "3. a boolean indicating whether the simulation has finished\n",
        "4. a dictionary of miscellaneous extra information"
      ]
    },
    {
      "cell_type": "code",
      "metadata": {
        "colab_type": "code",
        "hideCode": false,
        "hidePrompt": false,
        "id": "TufVaMz_Nlhu",
        "outputId": "920b9758-7d85-49e8-f8ef-4586b6947dea",
        "colab": {
          "base_uri": "https://localhost:8080/",
          "height": 34
        }
      },
      "source": [
        "# Simulate taking an action in the environment. Appropriate actions for\n",
        "# the CartPole environment are 0 and 1 (for moving left and right).\n",
        "action = 0\n",
        "state, reward, done, info = env.step(action)\n",
        "print(state, reward, done, info)"
      ],
      "execution_count": 0,
      "outputs": [
        {
          "output_type": "stream",
          "text": [
            "[-0.01873484 -0.23638832  0.03603287  0.32995925] 1.0 False {}\n"
          ],
          "name": "stdout"
        }
      ]
    },
    {
      "cell_type": "markdown",
      "metadata": {
        "colab_type": "text",
        "id": "uBIoIuWYNlhw"
      },
      "source": [
        "A **rollout** is a simulation of a policy in an environment. It alternates between choosing actions based (using some policy) and taking those actions in the environment.\n",
        "\n",
        "The code below performs a rollout in a given environment. It takes **random actions** until the simulation has finished and returns the cumulative reward."
      ]
    },
    {
      "cell_type": "code",
      "metadata": {
        "colab_type": "code",
        "id": "Zp00mr88Nlhw",
        "outputId": "f0d01977-00c9-4ad2-931a-7f9730b5b005",
        "colab": {
          "base_uri": "https://localhost:8080/",
          "height": 51
        }
      },
      "source": [
        "def random_rollout(env):\n",
        "    state = env.reset()\n",
        "    \n",
        "    done = False\n",
        "    cumulative_reward = 0\n",
        "\n",
        "    # Keep looping as long as the simulation has not finished.\n",
        "    while not done:\n",
        "        # Choose a random action (either 0 or 1).\n",
        "        action = np.random.choice([0, 1])\n",
        "        \n",
        "        # Take the action in the environment.\n",
        "        state, reward, done, _ = env.step(action)\n",
        "        \n",
        "        # Update the cumulative reward.\n",
        "        cumulative_reward += reward\n",
        "    \n",
        "    # Return the cumulative reward.\n",
        "    return cumulative_reward\n",
        "    \n",
        "reward = random_rollout(env)\n",
        "print(reward)\n",
        "reward = random_rollout(env)\n",
        "print(reward)"
      ],
      "execution_count": 0,
      "outputs": [
        {
          "output_type": "stream",
          "text": [
            "15.0\n",
            "19.0\n"
          ],
          "name": "stdout"
        }
      ]
    },
    {
      "cell_type": "markdown",
      "metadata": {
        "colab_type": "text",
        "id": "i3FVvEJRNlhy"
      },
      "source": [
        "**EXERCISE:** Finish implementing the `rollout_policy` function below, which should take an environment *and* a policy. The *policy* is a function that takes in a *state* and returns an *action*. The main difference is that instead of choosing a **random action**, the action should be chosen **with the policy** (as a function of the state)."
      ]
    },
    {
      "cell_type": "code",
      "metadata": {
        "colab_type": "code",
        "id": "9PgmkROqNlhy",
        "outputId": "91445278-aeb7-4e86-e1b7-c92e5ba830a2",
        "colab": {
          "base_uri": "https://localhost:8080/",
          "height": 375
        }
      },
      "source": [
        "def rollout_policy(env, policy):\n",
        "    state = env.reset()\n",
        "    \n",
        "    done = False\n",
        "    cumulative_reward = 0\n",
        "\n",
        "    # EXERCISE: Fill out this function by copying the 'random_rollout' function\n",
        "    # and then modifying it to choose the action using the policy.\n",
        "    raise NotImplementedError\n",
        "\n",
        "    # Return the cumulative reward.\n",
        "    return cumulative_reward\n",
        "\n",
        "def sample_policy1(state):\n",
        "    return 0 if state[0] < 0 else 1\n",
        "\n",
        "def sample_policy2(state):\n",
        "    return 1 if state[0] < 0 else 0\n",
        "\n",
        "reward1 = np.mean([rollout_policy(env, sample_policy1) for _ in range(100)])\n",
        "reward2 = np.mean([rollout_policy(env, sample_policy2) for _ in range(100)])\n",
        "\n",
        "print('The first sample policy got an average reward of {}.'.format(reward1))\n",
        "print('The second sample policy got an average reward of {}.'.format(reward2))\n",
        "\n",
        "assert 5 < reward1 < 15, ('Make sure that rollout_policy computes the action '\n",
        "                          'by applying the policy to the state.')\n",
        "assert 25 < reward2 < 35, ('Make sure that rollout_policy computes the action '\n",
        "                           'by applying the policy to the state.')"
      ],
      "execution_count": 0,
      "outputs": [
        {
          "output_type": "error",
          "ename": "NotImplementedError",
          "evalue": "ignored",
          "traceback": [
            "\u001b[0;31m---------------------------------------------------------------------------\u001b[0m",
            "\u001b[0;31mNotImplementedError\u001b[0m                       Traceback (most recent call last)",
            "\u001b[0;32m<ipython-input-6-9b15a0a9af13>\u001b[0m in \u001b[0;36m<module>\u001b[0;34m()\u001b[0m\n\u001b[1;32m     18\u001b[0m     \u001b[0;32mreturn\u001b[0m \u001b[0;36m1\u001b[0m \u001b[0;32mif\u001b[0m \u001b[0mstate\u001b[0m\u001b[0;34m[\u001b[0m\u001b[0;36m0\u001b[0m\u001b[0;34m]\u001b[0m \u001b[0;34m<\u001b[0m \u001b[0;36m0\u001b[0m \u001b[0;32melse\u001b[0m \u001b[0;36m0\u001b[0m\u001b[0;34m\u001b[0m\u001b[0;34m\u001b[0m\u001b[0m\n\u001b[1;32m     19\u001b[0m \u001b[0;34m\u001b[0m\u001b[0m\n\u001b[0;32m---> 20\u001b[0;31m \u001b[0mreward1\u001b[0m \u001b[0;34m=\u001b[0m \u001b[0mnp\u001b[0m\u001b[0;34m.\u001b[0m\u001b[0mmean\u001b[0m\u001b[0;34m(\u001b[0m\u001b[0;34m[\u001b[0m\u001b[0mrollout_policy\u001b[0m\u001b[0;34m(\u001b[0m\u001b[0menv\u001b[0m\u001b[0;34m,\u001b[0m \u001b[0msample_policy1\u001b[0m\u001b[0;34m)\u001b[0m \u001b[0;32mfor\u001b[0m \u001b[0m_\u001b[0m \u001b[0;32min\u001b[0m \u001b[0mrange\u001b[0m\u001b[0;34m(\u001b[0m\u001b[0;36m100\u001b[0m\u001b[0;34m)\u001b[0m\u001b[0;34m]\u001b[0m\u001b[0;34m)\u001b[0m\u001b[0;34m\u001b[0m\u001b[0;34m\u001b[0m\u001b[0m\n\u001b[0m\u001b[1;32m     21\u001b[0m \u001b[0mreward2\u001b[0m \u001b[0;34m=\u001b[0m \u001b[0mnp\u001b[0m\u001b[0;34m.\u001b[0m\u001b[0mmean\u001b[0m\u001b[0;34m(\u001b[0m\u001b[0;34m[\u001b[0m\u001b[0mrollout_policy\u001b[0m\u001b[0;34m(\u001b[0m\u001b[0menv\u001b[0m\u001b[0;34m,\u001b[0m \u001b[0msample_policy2\u001b[0m\u001b[0;34m)\u001b[0m \u001b[0;32mfor\u001b[0m \u001b[0m_\u001b[0m \u001b[0;32min\u001b[0m \u001b[0mrange\u001b[0m\u001b[0;34m(\u001b[0m\u001b[0;36m100\u001b[0m\u001b[0;34m)\u001b[0m\u001b[0;34m]\u001b[0m\u001b[0;34m)\u001b[0m\u001b[0;34m\u001b[0m\u001b[0;34m\u001b[0m\u001b[0m\n\u001b[1;32m     22\u001b[0m \u001b[0;34m\u001b[0m\u001b[0m\n",
            "\u001b[0;32m<ipython-input-6-9b15a0a9af13>\u001b[0m in \u001b[0;36m<listcomp>\u001b[0;34m(.0)\u001b[0m\n\u001b[1;32m     18\u001b[0m     \u001b[0;32mreturn\u001b[0m \u001b[0;36m1\u001b[0m \u001b[0;32mif\u001b[0m \u001b[0mstate\u001b[0m\u001b[0;34m[\u001b[0m\u001b[0;36m0\u001b[0m\u001b[0;34m]\u001b[0m \u001b[0;34m<\u001b[0m \u001b[0;36m0\u001b[0m \u001b[0;32melse\u001b[0m \u001b[0;36m0\u001b[0m\u001b[0;34m\u001b[0m\u001b[0;34m\u001b[0m\u001b[0m\n\u001b[1;32m     19\u001b[0m \u001b[0;34m\u001b[0m\u001b[0m\n\u001b[0;32m---> 20\u001b[0;31m \u001b[0mreward1\u001b[0m \u001b[0;34m=\u001b[0m \u001b[0mnp\u001b[0m\u001b[0;34m.\u001b[0m\u001b[0mmean\u001b[0m\u001b[0;34m(\u001b[0m\u001b[0;34m[\u001b[0m\u001b[0mrollout_policy\u001b[0m\u001b[0;34m(\u001b[0m\u001b[0menv\u001b[0m\u001b[0;34m,\u001b[0m \u001b[0msample_policy1\u001b[0m\u001b[0;34m)\u001b[0m \u001b[0;32mfor\u001b[0m \u001b[0m_\u001b[0m \u001b[0;32min\u001b[0m \u001b[0mrange\u001b[0m\u001b[0;34m(\u001b[0m\u001b[0;36m100\u001b[0m\u001b[0;34m)\u001b[0m\u001b[0;34m]\u001b[0m\u001b[0;34m)\u001b[0m\u001b[0;34m\u001b[0m\u001b[0;34m\u001b[0m\u001b[0m\n\u001b[0m\u001b[1;32m     21\u001b[0m \u001b[0mreward2\u001b[0m \u001b[0;34m=\u001b[0m \u001b[0mnp\u001b[0m\u001b[0;34m.\u001b[0m\u001b[0mmean\u001b[0m\u001b[0;34m(\u001b[0m\u001b[0;34m[\u001b[0m\u001b[0mrollout_policy\u001b[0m\u001b[0;34m(\u001b[0m\u001b[0menv\u001b[0m\u001b[0;34m,\u001b[0m \u001b[0msample_policy2\u001b[0m\u001b[0;34m)\u001b[0m \u001b[0;32mfor\u001b[0m \u001b[0m_\u001b[0m \u001b[0;32min\u001b[0m \u001b[0mrange\u001b[0m\u001b[0;34m(\u001b[0m\u001b[0;36m100\u001b[0m\u001b[0;34m)\u001b[0m\u001b[0;34m]\u001b[0m\u001b[0;34m)\u001b[0m\u001b[0;34m\u001b[0m\u001b[0;34m\u001b[0m\u001b[0m\n\u001b[1;32m     22\u001b[0m \u001b[0;34m\u001b[0m\u001b[0m\n",
            "\u001b[0;32m<ipython-input-6-9b15a0a9af13>\u001b[0m in \u001b[0;36mrollout_policy\u001b[0;34m(env, policy)\u001b[0m\n\u001b[1;32m      7\u001b[0m     \u001b[0;31m# EXERCISE: Fill out this function by copying the 'random_rollout' function\u001b[0m\u001b[0;34m\u001b[0m\u001b[0;34m\u001b[0m\u001b[0;34m\u001b[0m\u001b[0m\n\u001b[1;32m      8\u001b[0m     \u001b[0;31m# and then modifying it to choose the action using the policy.\u001b[0m\u001b[0;34m\u001b[0m\u001b[0;34m\u001b[0m\u001b[0;34m\u001b[0m\u001b[0m\n\u001b[0;32m----> 9\u001b[0;31m     \u001b[0;32mraise\u001b[0m \u001b[0mNotImplementedError\u001b[0m\u001b[0;34m\u001b[0m\u001b[0;34m\u001b[0m\u001b[0m\n\u001b[0m\u001b[1;32m     10\u001b[0m \u001b[0;34m\u001b[0m\u001b[0m\n\u001b[1;32m     11\u001b[0m     \u001b[0;31m# Return the cumulative reward.\u001b[0m\u001b[0;34m\u001b[0m\u001b[0;34m\u001b[0m\u001b[0;34m\u001b[0m\u001b[0m\n",
            "\u001b[0;31mNotImplementedError\u001b[0m: "
          ]
        }
      ]
    },
    {
      "cell_type": "markdown",
      "metadata": {
        "colab_type": "text",
        "id": "qXQ8hIB9Nlh0"
      },
      "source": [
        "# RLlib Exercise 1 - Proximal Policy Optimization\n",
        "\n",
        "**GOAL:** The goal of this exercise is to demonstrate how to use the proximal policy optimization (PPO) algorithm.\n",
        "\n",
        "To understand how to use **RLlib**, see the documentation at http://rllib.io.\n",
        "\n",
        "PPO is described in detail in https://arxiv.org/abs/1707.06347. It is a variant of Trust Region Policy Optimization (TRPO) described in https://arxiv.org/abs/1502.05477\n",
        "\n",
        "PPO works in two phases. In one phase, a large number of rollouts are performed (in parallel). The rollouts are then aggregated on the driver and a surrogate optimization objective is defined based on those rollouts. We then use SGD to find the policy that maximizes that objective with a penalty term for diverging too much from the current policy.\n",
        "\n",
        "![ppo](https://raw.githubusercontent.com/ucbrise/risecamp/risecamp2018/ray/tutorial/rllib_exercises/ppo.png)\n",
        "\n",
        "**NOTE:** The SGD optimization step is best performed in a data-parallel manner over multiple GPUs. This is exposed through the `num_gpus` field of the `config` dictionary (for this to work, you must be using a machine that has GPUs)."
      ]
    },
    {
      "cell_type": "code",
      "metadata": {
        "colab_type": "code",
        "id": "d_Luh2OENlh0",
        "colab": {}
      },
      "source": [
        "# Be sure to install the latest version of RLlib.\n",
        "! pip install -U ray[rllib]"
      ],
      "execution_count": 0,
      "outputs": []
    },
    {
      "cell_type": "code",
      "metadata": {
        "colab_type": "code",
        "id": "XwPnR2ibNlh2",
        "colab": {}
      },
      "source": [
        "from __future__ import absolute_import\n",
        "from __future__ import division\n",
        "from __future__ import print_function\n",
        "\n",
        "import gym\n",
        "import ray\n",
        "from ray.rllib.agents.ppo import PPOTrainer, DEFAULT_CONFIG\n",
        "from ray.tune.logger import pretty_print"
      ],
      "execution_count": 0,
      "outputs": []
    },
    {
      "cell_type": "code",
      "metadata": {
        "colab_type": "code",
        "id": "tQFzEX2BNlh3",
        "colab": {}
      },
      "source": [
        "# Start up Ray. This must be done before we instantiate any RL agents.\n",
        "ray.init(num_cpus=3, ignore_reinit_error=True, log_to_driver=False)"
      ],
      "execution_count": 0,
      "outputs": []
    },
    {
      "cell_type": "markdown",
      "metadata": {
        "colab_type": "text",
        "id": "f9yhpJZVNlh5"
      },
      "source": [
        "Instantiate a PPOTrainer object. We pass in a config object that specifies how the network and training procedure should be configured. Some of the parameters are the following.\n",
        "\n",
        "- `num_workers` is the number of actors that the agent will create. This determines the degree of parallelism that will be used.\n",
        "- `num_sgd_iter` is the number of epochs of SGD (passes through the data) that will be used to optimize the PPO surrogate objective at each iteration of PPO.\n",
        "- `sgd_minibatch_size` is the SGD batch size that will be used to optimize the PPO surrogate objective.\n",
        "- `model` contains a dictionary of parameters describing the neural net used to parameterize the policy. The `fcnet_hiddens` parameter is a list of the sizes of the hidden layers."
      ]
    },
    {
      "cell_type": "code",
      "metadata": {
        "colab_type": "code",
        "id": "Ok210MCfNlh5",
        "colab": {}
      },
      "source": [
        "config = DEFAULT_CONFIG.copy()\n",
        "config['num_workers'] = 1\n",
        "config['num_sgd_iter'] = 30\n",
        "config['sgd_minibatch_size'] = 128\n",
        "config['model']['fcnet_hiddens'] = [100, 100]\n",
        "config['num_cpus_per_worker'] = 0  # This avoids running out of resources in the notebook environment when this cell is re-executed\n",
        "\n",
        "agent = PPOTrainer(config, 'CartPole-v0')"
      ],
      "execution_count": 0,
      "outputs": []
    },
    {
      "cell_type": "markdown",
      "metadata": {
        "colab_type": "text",
        "id": "Ty1a6AWVNlh7"
      },
      "source": [
        "Train the policy on the `CartPole-v0` environment for 2 steps. The CartPole problem is described at https://gym.openai.com/envs/CartPole-v0.\n",
        "\n",
        "**EXERCISE:** Inspect how well the policy is doing by looking for the lines that say something like\n",
        "\n",
        "```\n",
        "episode_len_mean: 22.262569832402235\n",
        "episode_reward_mean: 22.262569832402235\n",
        "```\n",
        "\n",
        "This indicates how much reward the policy is receiving and how many time steps of the environment the policy ran. The maximum possible reward for this problem is 200. The reward and trajectory length are very close because the agent receives a reward of one for every time step that it survives (however, that is specific to this environment)."
      ]
    },
    {
      "cell_type": "code",
      "metadata": {
        "colab_type": "code",
        "id": "3o0wjdZ3Nlh7",
        "colab": {}
      },
      "source": [
        "for i in range(2):\n",
        "    result = agent.train()\n",
        "    print(pretty_print(result))"
      ],
      "execution_count": 0,
      "outputs": []
    },
    {
      "cell_type": "markdown",
      "metadata": {
        "colab_type": "text",
        "id": "FPdkWLrENlh9"
      },
      "source": [
        "**EXERCISE:** The current network and training configuration are too large and heavy-duty for a simple problem like CartPole. Modify the configuration to use a smaller network and to speed up the optimization of the surrogate objective (fewer SGD iterations and a larger batch size should help)."
      ]
    },
    {
      "cell_type": "code",
      "metadata": {
        "colab_type": "code",
        "id": "3lp6tqkNNlh9",
        "colab": {}
      },
      "source": [
        "config = DEFAULT_CONFIG.copy()\n",
        "config['num_workers'] = 3\n",
        "config['num_sgd_iter'] = 30\n",
        "config['sgd_minibatch_size'] = 128\n",
        "config['model']['fcnet_hiddens'] = [100, 100]\n",
        "config['num_cpus_per_worker'] = 0\n",
        "\n",
        "agent = PPOTrainer(config, 'CartPole-v0')"
      ],
      "execution_count": 0,
      "outputs": []
    },
    {
      "cell_type": "markdown",
      "metadata": {
        "colab_type": "text",
        "id": "64FmVP7kNlh_"
      },
      "source": [
        "**EXERCISE:** Train the agent and try to get a reward of 200. If it's training too slowly you may need to modify the config above to use fewer hidden units, a larger `sgd_minibatch_size`, a smaller `num_sgd_iter`, or a larger `num_workers`.\n",
        "\n",
        "This should take around 20 or 30 training iterations."
      ]
    },
    {
      "cell_type": "code",
      "metadata": {
        "colab_type": "code",
        "id": "XB7sdKUzNliA",
        "colab": {}
      },
      "source": [
        "for i in range(2):\n",
        "    result = agent.train()\n",
        "    print(pretty_print(result))"
      ],
      "execution_count": 0,
      "outputs": []
    },
    {
      "cell_type": "markdown",
      "metadata": {
        "colab_type": "text",
        "id": "PW6bN9CYNliB"
      },
      "source": [
        "Checkpoint the current model. The call to `agent.save()` returns the path to the checkpointed model and can be used later to restore the model."
      ]
    },
    {
      "cell_type": "code",
      "metadata": {
        "colab_type": "code",
        "id": "6uf808LMNliC",
        "colab": {}
      },
      "source": [
        "checkpoint_path = agent.save()\n",
        "print(checkpoint_path)"
      ],
      "execution_count": 0,
      "outputs": []
    },
    {
      "cell_type": "markdown",
      "metadata": {
        "colab_type": "text",
        "id": "05icI8bfNliD"
      },
      "source": [
        "Now let's use the trained policy to make predictions.\n",
        "\n",
        "**NOTE:** Here we are loading the trained policy in the same process, but in practice, this would often be done in a different process (probably on a different machine)."
      ]
    },
    {
      "cell_type": "code",
      "metadata": {
        "colab_type": "code",
        "id": "8Qq2_AYVNliE",
        "colab": {}
      },
      "source": [
        "trained_config = config.copy()\n",
        "\n",
        "test_agent = PPOTrainer(trained_config, 'CartPole-v0')\n",
        "test_agent.restore(checkpoint_path)"
      ],
      "execution_count": 0,
      "outputs": []
    },
    {
      "cell_type": "markdown",
      "metadata": {
        "colab_type": "text",
        "id": "c2gUUlqkNliG"
      },
      "source": [
        "Now use the trained policy to act in an environment. The key line is the call to `test_agent.compute_action(state)` which uses the trained policy to choose an action.\n",
        "\n",
        "**EXERCISE:** Verify that the reward received roughly matches up with the reward printed in the training logs."
      ]
    },
    {
      "cell_type": "code",
      "metadata": {
        "colab_type": "code",
        "id": "9asL5Z5lNliH",
        "colab": {}
      },
      "source": [
        "env = gym.make('CartPole-v0')\n",
        "state = env.reset()\n",
        "done = False\n",
        "cumulative_reward = 0\n",
        "\n",
        "while not done:\n",
        "    action = test_agent.compute_action(state)\n",
        "    state, reward, done, _ = env.step(action)\n",
        "    cumulative_reward += reward\n",
        "\n",
        "print(cumulative_reward)"
      ],
      "execution_count": 0,
      "outputs": []
    },
    {
      "cell_type": "markdown",
      "metadata": {
        "colab_type": "text",
        "id": "iB1ORu-yNliJ"
      },
      "source": [
        "# RLlib Exercise 2 - Custom Environments and Reward Shaping\n",
        "\n",
        "**GOAL:** The goal of this exercise is to demonstrate how to adapt your own problem to use RLlib.\n",
        "\n",
        "To understand how to use **RLlib**, see the documentation at http://rllib.io.\n",
        "\n",
        "RLlib is not only easy to use in simulated benchmarks but also in the real-world. Here, we will cover two important concepts: how to create your own Markov Decision Process abstraction, and how to shape the reward of your environment so make your agent more effective. "
      ]
    },
    {
      "cell_type": "code",
      "metadata": {
        "colab_type": "code",
        "id": "Csnr34cnNliK",
        "colab": {}
      },
      "source": [
        "from __future__ import absolute_import\n",
        "from __future__ import division\n",
        "from __future__ import print_function\n",
        "\n",
        "import gym\n",
        "from gym import spaces\n",
        "import numpy as np\n",
        "from tutorial.rllib_exercises import test_exercises\n",
        "\n",
        "import ray\n",
        "from ray.rllib.agents.ppo import PPOTrainer, DEFAULT_CONFIG\n",
        "\n",
        "ray.init(ignore_reinit_error=True, log_to_driver=False)"
      ],
      "execution_count": 0,
      "outputs": []
    },
    {
      "cell_type": "markdown",
      "metadata": {
        "colab_type": "text",
        "id": "Wg0Xb06MNliM"
      },
      "source": [
        "## 1. Different Spaces\n",
        "\n",
        "The first thing to do when formulating an RL problem is to specify the dimensions of your observation space and action space. Abstractions for these are provided in ``gym``. \n",
        "\n",
        "### **Exercise 1:** Match different actions to their corresponding space.\n",
        "\n",
        "The purpose of this exercise is to familiarize you with different Gym spaces. For example:\n",
        "\n",
        "    discrete = spaces.Discrete(10)\n",
        "    print(\"Random sample of this space: \", [discrete.sample() for i in range(4)])\n",
        "\n",
        "Use `help(spaces)` or `help([specific space])` (i.e., `help(spaces.Discrete)`) for more info."
      ]
    },
    {
      "cell_type": "code",
      "metadata": {
        "colab_type": "code",
        "id": "7RfODlKgNliM",
        "colab": {}
      },
      "source": [
        "action_space_map = {\n",
        "    \"discrete_10\": spaces.Discrete(10),\n",
        "    \"box_1\": spaces.Box(0, 1, shape=(1,)),\n",
        "    \"box_3x1\": spaces.Box(-2, 2, shape=(3, 1)),\n",
        "    \"multi_discrete\": spaces.MultiDiscrete([ 5, 2, 2, 4 ])\n",
        "}\n",
        "\n",
        "action_space_jumble = {\n",
        "    \"discrete_10\": 1,\n",
        "    \"CHANGE_ME\": np.array([0, 0, 0, 2]),\n",
        "    \"CHANGE_ME\": np.array([[-1.2657754], [-1.6528835], [ 0.5982418]]),\n",
        "    \"CHANGE_ME\": np.array([0.89089584]),\n",
        "}\n",
        "\n",
        "\n",
        "for space_id, state in action_space_jumble.items():\n",
        "    assert action_space_map[space_id].contains(state), (\n",
        "        \"Looks like {} to {} is matched incorrectly.\".format(space_id, state))\n",
        "    \n",
        "print(\"Success!\")"
      ],
      "execution_count": 0,
      "outputs": []
    },
    {
      "cell_type": "markdown",
      "metadata": {
        "colab_type": "text",
        "id": "l9rrsSmsNliO"
      },
      "source": [
        "## **Exercise 2**: Setting up a custom environment with rewards\n",
        "\n",
        "We'll setup an `n-Chain` environment, which presents moves along a linear chain of states, with two actions:\n",
        "\n",
        "     (0) forward, which moves along the chain but returns no reward\n",
        "     (1) backward, which returns to the beginning and has a small reward\n",
        "\n",
        "The end of the chain, however, presents a large reward, and by moving 'forward', at the end of the chain this large reward can be repeated.\n",
        "\n",
        "#### Step 1: Implement ``ChainEnv._setup_spaces``\n",
        "\n",
        "We'll use a `spaces.Discrete` action space and observation space. Implement `ChainEnv._setup_spaces` so that `self.action_space` and `self.obseration_space` are proper gym spaces.\n",
        "  \n",
        "1. Observation space is an integer in ``[0 to n-1]``.\n",
        "2. Action space is an integer in ``[0, 1]``.\n",
        "\n",
        "For example:\n",
        "\n",
        "```python\n",
        "    self.action_space = spaces.Discrete(2)\n",
        "    self.observation_space = ...\n",
        "```\n",
        "\n",
        "You should see a message indicating tests passing when done correctly!\n",
        "\n",
        "#### Step 2: Implement a reward function.\n",
        "\n",
        "When `env.step` is called, it returns a tuple of ``(state, reward, done, info)``. Right now, the reward is always 0. \n",
        "\n",
        "Implement it so that \n",
        "\n",
        "1. ``action == 1`` will return `self.small_reward`.\n",
        "2. ``action == 0`` will return 0 if `self.state < self.n - 1`.\n",
        "3. ``action == 0`` will return `self.large_reward` if `self.state == self.n - 1`.\n",
        "\n",
        "You should see a message indicating tests passing when done correctly. "
      ]
    },
    {
      "cell_type": "code",
      "metadata": {
        "colab_type": "code",
        "id": "SFpjKjqTNliO",
        "colab": {}
      },
      "source": [
        "class ChainEnv(gym.Env):\n",
        "    \n",
        "    def __init__(self, env_config = None):\n",
        "        env_config = env_config or {}\n",
        "        self.n = env_config.get(\"n\", 20)\n",
        "        self.small_reward = env_config.get(\"small\", 2)  # payout for 'backwards' action\n",
        "        self.large_reward = env_config.get(\"large\", 10)  # payout at end of chain for 'forwards' action\n",
        "        self.state = 0  # Start at beginning of the chain\n",
        "        self._horizon = self.n\n",
        "        self._counter = 0  # For terminating the episode\n",
        "        self._setup_spaces()\n",
        "    \n",
        "    def _setup_spaces(self):\n",
        "        ##############\n",
        "        # TODO: Implement this so that it passes tests\n",
        "        self.action_space = None\n",
        "        self.observation_space = None\n",
        "        ##############\n",
        "\n",
        "    def step(self, action):\n",
        "        assert self.action_space.contains(action)\n",
        "        if action == 1:  # 'backwards': go back to the beginning, get small reward\n",
        "            ##############\n",
        "            # TODO 2: Implement this so that it passes tests\n",
        "            reward = -1\n",
        "            ##############\n",
        "            self.state = 0\n",
        "        elif self.state < self.n - 1:  # 'forwards': go up along the chain\n",
        "            ##############\n",
        "            # TODO 2: Implement this so that it passes tests\n",
        "            reward = -1\n",
        "            self.state += 1\n",
        "        else:  # 'forwards': stay at the end of the chain, collect large reward\n",
        "            ##############\n",
        "            # TODO 2: Implement this so that it passes tests\n",
        "            reward = -1\n",
        "            ##############\n",
        "        self._counter += 1\n",
        "        done = self._counter >= self._horizon\n",
        "        return self.state, reward, done, {}\n",
        "\n",
        "    def reset(self):\n",
        "        self.state = 0\n",
        "        self._counter = 0\n",
        "        return self.state\n",
        "    \n",
        "# Tests here:\n",
        "test_exercises.test_chain_env_spaces(ChainEnv)\n",
        "test_exercises.test_chain_env_reward(ChainEnv)"
      ],
      "execution_count": 0,
      "outputs": []
    },
    {
      "cell_type": "markdown",
      "metadata": {
        "colab_type": "text",
        "id": "yqMJtzLNNliQ"
      },
      "source": [
        "### Now let's train a policy on the environment and evaluate this policy on our environment.\n",
        "\n",
        "You'll see that despite an extremely high reward, the policy has barely explored the state space."
      ]
    },
    {
      "cell_type": "code",
      "metadata": {
        "colab_type": "code",
        "id": "FyXbhXoANliQ",
        "colab": {}
      },
      "source": [
        "trainer_config = DEFAULT_CONFIG.copy()\n",
        "trainer_config['num_workers'] = 1\n",
        "trainer_config[\"train_batch_size\"] = 400\n",
        "trainer_config[\"sgd_minibatch_size\"] = 64\n",
        "trainer_config[\"num_sgd_iter\"] = 10"
      ],
      "execution_count": 0,
      "outputs": []
    },
    {
      "cell_type": "code",
      "metadata": {
        "colab_type": "code",
        "id": "uoNYqFPcNliS",
        "colab": {}
      },
      "source": [
        "trainer = PPOTrainer(trainer_config, ChainEnv);\n",
        "for i in range(20):\n",
        "    print(\"Training iteration {}...\".format(i))\n",
        "    trainer.train()"
      ],
      "execution_count": 0,
      "outputs": []
    },
    {
      "cell_type": "code",
      "metadata": {
        "colab_type": "code",
        "id": "nP6xXGNONliT",
        "colab": {}
      },
      "source": [
        "env = ChainEnv({})\n",
        "state = env.reset()\n",
        "\n",
        "done = False\n",
        "max_state = -1\n",
        "cumulative_reward = 0\n",
        "\n",
        "while not done:\n",
        "    action = trainer.compute_action(state)\n",
        "    state, reward, done, results = env.step(action)\n",
        "    max_state = max(max_state, state)\n",
        "    cumulative_reward += reward\n",
        "\n",
        "print(\"Cumulative reward you've received is: {}. Congratulations!\".format(cumulative_reward))\n",
        "print(\"Max state you've visited is: {}. This is out of {} states.\".format(max_state, env.n))"
      ],
      "execution_count": 0,
      "outputs": []
    },
    {
      "cell_type": "markdown",
      "metadata": {
        "colab_type": "text",
        "id": "nbdppkbENliV"
      },
      "source": [
        "## Exercise 3: Shaping the reward to encourage proper behavior.\n",
        "\n",
        "You'll see that despite an extremely high reward, the policy has barely explored the state space. This is often the situation - where the reward designed to encourage a particular solution is suboptimal, and the behavior created is unintended.\n",
        "\n",
        "#### Modify `ShapedChainEnv.step` to provide a reward that encourages the policy to traverse the chain (not just stick to 0). Do not change the behavior of the environment (the action -> state behavior should be the same).\n",
        "\n",
        "You can change the reward to be whatever you wish."
      ]
    },
    {
      "cell_type": "code",
      "metadata": {
        "colab_type": "code",
        "id": "PfyPqX1ZNliV",
        "colab": {}
      },
      "source": [
        "class ShapedChainEnv(ChainEnv):\n",
        "    def step(self, action):\n",
        "        assert self.action_space.contains(action)\n",
        "        if action == 1:  # 'backwards': go back to the beginning\n",
        "            reward = -1\n",
        "            self.state = 0\n",
        "        elif self.state < self.n - 1:  # 'forwards': go up along the chain\n",
        "            reward = -1\n",
        "            self.state += 1\n",
        "        else:  # 'forwards': stay at the end of the chain\n",
        "            reward = -1\n",
        "        self._counter += 1\n",
        "        done = self._counter >= self._horizon\n",
        "        return self.state, reward, done, {}\n",
        "    \n",
        "test_exercises.test_chain_env_behavior(ShapedChainEnv)"
      ],
      "execution_count": 0,
      "outputs": []
    },
    {
      "cell_type": "markdown",
      "metadata": {
        "colab_type": "text",
        "id": "ty6H4MffNliW"
      },
      "source": [
        "### Evaluate `ShapedChainEnv` by running the cell below.\n",
        "\n",
        "This trains PPO on the new env and counts the number of states seen."
      ]
    },
    {
      "cell_type": "code",
      "metadata": {
        "colab_type": "code",
        "id": "8U6GkAO6NliX",
        "colab": {}
      },
      "source": [
        "trainer = PPOTrainer(trainer_config, ShapedChainEnv);\n",
        "for i in range(20):\n",
        "    print(\"Training iteration {}...\".format(i))\n",
        "    trainer.train()\n",
        "\n",
        "env = ShapedChainEnv({})\n",
        "\n",
        "max_states = []\n",
        "\n",
        "for i in range(5):\n",
        "    state = env.reset()\n",
        "    done = False\n",
        "    max_state = -1\n",
        "    cumulative_reward = 0\n",
        "    while not done:\n",
        "        action = trainer.compute_action(state)\n",
        "        state, reward, done, results = env.step(action)\n",
        "        max_state = max(max_state, state)\n",
        "        cumulative_reward += reward\n",
        "    max_states += [max_state]\n",
        "\n",
        "print(\"Cumulative reward you've received is: {}!\".format(cumulative_reward))\n",
        "print(\"Max state you've visited is: {}. This is out of {} states.\".format(np.mean(max_state), env.n))\n",
        "assert (env.n - np.mean(max_state)) / env.n < 0.2, \"This policy did not traverse many states.\""
      ],
      "execution_count": 0,
      "outputs": []
    },
    {
      "cell_type": "code",
      "metadata": {
        "colab_type": "code",
        "id": "Sj5ynpINNliZ",
        "colab": {}
      },
      "source": [
        ""
      ],
      "execution_count": 0,
      "outputs": []
    }
  ]
}