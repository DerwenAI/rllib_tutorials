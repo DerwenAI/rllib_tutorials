{
  "nbformat": 4,
  "nbformat_minor": 0,
  "metadata": {
    "colab": {
      "name": "Copy of rllib_ppo_dqn.ipynb",
      "provenance": [],
      "collapsed_sections": []
    },
    "kernelspec": {
      "name": "python3",
      "display_name": "Python 3"
    }
  },
  "cells": [
    {
      "cell_type": "markdown",
      "metadata": {
        "id": "JD0Eu7JWdVqY",
        "colab_type": "text"
      },
      "source": [
        "## Price Optimization example using DQL in RLlib\n",
        "This first code cell is a little magic to install Ray properly, due to hardcoded limitations in TensorFlow."
      ]
    },
    {
      "cell_type": "markdown",
      "metadata": {
        "id": "J8lB5taCu6YR",
        "colab_type": "text"
      },
      "source": [
        "# QUESTION:\n",
        "Must this **run  twice** to restart the kernel? FWIW, some of the transformer Colab notebook examples had suggested that. Running this cell only once tends to result in errors later on Colab."
      ]
    },
    {
      "cell_type": "markdown",
      "metadata": {
        "id": "L3CzHDh29oE9",
        "colab_type": "text"
      },
      "source": [
        "\n",
        "\n",
        "---\n",
        "\n"
      ]
    },
    {
      "cell_type": "code",
      "metadata": {
        "id": "GBpqp6zVdd2j",
        "colab_type": "code",
        "outputId": "6208a6a8-eb65-4a72-9dc8-afcdfa45cee0",
        "colab": {
          "base_uri": "https://localhost:8080/",
          "height": 34
        }
      },
      "source": [
        "!pip uninstall -y -q pyarrow\n",
        "!pip install -q ray[debug]\n",
        "\n",
        "try:\n",
        "  %tensorflow_version 2.x\n",
        "except Exception:\n",
        "  pass\n",
        "\n",
        "# A hack to force the runtime to restart, needed to include the above dependencies.\n",
        "import os\n",
        "os._exit(0)"
      ],
      "execution_count": 0,
      "outputs": [
        {
          "output_type": "stream",
          "text": [
            "\u001b[33mWARNING: Skipping pyarrow as it is not installed.\u001b[0m\n"
          ],
          "name": "stdout"
        }
      ]
    },
    {
      "cell_type": "markdown",
      "metadata": {
        "id": "JpKoo-rgVdbn",
        "colab_type": "text"
      },
      "source": [
        "## Prepare to run a DQN model in RLlib"
      ]
    },
    {
      "cell_type": "code",
      "metadata": {
        "id": "yZxPwvnYiAxV",
        "colab_type": "code",
        "outputId": "cede468a-bcb3-407b-f7cf-013cbf4225a1",
        "colab": {
          "base_uri": "https://localhost:8080/",
          "height": 80
        }
      },
      "source": [
        "# the `lz4` library sometimes shows as a warning / not installed on Google Colab\n",
        "!pip install lz4\n",
        "\n",
        "import ray\n",
        "import ray.rllib.agents.dqn as dqn\n",
        "from ray.tune.logger import pretty_print\n",
        "\n",
        "def train_dqn (trainer, num_iter=50):\n",
        "    reward_history = []\n",
        "\n",
        "    for i in range(num_iter):\n",
        "        result = trainer.train()\n",
        "        max_reward = result[\"episode_reward_max\"]\n",
        "        reward_history.append(max_reward)\n",
        "        print(\"iter {}: max reward: {:.2f}\".format(i, max_reward))\n",
        "        #print(pretty_print(result))\n",
        "\n",
        "    return reward_history"
      ],
      "execution_count": 0,
      "outputs": [
        {
          "output_type": "stream",
          "text": [
            "Requirement already satisfied: lz4 in /usr/local/lib/python3.6/dist-packages (3.0.2)\n"
          ],
          "name": "stdout"
        },
        {
          "output_type": "display_data",
          "data": {
            "text/html": [
              "<p style=\"color: red;\">\n",
              "The default version of TensorFlow in Colab will soon switch to TensorFlow 2.x.<br>\n",
              "We recommend you <a href=\"https://www.tensorflow.org/guide/migrate\" target=\"_blank\">upgrade</a> now \n",
              "or ensure your notebook will continue to use TensorFlow 1.x via the <code>%tensorflow_version 1.x</code> magic:\n",
              "<a href=\"https://colab.research.google.com/notebooks/tensorflow_version.ipynb\" target=\"_blank\">more info</a>.</p>\n"
            ],
            "text/plain": [
              "<IPython.core.display.HTML object>"
            ]
          },
          "metadata": {
            "tags": []
          }
        }
      ]
    },
    {
      "cell_type": "markdown",
      "metadata": {
        "id": "qJg9wRfkh1UW",
        "colab_type": "text"
      },
      "source": [
        "## CartPole\n",
        "First we'll run this with `CartPole-v0` which is a relatively simple and quick example, to examine the RLlib features involved. For more details about this problem, see the tutorial [*Cartpole - Introduction to Reinforcement Learning (DQN - Deep Q-Learning)*](https://towardsdatascience.com/cartpole-introduction-to-reinforcement-learning-ed0eb5b58288) by [Greg Surma](https://twitter.com/GSurma)."
      ]
    },
    {
      "cell_type": "code",
      "metadata": {
        "id": "Q-XFzC5rh0XK",
        "colab_type": "code",
        "outputId": "917f265f-650a-4abe-d8c0-ec04cfcf532b",
        "colab": {
          "base_uri": "https://localhost:8080/",
          "height": 343
        }
      },
      "source": [
        "ray.shutdown()\n",
        "ray.init()\n",
        "\n",
        "trainer = dqn.DQNTrainer(env=\"CartPole-v0\", config={\"eager\": False})\n",
        "reward_history = train_dqn(trainer, num_iter=5)\n",
        "print(reward_history)"
      ],
      "execution_count": 0,
      "outputs": [
        {
          "output_type": "stream",
          "text": [
            "2020-02-18 05:28:27,942\tWARNING services.py:592 -- setpgrp failed, processes may not be cleaned up properly: [Errno 1] Operation not permitted.\n",
            "2020-02-18 05:28:27,947\tINFO resource_spec.py:212 -- Starting Ray with 6.01 GiB memory available for workers and up to 3.01 GiB for objects. You can adjust these settings with ray.init(memory=<bytes>, object_store_memory=<bytes>).\n",
            "2020-02-18 05:28:28,294\tWARNING services.py:1080 -- Failed to start the dashboard. The dashboard requires Python 3 as well as 'pip install aiohttp psutil setproctitle grpcio'.\n",
            "2020-02-18 05:28:28,997\tINFO trainer.py:370 -- Tip: set 'eager': true or the --eager flag to enable TensorFlow eager execution\n",
            "2020-02-18 05:28:29,022\tINFO trainer.py:517 -- Current log_level is WARN. For more information, set 'log_level': 'INFO' / 'DEBUG' or use the -v and -vv flags.\n",
            "/usr/local/lib/python3.6/dist-packages/gym/logger.py:30: UserWarning: \u001b[33mWARN: Box bound precision lowered by casting to float32\u001b[0m\n",
            "  warnings.warn(colorize('%s: %s'%('WARN', msg % args), 'yellow'))\n",
            "2020-02-18 05:28:33,762\tWARNING util.py:41 -- Install gputil for GPU system monitoring.\n",
            "/usr/local/lib/python3.6/dist-packages/numpy/core/fromnumeric.py:3257: RuntimeWarning: Mean of empty slice.\n",
            "  out=out, **kwargs)\n",
            "/usr/local/lib/python3.6/dist-packages/numpy/core/_methods.py:161: RuntimeWarning: invalid value encountered in double_scalars\n",
            "  ret = ret.dtype.type(ret / rcount)\n"
          ],
          "name": "stderr"
        },
        {
          "output_type": "stream",
          "text": [
            "iter 0: max reward: 76.00\n",
            "iter 1: max reward: 76.00\n",
            "iter 2: max reward: 102.00\n",
            "iter 3: max reward: 153.00\n",
            "iter 4: max reward: 167.00\n",
            "[76.0, 76.0, 102.0, 153.0, 167.0]\n"
          ],
          "name": "stdout"
        }
      ]
    },
    {
      "cell_type": "markdown",
      "metadata": {
        "id": "Gp1LgeCJjGLk",
        "colab_type": "text"
      },
      "source": [
        "The history of `max_reward` shows this model edge toward a number higher than `150` -- which is good, since the [*solution*](https://gym.openai.com/envs/CartPole-v0/) for `CartPole-v0` is to get an average reward of `195.0` over a hundred consecutive trials."
      ]
    },
    {
      "cell_type": "markdown",
      "metadata": {
        "id": "oQIh0hRh6O1T",
        "colab_type": "text"
      },
      "source": [
        "# QUESTION:\n",
        "How do we inspect a trained policy?\n",
        "\n",
        "The Ray/RLlib docs show examples of dumping out the model variables, although frankly there's almost no attention paid to connecting the results with any kind of stated goal.\n",
        "\n",
        "The risk is that many people will walk away cynically: \"They showed us some numbers, then calculated for a long while, then showed us other numbers -- which apparanetly were a big deal, because research. Or something.\"\n",
        "\n",
        "Ideally, we could plot or otherwise analyze the resulting `policy` and see how the CartPole is being adjusted. That really isn't clear anywhere from the docs.\n",
        "\n",
        "Also, the docs suggest to \"Run a forward pass to get base model output\" but even in this simple case of CartPole, what does that mean?\n"
      ]
    },
    {
      "cell_type": "markdown",
      "metadata": {
        "id": "YTyuwH4L75dv",
        "colab_type": "text"
      },
      "source": [
        "---"
      ]
    },
    {
      "cell_type": "markdown",
      "metadata": {
        "id": "tI9vJ1vU6Mj1",
        "colab_type": "text"
      },
      "source": [
        "Now that we've trained a model, we can look at its resulting policy…"
      ]
    },
    {
      "cell_type": "code",
      "metadata": {
        "id": "NylH7aYqh72O",
        "colab_type": "code",
        "outputId": "54469bad-83d0-471c-c036-04d6ca2838d3",
        "colab": {
          "base_uri": "https://localhost:8080/",
          "height": 272
        }
      },
      "source": [
        "import pprint\n",
        "\n",
        "policy = trainer.get_policy()\n",
        "model = policy.model\n",
        "\n",
        "pprint.pprint(model.variables())\n",
        "pprint.pprint(model.value_function())"
      ],
      "execution_count": 0,
      "outputs": [
        {
          "output_type": "stream",
          "text": [
            "[<tf.Variable 'default_policy/fc_1/kernel:0' shape=(4, 256) dtype=float32>,\n",
            " <tf.Variable 'default_policy/fc_1/bias:0' shape=(256,) dtype=float32>,\n",
            " <tf.Variable 'default_policy/fc_out/kernel:0' shape=(256, 256) dtype=float32>,\n",
            " <tf.Variable 'default_policy/fc_out/bias:0' shape=(256,) dtype=float32>,\n",
            " <tf.Variable 'default_policy/value_out/kernel:0' shape=(256, 1) dtype=float32>,\n",
            " <tf.Variable 'default_policy/value_out/bias:0' shape=(1,) dtype=float32>,\n",
            " <tf.Variable 'default_policy/q_func/action_value/hidden_0/kernel:0' shape=(256, 256) dtype=float32>,\n",
            " <tf.Variable 'default_policy/q_func/action_value/hidden_0/bias:0' shape=(256,) dtype=float32>,\n",
            " <tf.Variable 'default_policy/q_func/action_value/dense/kernel:0' shape=(256, 2) dtype=float32>,\n",
            " <tf.Variable 'default_policy/q_func/action_value/dense/bias:0' shape=(2,) dtype=float32>,\n",
            " <tf.Variable 'default_policy/q_func/state_value/dense_1/kernel:0' shape=(256, 256) dtype=float32>,\n",
            " <tf.Variable 'default_policy/q_func/state_value/dense_1/bias:0' shape=(256,) dtype=float32>,\n",
            " <tf.Variable 'default_policy/q_func/state_value/dense_2/kernel:0' shape=(256, 1) dtype=float32>,\n",
            " <tf.Variable 'default_policy/q_func/state_value/dense_2/bias:0' shape=(1,) dtype=float32>]\n",
            "<tf.Tensor 'Reshape:0' shape=(?,) dtype=float32>\n"
          ],
          "name": "stdout"
        }
      ]
    },
    {
      "cell_type": "markdown",
      "metadata": {
        "id": "BDtMJfeASEYh",
        "colab_type": "text"
      },
      "source": [
        "## Set up the Pricing Polity Optimization environment simulator\n",
        "Now let's try a more complex reinforcement learning problem. This is a *pricing policy optimization* problem, based on the tutorial in [*Deep reinforcement learning for supply chain and price optimization*](https://blog.griddynamics.com/deep-reinforcement-learning-for-supply-chain-and-price-optimization/) by [Ilya Katsov](https://twitter.com/ikatsov)."
      ]
    },
    {
      "cell_type": "code",
      "metadata": {
        "id": "9qHPUM2bdjG4",
        "colab_type": "code",
        "colab": {}
      },
      "source": [
        "def plus (x):\n",
        "    return 0 if x < 0 else x\n",
        "\n",
        "def minus (x):\n",
        "    return 0 if x > 0 else -x\n",
        "\n",
        "def shock (x):\n",
        "    return np.sqrt(x)\n",
        "\n",
        "# Demand at time step t for current price p_t and previous price p_t_1\n",
        "def q_t (p_t, p_t_1, q_0, k, a, b):\n",
        "    return plus(q_0 - k*p_t - a*shock(plus(p_t - p_t_1)) + b*shock(minus(p_t - p_t_1)))\n",
        "\n",
        "# Profit at time step t\n",
        "def profit_t (p_t, p_t_1, q_0, k, a, b, unit_cost):\n",
        "    return q_t(p_t, p_t_1, q_0, k, a, b)*(p_t - unit_cost) \n",
        "\n",
        "# Total profit for price vector p over len(p) time steps\n",
        "def profit_total (p, unit_cost, q_0, k, a, b):\n",
        "    return profit_t(p[0], p[0], q_0, k, 0, 0, unit_cost) + sum(map(lambda t: profit_t(p[t], p[t-1], q_0, k, a, b, unit_cost), range(len(p))))\n",
        "\n",
        "## environment parameters\n",
        "T = 20\n",
        "price_max = 500\n",
        "price_step = 10\n",
        "q_0 = 5000\n",
        "k = 20\n",
        "unit_cost = 100\n",
        "a_q = 300\n",
        "b_q = 100\n",
        "\n",
        "## partial bindings for readability\n",
        "def profit_t_response (p_t, p_t_1):\n",
        "    return profit_t(p_t, p_t_1, q_0, k, a_q, b_q, unit_cost)\n",
        "\n",
        "def profit_response (p):\n",
        "    return profit_total(p, unit_cost, q_0, k, a_q, b_q)"
      ],
      "execution_count": 0,
      "outputs": []
    },
    {
      "cell_type": "markdown",
      "metadata": {
        "id": "pW3_V18I48I_",
        "colab_type": "text"
      },
      "source": [
        "## Baseline Solution\n",
        "Find a baseline solution based on the *optimal constant price*"
      ]
    },
    {
      "cell_type": "code",
      "metadata": {
        "id": "1zeXb4hVk8rk",
        "colab_type": "code",
        "outputId": "5c3e348c-5b10-4b87-bf00-43f3fe554371",
        "colab": {
          "base_uri": "https://localhost:8080/",
          "height": 34
        }
      },
      "source": [
        "import math\n",
        "import numpy as np\n",
        "\n",
        "price_grid = np.arange(price_step, price_max, price_step)\n",
        "price_change_grid = np.arange(0.5, 2.0, 0.1)\n",
        "profit_map = np.zeros((len(price_grid), len(price_change_grid)))\n",
        "\n",
        "for i in range(len(price_grid)):\n",
        "    for j in range(len(price_change_grid)):\n",
        "        profit_map[i,j] = profit_t_response(price_grid[i], price_grid[i]*price_change_grid[j])\n",
        "\n",
        "profits = np.array([ profit_response(np.repeat(p, T)) for p in price_grid ])\n",
        "p_idx = np.argmax(profits)\n",
        "price_opt_const = price_grid[p_idx]\n",
        "\n",
        "print(f\"optimal price is {price_opt_const}, achieved profit is {profits[p_idx]}\")"
      ],
      "execution_count": 0,
      "outputs": [
        {
          "output_type": "stream",
          "text": [
            "optimal price is 170, achieved profit is 2352000.0\n"
          ],
          "name": "stdout"
        }
      ]
    },
    {
      "cell_type": "markdown",
      "metadata": {
        "id": "iLFN0CnO41Wx",
        "colab_type": "text"
      },
      "source": [
        "## Visualize price-demand functions\n",
        "Temporarily, for reference: we could nix this and just point people to the original article for the visualization. In the very least, let's be sure to replace the `matplotlib` kludge and get better visualizations."
      ]
    },
    {
      "cell_type": "code",
      "metadata": {
        "id": "CmkHv1r8hjP2",
        "colab_type": "code",
        "outputId": "f76170c2-bffe-41fb-a692-ae423f9b36a0",
        "colab": {
          "base_uri": "https://localhost:8080/",
          "height": 351
        }
      },
      "source": [
        "import matplotlib\n",
        "import matplotlib.pyplot as plt\n",
        "\n",
        "plt.figure(figsize=(16, 5))\n",
        "\n",
        "for i in range(len(price_change_grid)):\n",
        "    if math.isclose(price_change_grid[i], 1.0):\n",
        "        color = 'red'\n",
        "    else:\n",
        "        color = (0.6, 0.3, price_change_grid[i] / 2.0)\n",
        "\n",
        "    plt.plot(price_grid, profit_map[:, i], c=color)\n",
        "  \n",
        "plt.xlabel(\"Price ($)\")\n",
        "plt.ylabel(\"Profit\")\n",
        "plt.legend(np.int_(np.round((1 - price_change_grid) * 100)), loc='lower right', title=\"Price change (%)\", fancybox=False, framealpha=0.6)"
      ],
      "execution_count": 0,
      "outputs": [
        {
          "output_type": "execute_result",
          "data": {
            "text/plain": [
              "<matplotlib.legend.Legend at 0x7f46ae22a898>"
            ]
          },
          "metadata": {
            "tags": []
          },
          "execution_count": 9
        },
        {
          "output_type": "display_data",
          "data": {
            "image/png": "[encoded data removed]",
            "text/plain": [
              "<Figure size 1152x360 with 1 Axes>"
            ]
          },
          "metadata": {
            "tags": []
          }
        }
      ]
    },
    {
      "cell_type": "markdown",
      "metadata": {
        "id": "S6hu1xVfVBzs",
        "colab_type": "text"
      },
      "source": [
        "## Wrap the simulation using Gym\n",
        "Next we'll wrap the price optimization simulation as a [Gym](https://gym.openai.com/) environment for the `DQNTrainer` to use…"
      ]
    },
    {
      "cell_type": "code",
      "metadata": {
        "id": "r-7vqqjwdMgq",
        "colab_type": "code",
        "colab": {}
      },
      "source": [
        "import gym\n",
        "from gym.spaces import Discrete, Box\n",
        "\n",
        "def env_intial_state ():\n",
        "    return np.repeat(0, 2*T)\n",
        "\n",
        "def env_step (t, state, action):\n",
        "    next_state = np.repeat(0, len(state))\n",
        "    next_state[0] = price_grid[action]\n",
        "    next_state[1:T] = state[0:T-1]\n",
        "    next_state[T+t] = 1\n",
        "    reward = profit_t_response(next_state[0], next_state[1])\n",
        "    return next_state, reward\n",
        "\n",
        "class HiLoPricingEnv (gym.Env):\n",
        "    def __init__ (self, config):\n",
        "        self.reset()\n",
        "        self.action_space = Discrete(len(price_grid))\n",
        "        self.observation_space = Box(0, 10000, shape=(2*T, ), dtype=np.float32)\n",
        "\n",
        "    def reset (self):\n",
        "        self.state = env_intial_state()\n",
        "        self.t = 0\n",
        "        return self.state\n",
        "\n",
        "    def step (self, action):\n",
        "        next_state, reward = env_step(self.t, self.state, action)\n",
        "        self.t += 1\n",
        "        self.state = next_state\n",
        "        return next_state, reward, self.t == T - 1, {}"
      ],
      "execution_count": 0,
      "outputs": []
    },
    {
      "cell_type": "markdown",
      "metadata": {
        "id": "wXdNlmXC8Sow",
        "colab_type": "text"
      },
      "source": [
        "# QUESTION:\n",
        "The Ray docs describe (vaguely, buried in a method PyDoc string) an external environment as having an *action space* and an *observation space*. Ideally, we'd break down the `HiLoPricingEnv` example to illustrate that. Will need better info first.\n",
        "\n",
        "BTW, trying to lookup the API reference for `ray.rllib.agents.dqn.DQNTrainer()` was **effing painful** -- either in the docs or the code.  Ideally we'd use that as a way to explore the `HiLoPricingEnv` environment as one of its parameters."
      ]
    },
    {
      "cell_type": "markdown",
      "metadata": {
        "id": "o5JWN9I59khM",
        "colab_type": "text"
      },
      "source": [
        "\n",
        "\n",
        "---\n",
        "\n"
      ]
    },
    {
      "cell_type": "markdown",
      "metadata": {
        "id": "852b97dmWBKt",
        "colab_type": "text"
      },
      "source": [
        "Now here's the long-running portion. This pricing optimization problem takes about 90 seconds per iteration on a Colab free instance with no GPU."
      ]
    },
    {
      "cell_type": "code",
      "metadata": {
        "id": "7sq90YxifPg3",
        "colab_type": "code",
        "outputId": "464006bc-448a-447e-ca49-3eeee8c7412a",
        "colab": {
          "base_uri": "https://localhost:8080/",
          "height": 224
        }
      },
      "source": [
        "ray.shutdown()\n",
        "ray.init()\n",
        "\n",
        "config = dqn.DEFAULT_CONFIG.copy()\n",
        "config[\"log_level\"] = \"WARN\"\n",
        "config[\"lr\"] = 0.002\n",
        "config[\"gamma\"] = 0.80\n",
        "config[\"train_batch_size\"] = 256\n",
        "config[\"buffer_size\"] = 10000\n",
        "config[\"timesteps_per_iteration\"] = 5000\n",
        "config[\"hiddens\"] = [128, 128, 128]\n",
        "config[\"exploration_final_eps\"] = 0.01\n",
        "\n",
        "trainer = dqn.DQNTrainer(config, HiLoPricingEnv)\n",
        "reward_history = train_dqn(trainer, num_iter=5)"
      ],
      "execution_count": 0,
      "outputs": [
        {
          "output_type": "stream",
          "text": [
            "2020-02-18 05:36:43,345\tWARNING services.py:592 -- setpgrp failed, processes may not be cleaned up properly: [Errno 1] Operation not permitted.\n",
            "2020-02-18 05:36:43,348\tINFO resource_spec.py:212 -- Starting Ray with 5.96 GiB memory available for workers and up to 3.0 GiB for objects. You can adjust these settings with ray.init(memory=<bytes>, object_store_memory=<bytes>).\n",
            "2020-02-18 05:36:43,716\tWARNING services.py:1080 -- Failed to start the dashboard. The dashboard requires Python 3 as well as 'pip install aiohttp psutil setproctitle grpcio'.\n",
            "/usr/local/lib/python3.6/dist-packages/gym/logger.py:30: UserWarning: \u001b[33mWARN: Box bound precision lowered by casting to float32\u001b[0m\n",
            "  warnings.warn(colorize('%s: %s'%('WARN', msg % args), 'yellow'))\n",
            "2020-02-18 05:36:49,886\tWARNING util.py:41 -- Install gputil for GPU system monitoring.\n"
          ],
          "name": "stderr"
        },
        {
          "output_type": "stream",
          "text": [
            "iter 0: max reward: 1384898.62\n",
            "iter 1: max reward: 2214795.09\n",
            "iter 2: max reward: 2685815.88\n",
            "iter 3: max reward: 2682022.56\n",
            "iter 4: max reward: 2692383.24\n"
          ],
          "name": "stdout"
        }
      ]
    },
    {
      "cell_type": "markdown",
      "metadata": {
        "id": "5IoR26E5WgUL",
        "colab_type": "text"
      },
      "source": [
        "## Let's check the results"
      ]
    },
    {
      "cell_type": "code",
      "metadata": {
        "id": "fP-HdPEx8IQd",
        "colab_type": "code",
        "outputId": "b4d7a84a-3a8c-4291-fd92-c57ab9a67ed0",
        "colab": {
          "base_uri": "https://localhost:8080/",
          "height": 34
        }
      },
      "source": [
        "print(reward_history)"
      ],
      "execution_count": 0,
      "outputs": [
        {
          "output_type": "stream",
          "text": [
            "[1384898.6218858943, 2214795.086645844, 2685815.8770742626, 2682022.5584791233, 2692383.238254121]\n"
          ],
          "name": "stdout"
        }
      ]
    },
    {
      "cell_type": "markdown",
      "metadata": {
        "id": "eSMA5aNC7D50",
        "colab_type": "text"
      },
      "source": [
        "# TODO: chart to show the convergence toward a goal, plotted versus the *optimal constant price* baseline.\n"
      ]
    },
    {
      "cell_type": "markdown",
      "metadata": {
        "id": "7eP4oxiJWlwB",
        "colab_type": "text"
      },
      "source": [
        "Converging toward a value of approximately `2700000.00` total profit is comparable with the `2352000.00` estimate from the *optimal constant price* baseline model."
      ]
    },
    {
      "cell_type": "markdown",
      "metadata": {
        "id": "7wLSowJcXJrH",
        "colab_type": "text"
      },
      "source": [
        "# QUESTION:\n",
        "How do we visualize the optimized pricing model? The baseline example above didn't show an approach that we could reuse for the RLlib results."
      ]
    },
    {
      "cell_type": "markdown",
      "metadata": {
        "id": "i-axrTAmCuZs",
        "colab_type": "text"
      },
      "source": [
        "\n",
        "\n",
        "---\n",
        "\n"
      ]
    },
    {
      "cell_type": "markdown",
      "metadata": {
        "id": "tOCj0uc0XXyR",
        "colab_type": "text"
      },
      "source": [
        "## Let's look into the details of the model…"
      ]
    },
    {
      "cell_type": "code",
      "metadata": {
        "id": "S-9HleIc9pkE",
        "colab_type": "code",
        "outputId": "62495602-0149-4c7e-8cc2-fc2a043fed89",
        "colab": {
          "base_uri": "https://localhost:8080/",
          "height": 408
        }
      },
      "source": [
        "policy = trainer.get_policy()\n",
        "model = policy.model\n",
        "\n",
        "pprint.pprint(model.variables())\n",
        "pprint.pprint(model.value_function())"
      ],
      "execution_count": 0,
      "outputs": [
        {
          "output_type": "stream",
          "text": [
            "[<tf.Variable 'default_policy/fc_1/kernel:0' shape=(40, 256) dtype=float32>,\n",
            " <tf.Variable 'default_policy/fc_1/bias:0' shape=(256,) dtype=float32>,\n",
            " <tf.Variable 'default_policy/fc_out/kernel:0' shape=(256, 256) dtype=float32>,\n",
            " <tf.Variable 'default_policy/fc_out/bias:0' shape=(256,) dtype=float32>,\n",
            " <tf.Variable 'default_policy/value_out/kernel:0' shape=(256, 1) dtype=float32>,\n",
            " <tf.Variable 'default_policy/value_out/bias:0' shape=(1,) dtype=float32>,\n",
            " <tf.Variable 'default_policy/q_func/action_value/hidden_0/kernel:0' shape=(256, 128) dtype=float32>,\n",
            " <tf.Variable 'default_policy/q_func/action_value/hidden_0/bias:0' shape=(128,) dtype=float32>,\n",
            " <tf.Variable 'default_policy/q_func/action_value/hidden_1/kernel:0' shape=(128, 128) dtype=float32>,\n",
            " <tf.Variable 'default_policy/q_func/action_value/hidden_1/bias:0' shape=(128,) dtype=float32>,\n",
            " <tf.Variable 'default_policy/q_func/action_value/hidden_2/kernel:0' shape=(128, 128) dtype=float32>,\n",
            " <tf.Variable 'default_policy/q_func/action_value/hidden_2/bias:0' shape=(128,) dtype=float32>,\n",
            " <tf.Variable 'default_policy/q_func/action_value/dense/kernel:0' shape=(128, 49) dtype=float32>,\n",
            " <tf.Variable 'default_policy/q_func/action_value/dense/bias:0' shape=(49,) dtype=float32>,\n",
            " <tf.Variable 'default_policy/q_func/state_value/dense_1/kernel:0' shape=(256, 128) dtype=float32>,\n",
            " <tf.Variable 'default_policy/q_func/state_value/dense_1/bias:0' shape=(128,) dtype=float32>,\n",
            " <tf.Variable 'default_policy/q_func/state_value/dense_2/kernel:0' shape=(128, 128) dtype=float32>,\n",
            " <tf.Variable 'default_policy/q_func/state_value/dense_2/bias:0' shape=(128,) dtype=float32>,\n",
            " <tf.Variable 'default_policy/q_func/state_value/dense_3/kernel:0' shape=(128, 128) dtype=float32>,\n",
            " <tf.Variable 'default_policy/q_func/state_value/dense_3/bias:0' shape=(128,) dtype=float32>,\n",
            " <tf.Variable 'default_policy/q_func/state_value/dense_4/kernel:0' shape=(128, 1) dtype=float32>,\n",
            " <tf.Variable 'default_policy/q_func/state_value/dense_4/bias:0' shape=(1,) dtype=float32>]\n",
            "<tf.Tensor 'Reshape:0' shape=(?,) dtype=float32>\n"
          ],
          "name": "stdout"
        }
      ]
    },
    {
      "cell_type": "code",
      "metadata": {
        "id": "QxLGf4eQGP9Q",
        "colab_type": "code",
        "outputId": "d9b20198-06cc-444d-bf20-25803c7e8486",
        "colab": {
          "base_uri": "https://localhost:8080/",
          "height": 289
        }
      },
      "source": [
        "model.base_model.summary()"
      ],
      "execution_count": 0,
      "outputs": [
        {
          "output_type": "stream",
          "text": [
            "Model: \"model\"\n",
            "__________________________________________________________________________________________________\n",
            "Layer (type)                    Output Shape         Param #     Connected to                     \n",
            "==================================================================================================\n",
            "observations (InputLayer)       [(None, 40)]         0                                            \n",
            "__________________________________________________________________________________________________\n",
            "fc_1 (Dense)                    (None, 256)          10496       observations[0][0]               \n",
            "__________________________________________________________________________________________________\n",
            "fc_out (Dense)                  (None, 256)          65792       fc_1[0][0]                       \n",
            "__________________________________________________________________________________________________\n",
            "value_out (Dense)               (None, 1)            257         fc_1[0][0]                       \n",
            "==================================================================================================\n",
            "Total params: 76,545\n",
            "Trainable params: 76,545\n",
            "Non-trainable params: 0\n",
            "__________________________________________________________________________________________________\n"
          ],
          "name": "stdout"
        }
      ]
    },
    {
      "cell_type": "code",
      "metadata": {
        "id": "oR-liIVOGZwC",
        "colab_type": "code",
        "outputId": "32171b01-d837-4d65-b9b4-176b0c623b77",
        "colab": {
          "base_uri": "https://localhost:8080/",
          "height": 527
        }
      },
      "source": [
        "# Access the Q value model (specific to DQN)\n",
        "model.q_value_head.summary()"
      ],
      "execution_count": 0,
      "outputs": [
        {
          "output_type": "stream",
          "text": [
            "Model: \"model_1\"\n",
            "__________________________________________________________________________________________________\n",
            "Layer (type)                    Output Shape         Param #     Connected to                     \n",
            "==================================================================================================\n",
            "model_out (InputLayer)          [(None, 256)]        0                                            \n",
            "__________________________________________________________________________________________________\n",
            "hidden_0 (Dense)                (None, 128)          32896       model_out[0][0]                  \n",
            "__________________________________________________________________________________________________\n",
            "hidden_1 (Dense)                (None, 128)          16512       hidden_0[0][0]                   \n",
            "__________________________________________________________________________________________________\n",
            "hidden_2 (Dense)                (None, 128)          16512       hidden_1[0][0]                   \n",
            "__________________________________________________________________________________________________\n",
            "dense (Dense)                   (None, 49)           6321        hidden_2[0][0]                   \n",
            "__________________________________________________________________________________________________\n",
            "tf_op_layer_default_policy/q_fu [(2,)]               0           dense[0][0]                      \n",
            "__________________________________________________________________________________________________\n",
            "tf_op_layer_default_policy/q_fu [(2,)]               0           dense[0][0]                      \n",
            "__________________________________________________________________________________________________\n",
            "tf_op_layer_default_policy/q_fu [(None, 49)]         0           tf_op_layer_default_policy/q_func\n",
            "__________________________________________________________________________________________________\n",
            "tf_op_layer_default_policy/q_fu [(None, 49)]         0           tf_op_layer_default_policy/q_func\n",
            "__________________________________________________________________________________________________\n",
            "tf_op_layer_default_policy/q_fu [(None, 49, 1)]      0           tf_op_layer_default_policy/q_func\n",
            "__________________________________________________________________________________________________\n",
            "tf_op_layer_default_policy/q_fu [(None, 49, 1)]      0           tf_op_layer_default_policy/q_func\n",
            "==================================================================================================\n",
            "Total params: 72,241\n",
            "Trainable params: 72,241\n",
            "Non-trainable params: 0\n",
            "__________________________________________________________________________________________________\n"
          ],
          "name": "stdout"
        }
      ]
    },
    {
      "cell_type": "code",
      "metadata": {
        "id": "rynSHX8jGpcO",
        "colab_type": "code",
        "outputId": "49be91a2-959d-4086-95c5-5ce478849e08",
        "colab": {
          "base_uri": "https://localhost:8080/",
          "height": 323
        }
      },
      "source": [
        "# Access the state value model (specific to DQN)\n",
        "model.state_value_head.summary()"
      ],
      "execution_count": 0,
      "outputs": [
        {
          "output_type": "stream",
          "text": [
            "Model: \"model_2\"\n",
            "_________________________________________________________________\n",
            "Layer (type)                 Output Shape              Param #   \n",
            "=================================================================\n",
            "model_out (InputLayer)       [(None, 256)]             0         \n",
            "_________________________________________________________________\n",
            "dense_1 (Dense)              (None, 128)               32896     \n",
            "_________________________________________________________________\n",
            "dense_2 (Dense)              (None, 128)               16512     \n",
            "_________________________________________________________________\n",
            "dense_3 (Dense)              (None, 128)               16512     \n",
            "_________________________________________________________________\n",
            "dense_4 (Dense)              (None, 1)                 129       \n",
            "=================================================================\n",
            "Total params: 66,049\n",
            "Trainable params: 66,049\n",
            "Non-trainable params: 0\n",
            "_________________________________________________________________\n"
          ],
          "name": "stdout"
        }
      ]
    }
  ]
}