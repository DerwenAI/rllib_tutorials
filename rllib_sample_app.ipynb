{
 "cells": [
  {
   "cell_type": "markdown",
   "metadata": {
    "colab_type": "text",
    "id": "JD0Eu7JWdVqY"
   },
   "source": [
    "# RLlib Sample Application"
   ]
  },
  {
   "cell_type": "code",
   "execution_count": 20,
   "metadata": {
    "colab": {
     "base_uri": "https://localhost:8080/",
     "height": 34
    },
    "colab_type": "code",
    "id": "GBpqp6zVdd2j",
    "outputId": "6208a6a8-eb65-4a72-9dc8-afcdfa45cee0",
    "scrolled": true
   },
   "outputs": [
    {
     "name": "stdout",
     "output_type": "stream",
     "text": [
      "\u001b[33mWARNING: Skipping pyarrow as it is not installed.\u001b[0m\n",
      "Requirement already satisfied: ray[tune] in /opt/anaconda3/lib/python3.7/site-packages (0.8.2)\n",
      "Requirement already satisfied: pyyaml in /opt/anaconda3/lib/python3.7/site-packages (from ray[tune]) (5.1.2)\n",
      "Requirement already satisfied: aiohttp in /opt/anaconda3/lib/python3.7/site-packages (from ray[tune]) (3.6.2)\n",
      "Requirement already satisfied: packaging in /opt/anaconda3/lib/python3.7/site-packages (from ray[tune]) (19.2)\n",
      "Requirement already satisfied: google in /opt/anaconda3/lib/python3.7/site-packages (from ray[tune]) (2.0.3)\n",
      "Requirement already satisfied: pytest in /opt/anaconda3/lib/python3.7/site-packages (from ray[tune]) (4.1.1)\n",
      "Requirement already satisfied: jsonschema in /opt/anaconda3/lib/python3.7/site-packages (from ray[tune]) (3.0.2)\n",
      "Requirement already satisfied: redis>=3.3.2 in /opt/anaconda3/lib/python3.7/site-packages (from ray[tune]) (3.3.11)\n",
      "Requirement already satisfied: six>=1.0.0 in /opt/anaconda3/lib/python3.7/site-packages (from ray[tune]) (1.12.0)\n",
      "Requirement already satisfied: protobuf>=3.8.0 in /opt/anaconda3/lib/python3.7/site-packages (from ray[tune]) (3.11.2)\n",
      "Requirement already satisfied: grpcio in /opt/anaconda3/lib/python3.7/site-packages (from ray[tune]) (1.26.0)\n",
      "Requirement already satisfied: cloudpickle in /opt/anaconda3/lib/python3.7/site-packages (from ray[tune]) (1.2.2)\n",
      "Requirement already satisfied: funcsigs in /opt/anaconda3/lib/python3.7/site-packages (from ray[tune]) (1.0.2)\n",
      "Requirement already satisfied: filelock in /opt/anaconda3/lib/python3.7/site-packages (from ray[tune]) (3.0.12)\n",
      "Requirement already satisfied: py-spy>=0.2.0 in /opt/anaconda3/lib/python3.7/site-packages (from ray[tune]) (0.3.3)\n",
      "Requirement already satisfied: colorama in /opt/anaconda3/lib/python3.7/site-packages (from ray[tune]) (0.4.1)\n",
      "Requirement already satisfied: numpy>=1.16 in /opt/anaconda3/lib/python3.7/site-packages (from ray[tune]) (1.18.1)\n",
      "Requirement already satisfied: click in /opt/anaconda3/lib/python3.7/site-packages (from ray[tune]) (7.0)\n",
      "Requirement already satisfied: tabulate; extra == \"tune\" in /opt/anaconda3/lib/python3.7/site-packages (from ray[tune]) (0.8.6)\n",
      "Requirement already satisfied: tensorboardX; extra == \"tune\" in /opt/anaconda3/lib/python3.7/site-packages (from ray[tune]) (1.9)\n",
      "Requirement already satisfied: chardet<4.0,>=2.0 in /opt/anaconda3/lib/python3.7/site-packages (from aiohttp->ray[tune]) (3.0.4)\n",
      "Requirement already satisfied: yarl<2.0,>=1.0 in /opt/anaconda3/lib/python3.7/site-packages (from aiohttp->ray[tune]) (1.4.2)\n",
      "Requirement already satisfied: attrs>=17.3.0 in /opt/anaconda3/lib/python3.7/site-packages (from aiohttp->ray[tune]) (19.2.0)\n",
      "Requirement already satisfied: async-timeout<4.0,>=3.0 in /opt/anaconda3/lib/python3.7/site-packages (from aiohttp->ray[tune]) (3.0.1)\n",
      "Requirement already satisfied: multidict<5.0,>=4.5 in /opt/anaconda3/lib/python3.7/site-packages (from aiohttp->ray[tune]) (4.7.5)\n",
      "Requirement already satisfied: pyparsing>=2.0.2 in /opt/anaconda3/lib/python3.7/site-packages (from packaging->ray[tune]) (2.3.1)\n",
      "Requirement already satisfied: beautifulsoup4 in /opt/anaconda3/lib/python3.7/site-packages (from google->ray[tune]) (4.8.0)\n",
      "Requirement already satisfied: atomicwrites>=1.0 in /opt/anaconda3/lib/python3.7/site-packages (from pytest->ray[tune]) (1.3.0)\n",
      "Requirement already satisfied: py>=1.5.0 in /opt/anaconda3/lib/python3.7/site-packages (from pytest->ray[tune]) (1.8.0)\n",
      "Requirement already satisfied: pluggy>=0.7 in /opt/anaconda3/lib/python3.7/site-packages (from pytest->ray[tune]) (0.13.0)\n",
      "Requirement already satisfied: setuptools in /opt/anaconda3/lib/python3.7/site-packages (from pytest->ray[tune]) (45.2.0)\n",
      "Requirement already satisfied: more-itertools>=4.0.0 in /opt/anaconda3/lib/python3.7/site-packages (from pytest->ray[tune]) (7.2.0)\n",
      "Requirement already satisfied: pyrsistent>=0.14.0 in /opt/anaconda3/lib/python3.7/site-packages (from jsonschema->ray[tune]) (0.15.4)\n",
      "Requirement already satisfied: idna>=2.0 in /opt/anaconda3/lib/python3.7/site-packages (from yarl<2.0,>=1.0->aiohttp->ray[tune]) (2.8)\n",
      "Requirement already satisfied: soupsieve>=1.2 in /opt/anaconda3/lib/python3.7/site-packages (from beautifulsoup4->google->ray[tune]) (1.9.3)\n",
      "Requirement already satisfied: importlib-metadata>=0.12; python_version < \"3.8\" in /opt/anaconda3/lib/python3.7/site-packages (from pluggy>=0.7->pytest->ray[tune]) (0.23)\n",
      "Requirement already satisfied: zipp>=0.5 in /opt/anaconda3/lib/python3.7/site-packages (from importlib-metadata>=0.12; python_version < \"3.8\"->pluggy>=0.7->pytest->ray[tune]) (0.6.0)\n",
      "Requirement already satisfied: lz4 in /opt/anaconda3/lib/python3.7/site-packages (3.0.2)\n"
     ]
    }
   ],
   "source": [
    "# this first code cell is a little magic to install Ray \n",
    "# properly, due to hardcoded limitations in TensorFlow\n",
    "\n",
    "!pip uninstall -y -q pyarrow\n",
    "!pip install -q ray[debug]\n",
    "!pip install ray[tune]\n",
    "!pip install lz4\n",
    "\n",
    "try:\n",
    "  %tensorflow_version 2.x\n",
    "except Exception:\n",
    "  pass"
   ]
  },
  {
   "cell_type": "markdown",
   "metadata": {},
   "source": [
    "Then we start Ray…"
   ]
  },
  {
   "cell_type": "code",
   "execution_count": 9,
   "metadata": {},
   "outputs": [
    {
     "name": "stderr",
     "output_type": "stream",
     "text": [
      "2020-03-05 16:26:05,159\tINFO resource_spec.py:212 -- Starting Ray with 3.47 GiB memory available for workers and up to 1.74 GiB for objects. You can adjust these settings with ray.init(memory=<bytes>, object_store_memory=<bytes>).\n",
      "2020-03-05 16:26:05,448\tINFO services.py:1078 -- View the Ray dashboard at \u001b[1m\u001b[32mlocalhost:8265\u001b[39m\u001b[22m\n"
     ]
    },
    {
     "data": {
      "text/plain": [
       "{'node_ip_address': '192.168.1.65',\n",
       " 'redis_address': '192.168.1.65:35051',\n",
       " 'object_store_address': '/tmp/ray/session_2020-03-05_16-26-05_143012_68388/sockets/plasma_store',\n",
       " 'raylet_socket_name': '/tmp/ray/session_2020-03-05_16-26-05_143012_68388/sockets/raylet',\n",
       " 'webui_url': 'localhost:8265',\n",
       " 'session_dir': '/tmp/ray/session_2020-03-05_16-26-05_143012_68388'}"
      ]
     },
     "execution_count": 9,
     "metadata": {},
     "output_type": "execute_result"
    }
   ],
   "source": [
    "import ray\n",
    "import ray.rllib.agents.ppo as ppo\n",
    "\n",
    "ray.shutdown()\n",
    "ray.init(ignore_reinit_error=True)"
   ]
  },
  {
   "cell_type": "markdown",
   "metadata": {},
   "source": [
    "After a successful launch, there should be a log output line that reads something to the effect of `View the Ray dashboard at localhost:8265` in which case open another browser tab for the Ray dashboard at <http://localhost:8265/>"
   ]
  },
  {
   "cell_type": "markdown",
   "metadata": {},
   "source": [
    "Next we'll train an RLlib policy with the `CartPole-v0` environment, which is a relatively simple and quick example. For more details about this problem, see the tutorial [*Cartpole - Introduction to Reinforcement Learning (DQN - Deep Q-Learning)*](https://towardsdatascience.com/cartpole-introduction-to-reinforcement-learning-ed0eb5b58288) by [Greg Surma](https://twitter.com/GSurma)."
   ]
  },
  {
   "cell_type": "code",
   "execution_count": 22,
   "metadata": {},
   "outputs": [
    {
     "name": "stderr",
     "output_type": "stream",
     "text": [
      "/opt/anaconda3/lib/python3.7/site-packages/ray/rllib/utils/from_config.py:134: YAMLLoadWarning: calling yaml.load() without Loader=... is deprecated, as the default Loader is unsafe. Please read https://msg.pyyaml.org/load for full details.\n",
      "  obj = yaml.load(type_)\n",
      "2020-03-05 16:52:57,522\tWARNING util.py:37 -- Install gputil for GPU system monitoring.\n"
     ]
    },
    {
     "name": "stdout",
     "output_type": "stream",
     "text": [
      "\u001b[2m\u001b[36m(pid=68816)\u001b[0m /opt/anaconda3/lib/python3.7/site-packages/ray/rllib/utils/from_config.py:134: YAMLLoadWarning: calling yaml.load() without Loader=... is deprecated, as the default Loader is unsafe. Please read https://msg.pyyaml.org/load for full details.\n",
      "\u001b[2m\u001b[36m(pid=68816)\u001b[0m   obj = yaml.load(type_)\n",
      "\u001b[2m\u001b[36m(pid=68815)\u001b[0m /opt/anaconda3/lib/python3.7/site-packages/ray/rllib/utils/from_config.py:134: YAMLLoadWarning: calling yaml.load() without Loader=... is deprecated, as the default Loader is unsafe. Please read https://msg.pyyaml.org/load for full details.\n",
      "\u001b[2m\u001b[36m(pid=68815)\u001b[0m   obj = yaml.load(type_)\n",
      "{'episode_reward_max': 71.0, 'episode_reward_min': 9.0, 'episode_reward_mean': 22.491525423728813, 'episode_len_mean': 22.491525423728813, 'episodes_this_iter': 177, 'policy_reward_min': {}, 'policy_reward_max': {}, 'policy_reward_mean': {}, 'custom_metrics': {}, 'hist_stats': {'episode_reward': [29.0, 15.0, 18.0, 13.0, 42.0, 15.0, 16.0, 22.0, 13.0, 18.0, 12.0, 23.0, 14.0, 17.0, 35.0, 14.0, 12.0, 14.0, 26.0, 27.0, 46.0, 16.0, 21.0, 71.0, 46.0, 17.0, 19.0, 17.0, 19.0, 11.0, 16.0, 23.0, 32.0, 19.0, 12.0, 20.0, 15.0, 19.0, 16.0, 16.0, 23.0, 23.0, 13.0, 16.0, 19.0, 14.0, 48.0, 29.0, 21.0, 12.0, 14.0, 9.0, 17.0, 15.0, 17.0, 16.0, 17.0, 21.0, 21.0, 32.0, 13.0, 10.0, 16.0, 13.0, 30.0, 45.0, 23.0, 13.0, 15.0, 54.0, 53.0, 12.0, 16.0, 43.0, 41.0, 22.0, 12.0, 17.0, 22.0, 18.0, 17.0, 25.0, 20.0, 18.0, 17.0, 17.0, 56.0, 26.0, 38.0, 20.0, 24.0, 22.0, 26.0, 27.0, 12.0, 19.0, 25.0, 22.0, 13.0, 18.0, 15.0, 34.0, 41.0, 16.0, 11.0, 17.0, 15.0, 32.0, 30.0, 12.0, 32.0, 20.0, 10.0, 11.0, 22.0, 45.0, 16.0, 20.0, 9.0, 29.0, 38.0, 30.0, 10.0, 16.0, 21.0, 25.0, 12.0, 24.0, 9.0, 27.0, 36.0, 56.0, 15.0, 11.0, 25.0, 47.0, 24.0, 15.0, 22.0, 22.0, 12.0, 25.0, 11.0, 14.0, 36.0, 21.0, 28.0, 23.0, 18.0, 48.0, 17.0, 50.0, 39.0, 26.0, 24.0, 22.0, 38.0, 16.0, 40.0, 14.0, 21.0, 21.0, 14.0, 10.0, 33.0, 16.0, 33.0, 20.0, 19.0, 17.0, 10.0, 11.0, 29.0, 17.0, 15.0, 19.0, 19.0], 'episode_lengths': [29, 15, 18, 13, 42, 15, 16, 22, 13, 18, 12, 23, 14, 17, 35, 14, 12, 14, 26, 27, 46, 16, 21, 71, 46, 17, 19, 17, 19, 11, 16, 23, 32, 19, 12, 20, 15, 19, 16, 16, 23, 23, 13, 16, 19, 14, 48, 29, 21, 12, 14, 9, 17, 15, 17, 16, 17, 21, 21, 32, 13, 10, 16, 13, 30, 45, 23, 13, 15, 54, 53, 12, 16, 43, 41, 22, 12, 17, 22, 18, 17, 25, 20, 18, 17, 17, 56, 26, 38, 20, 24, 22, 26, 27, 12, 19, 25, 22, 13, 18, 15, 34, 41, 16, 11, 17, 15, 32, 30, 12, 32, 20, 10, 11, 22, 45, 16, 20, 9, 29, 38, 30, 10, 16, 21, 25, 12, 24, 9, 27, 36, 56, 15, 11, 25, 47, 24, 15, 22, 22, 12, 25, 11, 14, 36, 21, 28, 23, 18, 48, 17, 50, 39, 26, 24, 22, 38, 16, 40, 14, 21, 21, 14, 10, 33, 16, 33, 20, 19, 17, 10, 11, 29, 17, 15, 19, 19]}, 'sampler_perf': {'mean_env_wait_ms': 0.05078170264505398, 'mean_processing_ms': 0.14032366306907643, 'mean_inference_ms': 0.6454033944614165}, 'off_policy_estimator': {}, 'info': {'num_steps_trained': 3968, 'num_steps_sampled': 4000, 'sample_time_ms': 4337.916, 'load_time_ms': 56.475, 'grad_time_ms': 2549.08, 'update_time_ms': 1151.686, 'learner': {'default_policy': {'cur_kl_coeff': 0.20000000298023224, 'cur_lr': 4.999999873689376e-05, 'total_loss': 88.06141, 'policy_loss': -0.046172477, 'vf_loss': 88.10109, 'vf_explained_var': 0.079090536, 'kl': 0.032316547, 'entropy': 0.66101414, 'entropy_coeff': 0.0}}}, 'timesteps_this_iter': 4000, 'done': False, 'timesteps_total': 4000, 'episodes_total': 177, 'training_iteration': 1, 'experiment_id': '5c3f7d53919545f685c5f1abebff0491', 'date': '2020-03-05_16-53-06', 'timestamp': 1583455986, 'time_this_iter_s': 8.137555122375488, 'time_total_s': 8.137555122375488, 'pid': 68388, 'hostname': 'derwen', 'node_ip': '192.168.1.65', 'config': {'num_workers': 2, 'num_envs_per_worker': 1, 'sample_batch_size': 200, 'batch_mode': 'truncate_episodes', 'num_gpus': 0, 'train_batch_size': 4000, 'model': {'conv_filters': None, 'conv_activation': 'relu', 'fcnet_activation': 'tanh', 'fcnet_hiddens': [256, 256], 'free_log_std': False, 'no_final_linear': False, 'vf_share_layers': True, 'use_lstm': False, 'max_seq_len': 20, 'lstm_cell_size': 256, 'lstm_use_prev_action_reward': False, 'state_shape': None, 'framestack': True, 'dim': 84, 'grayscale': False, 'zero_mean': True, 'custom_model': None, 'custom_action_dist': None, 'custom_options': {}, 'custom_preprocessor': None}, 'optimizer': {}, 'gamma': 0.99, 'horizon': None, 'soft_horizon': False, 'no_done_at_end': False, 'env_config': {}, 'env': 'CartPole-v0', 'normalize_actions': False, 'clip_rewards': None, 'clip_actions': True, 'preprocessor_pref': 'deepmind', 'lr': 5e-05, 'monitor': False, 'log_level': 'WARN', 'callbacks': {'on_episode_start': None, 'on_episode_step': None, 'on_episode_end': None, 'on_sample_end': None, 'on_train_result': None, 'on_postprocess_traj': None}, 'ignore_worker_failures': False, 'log_sys_usage': True, 'use_pytorch': False, 'eager': False, 'eager_tracing': False, 'no_eager_on_workers': False, 'explore': True, 'exploration_config': {'type': 'StochasticSampling'}, 'evaluation_interval': None, 'evaluation_num_episodes': 10, 'in_evaluation': False, 'evaluation_config': {}, 'evaluation_num_workers': 0, 'custom_eval_function': None, 'sample_async': False, 'observation_filter': 'NoFilter', 'synchronize_filters': True, 'tf_session_args': {'intra_op_parallelism_threads': 2, 'inter_op_parallelism_threads': 2, 'gpu_options': {'allow_growth': True}, 'log_device_placement': False, 'device_count': {'CPU': 1}, 'allow_soft_placement': True}, 'local_tf_session_args': {'intra_op_parallelism_threads': 8, 'inter_op_parallelism_threads': 8}, 'compress_observations': False, 'collect_metrics_timeout': 180, 'metrics_smoothing_episodes': 100, 'remote_worker_envs': False, 'remote_env_batch_wait_ms': 0, 'min_iter_time_s': 0, 'timesteps_per_iteration': 0, 'seed': None, 'num_cpus_per_worker': 1, 'num_gpus_per_worker': 0, 'custom_resources_per_worker': {}, 'num_cpus_for_driver': 1, 'memory': 0, 'object_store_memory': 0, 'memory_per_worker': 0, 'object_store_memory_per_worker': 0, 'input': 'sampler', 'input_evaluation': ['is', 'wis'], 'postprocess_inputs': False, 'shuffle_buffer_size': 0, 'output': None, 'output_compress_columns': ['obs', 'new_obs'], 'output_max_file_size': 67108864, 'multiagent': {'policies': {}, 'policy_mapping_fn': None, 'policies_to_train': None}, 'use_critic': True, 'use_gae': True, 'lambda': 1.0, 'kl_coeff': 0.2, 'sgd_minibatch_size': 128, 'shuffle_sequences': True, 'num_sgd_iter': 30, 'lr_schedule': None, 'vf_share_layers': False, 'vf_loss_coeff': 1.0, 'entropy_coeff': 0.0, 'entropy_coeff_schedule': None, 'clip_param': 0.3, 'vf_clip_param': 10.0, 'grad_clip': None, 'kl_target': 0.01, 'simple_optimizer': False}, 'time_since_restore': 8.137555122375488, 'timesteps_since_restore': 4000, 'iterations_since_restore': 1, 'perf': {'cpu_util_percent': 55.75384615384616, 'ram_util_percent': 76.19999999999999}, 'num_healthy_workers': 2}\n",
      "\n",
      "/tmp/ppo/checkpoint_1/checkpoint-1\n",
      "{'episode_reward_max': 153.0, 'episode_reward_min': 10.0, 'episode_reward_mean': 41.17, 'episode_len_mean': 41.17, 'episodes_this_iter': 92, 'policy_reward_min': {}, 'policy_reward_max': {}, 'policy_reward_mean': {}, 'custom_metrics': {}, 'hist_stats': {'episode_reward': [62.0, 12.0, 21.0, 33.0, 10.0, 13.0, 33.0, 43.0, 13.0, 99.0, 34.0, 60.0, 113.0, 105.0, 48.0, 23.0, 24.0, 77.0, 84.0, 43.0, 33.0, 49.0, 37.0, 49.0, 28.0, 13.0, 23.0, 26.0, 52.0, 53.0, 61.0, 19.0, 20.0, 46.0, 46.0, 60.0, 19.0, 13.0, 34.0, 28.0, 23.0, 37.0, 25.0, 86.0, 14.0, 50.0, 18.0, 34.0, 19.0, 13.0, 17.0, 59.0, 43.0, 32.0, 14.0, 36.0, 49.0, 56.0, 46.0, 22.0, 45.0, 31.0, 82.0, 27.0, 95.0, 47.0, 61.0, 46.0, 24.0, 67.0, 75.0, 41.0, 13.0, 62.0, 16.0, 46.0, 44.0, 14.0, 60.0, 75.0, 31.0, 153.0, 21.0, 15.0, 46.0, 19.0, 92.0, 16.0, 22.0, 76.0, 117.0, 49.0, 17.0, 10.0, 11.0, 29.0, 17.0, 15.0, 19.0, 19.0], 'episode_lengths': [62, 12, 21, 33, 10, 13, 33, 43, 13, 99, 34, 60, 113, 105, 48, 23, 24, 77, 84, 43, 33, 49, 37, 49, 28, 13, 23, 26, 52, 53, 61, 19, 20, 46, 46, 60, 19, 13, 34, 28, 23, 37, 25, 86, 14, 50, 18, 34, 19, 13, 17, 59, 43, 32, 14, 36, 49, 56, 46, 22, 45, 31, 82, 27, 95, 47, 61, 46, 24, 67, 75, 41, 13, 62, 16, 46, 44, 14, 60, 75, 31, 153, 21, 15, 46, 19, 92, 16, 22, 76, 117, 49, 17, 10, 11, 29, 17, 15, 19, 19]}, 'sampler_perf': {'mean_env_wait_ms': 0.05224178972114579, 'mean_processing_ms': 0.13925645753725877, 'mean_inference_ms': 0.6574827373357625}, 'off_policy_estimator': {}, 'info': {'num_steps_trained': 7936, 'num_steps_sampled': 8000, 'sample_time_ms': 3048.862, 'load_time_ms': 28.882, 'grad_time_ms': 2463.902, 'update_time_ms': 577.785, 'learner': {'default_policy': {'cur_kl_coeff': 0.30000001192092896, 'cur_lr': 4.999999873689376e-05, 'total_loss': 229.88199, 'policy_loss': -0.030392569, 'vf_loss': 229.90627, 'vf_explained_var': 0.1773213, 'kl': 0.020367859, 'entropy': 0.603174, 'entropy_coeff': 0.0}}}, 'timesteps_this_iter': 4000, 'done': False, 'timesteps_total': 8000, 'episodes_total': 269, 'training_iteration': 2, 'experiment_id': '5c3f7d53919545f685c5f1abebff0491', 'date': '2020-03-05_16-53-10', 'timestamp': 1583455990, 'time_this_iter_s': 4.147197246551514, 'time_total_s': 12.284752368927002, 'pid': 68388, 'hostname': 'derwen', 'node_ip': '192.168.1.65', 'config': {'num_workers': 2, 'num_envs_per_worker': 1, 'sample_batch_size': 200, 'batch_mode': 'truncate_episodes', 'num_gpus': 0, 'train_batch_size': 4000, 'model': {'conv_filters': None, 'conv_activation': 'relu', 'fcnet_activation': 'tanh', 'fcnet_hiddens': [256, 256], 'free_log_std': False, 'no_final_linear': False, 'vf_share_layers': True, 'use_lstm': False, 'max_seq_len': 20, 'lstm_cell_size': 256, 'lstm_use_prev_action_reward': False, 'state_shape': None, 'framestack': True, 'dim': 84, 'grayscale': False, 'zero_mean': True, 'custom_model': None, 'custom_action_dist': None, 'custom_options': {}, 'custom_preprocessor': None}, 'optimizer': {}, 'gamma': 0.99, 'horizon': None, 'soft_horizon': False, 'no_done_at_end': False, 'env_config': {}, 'env': 'CartPole-v0', 'normalize_actions': False, 'clip_rewards': None, 'clip_actions': True, 'preprocessor_pref': 'deepmind', 'lr': 5e-05, 'monitor': False, 'log_level': 'WARN', 'callbacks': {'on_episode_start': None, 'on_episode_step': None, 'on_episode_end': None, 'on_sample_end': None, 'on_train_result': None, 'on_postprocess_traj': None}, 'ignore_worker_failures': False, 'log_sys_usage': True, 'use_pytorch': False, 'eager': False, 'eager_tracing': False, 'no_eager_on_workers': False, 'explore': True, 'exploration_config': {'type': 'StochasticSampling'}, 'evaluation_interval': None, 'evaluation_num_episodes': 10, 'in_evaluation': False, 'evaluation_config': {}, 'evaluation_num_workers': 0, 'custom_eval_function': None, 'sample_async': False, 'observation_filter': 'NoFilter', 'synchronize_filters': True, 'tf_session_args': {'intra_op_parallelism_threads': 2, 'inter_op_parallelism_threads': 2, 'gpu_options': {'allow_growth': True}, 'log_device_placement': False, 'device_count': {'CPU': 1}, 'allow_soft_placement': True}, 'local_tf_session_args': {'intra_op_parallelism_threads': 8, 'inter_op_parallelism_threads': 8}, 'compress_observations': False, 'collect_metrics_timeout': 180, 'metrics_smoothing_episodes': 100, 'remote_worker_envs': False, 'remote_env_batch_wait_ms': 0, 'min_iter_time_s': 0, 'timesteps_per_iteration': 0, 'seed': None, 'num_cpus_per_worker': 1, 'num_gpus_per_worker': 0, 'custom_resources_per_worker': {}, 'num_cpus_for_driver': 1, 'memory': 0, 'object_store_memory': 0, 'memory_per_worker': 0, 'object_store_memory_per_worker': 0, 'input': 'sampler', 'input_evaluation': ['is', 'wis'], 'postprocess_inputs': False, 'shuffle_buffer_size': 0, 'output': None, 'output_compress_columns': ['obs', 'new_obs'], 'output_max_file_size': 67108864, 'multiagent': {'policies': {}, 'policy_mapping_fn': None, 'policies_to_train': None}, 'use_critic': True, 'use_gae': True, 'lambda': 1.0, 'kl_coeff': 0.2, 'sgd_minibatch_size': 128, 'shuffle_sequences': True, 'num_sgd_iter': 30, 'lr_schedule': None, 'vf_share_layers': False, 'vf_loss_coeff': 1.0, 'entropy_coeff': 0.0, 'entropy_coeff_schedule': None, 'clip_param': 0.3, 'vf_clip_param': 10.0, 'grad_clip': None, 'kl_target': 0.01, 'simple_optimizer': False}, 'time_since_restore': 12.284752368927002, 'timesteps_since_restore': 8000, 'iterations_since_restore': 2, 'perf': {'cpu_util_percent': 49.46666666666666, 'ram_util_percent': 76.53333333333335}, 'num_healthy_workers': 2}\n",
      "\n",
      "/tmp/ppo/checkpoint_2/checkpoint-2\n"
     ]
    },
    {
     "name": "stdout",
     "output_type": "stream",
     "text": [
      "{'episode_reward_max': 200.0, 'episode_reward_min': 12.0, 'episode_reward_mean': 64.75, 'episode_len_mean': 64.75, 'episodes_this_iter': 41, 'policy_reward_min': {}, 'policy_reward_max': {}, 'policy_reward_mean': {}, 'custom_metrics': {}, 'hist_stats': {'episode_reward': [141.0, 156.0, 166.0, 69.0, 142.0, 149.0, 106.0, 31.0, 59.0, 52.0, 55.0, 64.0, 109.0, 112.0, 110.0, 200.0, 44.0, 154.0, 58.0, 41.0, 106.0, 130.0, 12.0, 135.0, 76.0, 113.0, 66.0, 39.0, 59.0, 89.0, 71.0, 200.0, 19.0, 94.0, 194.0, 31.0, 200.0, 106.0, 20.0, 103.0, 27.0, 46.0, 46.0, 60.0, 19.0, 13.0, 34.0, 28.0, 23.0, 37.0, 25.0, 86.0, 14.0, 50.0, 18.0, 34.0, 19.0, 13.0, 17.0, 59.0, 43.0, 32.0, 14.0, 36.0, 49.0, 56.0, 46.0, 22.0, 45.0, 31.0, 82.0, 27.0, 95.0, 47.0, 61.0, 46.0, 24.0, 67.0, 75.0, 41.0, 13.0, 62.0, 16.0, 46.0, 44.0, 14.0, 60.0, 75.0, 31.0, 153.0, 21.0, 15.0, 46.0, 19.0, 92.0, 16.0, 22.0, 76.0, 117.0, 49.0], 'episode_lengths': [141, 156, 166, 69, 142, 149, 106, 31, 59, 52, 55, 64, 109, 112, 110, 200, 44, 154, 58, 41, 106, 130, 12, 135, 76, 113, 66, 39, 59, 89, 71, 200, 19, 94, 194, 31, 200, 106, 20, 103, 27, 46, 46, 60, 19, 13, 34, 28, 23, 37, 25, 86, 14, 50, 18, 34, 19, 13, 17, 59, 43, 32, 14, 36, 49, 56, 46, 22, 45, 31, 82, 27, 95, 47, 61, 46, 24, 67, 75, 41, 13, 62, 16, 46, 44, 14, 60, 75, 31, 153, 21, 15, 46, 19, 92, 16, 22, 76, 117, 49]}, 'sampler_perf': {'mean_env_wait_ms': 0.0528157846639132, 'mean_processing_ms': 0.13722447455975806, 'mean_inference_ms': 0.6571803144985214}, 'off_policy_estimator': {}, 'info': {'num_steps_trained': 11904, 'num_steps_sampled': 12000, 'sample_time_ms': 2592.859, 'load_time_ms': 19.67, 'grad_time_ms': 2430.09, 'update_time_ms': 386.374, 'learner': {'default_policy': {'cur_kl_coeff': 0.44999998807907104, 'cur_lr': 4.999999873689376e-05, 'total_loss': 469.10925, 'policy_loss': -0.018121583, 'vf_loss': 469.12265, 'vf_explained_var': 0.19383909, 'kl': 0.010595964, 'entropy': 0.5641842, 'entropy_coeff': 0.0}}}, 'timesteps_this_iter': 4000, 'done': False, 'timesteps_total': 12000, 'episodes_total': 310, 'training_iteration': 3, 'experiment_id': '5c3f7d53919545f685c5f1abebff0491', 'date': '2020-03-05_16-53-14', 'timestamp': 1583455994, 'time_this_iter_s': 4.052365779876709, 'time_total_s': 16.33711814880371, 'pid': 68388, 'hostname': 'derwen', 'node_ip': '192.168.1.65', 'config': {'num_workers': 2, 'num_envs_per_worker': 1, 'sample_batch_size': 200, 'batch_mode': 'truncate_episodes', 'num_gpus': 0, 'train_batch_size': 4000, 'model': {'conv_filters': None, 'conv_activation': 'relu', 'fcnet_activation': 'tanh', 'fcnet_hiddens': [256, 256], 'free_log_std': False, 'no_final_linear': False, 'vf_share_layers': True, 'use_lstm': False, 'max_seq_len': 20, 'lstm_cell_size': 256, 'lstm_use_prev_action_reward': False, 'state_shape': None, 'framestack': True, 'dim': 84, 'grayscale': False, 'zero_mean': True, 'custom_model': None, 'custom_action_dist': None, 'custom_options': {}, 'custom_preprocessor': None}, 'optimizer': {}, 'gamma': 0.99, 'horizon': None, 'soft_horizon': False, 'no_done_at_end': False, 'env_config': {}, 'env': 'CartPole-v0', 'normalize_actions': False, 'clip_rewards': None, 'clip_actions': True, 'preprocessor_pref': 'deepmind', 'lr': 5e-05, 'monitor': False, 'log_level': 'WARN', 'callbacks': {'on_episode_start': None, 'on_episode_step': None, 'on_episode_end': None, 'on_sample_end': None, 'on_train_result': None, 'on_postprocess_traj': None}, 'ignore_worker_failures': False, 'log_sys_usage': True, 'use_pytorch': False, 'eager': False, 'eager_tracing': False, 'no_eager_on_workers': False, 'explore': True, 'exploration_config': {'type': 'StochasticSampling'}, 'evaluation_interval': None, 'evaluation_num_episodes': 10, 'in_evaluation': False, 'evaluation_config': {}, 'evaluation_num_workers': 0, 'custom_eval_function': None, 'sample_async': False, 'observation_filter': 'NoFilter', 'synchronize_filters': True, 'tf_session_args': {'intra_op_parallelism_threads': 2, 'inter_op_parallelism_threads': 2, 'gpu_options': {'allow_growth': True}, 'log_device_placement': False, 'device_count': {'CPU': 1}, 'allow_soft_placement': True}, 'local_tf_session_args': {'intra_op_parallelism_threads': 8, 'inter_op_parallelism_threads': 8}, 'compress_observations': False, 'collect_metrics_timeout': 180, 'metrics_smoothing_episodes': 100, 'remote_worker_envs': False, 'remote_env_batch_wait_ms': 0, 'min_iter_time_s': 0, 'timesteps_per_iteration': 0, 'seed': None, 'num_cpus_per_worker': 1, 'num_gpus_per_worker': 0, 'custom_resources_per_worker': {}, 'num_cpus_for_driver': 1, 'memory': 0, 'object_store_memory': 0, 'memory_per_worker': 0, 'object_store_memory_per_worker': 0, 'input': 'sampler', 'input_evaluation': ['is', 'wis'], 'postprocess_inputs': False, 'shuffle_buffer_size': 0, 'output': None, 'output_compress_columns': ['obs', 'new_obs'], 'output_max_file_size': 67108864, 'multiagent': {'policies': {}, 'policy_mapping_fn': None, 'policies_to_train': None}, 'use_critic': True, 'use_gae': True, 'lambda': 1.0, 'kl_coeff': 0.2, 'sgd_minibatch_size': 128, 'shuffle_sequences': True, 'num_sgd_iter': 30, 'lr_schedule': None, 'vf_share_layers': False, 'vf_loss_coeff': 1.0, 'entropy_coeff': 0.0, 'entropy_coeff_schedule': None, 'clip_param': 0.3, 'vf_clip_param': 10.0, 'grad_clip': None, 'kl_target': 0.01, 'simple_optimizer': False}, 'time_since_restore': 16.33711814880371, 'timesteps_since_restore': 12000, 'iterations_since_restore': 3, 'perf': {'cpu_util_percent': 43.160000000000004, 'ram_util_percent': 77.4}, 'num_healthy_workers': 2}\n",
      "\n",
      "/tmp/ppo/checkpoint_3/checkpoint-3\n",
      "{'episode_reward_max': 200.0, 'episode_reward_min': 12.0, 'episode_reward_mean': 97.57, 'episode_len_mean': 97.57, 'episodes_this_iter': 23, 'policy_reward_min': {}, 'policy_reward_max': {}, 'policy_reward_mean': {}, 'custom_metrics': {}, 'hist_stats': {'episode_reward': [200.0, 200.0, 200.0, 200.0, 169.0, 180.0, 166.0, 200.0, 161.0, 162.0, 162.0, 137.0, 200.0, 200.0, 179.0, 200.0, 86.0, 99.0, 200.0, 200.0, 148.0, 199.0, 200.0, 49.0, 56.0, 46.0, 22.0, 45.0, 31.0, 82.0, 27.0, 95.0, 47.0, 61.0, 46.0, 24.0, 67.0, 75.0, 41.0, 13.0, 62.0, 16.0, 46.0, 44.0, 14.0, 60.0, 75.0, 31.0, 153.0, 21.0, 15.0, 46.0, 19.0, 92.0, 16.0, 22.0, 76.0, 117.0, 49.0, 141.0, 156.0, 166.0, 69.0, 142.0, 149.0, 106.0, 31.0, 59.0, 52.0, 55.0, 64.0, 109.0, 112.0, 110.0, 200.0, 44.0, 154.0, 58.0, 41.0, 106.0, 130.0, 12.0, 135.0, 76.0, 113.0, 66.0, 39.0, 59.0, 89.0, 71.0, 200.0, 19.0, 94.0, 194.0, 31.0, 200.0, 106.0, 20.0, 103.0, 27.0], 'episode_lengths': [200, 200, 200, 200, 169, 180, 166, 200, 161, 162, 162, 137, 200, 200, 179, 200, 86, 99, 200, 200, 148, 199, 200, 49, 56, 46, 22, 45, 31, 82, 27, 95, 47, 61, 46, 24, 67, 75, 41, 13, 62, 16, 46, 44, 14, 60, 75, 31, 153, 21, 15, 46, 19, 92, 16, 22, 76, 117, 49, 141, 156, 166, 69, 142, 149, 106, 31, 59, 52, 55, 64, 109, 112, 110, 200, 44, 154, 58, 41, 106, 130, 12, 135, 76, 113, 66, 39, 59, 89, 71, 200, 19, 94, 194, 31, 200, 106, 20, 103, 27]}, 'sampler_perf': {'mean_env_wait_ms': 0.053112007968486294, 'mean_processing_ms': 0.1358048290070832, 'mean_inference_ms': 0.6568081525206837}, 'off_policy_estimator': {}, 'info': {'num_steps_trained': 15872, 'num_steps_sampled': 16000, 'sample_time_ms': 2378.758, 'load_time_ms': 15.028, 'grad_time_ms': 2394.948, 'update_time_ms': 290.737, 'learner': {'default_policy': {'cur_kl_coeff': 0.44999998807907104, 'cur_lr': 4.999999873689376e-05, 'total_loss': 545.2862, 'policy_loss': -0.004235552, 'vf_loss': 545.28906, 'vf_explained_var': 0.3247331, 'kl': 0.002959793, 'entropy': 0.5695381, 'entropy_coeff': 0.0}}}, 'timesteps_this_iter': 4000, 'done': False, 'timesteps_total': 16000, 'episodes_total': 333, 'training_iteration': 4, 'experiment_id': '5c3f7d53919545f685c5f1abebff0491', 'date': '2020-03-05_16-53-18', 'timestamp': 1583455998, 'time_this_iter_s': 4.034029006958008, 'time_total_s': 20.37114715576172, 'pid': 68388, 'hostname': 'derwen', 'node_ip': '192.168.1.65', 'config': {'num_workers': 2, 'num_envs_per_worker': 1, 'sample_batch_size': 200, 'batch_mode': 'truncate_episodes', 'num_gpus': 0, 'train_batch_size': 4000, 'model': {'conv_filters': None, 'conv_activation': 'relu', 'fcnet_activation': 'tanh', 'fcnet_hiddens': [256, 256], 'free_log_std': False, 'no_final_linear': False, 'vf_share_layers': True, 'use_lstm': False, 'max_seq_len': 20, 'lstm_cell_size': 256, 'lstm_use_prev_action_reward': False, 'state_shape': None, 'framestack': True, 'dim': 84, 'grayscale': False, 'zero_mean': True, 'custom_model': None, 'custom_action_dist': None, 'custom_options': {}, 'custom_preprocessor': None}, 'optimizer': {}, 'gamma': 0.99, 'horizon': None, 'soft_horizon': False, 'no_done_at_end': False, 'env_config': {}, 'env': 'CartPole-v0', 'normalize_actions': False, 'clip_rewards': None, 'clip_actions': True, 'preprocessor_pref': 'deepmind', 'lr': 5e-05, 'monitor': False, 'log_level': 'WARN', 'callbacks': {'on_episode_start': None, 'on_episode_step': None, 'on_episode_end': None, 'on_sample_end': None, 'on_train_result': None, 'on_postprocess_traj': None}, 'ignore_worker_failures': False, 'log_sys_usage': True, 'use_pytorch': False, 'eager': False, 'eager_tracing': False, 'no_eager_on_workers': False, 'explore': True, 'exploration_config': {'type': 'StochasticSampling'}, 'evaluation_interval': None, 'evaluation_num_episodes': 10, 'in_evaluation': False, 'evaluation_config': {}, 'evaluation_num_workers': 0, 'custom_eval_function': None, 'sample_async': False, 'observation_filter': 'NoFilter', 'synchronize_filters': True, 'tf_session_args': {'intra_op_parallelism_threads': 2, 'inter_op_parallelism_threads': 2, 'gpu_options': {'allow_growth': True}, 'log_device_placement': False, 'device_count': {'CPU': 1}, 'allow_soft_placement': True}, 'local_tf_session_args': {'intra_op_parallelism_threads': 8, 'inter_op_parallelism_threads': 8}, 'compress_observations': False, 'collect_metrics_timeout': 180, 'metrics_smoothing_episodes': 100, 'remote_worker_envs': False, 'remote_env_batch_wait_ms': 0, 'min_iter_time_s': 0, 'timesteps_per_iteration': 0, 'seed': None, 'num_cpus_per_worker': 1, 'num_gpus_per_worker': 0, 'custom_resources_per_worker': {}, 'num_cpus_for_driver': 1, 'memory': 0, 'object_store_memory': 0, 'memory_per_worker': 0, 'object_store_memory_per_worker': 0, 'input': 'sampler', 'input_evaluation': ['is', 'wis'], 'postprocess_inputs': False, 'shuffle_buffer_size': 0, 'output': None, 'output_compress_columns': ['obs', 'new_obs'], 'output_max_file_size': 67108864, 'multiagent': {'policies': {}, 'policy_mapping_fn': None, 'policies_to_train': None}, 'use_critic': True, 'use_gae': True, 'lambda': 1.0, 'kl_coeff': 0.2, 'sgd_minibatch_size': 128, 'shuffle_sequences': True, 'num_sgd_iter': 30, 'lr_schedule': None, 'vf_share_layers': False, 'vf_loss_coeff': 1.0, 'entropy_coeff': 0.0, 'entropy_coeff_schedule': None, 'clip_param': 0.3, 'vf_clip_param': 10.0, 'grad_clip': None, 'kl_target': 0.01, 'simple_optimizer': False}, 'time_since_restore': 20.37114715576172, 'timesteps_since_restore': 16000, 'iterations_since_restore': 4, 'perf': {'cpu_util_percent': 62.949999999999996, 'ram_util_percent': 78.51666666666665}, 'num_healthy_workers': 2}\n",
      "\n",
      "/tmp/ppo/checkpoint_4/checkpoint-4\n"
     ]
    },
    {
     "name": "stdout",
     "output_type": "stream",
     "text": [
      "{'episode_reward_max': 200.0, 'episode_reward_min': 12.0, 'episode_reward_mean': 125.95, 'episode_len_mean': 125.95, 'episodes_this_iter': 23, 'policy_reward_min': {}, 'policy_reward_max': {}, 'policy_reward_mean': {}, 'custom_metrics': {}, 'hist_stats': {'episode_reward': [151.0, 200.0, 200.0, 200.0, 200.0, 200.0, 67.0, 200.0, 83.0, 200.0, 154.0, 67.0, 200.0, 200.0, 170.0, 200.0, 200.0, 200.0, 111.0, 200.0, 177.0, 127.0, 200.0, 75.0, 31.0, 153.0, 21.0, 15.0, 46.0, 19.0, 92.0, 16.0, 22.0, 76.0, 117.0, 49.0, 141.0, 156.0, 166.0, 69.0, 142.0, 149.0, 106.0, 31.0, 59.0, 52.0, 55.0, 64.0, 109.0, 112.0, 110.0, 200.0, 44.0, 154.0, 58.0, 41.0, 106.0, 130.0, 12.0, 135.0, 76.0, 113.0, 66.0, 39.0, 59.0, 89.0, 71.0, 200.0, 19.0, 94.0, 194.0, 31.0, 200.0, 106.0, 20.0, 103.0, 27.0, 200.0, 200.0, 200.0, 200.0, 169.0, 180.0, 166.0, 200.0, 161.0, 162.0, 162.0, 137.0, 200.0, 200.0, 179.0, 200.0, 86.0, 99.0, 200.0, 200.0, 148.0, 199.0, 200.0], 'episode_lengths': [151, 200, 200, 200, 200, 200, 67, 200, 83, 200, 154, 67, 200, 200, 170, 200, 200, 200, 111, 200, 177, 127, 200, 75, 31, 153, 21, 15, 46, 19, 92, 16, 22, 76, 117, 49, 141, 156, 166, 69, 142, 149, 106, 31, 59, 52, 55, 64, 109, 112, 110, 200, 44, 154, 58, 41, 106, 130, 12, 135, 76, 113, 66, 39, 59, 89, 71, 200, 19, 94, 194, 31, 200, 106, 20, 103, 27, 200, 200, 200, 200, 169, 180, 166, 200, 161, 162, 162, 137, 200, 200, 179, 200, 86, 99, 200, 200, 148, 199, 200]}, 'sampler_perf': {'mean_env_wait_ms': 0.05348362815337824, 'mean_processing_ms': 0.1347180428753923, 'mean_inference_ms': 0.6561825597278919}, 'off_policy_estimator': {}, 'info': {'num_steps_trained': 19840, 'num_steps_sampled': 20000, 'sample_time_ms': 2246.779, 'load_time_ms': 12.24, 'grad_time_ms': 2347.174, 'update_time_ms': 233.324, 'learner': {'default_policy': {'cur_kl_coeff': 0.22499999403953552, 'cur_lr': 4.999999873689376e-05, 'total_loss': 281.36987, 'policy_loss': -0.007690133, 'vf_loss': 281.3767, 'vf_explained_var': 0.39001864, 'kl': 0.003637231, 'entropy': 0.55165523, 'entropy_coeff': 0.0}}}, 'timesteps_this_iter': 4000, 'done': False, 'timesteps_total': 20000, 'episodes_total': 356, 'training_iteration': 5, 'experiment_id': '5c3f7d53919545f685c5f1abebff0491', 'date': '2020-03-05_16-53-22', 'timestamp': 1583456002, 'time_this_iter_s': 3.8827719688415527, 'time_total_s': 24.25391912460327, 'pid': 68388, 'hostname': 'derwen', 'node_ip': '192.168.1.65', 'config': {'num_workers': 2, 'num_envs_per_worker': 1, 'sample_batch_size': 200, 'batch_mode': 'truncate_episodes', 'num_gpus': 0, 'train_batch_size': 4000, 'model': {'conv_filters': None, 'conv_activation': 'relu', 'fcnet_activation': 'tanh', 'fcnet_hiddens': [256, 256], 'free_log_std': False, 'no_final_linear': False, 'vf_share_layers': True, 'use_lstm': False, 'max_seq_len': 20, 'lstm_cell_size': 256, 'lstm_use_prev_action_reward': False, 'state_shape': None, 'framestack': True, 'dim': 84, 'grayscale': False, 'zero_mean': True, 'custom_model': None, 'custom_action_dist': None, 'custom_options': {}, 'custom_preprocessor': None}, 'optimizer': {}, 'gamma': 0.99, 'horizon': None, 'soft_horizon': False, 'no_done_at_end': False, 'env_config': {}, 'env': 'CartPole-v0', 'normalize_actions': False, 'clip_rewards': None, 'clip_actions': True, 'preprocessor_pref': 'deepmind', 'lr': 5e-05, 'monitor': False, 'log_level': 'WARN', 'callbacks': {'on_episode_start': None, 'on_episode_step': None, 'on_episode_end': None, 'on_sample_end': None, 'on_train_result': None, 'on_postprocess_traj': None}, 'ignore_worker_failures': False, 'log_sys_usage': True, 'use_pytorch': False, 'eager': False, 'eager_tracing': False, 'no_eager_on_workers': False, 'explore': True, 'exploration_config': {'type': 'StochasticSampling'}, 'evaluation_interval': None, 'evaluation_num_episodes': 10, 'in_evaluation': False, 'evaluation_config': {}, 'evaluation_num_workers': 0, 'custom_eval_function': None, 'sample_async': False, 'observation_filter': 'NoFilter', 'synchronize_filters': True, 'tf_session_args': {'intra_op_parallelism_threads': 2, 'inter_op_parallelism_threads': 2, 'gpu_options': {'allow_growth': True}, 'log_device_placement': False, 'device_count': {'CPU': 1}, 'allow_soft_placement': True}, 'local_tf_session_args': {'intra_op_parallelism_threads': 8, 'inter_op_parallelism_threads': 8}, 'compress_observations': False, 'collect_metrics_timeout': 180, 'metrics_smoothing_episodes': 100, 'remote_worker_envs': False, 'remote_env_batch_wait_ms': 0, 'min_iter_time_s': 0, 'timesteps_per_iteration': 0, 'seed': None, 'num_cpus_per_worker': 1, 'num_gpus_per_worker': 0, 'custom_resources_per_worker': {}, 'num_cpus_for_driver': 1, 'memory': 0, 'object_store_memory': 0, 'memory_per_worker': 0, 'object_store_memory_per_worker': 0, 'input': 'sampler', 'input_evaluation': ['is', 'wis'], 'postprocess_inputs': False, 'shuffle_buffer_size': 0, 'output': None, 'output_compress_columns': ['obs', 'new_obs'], 'output_max_file_size': 67108864, 'multiagent': {'policies': {}, 'policy_mapping_fn': None, 'policies_to_train': None}, 'use_critic': True, 'use_gae': True, 'lambda': 1.0, 'kl_coeff': 0.2, 'sgd_minibatch_size': 128, 'shuffle_sequences': True, 'num_sgd_iter': 30, 'lr_schedule': None, 'vf_share_layers': False, 'vf_loss_coeff': 1.0, 'entropy_coeff': 0.0, 'entropy_coeff_schedule': None, 'clip_param': 0.3, 'vf_clip_param': 10.0, 'grad_clip': None, 'kl_target': 0.01, 'simple_optimizer': False}, 'time_since_restore': 24.25391912460327, 'timesteps_since_restore': 20000, 'iterations_since_restore': 5, 'perf': {'cpu_util_percent': 73.26666666666667, 'ram_util_percent': 78.66666666666667}, 'num_healthy_workers': 2}\n",
      "\n",
      "/tmp/ppo/checkpoint_5/checkpoint-5\n",
      "{'episode_reward_max': 200.0, 'episode_reward_min': 12.0, 'episode_reward_mean': 148.87, 'episode_len_mean': 148.87, 'episodes_this_iter': 20, 'policy_reward_min': {}, 'policy_reward_max': {}, 'policy_reward_mean': {}, 'custom_metrics': {}, 'hist_stats': {'episode_reward': [200.0, 200.0, 200.0, 174.0, 200.0, 200.0, 200.0, 200.0, 200.0, 200.0, 200.0, 200.0, 200.0, 200.0, 200.0, 200.0, 200.0, 194.0, 185.0, 200.0, 31.0, 59.0, 52.0, 55.0, 64.0, 109.0, 112.0, 110.0, 200.0, 44.0, 154.0, 58.0, 41.0, 106.0, 130.0, 12.0, 135.0, 76.0, 113.0, 66.0, 39.0, 59.0, 89.0, 71.0, 200.0, 19.0, 94.0, 194.0, 31.0, 200.0, 106.0, 20.0, 103.0, 27.0, 200.0, 200.0, 200.0, 200.0, 169.0, 180.0, 166.0, 200.0, 161.0, 162.0, 162.0, 137.0, 200.0, 200.0, 179.0, 200.0, 86.0, 99.0, 200.0, 200.0, 148.0, 199.0, 200.0, 151.0, 200.0, 200.0, 200.0, 200.0, 200.0, 67.0, 200.0, 83.0, 200.0, 154.0, 67.0, 200.0, 200.0, 170.0, 200.0, 200.0, 200.0, 111.0, 200.0, 177.0, 127.0, 200.0], 'episode_lengths': [200, 200, 200, 174, 200, 200, 200, 200, 200, 200, 200, 200, 200, 200, 200, 200, 200, 194, 185, 200, 31, 59, 52, 55, 64, 109, 112, 110, 200, 44, 154, 58, 41, 106, 130, 12, 135, 76, 113, 66, 39, 59, 89, 71, 200, 19, 94, 194, 31, 200, 106, 20, 103, 27, 200, 200, 200, 200, 169, 180, 166, 200, 161, 162, 162, 137, 200, 200, 179, 200, 86, 99, 200, 200, 148, 199, 200, 151, 200, 200, 200, 200, 200, 67, 200, 83, 200, 154, 67, 200, 200, 170, 200, 200, 200, 111, 200, 177, 127, 200]}, 'sampler_perf': {'mean_env_wait_ms': 0.05356877661158137, 'mean_processing_ms': 0.13328585272033572, 'mean_inference_ms': 0.655577710308483}, 'off_policy_estimator': {}, 'info': {'num_steps_trained': 23808, 'num_steps_sampled': 24000, 'sample_time_ms': 2144.097, 'load_time_ms': 10.493, 'grad_time_ms': 2342.928, 'update_time_ms': 195.126, 'learner': {'default_policy': {'cur_kl_coeff': 0.11249999701976776, 'cur_lr': 4.999999873689376e-05, 'total_loss': 275.84427, 'policy_loss': -0.010220979, 'vf_loss': 275.85352, 'vf_explained_var': 0.40723214, 'kl': 0.008291644, 'entropy': 0.54970366, 'entropy_coeff': 0.0}}}, 'timesteps_this_iter': 4000, 'done': False, 'timesteps_total': 24000, 'episodes_total': 376, 'training_iteration': 6, 'experiment_id': '5c3f7d53919545f685c5f1abebff0491', 'date': '2020-03-05_16-53-26', 'timestamp': 1583456006, 'time_this_iter_s': 3.9636337757110596, 'time_total_s': 28.21755290031433, 'pid': 68388, 'hostname': 'derwen', 'node_ip': '192.168.1.65', 'config': {'num_workers': 2, 'num_envs_per_worker': 1, 'sample_batch_size': 200, 'batch_mode': 'truncate_episodes', 'num_gpus': 0, 'train_batch_size': 4000, 'model': {'conv_filters': None, 'conv_activation': 'relu', 'fcnet_activation': 'tanh', 'fcnet_hiddens': [256, 256], 'free_log_std': False, 'no_final_linear': False, 'vf_share_layers': True, 'use_lstm': False, 'max_seq_len': 20, 'lstm_cell_size': 256, 'lstm_use_prev_action_reward': False, 'state_shape': None, 'framestack': True, 'dim': 84, 'grayscale': False, 'zero_mean': True, 'custom_model': None, 'custom_action_dist': None, 'custom_options': {}, 'custom_preprocessor': None}, 'optimizer': {}, 'gamma': 0.99, 'horizon': None, 'soft_horizon': False, 'no_done_at_end': False, 'env_config': {}, 'env': 'CartPole-v0', 'normalize_actions': False, 'clip_rewards': None, 'clip_actions': True, 'preprocessor_pref': 'deepmind', 'lr': 5e-05, 'monitor': False, 'log_level': 'WARN', 'callbacks': {'on_episode_start': None, 'on_episode_step': None, 'on_episode_end': None, 'on_sample_end': None, 'on_train_result': None, 'on_postprocess_traj': None}, 'ignore_worker_failures': False, 'log_sys_usage': True, 'use_pytorch': False, 'eager': False, 'eager_tracing': False, 'no_eager_on_workers': False, 'explore': True, 'exploration_config': {'type': 'StochasticSampling'}, 'evaluation_interval': None, 'evaluation_num_episodes': 10, 'in_evaluation': False, 'evaluation_config': {}, 'evaluation_num_workers': 0, 'custom_eval_function': None, 'sample_async': False, 'observation_filter': 'NoFilter', 'synchronize_filters': True, 'tf_session_args': {'intra_op_parallelism_threads': 2, 'inter_op_parallelism_threads': 2, 'gpu_options': {'allow_growth': True}, 'log_device_placement': False, 'device_count': {'CPU': 1}, 'allow_soft_placement': True}, 'local_tf_session_args': {'intra_op_parallelism_threads': 8, 'inter_op_parallelism_threads': 8}, 'compress_observations': False, 'collect_metrics_timeout': 180, 'metrics_smoothing_episodes': 100, 'remote_worker_envs': False, 'remote_env_batch_wait_ms': 0, 'min_iter_time_s': 0, 'timesteps_per_iteration': 0, 'seed': None, 'num_cpus_per_worker': 1, 'num_gpus_per_worker': 0, 'custom_resources_per_worker': {}, 'num_cpus_for_driver': 1, 'memory': 0, 'object_store_memory': 0, 'memory_per_worker': 0, 'object_store_memory_per_worker': 0, 'input': 'sampler', 'input_evaluation': ['is', 'wis'], 'postprocess_inputs': False, 'shuffle_buffer_size': 0, 'output': None, 'output_compress_columns': ['obs', 'new_obs'], 'output_max_file_size': 67108864, 'multiagent': {'policies': {}, 'policy_mapping_fn': None, 'policies_to_train': None}, 'use_critic': True, 'use_gae': True, 'lambda': 1.0, 'kl_coeff': 0.2, 'sgd_minibatch_size': 128, 'shuffle_sequences': True, 'num_sgd_iter': 30, 'lr_schedule': None, 'vf_share_layers': False, 'vf_loss_coeff': 1.0, 'entropy_coeff': 0.0, 'entropy_coeff_schedule': None, 'clip_param': 0.3, 'vf_clip_param': 10.0, 'grad_clip': None, 'kl_target': 0.01, 'simple_optimizer': False}, 'time_since_restore': 28.21755290031433, 'timesteps_since_restore': 24000, 'iterations_since_restore': 6, 'perf': {'cpu_util_percent': 73.35999999999999, 'ram_util_percent': 78.96000000000001}, 'num_healthy_workers': 2}\n",
      "\n",
      "/tmp/ppo/checkpoint_6/checkpoint-6\n"
     ]
    },
    {
     "name": "stdout",
     "output_type": "stream",
     "text": [
      "{'episode_reward_max': 200.0, 'episode_reward_min': 19.0, 'episode_reward_mean': 171.65, 'episode_len_mean': 171.65, 'episodes_this_iter': 21, 'policy_reward_min': {}, 'policy_reward_max': {}, 'policy_reward_mean': {}, 'custom_metrics': {}, 'hist_stats': {'episode_reward': [200.0, 200.0, 200.0, 200.0, 200.0, 200.0, 200.0, 200.0, 200.0, 200.0, 200.0, 200.0, 200.0, 200.0, 200.0, 125.0, 119.0, 200.0, 200.0, 200.0, 200.0, 59.0, 89.0, 71.0, 200.0, 19.0, 94.0, 194.0, 31.0, 200.0, 106.0, 20.0, 103.0, 27.0, 200.0, 200.0, 200.0, 200.0, 169.0, 180.0, 166.0, 200.0, 161.0, 162.0, 162.0, 137.0, 200.0, 200.0, 179.0, 200.0, 86.0, 99.0, 200.0, 200.0, 148.0, 199.0, 200.0, 151.0, 200.0, 200.0, 200.0, 200.0, 200.0, 67.0, 200.0, 83.0, 200.0, 154.0, 67.0, 200.0, 200.0, 170.0, 200.0, 200.0, 200.0, 111.0, 200.0, 177.0, 127.0, 200.0, 200.0, 200.0, 200.0, 174.0, 200.0, 200.0, 200.0, 200.0, 200.0, 200.0, 200.0, 200.0, 200.0, 200.0, 200.0, 200.0, 200.0, 194.0, 185.0, 200.0], 'episode_lengths': [200, 200, 200, 200, 200, 200, 200, 200, 200, 200, 200, 200, 200, 200, 200, 125, 119, 200, 200, 200, 200, 59, 89, 71, 200, 19, 94, 194, 31, 200, 106, 20, 103, 27, 200, 200, 200, 200, 169, 180, 166, 200, 161, 162, 162, 137, 200, 200, 179, 200, 86, 99, 200, 200, 148, 199, 200, 151, 200, 200, 200, 200, 200, 67, 200, 83, 200, 154, 67, 200, 200, 170, 200, 200, 200, 111, 200, 177, 127, 200, 200, 200, 200, 174, 200, 200, 200, 200, 200, 200, 200, 200, 200, 200, 200, 200, 200, 194, 185, 200]}, 'sampler_perf': {'mean_env_wait_ms': 0.053440166355606694, 'mean_processing_ms': 0.1319908405815193, 'mean_inference_ms': 0.6554379923658266}, 'off_policy_estimator': {}, 'info': {'num_steps_trained': 27776, 'num_steps_sampled': 28000, 'sample_time_ms': 2075.872, 'load_time_ms': 9.176, 'grad_time_ms': 2324.079, 'update_time_ms': 167.759, 'learner': {'default_policy': {'cur_kl_coeff': 0.11249999701976776, 'cur_lr': 4.999999873689376e-05, 'total_loss': 408.67062, 'policy_loss': -0.0022978485, 'vf_loss': 408.6723, 'vf_explained_var': 0.24097036, 'kl': 0.0051487577, 'entropy': 0.51672447, 'entropy_coeff': 0.0}}}, 'timesteps_this_iter': 4000, 'done': False, 'timesteps_total': 28000, 'episodes_total': 397, 'training_iteration': 7, 'experiment_id': '5c3f7d53919545f685c5f1abebff0491', 'date': '2020-03-05_16-53-30', 'timestamp': 1583456010, 'time_this_iter_s': 3.8853700160980225, 'time_total_s': 32.10292291641235, 'pid': 68388, 'hostname': 'derwen', 'node_ip': '192.168.1.65', 'config': {'num_workers': 2, 'num_envs_per_worker': 1, 'sample_batch_size': 200, 'batch_mode': 'truncate_episodes', 'num_gpus': 0, 'train_batch_size': 4000, 'model': {'conv_filters': None, 'conv_activation': 'relu', 'fcnet_activation': 'tanh', 'fcnet_hiddens': [256, 256], 'free_log_std': False, 'no_final_linear': False, 'vf_share_layers': True, 'use_lstm': False, 'max_seq_len': 20, 'lstm_cell_size': 256, 'lstm_use_prev_action_reward': False, 'state_shape': None, 'framestack': True, 'dim': 84, 'grayscale': False, 'zero_mean': True, 'custom_model': None, 'custom_action_dist': None, 'custom_options': {}, 'custom_preprocessor': None}, 'optimizer': {}, 'gamma': 0.99, 'horizon': None, 'soft_horizon': False, 'no_done_at_end': False, 'env_config': {}, 'env': 'CartPole-v0', 'normalize_actions': False, 'clip_rewards': None, 'clip_actions': True, 'preprocessor_pref': 'deepmind', 'lr': 5e-05, 'monitor': False, 'log_level': 'WARN', 'callbacks': {'on_episode_start': None, 'on_episode_step': None, 'on_episode_end': None, 'on_sample_end': None, 'on_train_result': None, 'on_postprocess_traj': None}, 'ignore_worker_failures': False, 'log_sys_usage': True, 'use_pytorch': False, 'eager': False, 'eager_tracing': False, 'no_eager_on_workers': False, 'explore': True, 'exploration_config': {'type': 'StochasticSampling'}, 'evaluation_interval': None, 'evaluation_num_episodes': 10, 'in_evaluation': False, 'evaluation_config': {}, 'evaluation_num_workers': 0, 'custom_eval_function': None, 'sample_async': False, 'observation_filter': 'NoFilter', 'synchronize_filters': True, 'tf_session_args': {'intra_op_parallelism_threads': 2, 'inter_op_parallelism_threads': 2, 'gpu_options': {'allow_growth': True}, 'log_device_placement': False, 'device_count': {'CPU': 1}, 'allow_soft_placement': True}, 'local_tf_session_args': {'intra_op_parallelism_threads': 8, 'inter_op_parallelism_threads': 8}, 'compress_observations': False, 'collect_metrics_timeout': 180, 'metrics_smoothing_episodes': 100, 'remote_worker_envs': False, 'remote_env_batch_wait_ms': 0, 'min_iter_time_s': 0, 'timesteps_per_iteration': 0, 'seed': None, 'num_cpus_per_worker': 1, 'num_gpus_per_worker': 0, 'custom_resources_per_worker': {}, 'num_cpus_for_driver': 1, 'memory': 0, 'object_store_memory': 0, 'memory_per_worker': 0, 'object_store_memory_per_worker': 0, 'input': 'sampler', 'input_evaluation': ['is', 'wis'], 'postprocess_inputs': False, 'shuffle_buffer_size': 0, 'output': None, 'output_compress_columns': ['obs', 'new_obs'], 'output_max_file_size': 67108864, 'multiagent': {'policies': {}, 'policy_mapping_fn': None, 'policies_to_train': None}, 'use_critic': True, 'use_gae': True, 'lambda': 1.0, 'kl_coeff': 0.2, 'sgd_minibatch_size': 128, 'shuffle_sequences': True, 'num_sgd_iter': 30, 'lr_schedule': None, 'vf_share_layers': False, 'vf_loss_coeff': 1.0, 'entropy_coeff': 0.0, 'entropy_coeff_schedule': None, 'clip_param': 0.3, 'vf_clip_param': 10.0, 'grad_clip': None, 'kl_target': 0.01, 'simple_optimizer': False}, 'time_since_restore': 32.10292291641235, 'timesteps_since_restore': 28000, 'iterations_since_restore': 7, 'perf': {'cpu_util_percent': 49.54999999999999, 'ram_util_percent': 78.55000000000001}, 'num_healthy_workers': 2}\n",
      "\n",
      "/tmp/ppo/checkpoint_7/checkpoint-7\n",
      "{'episode_reward_max': 200.0, 'episode_reward_min': 67.0, 'episode_reward_mean': 185.78, 'episode_len_mean': 185.78, 'episodes_this_iter': 20, 'policy_reward_min': {}, 'policy_reward_max': {}, 'policy_reward_mean': {}, 'custom_metrics': {}, 'hist_stats': {'episode_reward': [200.0, 200.0, 200.0, 200.0, 200.0, 200.0, 200.0, 200.0, 141.0, 200.0, 200.0, 200.0, 200.0, 200.0, 200.0, 200.0, 200.0, 200.0, 200.0, 200.0, 200.0, 161.0, 162.0, 162.0, 137.0, 200.0, 200.0, 179.0, 200.0, 86.0, 99.0, 200.0, 200.0, 148.0, 199.0, 200.0, 151.0, 200.0, 200.0, 200.0, 200.0, 200.0, 67.0, 200.0, 83.0, 200.0, 154.0, 67.0, 200.0, 200.0, 170.0, 200.0, 200.0, 200.0, 111.0, 200.0, 177.0, 127.0, 200.0, 200.0, 200.0, 200.0, 174.0, 200.0, 200.0, 200.0, 200.0, 200.0, 200.0, 200.0, 200.0, 200.0, 200.0, 200.0, 200.0, 200.0, 194.0, 185.0, 200.0, 200.0, 200.0, 200.0, 200.0, 200.0, 200.0, 200.0, 200.0, 200.0, 200.0, 200.0, 200.0, 200.0, 200.0, 200.0, 125.0, 119.0, 200.0, 200.0, 200.0, 200.0], 'episode_lengths': [200, 200, 200, 200, 200, 200, 200, 200, 141, 200, 200, 200, 200, 200, 200, 200, 200, 200, 200, 200, 200, 161, 162, 162, 137, 200, 200, 179, 200, 86, 99, 200, 200, 148, 199, 200, 151, 200, 200, 200, 200, 200, 67, 200, 83, 200, 154, 67, 200, 200, 170, 200, 200, 200, 111, 200, 177, 127, 200, 200, 200, 200, 174, 200, 200, 200, 200, 200, 200, 200, 200, 200, 200, 200, 200, 200, 194, 185, 200, 200, 200, 200, 200, 200, 200, 200, 200, 200, 200, 200, 200, 200, 200, 200, 125, 119, 200, 200, 200, 200]}, 'sampler_perf': {'mean_env_wait_ms': 0.05340238284523718, 'mean_processing_ms': 0.131213481454827, 'mean_inference_ms': 0.6543567720832157}, 'off_policy_estimator': {}, 'info': {'num_steps_trained': 31744, 'num_steps_sampled': 32000, 'sample_time_ms': 2027.535, 'load_time_ms': 8.175, 'grad_time_ms': 2309.149, 'update_time_ms': 147.203, 'learner': {'default_policy': {'cur_kl_coeff': 0.11249999701976776, 'cur_lr': 4.999999873689376e-05, 'total_loss': 319.2258, 'policy_loss': -0.0031755273, 'vf_loss': 319.2287, 'vf_explained_var': 0.3922667, 'kl': 0.002812422, 'entropy': 0.5443046, 'entropy_coeff': 0.0}}}, 'timesteps_this_iter': 4000, 'done': False, 'timesteps_total': 32000, 'episodes_total': 417, 'training_iteration': 8, 'experiment_id': '5c3f7d53919545f685c5f1abebff0491', 'date': '2020-03-05_16-53-34', 'timestamp': 1583456014, 'time_this_iter_s': 3.9014649391174316, 'time_total_s': 36.004387855529785, 'pid': 68388, 'hostname': 'derwen', 'node_ip': '192.168.1.65', 'config': {'num_workers': 2, 'num_envs_per_worker': 1, 'sample_batch_size': 200, 'batch_mode': 'truncate_episodes', 'num_gpus': 0, 'train_batch_size': 4000, 'model': {'conv_filters': None, 'conv_activation': 'relu', 'fcnet_activation': 'tanh', 'fcnet_hiddens': [256, 256], 'free_log_std': False, 'no_final_linear': False, 'vf_share_layers': True, 'use_lstm': False, 'max_seq_len': 20, 'lstm_cell_size': 256, 'lstm_use_prev_action_reward': False, 'state_shape': None, 'framestack': True, 'dim': 84, 'grayscale': False, 'zero_mean': True, 'custom_model': None, 'custom_action_dist': None, 'custom_options': {}, 'custom_preprocessor': None}, 'optimizer': {}, 'gamma': 0.99, 'horizon': None, 'soft_horizon': False, 'no_done_at_end': False, 'env_config': {}, 'env': 'CartPole-v0', 'normalize_actions': False, 'clip_rewards': None, 'clip_actions': True, 'preprocessor_pref': 'deepmind', 'lr': 5e-05, 'monitor': False, 'log_level': 'WARN', 'callbacks': {'on_episode_start': None, 'on_episode_step': None, 'on_episode_end': None, 'on_sample_end': None, 'on_train_result': None, 'on_postprocess_traj': None}, 'ignore_worker_failures': False, 'log_sys_usage': True, 'use_pytorch': False, 'eager': False, 'eager_tracing': False, 'no_eager_on_workers': False, 'explore': True, 'exploration_config': {'type': 'StochasticSampling'}, 'evaluation_interval': None, 'evaluation_num_episodes': 10, 'in_evaluation': False, 'evaluation_config': {}, 'evaluation_num_workers': 0, 'custom_eval_function': None, 'sample_async': False, 'observation_filter': 'NoFilter', 'synchronize_filters': True, 'tf_session_args': {'intra_op_parallelism_threads': 2, 'inter_op_parallelism_threads': 2, 'gpu_options': {'allow_growth': True}, 'log_device_placement': False, 'device_count': {'CPU': 1}, 'allow_soft_placement': True}, 'local_tf_session_args': {'intra_op_parallelism_threads': 8, 'inter_op_parallelism_threads': 8}, 'compress_observations': False, 'collect_metrics_timeout': 180, 'metrics_smoothing_episodes': 100, 'remote_worker_envs': False, 'remote_env_batch_wait_ms': 0, 'min_iter_time_s': 0, 'timesteps_per_iteration': 0, 'seed': None, 'num_cpus_per_worker': 1, 'num_gpus_per_worker': 0, 'custom_resources_per_worker': {}, 'num_cpus_for_driver': 1, 'memory': 0, 'object_store_memory': 0, 'memory_per_worker': 0, 'object_store_memory_per_worker': 0, 'input': 'sampler', 'input_evaluation': ['is', 'wis'], 'postprocess_inputs': False, 'shuffle_buffer_size': 0, 'output': None, 'output_compress_columns': ['obs', 'new_obs'], 'output_max_file_size': 67108864, 'multiagent': {'policies': {}, 'policy_mapping_fn': None, 'policies_to_train': None}, 'use_critic': True, 'use_gae': True, 'lambda': 1.0, 'kl_coeff': 0.2, 'sgd_minibatch_size': 128, 'shuffle_sequences': True, 'num_sgd_iter': 30, 'lr_schedule': None, 'vf_share_layers': False, 'vf_loss_coeff': 1.0, 'entropy_coeff': 0.0, 'entropy_coeff_schedule': None, 'clip_param': 0.3, 'vf_clip_param': 10.0, 'grad_clip': None, 'kl_target': 0.01, 'simple_optimizer': False}, 'time_since_restore': 36.004387855529785, 'timesteps_since_restore': 32000, 'iterations_since_restore': 8, 'perf': {'cpu_util_percent': 73.0, 'ram_util_percent': 78.51666666666667}, 'num_healthy_workers': 2}\n",
      "\n",
      "/tmp/ppo/checkpoint_8/checkpoint-8\n"
     ]
    },
    {
     "name": "stdout",
     "output_type": "stream",
     "text": [
      "{'episode_reward_max': 200.0, 'episode_reward_min': 67.0, 'episode_reward_mean': 190.94, 'episode_len_mean': 190.94, 'episodes_this_iter': 20, 'policy_reward_min': {}, 'policy_reward_max': {}, 'policy_reward_mean': {}, 'custom_metrics': {}, 'hist_stats': {'episode_reward': [200.0, 200.0, 200.0, 200.0, 200.0, 200.0, 200.0, 200.0, 200.0, 200.0, 200.0, 200.0, 200.0, 200.0, 200.0, 200.0, 200.0, 200.0, 200.0, 200.0, 200.0, 200.0, 67.0, 200.0, 83.0, 200.0, 154.0, 67.0, 200.0, 200.0, 170.0, 200.0, 200.0, 200.0, 111.0, 200.0, 177.0, 127.0, 200.0, 200.0, 200.0, 200.0, 174.0, 200.0, 200.0, 200.0, 200.0, 200.0, 200.0, 200.0, 200.0, 200.0, 200.0, 200.0, 200.0, 200.0, 194.0, 185.0, 200.0, 200.0, 200.0, 200.0, 200.0, 200.0, 200.0, 200.0, 200.0, 200.0, 200.0, 200.0, 200.0, 200.0, 200.0, 200.0, 125.0, 119.0, 200.0, 200.0, 200.0, 200.0, 200.0, 200.0, 200.0, 200.0, 200.0, 200.0, 200.0, 200.0, 141.0, 200.0, 200.0, 200.0, 200.0, 200.0, 200.0, 200.0, 200.0, 200.0, 200.0, 200.0], 'episode_lengths': [200, 200, 200, 200, 200, 200, 200, 200, 200, 200, 200, 200, 200, 200, 200, 200, 200, 200, 200, 200, 200, 200, 67, 200, 83, 200, 154, 67, 200, 200, 170, 200, 200, 200, 111, 200, 177, 127, 200, 200, 200, 200, 174, 200, 200, 200, 200, 200, 200, 200, 200, 200, 200, 200, 200, 200, 194, 185, 200, 200, 200, 200, 200, 200, 200, 200, 200, 200, 200, 200, 200, 200, 200, 200, 125, 119, 200, 200, 200, 200, 200, 200, 200, 200, 200, 200, 200, 200, 141, 200, 200, 200, 200, 200, 200, 200, 200, 200, 200, 200]}, 'sampler_perf': {'mean_env_wait_ms': 0.05332143534113763, 'mean_processing_ms': 0.13047522142544754, 'mean_inference_ms': 0.6530236963214385}, 'off_policy_estimator': {}, 'info': {'num_steps_trained': 35712, 'num_steps_sampled': 36000, 'sample_time_ms': 1987.361, 'load_time_ms': 7.39, 'grad_time_ms': 2293.915, 'update_time_ms': 131.243, 'learner': {'default_policy': {'cur_kl_coeff': 0.05624999850988388, 'cur_lr': 4.999999873689376e-05, 'total_loss': 288.19507, 'policy_loss': -0.0064251088, 'vf_loss': 288.20108, 'vf_explained_var': 0.5019983, 'kl': 0.007406348, 'entropy': 0.51984, 'entropy_coeff': 0.0}}}, 'timesteps_this_iter': 4000, 'done': False, 'timesteps_total': 36000, 'episodes_total': 437, 'training_iteration': 9, 'experiment_id': '5c3f7d53919545f685c5f1abebff0491', 'date': '2020-03-05_16-53-37', 'timestamp': 1583456017, 'time_this_iter_s': 3.848363161087036, 'time_total_s': 39.85275101661682, 'pid': 68388, 'hostname': 'derwen', 'node_ip': '192.168.1.65', 'config': {'num_workers': 2, 'num_envs_per_worker': 1, 'sample_batch_size': 200, 'batch_mode': 'truncate_episodes', 'num_gpus': 0, 'train_batch_size': 4000, 'model': {'conv_filters': None, 'conv_activation': 'relu', 'fcnet_activation': 'tanh', 'fcnet_hiddens': [256, 256], 'free_log_std': False, 'no_final_linear': False, 'vf_share_layers': True, 'use_lstm': False, 'max_seq_len': 20, 'lstm_cell_size': 256, 'lstm_use_prev_action_reward': False, 'state_shape': None, 'framestack': True, 'dim': 84, 'grayscale': False, 'zero_mean': True, 'custom_model': None, 'custom_action_dist': None, 'custom_options': {}, 'custom_preprocessor': None}, 'optimizer': {}, 'gamma': 0.99, 'horizon': None, 'soft_horizon': False, 'no_done_at_end': False, 'env_config': {}, 'env': 'CartPole-v0', 'normalize_actions': False, 'clip_rewards': None, 'clip_actions': True, 'preprocessor_pref': 'deepmind', 'lr': 5e-05, 'monitor': False, 'log_level': 'WARN', 'callbacks': {'on_episode_start': None, 'on_episode_step': None, 'on_episode_end': None, 'on_sample_end': None, 'on_train_result': None, 'on_postprocess_traj': None}, 'ignore_worker_failures': False, 'log_sys_usage': True, 'use_pytorch': False, 'eager': False, 'eager_tracing': False, 'no_eager_on_workers': False, 'explore': True, 'exploration_config': {'type': 'StochasticSampling'}, 'evaluation_interval': None, 'evaluation_num_episodes': 10, 'in_evaluation': False, 'evaluation_config': {}, 'evaluation_num_workers': 0, 'custom_eval_function': None, 'sample_async': False, 'observation_filter': 'NoFilter', 'synchronize_filters': True, 'tf_session_args': {'intra_op_parallelism_threads': 2, 'inter_op_parallelism_threads': 2, 'gpu_options': {'allow_growth': True}, 'log_device_placement': False, 'device_count': {'CPU': 1}, 'allow_soft_placement': True}, 'local_tf_session_args': {'intra_op_parallelism_threads': 8, 'inter_op_parallelism_threads': 8}, 'compress_observations': False, 'collect_metrics_timeout': 180, 'metrics_smoothing_episodes': 100, 'remote_worker_envs': False, 'remote_env_batch_wait_ms': 0, 'min_iter_time_s': 0, 'timesteps_per_iteration': 0, 'seed': None, 'num_cpus_per_worker': 1, 'num_gpus_per_worker': 0, 'custom_resources_per_worker': {}, 'num_cpus_for_driver': 1, 'memory': 0, 'object_store_memory': 0, 'memory_per_worker': 0, 'object_store_memory_per_worker': 0, 'input': 'sampler', 'input_evaluation': ['is', 'wis'], 'postprocess_inputs': False, 'shuffle_buffer_size': 0, 'output': None, 'output_compress_columns': ['obs', 'new_obs'], 'output_max_file_size': 67108864, 'multiagent': {'policies': {}, 'policy_mapping_fn': None, 'policies_to_train': None}, 'use_critic': True, 'use_gae': True, 'lambda': 1.0, 'kl_coeff': 0.2, 'sgd_minibatch_size': 128, 'shuffle_sequences': True, 'num_sgd_iter': 30, 'lr_schedule': None, 'vf_share_layers': False, 'vf_loss_coeff': 1.0, 'entropy_coeff': 0.0, 'entropy_coeff_schedule': None, 'clip_param': 0.3, 'vf_clip_param': 10.0, 'grad_clip': None, 'kl_target': 0.01, 'simple_optimizer': False}, 'time_since_restore': 39.85275101661682, 'timesteps_since_restore': 36000, 'iterations_since_restore': 9, 'perf': {'cpu_util_percent': 56.8, 'ram_util_percent': 78.38}, 'num_healthy_workers': 2}\n",
      "\n",
      "/tmp/ppo/checkpoint_9/checkpoint-9\n",
      "{'episode_reward_max': 200.0, 'episode_reward_min': 119.0, 'episode_reward_mean': 197.38, 'episode_len_mean': 197.38, 'episodes_this_iter': 20, 'policy_reward_min': {}, 'policy_reward_max': {}, 'policy_reward_mean': {}, 'custom_metrics': {}, 'hist_stats': {'episode_reward': [200.0, 200.0, 200.0, 200.0, 200.0, 200.0, 200.0, 200.0, 200.0, 200.0, 200.0, 200.0, 200.0, 200.0, 200.0, 200.0, 200.0, 200.0, 200.0, 200.0, 200.0, 200.0, 174.0, 200.0, 200.0, 200.0, 200.0, 200.0, 200.0, 200.0, 200.0, 200.0, 200.0, 200.0, 200.0, 200.0, 194.0, 185.0, 200.0, 200.0, 200.0, 200.0, 200.0, 200.0, 200.0, 200.0, 200.0, 200.0, 200.0, 200.0, 200.0, 200.0, 200.0, 200.0, 125.0, 119.0, 200.0, 200.0, 200.0, 200.0, 200.0, 200.0, 200.0, 200.0, 200.0, 200.0, 200.0, 200.0, 141.0, 200.0, 200.0, 200.0, 200.0, 200.0, 200.0, 200.0, 200.0, 200.0, 200.0, 200.0, 200.0, 200.0, 200.0, 200.0, 200.0, 200.0, 200.0, 200.0, 200.0, 200.0, 200.0, 200.0, 200.0, 200.0, 200.0, 200.0, 200.0, 200.0, 200.0, 200.0], 'episode_lengths': [200, 200, 200, 200, 200, 200, 200, 200, 200, 200, 200, 200, 200, 200, 200, 200, 200, 200, 200, 200, 200, 200, 174, 200, 200, 200, 200, 200, 200, 200, 200, 200, 200, 200, 200, 200, 194, 185, 200, 200, 200, 200, 200, 200, 200, 200, 200, 200, 200, 200, 200, 200, 200, 200, 125, 119, 200, 200, 200, 200, 200, 200, 200, 200, 200, 200, 200, 200, 141, 200, 200, 200, 200, 200, 200, 200, 200, 200, 200, 200, 200, 200, 200, 200, 200, 200, 200, 200, 200, 200, 200, 200, 200, 200, 200, 200, 200, 200, 200, 200]}, 'sampler_perf': {'mean_env_wait_ms': 0.05318656221339163, 'mean_processing_ms': 0.12980866746001973, 'mean_inference_ms': 0.6512233525512028}, 'off_policy_estimator': {}, 'info': {'num_steps_trained': 39680, 'num_steps_sampled': 40000, 'sample_time_ms': 1953.791, 'load_time_ms': 6.787, 'grad_time_ms': 2301.444, 'update_time_ms': 118.519, 'learner': {'default_policy': {'cur_kl_coeff': 0.05624999850988388, 'cur_lr': 4.999999873689376e-05, 'total_loss': 529.0366, 'policy_loss': -0.003805197, 'vf_loss': 529.03973, 'vf_explained_var': 0.1783633, 'kl': 0.010926425, 'entropy': 0.5074592, 'entropy_coeff': 0.0}}}, 'timesteps_this_iter': 4000, 'done': False, 'timesteps_total': 40000, 'episodes_total': 457, 'training_iteration': 10, 'experiment_id': '5c3f7d53919545f685c5f1abebff0491', 'date': '2020-03-05_16-53-41', 'timestamp': 1583456021, 'time_this_iter_s': 4.029350757598877, 'time_total_s': 43.8821017742157, 'pid': 68388, 'hostname': 'derwen', 'node_ip': '192.168.1.65', 'config': {'num_workers': 2, 'num_envs_per_worker': 1, 'sample_batch_size': 200, 'batch_mode': 'truncate_episodes', 'num_gpus': 0, 'train_batch_size': 4000, 'model': {'conv_filters': None, 'conv_activation': 'relu', 'fcnet_activation': 'tanh', 'fcnet_hiddens': [256, 256], 'free_log_std': False, 'no_final_linear': False, 'vf_share_layers': True, 'use_lstm': False, 'max_seq_len': 20, 'lstm_cell_size': 256, 'lstm_use_prev_action_reward': False, 'state_shape': None, 'framestack': True, 'dim': 84, 'grayscale': False, 'zero_mean': True, 'custom_model': None, 'custom_action_dist': None, 'custom_options': {}, 'custom_preprocessor': None}, 'optimizer': {}, 'gamma': 0.99, 'horizon': None, 'soft_horizon': False, 'no_done_at_end': False, 'env_config': {}, 'env': 'CartPole-v0', 'normalize_actions': False, 'clip_rewards': None, 'clip_actions': True, 'preprocessor_pref': 'deepmind', 'lr': 5e-05, 'monitor': False, 'log_level': 'WARN', 'callbacks': {'on_episode_start': None, 'on_episode_step': None, 'on_episode_end': None, 'on_sample_end': None, 'on_train_result': None, 'on_postprocess_traj': None}, 'ignore_worker_failures': False, 'log_sys_usage': True, 'use_pytorch': False, 'eager': False, 'eager_tracing': False, 'no_eager_on_workers': False, 'explore': True, 'exploration_config': {'type': 'StochasticSampling'}, 'evaluation_interval': None, 'evaluation_num_episodes': 10, 'in_evaluation': False, 'evaluation_config': {}, 'evaluation_num_workers': 0, 'custom_eval_function': None, 'sample_async': False, 'observation_filter': 'NoFilter', 'synchronize_filters': True, 'tf_session_args': {'intra_op_parallelism_threads': 2, 'inter_op_parallelism_threads': 2, 'gpu_options': {'allow_growth': True}, 'log_device_placement': False, 'device_count': {'CPU': 1}, 'allow_soft_placement': True}, 'local_tf_session_args': {'intra_op_parallelism_threads': 8, 'inter_op_parallelism_threads': 8}, 'compress_observations': False, 'collect_metrics_timeout': 180, 'metrics_smoothing_episodes': 100, 'remote_worker_envs': False, 'remote_env_batch_wait_ms': 0, 'min_iter_time_s': 0, 'timesteps_per_iteration': 0, 'seed': None, 'num_cpus_per_worker': 1, 'num_gpus_per_worker': 0, 'custom_resources_per_worker': {}, 'num_cpus_for_driver': 1, 'memory': 0, 'object_store_memory': 0, 'memory_per_worker': 0, 'object_store_memory_per_worker': 0, 'input': 'sampler', 'input_evaluation': ['is', 'wis'], 'postprocess_inputs': False, 'shuffle_buffer_size': 0, 'output': None, 'output_compress_columns': ['obs', 'new_obs'], 'output_max_file_size': 67108864, 'multiagent': {'policies': {}, 'policy_mapping_fn': None, 'policies_to_train': None}, 'use_critic': True, 'use_gae': True, 'lambda': 1.0, 'kl_coeff': 0.2, 'sgd_minibatch_size': 128, 'shuffle_sequences': True, 'num_sgd_iter': 30, 'lr_schedule': None, 'vf_share_layers': False, 'vf_loss_coeff': 1.0, 'entropy_coeff': 0.0, 'entropy_coeff_schedule': None, 'clip_param': 0.3, 'vf_clip_param': 10.0, 'grad_clip': None, 'kl_target': 0.01, 'simple_optimizer': False}, 'time_since_restore': 43.8821017742157, 'timesteps_since_restore': 40000, 'iterations_since_restore': 10, 'perf': {'cpu_util_percent': 36.26666666666667, 'ram_util_percent': 78.61666666666666}, 'num_healthy_workers': 2}\n",
      "\n",
      "/tmp/ppo/checkpoint_10/checkpoint-10\n"
     ]
    }
   ],
   "source": [
    "config = ppo.DEFAULT_CONFIG.copy()\n",
    "config[\"log_level\"] = \"WARN\"\n",
    "\n",
    "n_iter = 10\n",
    "reward_history = []\n",
    "\n",
    "agent = ppo.PPOTrainer(config, env=\"CartPole-v0\")\n",
    "\n",
    "for _ in range(n_iter):\n",
    "    result = agent.train()\n",
    "    print(result)\n",
    "\n",
    "    max_reward = result[\"episode_reward_max\"]\n",
    "    reward_history.append(max_reward)\n",
    "\n",
    "    file_name = agent.save(\"/tmp/ppo\")\n",
    "    print(f\"\\n{file_name}\")"
   ]
  },
  {
   "cell_type": "code",
   "execution_count": 23,
   "metadata": {},
   "outputs": [
    {
     "name": "stdout",
     "output_type": "stream",
     "text": [
      "[71.0, 153.0, 200.0, 200.0, 200.0, 200.0, 200.0, 200.0, 200.0, 200.0]\n"
     ]
    }
   ],
   "source": [
    "print(reward_history)"
   ]
  },
  {
   "cell_type": "markdown",
   "metadata": {
    "colab_type": "text",
    "id": "Gp1LgeCJjGLk"
   },
   "source": [
    "The history of `max_reward` shows that this model `200` by the third iteration -- which is good, since the [*solution*](https://gym.openai.com/envs/CartPole-v0/) for `CartPole-v0` is to get an average reward of `195.0` over a hundred consecutive trials."
   ]
  },
  {
   "cell_type": "code",
   "execution_count": 24,
   "metadata": {
    "scrolled": false
   },
   "outputs": [
    {
     "name": "stdout",
     "output_type": "stream",
     "text": [
      "2020-03-05 16:54:18,677\tINFO resource_spec.py:212 -- Starting Ray with 3.37 GiB memory available for workers and up to 1.71 GiB for objects. You can adjust these settings with ray.init(memory=<bytes>, object_store_memory=<bytes>).\n",
      "2020-03-05 16:54:19,063\tINFO services.py:1078 -- View the Ray dashboard at \u001b[1m\u001b[32mlocalhost:8266\u001b[39m\u001b[22m\n",
      "2020-03-05 16:54:19,663\tINFO trainer.py:420 -- Tip: set 'eager': true or the --eager flag to enable TensorFlow eager execution\n",
      "2020-03-05 16:54:19,705\tINFO trainer.py:580 -- Current log_level is WARN. For more information, set 'log_level': 'INFO' / 'DEBUG' or use the -v and -vv flags.\n",
      "/opt/anaconda3/lib/python3.7/site-packages/ray/rllib/utils/from_config.py:134: YAMLLoadWarning: calling yaml.load() without Loader=... is deprecated, as the default Loader is unsafe. Please read https://msg.pyyaml.org/load for full details.\n",
      "  obj = yaml.load(type_)\n",
      "2020-03-05 16:54:24,252\tWARNING util.py:37 -- Install gputil for GPU system monitoring.\n",
      "2020-03-05 16:54:24,344\tWARNING trainable.py:210 -- Getting current IP.\n",
      "2020-03-05 16:54:24,344\tINFO trainable.py:416 -- Restored on 192.168.1.65 from checkpoint: /tmp/ppo/checkpoint_10/checkpoint-10\n",
      "2020-03-05 16:54:24,345\tINFO trainable.py:423 -- Current state after restoring: {'_iteration': 10, '_timesteps_total': 40000, '_time_total': 43.8821017742157, '_episodes_total': 457}\n",
      "\u001b[2m\u001b[36m(pid=68849)\u001b[0m /opt/anaconda3/lib/python3.7/site-packages/ray/rllib/utils/from_config.py:134: YAMLLoadWarning: calling yaml.load() without Loader=... is deprecated, as the default Loader is unsafe. Please read https://msg.pyyaml.org/load for full details.\n",
      "\u001b[2m\u001b[36m(pid=68849)\u001b[0m   obj = yaml.load(type_)\n",
      "\u001b[2m\u001b[36m(pid=68848)\u001b[0m /opt/anaconda3/lib/python3.7/site-packages/ray/rllib/utils/from_config.py:134: YAMLLoadWarning: calling yaml.load() without Loader=... is deprecated, as the default Loader is unsafe. Please read https://msg.pyyaml.org/load for full details.\n",
      "\u001b[2m\u001b[36m(pid=68848)\u001b[0m   obj = yaml.load(type_)\n",
      "Episode #0: reward: 200.0\n",
      "Episode #1: reward: 200.0\n",
      "Episode #2: reward: 200.0\n",
      "Episode #3: reward: 200.0\n",
      "Episode #4: reward: 200.0\n",
      "Episode #5: reward: 200.0\n",
      "Episode #6: reward: 200.0\n",
      "Episode #7: reward: 200.0\n",
      "Episode #8: reward: 200.0\n",
      "Episode #9: reward: 200.0\n"
     ]
    }
   ],
   "source": [
    "! rllib rollout \\\n",
    "    /tmp/ppo/checkpoint_10/checkpoint-10 \\\n",
    "    --config \"{\\\"env\\\": \\\"CartPole-v0\\\"}\" --run PPO \\\n",
    "    --steps 2000"
   ]
  },
  {
   "cell_type": "markdown",
   "metadata": {
    "colab_type": "text",
    "id": "tI9vJ1vU6Mj1"
   },
   "source": [
    "Now that we've trained a model, we can look at its resulting policy…"
   ]
  },
  {
   "cell_type": "code",
   "execution_count": 25,
   "metadata": {
    "colab": {
     "base_uri": "https://localhost:8080/",
     "height": 272
    },
    "colab_type": "code",
    "id": "NylH7aYqh72O",
    "outputId": "54469bad-83d0-471c-c036-04d6ca2838d3"
   },
   "outputs": [
    {
     "name": "stdout",
     "output_type": "stream",
     "text": [
      "[<tf.Variable 'default_policy/fc_1/kernel:0' shape=(4, 256) dtype=float32>,\n",
      " <tf.Variable 'default_policy/fc_1/bias:0' shape=(256,) dtype=float32>,\n",
      " <tf.Variable 'default_policy/fc_value_1/kernel:0' shape=(4, 256) dtype=float32>,\n",
      " <tf.Variable 'default_policy/fc_value_1/bias:0' shape=(256,) dtype=float32>,\n",
      " <tf.Variable 'default_policy/fc_2/kernel:0' shape=(256, 256) dtype=float32>,\n",
      " <tf.Variable 'default_policy/fc_2/bias:0' shape=(256,) dtype=float32>,\n",
      " <tf.Variable 'default_policy/fc_value_2/kernel:0' shape=(256, 256) dtype=float32>,\n",
      " <tf.Variable 'default_policy/fc_value_2/bias:0' shape=(256,) dtype=float32>,\n",
      " <tf.Variable 'default_policy/fc_out/kernel:0' shape=(256, 2) dtype=float32>,\n",
      " <tf.Variable 'default_policy/fc_out/bias:0' shape=(2,) dtype=float32>,\n",
      " <tf.Variable 'default_policy/value_out/kernel:0' shape=(256, 1) dtype=float32>,\n",
      " <tf.Variable 'default_policy/value_out/bias:0' shape=(1,) dtype=float32>]\n",
      "<tf.Tensor 'Reshape:0' shape=(?,) dtype=float32>\n"
     ]
    }
   ],
   "source": [
    "import pprint\n",
    "\n",
    "policy = agent.get_policy()\n",
    "model = policy.model\n",
    "\n",
    "pprint.pprint(model.variables())\n",
    "pprint.pprint(model.value_function())"
   ]
  },
  {
   "cell_type": "code",
   "execution_count": 26,
   "metadata": {
    "colab": {
     "base_uri": "https://localhost:8080/",
     "height": 289
    },
    "colab_type": "code",
    "id": "QxLGf4eQGP9Q",
    "outputId": "d9b20198-06cc-444d-bf20-25803c7e8486"
   },
   "outputs": [
    {
     "name": "stdout",
     "output_type": "stream",
     "text": [
      "Model: \"model\"\n",
      "__________________________________________________________________________________________________\n",
      "Layer (type)                    Output Shape         Param #     Connected to                     \n",
      "==================================================================================================\n",
      "observations (InputLayer)       [(None, 4)]          0                                            \n",
      "__________________________________________________________________________________________________\n",
      "fc_1 (Dense)                    (None, 256)          1280        observations[0][0]               \n",
      "__________________________________________________________________________________________________\n",
      "fc_value_1 (Dense)              (None, 256)          1280        observations[0][0]               \n",
      "__________________________________________________________________________________________________\n",
      "fc_2 (Dense)                    (None, 256)          65792       fc_1[0][0]                       \n",
      "__________________________________________________________________________________________________\n",
      "fc_value_2 (Dense)              (None, 256)          65792       fc_value_1[0][0]                 \n",
      "__________________________________________________________________________________________________\n",
      "fc_out (Dense)                  (None, 2)            514         fc_2[0][0]                       \n",
      "__________________________________________________________________________________________________\n",
      "value_out (Dense)               (None, 1)            257         fc_value_2[0][0]                 \n",
      "==================================================================================================\n",
      "Total params: 134,915\n",
      "Trainable params: 134,915\n",
      "Non-trainable params: 0\n",
      "__________________________________________________________________________________________________\n"
     ]
    }
   ],
   "source": [
    "model.base_model.summary()"
   ]
  },
  {
   "cell_type": "code",
   "execution_count": null,
   "metadata": {},
   "outputs": [],
   "source": []
  }
 ],
 "metadata": {
  "colab": {
   "collapsed_sections": [],
   "name": "Copy of rllib_ppo_dqn.ipynb",
   "provenance": []
  },
  "kernelspec": {
   "display_name": "Python 3",
   "language": "python",
   "name": "python3"
  },
  "language_info": {
   "codemirror_mode": {
    "name": "ipython",
    "version": 3
   },
   "file_extension": ".py",
   "mimetype": "text/x-python",
   "name": "python",
   "nbconvert_exporter": "python",
   "pygments_lexer": "ipython3",
   "version": "3.7.4"
  }
 },
 "nbformat": 4,
 "nbformat_minor": 1
}
