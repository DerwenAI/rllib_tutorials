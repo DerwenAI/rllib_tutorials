{
 "cells": [
  {
   "cell_type": "markdown",
   "metadata": {
    "colab_type": "text",
    "id": "JD0Eu7JWdVqY"
   },
   "source": [
    "# RLlib Sample Application: CartPole"
   ]
  },
  {
   "cell_type": "markdown",
   "metadata": {},
   "source": [
    "First, let's make sure that Ray and RLlib are installed…"
   ]
  },
  {
   "cell_type": "code",
   "execution_count": 1,
   "metadata": {},
   "outputs": [
    {
     "name": "stdout",
     "output_type": "stream",
     "text": [
      "Requirement already satisfied: ray[rllib] in /Users/deanwampler/anaconda3/envs/ray-082/lib/python3.7/site-packages (0.8.2)\n",
      "Requirement already satisfied: click in /Users/deanwampler/anaconda3/envs/ray-082/lib/python3.7/site-packages (from ray[rllib]) (7.1.1)\n",
      "Requirement already satisfied: colorama in /Users/deanwampler/anaconda3/envs/ray-082/lib/python3.7/site-packages (from ray[rllib]) (0.4.3)\n",
      "Requirement already satisfied: six>=1.0.0 in /Users/deanwampler/anaconda3/envs/ray-082/lib/python3.7/site-packages (from ray[rllib]) (1.14.0)\n",
      "Requirement already satisfied: aiohttp in /Users/deanwampler/anaconda3/envs/ray-082/lib/python3.7/site-packages (from ray[rllib]) (3.6.2)\n",
      "Requirement already satisfied: filelock in /Users/deanwampler/anaconda3/envs/ray-082/lib/python3.7/site-packages (from ray[rllib]) (3.0.12)\n",
      "Requirement already satisfied: funcsigs in /Users/deanwampler/anaconda3/envs/ray-082/lib/python3.7/site-packages (from ray[rllib]) (1.0.2)\n",
      "Requirement already satisfied: jsonschema in /Users/deanwampler/anaconda3/envs/ray-082/lib/python3.7/site-packages (from ray[rllib]) (3.2.0)\n",
      "Requirement already satisfied: pyyaml in /Users/deanwampler/anaconda3/envs/ray-082/lib/python3.7/site-packages (from ray[rllib]) (5.3.1)\n",
      "Requirement already satisfied: pytest in /Users/deanwampler/anaconda3/envs/ray-082/lib/python3.7/site-packages (from ray[rllib]) (5.4.1)\n",
      "Requirement already satisfied: redis>=3.3.2 in /Users/deanwampler/anaconda3/envs/ray-082/lib/python3.7/site-packages (from ray[rllib]) (3.4.1)\n",
      "Requirement already satisfied: protobuf>=3.8.0 in /Users/deanwampler/anaconda3/envs/ray-082/lib/python3.7/site-packages (from ray[rllib]) (3.11.3)\n",
      "Requirement already satisfied: cloudpickle in /Users/deanwampler/anaconda3/envs/ray-082/lib/python3.7/site-packages (from ray[rllib]) (1.3.0)\n",
      "Requirement already satisfied: google in /Users/deanwampler/anaconda3/envs/ray-082/lib/python3.7/site-packages (from ray[rllib]) (2.0.3)\n",
      "Requirement already satisfied: py-spy>=0.2.0 in /Users/deanwampler/anaconda3/envs/ray-082/lib/python3.7/site-packages (from ray[rllib]) (0.3.3)\n",
      "Requirement already satisfied: grpcio in /Users/deanwampler/anaconda3/envs/ray-082/lib/python3.7/site-packages (from ray[rllib]) (1.27.2)\n",
      "Requirement already satisfied: packaging in /Users/deanwampler/anaconda3/envs/ray-082/lib/python3.7/site-packages (from ray[rllib]) (20.3)\n",
      "Requirement already satisfied: numpy>=1.16 in /Users/deanwampler/anaconda3/envs/ray-082/lib/python3.7/site-packages (from ray[rllib]) (1.18.2)\n",
      "Requirement already satisfied: tensorboardX; extra == \"rllib\" in /Users/deanwampler/anaconda3/envs/ray-082/lib/python3.7/site-packages (from ray[rllib]) (2.0)\n",
      "Requirement already satisfied: lz4; extra == \"rllib\" in /Users/deanwampler/anaconda3/envs/ray-082/lib/python3.7/site-packages (from ray[rllib]) (3.0.2)\n",
      "Requirement already satisfied: tabulate; extra == \"rllib\" in /Users/deanwampler/anaconda3/envs/ray-082/lib/python3.7/site-packages (from ray[rllib]) (0.8.7)\n",
      "Requirement already satisfied: gym[atari]; extra == \"rllib\" in /Users/deanwampler/anaconda3/envs/ray-082/lib/python3.7/site-packages (from ray[rllib]) (0.17.1)\n",
      "Requirement already satisfied: scipy; extra == \"rllib\" in /Users/deanwampler/anaconda3/envs/ray-082/lib/python3.7/site-packages (from ray[rllib]) (1.4.1)\n",
      "Requirement already satisfied: opencv-python-headless; extra == \"rllib\" in /Users/deanwampler/anaconda3/envs/ray-082/lib/python3.7/site-packages (from ray[rllib]) (4.2.0.32)\n",
      "Requirement already satisfied: multidict<5.0,>=4.5 in /Users/deanwampler/anaconda3/envs/ray-082/lib/python3.7/site-packages (from aiohttp->ray[rllib]) (4.7.5)\n",
      "Requirement already satisfied: chardet<4.0,>=2.0 in /Users/deanwampler/anaconda3/envs/ray-082/lib/python3.7/site-packages (from aiohttp->ray[rllib]) (3.0.4)\n",
      "Requirement already satisfied: attrs>=17.3.0 in /Users/deanwampler/anaconda3/envs/ray-082/lib/python3.7/site-packages (from aiohttp->ray[rllib]) (19.3.0)\n",
      "Requirement already satisfied: async-timeout<4.0,>=3.0 in /Users/deanwampler/anaconda3/envs/ray-082/lib/python3.7/site-packages (from aiohttp->ray[rllib]) (3.0.1)\n",
      "Requirement already satisfied: yarl<2.0,>=1.0 in /Users/deanwampler/anaconda3/envs/ray-082/lib/python3.7/site-packages (from aiohttp->ray[rllib]) (1.4.2)\n",
      "Requirement already satisfied: setuptools in /Users/deanwampler/anaconda3/envs/ray-082/lib/python3.7/site-packages (from jsonschema->ray[rllib]) (46.1.1.post20200323)\n",
      "Requirement already satisfied: importlib-metadata; python_version < \"3.8\" in /Users/deanwampler/anaconda3/envs/ray-082/lib/python3.7/site-packages (from jsonschema->ray[rllib]) (1.5.2)\n",
      "Requirement already satisfied: pyrsistent>=0.14.0 in /Users/deanwampler/anaconda3/envs/ray-082/lib/python3.7/site-packages (from jsonschema->ray[rllib]) (0.16.0)\n",
      "Requirement already satisfied: wcwidth in /Users/deanwampler/anaconda3/envs/ray-082/lib/python3.7/site-packages (from pytest->ray[rllib]) (0.1.9)\n",
      "Requirement already satisfied: py>=1.5.0 in /Users/deanwampler/anaconda3/envs/ray-082/lib/python3.7/site-packages (from pytest->ray[rllib]) (1.8.1)\n",
      "Requirement already satisfied: pluggy<1.0,>=0.12 in /Users/deanwampler/anaconda3/envs/ray-082/lib/python3.7/site-packages (from pytest->ray[rllib]) (0.13.1)\n",
      "Requirement already satisfied: more-itertools>=4.0.0 in /Users/deanwampler/anaconda3/envs/ray-082/lib/python3.7/site-packages (from pytest->ray[rllib]) (8.2.0)\n",
      "Requirement already satisfied: beautifulsoup4 in /Users/deanwampler/anaconda3/envs/ray-082/lib/python3.7/site-packages (from google->ray[rllib]) (4.8.2)\n",
      "Requirement already satisfied: pyparsing>=2.0.2 in /Users/deanwampler/anaconda3/envs/ray-082/lib/python3.7/site-packages (from packaging->ray[rllib]) (2.4.6)\n",
      "Requirement already satisfied: pyglet<=1.5.0,>=1.4.0 in /Users/deanwampler/anaconda3/envs/ray-082/lib/python3.7/site-packages (from gym[atari]; extra == \"rllib\"->ray[rllib]) (1.5.0)\n",
      "Requirement already satisfied: atari-py~=0.2.0; extra == \"atari\" in /Users/deanwampler/anaconda3/envs/ray-082/lib/python3.7/site-packages (from gym[atari]; extra == \"rllib\"->ray[rllib]) (0.2.6)\n",
      "Requirement already satisfied: Pillow; extra == \"atari\" in /Users/deanwampler/anaconda3/envs/ray-082/lib/python3.7/site-packages (from gym[atari]; extra == \"rllib\"->ray[rllib]) (7.0.0)\n",
      "Requirement already satisfied: opencv-python; extra == \"atari\" in /Users/deanwampler/anaconda3/envs/ray-082/lib/python3.7/site-packages (from gym[atari]; extra == \"rllib\"->ray[rllib]) (4.2.0.32)\n",
      "Requirement already satisfied: idna>=2.0 in /Users/deanwampler/anaconda3/envs/ray-082/lib/python3.7/site-packages (from yarl<2.0,>=1.0->aiohttp->ray[rllib]) (2.9)\n",
      "Requirement already satisfied: zipp>=0.5 in /Users/deanwampler/anaconda3/envs/ray-082/lib/python3.7/site-packages (from importlib-metadata; python_version < \"3.8\"->jsonschema->ray[rllib]) (3.1.0)\n",
      "Requirement already satisfied: soupsieve>=1.2 in /Users/deanwampler/anaconda3/envs/ray-082/lib/python3.7/site-packages (from beautifulsoup4->google->ray[rllib]) (2.0)\n",
      "Requirement already satisfied: future in /Users/deanwampler/anaconda3/envs/ray-082/lib/python3.7/site-packages (from pyglet<=1.5.0,>=1.4.0->gym[atari]; extra == \"rllib\"->ray[rllib]) (0.18.2)\n",
      "Requirement already satisfied: ray[debug] in /Users/deanwampler/anaconda3/envs/ray-082/lib/python3.7/site-packages (0.8.2)\n",
      "Requirement already satisfied: filelock in /Users/deanwampler/anaconda3/envs/ray-082/lib/python3.7/site-packages (from ray[debug]) (3.0.12)\n",
      "Requirement already satisfied: redis>=3.3.2 in /Users/deanwampler/anaconda3/envs/ray-082/lib/python3.7/site-packages (from ray[debug]) (3.4.1)\n",
      "Requirement already satisfied: pytest in /Users/deanwampler/anaconda3/envs/ray-082/lib/python3.7/site-packages (from ray[debug]) (5.4.1)\n",
      "Requirement already satisfied: six>=1.0.0 in /Users/deanwampler/anaconda3/envs/ray-082/lib/python3.7/site-packages (from ray[debug]) (1.14.0)\n",
      "Requirement already satisfied: funcsigs in /Users/deanwampler/anaconda3/envs/ray-082/lib/python3.7/site-packages (from ray[debug]) (1.0.2)\n",
      "Requirement already satisfied: numpy>=1.16 in /Users/deanwampler/anaconda3/envs/ray-082/lib/python3.7/site-packages (from ray[debug]) (1.18.2)\n",
      "Requirement already satisfied: pyyaml in /Users/deanwampler/anaconda3/envs/ray-082/lib/python3.7/site-packages (from ray[debug]) (5.3.1)\n",
      "Requirement already satisfied: packaging in /Users/deanwampler/anaconda3/envs/ray-082/lib/python3.7/site-packages (from ray[debug]) (20.3)\n",
      "Requirement already satisfied: colorama in /Users/deanwampler/anaconda3/envs/ray-082/lib/python3.7/site-packages (from ray[debug]) (0.4.3)\n",
      "Requirement already satisfied: grpcio in /Users/deanwampler/anaconda3/envs/ray-082/lib/python3.7/site-packages (from ray[debug]) (1.27.2)\n",
      "Requirement already satisfied: click in /Users/deanwampler/anaconda3/envs/ray-082/lib/python3.7/site-packages (from ray[debug]) (7.1.1)\n",
      "Requirement already satisfied: aiohttp in /Users/deanwampler/anaconda3/envs/ray-082/lib/python3.7/site-packages (from ray[debug]) (3.6.2)\n",
      "Requirement already satisfied: py-spy>=0.2.0 in /Users/deanwampler/anaconda3/envs/ray-082/lib/python3.7/site-packages (from ray[debug]) (0.3.3)\n",
      "Requirement already satisfied: jsonschema in /Users/deanwampler/anaconda3/envs/ray-082/lib/python3.7/site-packages (from ray[debug]) (3.2.0)\n",
      "Requirement already satisfied: protobuf>=3.8.0 in /Users/deanwampler/anaconda3/envs/ray-082/lib/python3.7/site-packages (from ray[debug]) (3.11.3)\n",
      "Requirement already satisfied: cloudpickle in /Users/deanwampler/anaconda3/envs/ray-082/lib/python3.7/site-packages (from ray[debug]) (1.3.0)\n",
      "Requirement already satisfied: google in /Users/deanwampler/anaconda3/envs/ray-082/lib/python3.7/site-packages (from ray[debug]) (2.0.3)\n",
      "Requirement already satisfied: wcwidth in /Users/deanwampler/anaconda3/envs/ray-082/lib/python3.7/site-packages (from pytest->ray[debug]) (0.1.9)\n",
      "Requirement already satisfied: more-itertools>=4.0.0 in /Users/deanwampler/anaconda3/envs/ray-082/lib/python3.7/site-packages (from pytest->ray[debug]) (8.2.0)\n",
      "Requirement already satisfied: attrs>=17.4.0 in /Users/deanwampler/anaconda3/envs/ray-082/lib/python3.7/site-packages (from pytest->ray[debug]) (19.3.0)\n",
      "Requirement already satisfied: pluggy<1.0,>=0.12 in /Users/deanwampler/anaconda3/envs/ray-082/lib/python3.7/site-packages (from pytest->ray[debug]) (0.13.1)\n",
      "Requirement already satisfied: py>=1.5.0 in /Users/deanwampler/anaconda3/envs/ray-082/lib/python3.7/site-packages (from pytest->ray[debug]) (1.8.1)\n",
      "Requirement already satisfied: importlib-metadata>=0.12; python_version < \"3.8\" in /Users/deanwampler/anaconda3/envs/ray-082/lib/python3.7/site-packages (from pytest->ray[debug]) (1.5.2)\n",
      "Requirement already satisfied: pyparsing>=2.0.2 in /Users/deanwampler/anaconda3/envs/ray-082/lib/python3.7/site-packages (from packaging->ray[debug]) (2.4.6)\n",
      "Requirement already satisfied: chardet<4.0,>=2.0 in /Users/deanwampler/anaconda3/envs/ray-082/lib/python3.7/site-packages (from aiohttp->ray[debug]) (3.0.4)\n",
      "Requirement already satisfied: async-timeout<4.0,>=3.0 in /Users/deanwampler/anaconda3/envs/ray-082/lib/python3.7/site-packages (from aiohttp->ray[debug]) (3.0.1)\n",
      "Requirement already satisfied: yarl<2.0,>=1.0 in /Users/deanwampler/anaconda3/envs/ray-082/lib/python3.7/site-packages (from aiohttp->ray[debug]) (1.4.2)\n",
      "Requirement already satisfied: multidict<5.0,>=4.5 in /Users/deanwampler/anaconda3/envs/ray-082/lib/python3.7/site-packages (from aiohttp->ray[debug]) (4.7.5)\n",
      "Requirement already satisfied: pyrsistent>=0.14.0 in /Users/deanwampler/anaconda3/envs/ray-082/lib/python3.7/site-packages (from jsonschema->ray[debug]) (0.16.0)\n",
      "Requirement already satisfied: setuptools in /Users/deanwampler/anaconda3/envs/ray-082/lib/python3.7/site-packages (from jsonschema->ray[debug]) (46.1.1.post20200323)\n",
      "Requirement already satisfied: beautifulsoup4 in /Users/deanwampler/anaconda3/envs/ray-082/lib/python3.7/site-packages (from google->ray[debug]) (4.8.2)\n",
      "Requirement already satisfied: zipp>=0.5 in /Users/deanwampler/anaconda3/envs/ray-082/lib/python3.7/site-packages (from importlib-metadata>=0.12; python_version < \"3.8\"->pytest->ray[debug]) (3.1.0)\n",
      "Requirement already satisfied: idna>=2.0 in /Users/deanwampler/anaconda3/envs/ray-082/lib/python3.7/site-packages (from yarl<2.0,>=1.0->aiohttp->ray[debug]) (2.9)\n",
      "Requirement already satisfied: soupsieve>=1.2 in /Users/deanwampler/anaconda3/envs/ray-082/lib/python3.7/site-packages (from beautifulsoup4->google->ray[debug]) (2.0)\n",
      "Requirement already satisfied: ray[tune] in /Users/deanwampler/anaconda3/envs/ray-082/lib/python3.7/site-packages (0.8.2)\n",
      "Requirement already satisfied: pyyaml in /Users/deanwampler/anaconda3/envs/ray-082/lib/python3.7/site-packages (from ray[tune]) (5.3.1)\n",
      "Requirement already satisfied: six>=1.0.0 in /Users/deanwampler/anaconda3/envs/ray-082/lib/python3.7/site-packages (from ray[tune]) (1.14.0)\n",
      "Requirement already satisfied: jsonschema in /Users/deanwampler/anaconda3/envs/ray-082/lib/python3.7/site-packages (from ray[tune]) (3.2.0)\n",
      "Requirement already satisfied: protobuf>=3.8.0 in /Users/deanwampler/anaconda3/envs/ray-082/lib/python3.7/site-packages (from ray[tune]) (3.11.3)\n",
      "Requirement already satisfied: numpy>=1.16 in /Users/deanwampler/anaconda3/envs/ray-082/lib/python3.7/site-packages (from ray[tune]) (1.18.2)\n",
      "Requirement already satisfied: py-spy>=0.2.0 in /Users/deanwampler/anaconda3/envs/ray-082/lib/python3.7/site-packages (from ray[tune]) (0.3.3)\n",
      "Requirement already satisfied: click in /Users/deanwampler/anaconda3/envs/ray-082/lib/python3.7/site-packages (from ray[tune]) (7.1.1)\n",
      "Requirement already satisfied: aiohttp in /Users/deanwampler/anaconda3/envs/ray-082/lib/python3.7/site-packages (from ray[tune]) (3.6.2)\n",
      "Requirement already satisfied: grpcio in /Users/deanwampler/anaconda3/envs/ray-082/lib/python3.7/site-packages (from ray[tune]) (1.27.2)\n",
      "Requirement already satisfied: funcsigs in /Users/deanwampler/anaconda3/envs/ray-082/lib/python3.7/site-packages (from ray[tune]) (1.0.2)\n",
      "Requirement already satisfied: packaging in /Users/deanwampler/anaconda3/envs/ray-082/lib/python3.7/site-packages (from ray[tune]) (20.3)\n",
      "Requirement already satisfied: cloudpickle in /Users/deanwampler/anaconda3/envs/ray-082/lib/python3.7/site-packages (from ray[tune]) (1.3.0)\n",
      "Requirement already satisfied: filelock in /Users/deanwampler/anaconda3/envs/ray-082/lib/python3.7/site-packages (from ray[tune]) (3.0.12)\n",
      "Requirement already satisfied: colorama in /Users/deanwampler/anaconda3/envs/ray-082/lib/python3.7/site-packages (from ray[tune]) (0.4.3)\n",
      "Requirement already satisfied: pytest in /Users/deanwampler/anaconda3/envs/ray-082/lib/python3.7/site-packages (from ray[tune]) (5.4.1)\n",
      "Requirement already satisfied: redis>=3.3.2 in /Users/deanwampler/anaconda3/envs/ray-082/lib/python3.7/site-packages (from ray[tune]) (3.4.1)\n",
      "Requirement already satisfied: google in /Users/deanwampler/anaconda3/envs/ray-082/lib/python3.7/site-packages (from ray[tune]) (2.0.3)\n",
      "Requirement already satisfied: tensorboardX; extra == \"tune\" in /Users/deanwampler/anaconda3/envs/ray-082/lib/python3.7/site-packages (from ray[tune]) (2.0)\n",
      "Requirement already satisfied: tabulate; extra == \"tune\" in /Users/deanwampler/anaconda3/envs/ray-082/lib/python3.7/site-packages (from ray[tune]) (0.8.7)\n",
      "Requirement already satisfied: attrs>=17.4.0 in /Users/deanwampler/anaconda3/envs/ray-082/lib/python3.7/site-packages (from jsonschema->ray[tune]) (19.3.0)\n",
      "Requirement already satisfied: pyrsistent>=0.14.0 in /Users/deanwampler/anaconda3/envs/ray-082/lib/python3.7/site-packages (from jsonschema->ray[tune]) (0.16.0)\n",
      "Requirement already satisfied: importlib-metadata; python_version < \"3.8\" in /Users/deanwampler/anaconda3/envs/ray-082/lib/python3.7/site-packages (from jsonschema->ray[tune]) (1.5.2)\n",
      "Requirement already satisfied: setuptools in /Users/deanwampler/anaconda3/envs/ray-082/lib/python3.7/site-packages (from jsonschema->ray[tune]) (46.1.1.post20200323)\n",
      "Requirement already satisfied: chardet<4.0,>=2.0 in /Users/deanwampler/anaconda3/envs/ray-082/lib/python3.7/site-packages (from aiohttp->ray[tune]) (3.0.4)\n",
      "Requirement already satisfied: async-timeout<4.0,>=3.0 in /Users/deanwampler/anaconda3/envs/ray-082/lib/python3.7/site-packages (from aiohttp->ray[tune]) (3.0.1)\n",
      "Requirement already satisfied: multidict<5.0,>=4.5 in /Users/deanwampler/anaconda3/envs/ray-082/lib/python3.7/site-packages (from aiohttp->ray[tune]) (4.7.5)\n",
      "Requirement already satisfied: yarl<2.0,>=1.0 in /Users/deanwampler/anaconda3/envs/ray-082/lib/python3.7/site-packages (from aiohttp->ray[tune]) (1.4.2)\n",
      "Requirement already satisfied: pyparsing>=2.0.2 in /Users/deanwampler/anaconda3/envs/ray-082/lib/python3.7/site-packages (from packaging->ray[tune]) (2.4.6)\n",
      "Requirement already satisfied: py>=1.5.0 in /Users/deanwampler/anaconda3/envs/ray-082/lib/python3.7/site-packages (from pytest->ray[tune]) (1.8.1)\n",
      "Requirement already satisfied: more-itertools>=4.0.0 in /Users/deanwampler/anaconda3/envs/ray-082/lib/python3.7/site-packages (from pytest->ray[tune]) (8.2.0)\n",
      "Requirement already satisfied: pluggy<1.0,>=0.12 in /Users/deanwampler/anaconda3/envs/ray-082/lib/python3.7/site-packages (from pytest->ray[tune]) (0.13.1)\n",
      "Requirement already satisfied: wcwidth in /Users/deanwampler/anaconda3/envs/ray-082/lib/python3.7/site-packages (from pytest->ray[tune]) (0.1.9)\n",
      "Requirement already satisfied: beautifulsoup4 in /Users/deanwampler/anaconda3/envs/ray-082/lib/python3.7/site-packages (from google->ray[tune]) (4.8.2)\n",
      "Requirement already satisfied: zipp>=0.5 in /Users/deanwampler/anaconda3/envs/ray-082/lib/python3.7/site-packages (from importlib-metadata; python_version < \"3.8\"->jsonschema->ray[tune]) (3.1.0)\n",
      "Requirement already satisfied: idna>=2.0 in /Users/deanwampler/anaconda3/envs/ray-082/lib/python3.7/site-packages (from yarl<2.0,>=1.0->aiohttp->ray[tune]) (2.9)\n",
      "Requirement already satisfied: soupsieve>=1.2 in /Users/deanwampler/anaconda3/envs/ray-082/lib/python3.7/site-packages (from beautifulsoup4->google->ray[tune]) (2.0)\n",
      "Requirement already satisfied: pandas in /Users/deanwampler/anaconda3/envs/ray-082/lib/python3.7/site-packages (1.0.3)\n",
      "Requirement already satisfied: numpy>=1.13.3 in /Users/deanwampler/anaconda3/envs/ray-082/lib/python3.7/site-packages (from pandas) (1.18.2)\n",
      "Requirement already satisfied: python-dateutil>=2.6.1 in /Users/deanwampler/anaconda3/envs/ray-082/lib/python3.7/site-packages (from pandas) (2.8.1)\n",
      "Requirement already satisfied: pytz>=2017.2 in /Users/deanwampler/anaconda3/envs/ray-082/lib/python3.7/site-packages (from pandas) (2019.3)\n",
      "Requirement already satisfied: six>=1.5 in /Users/deanwampler/anaconda3/envs/ray-082/lib/python3.7/site-packages (from python-dateutil>=2.6.1->pandas) (1.14.0)\n",
      "Requirement already satisfied: requests in /Users/deanwampler/anaconda3/envs/ray-082/lib/python3.7/site-packages (2.23.0)\n",
      "Requirement already satisfied: certifi>=2017.4.17 in /Users/deanwampler/anaconda3/envs/ray-082/lib/python3.7/site-packages (from requests) (2019.11.28)\n",
      "Requirement already satisfied: chardet<4,>=3.0.2 in /Users/deanwampler/anaconda3/envs/ray-082/lib/python3.7/site-packages (from requests) (3.0.4)\n",
      "Requirement already satisfied: urllib3!=1.25.0,!=1.25.1,<1.26,>=1.21.1 in /Users/deanwampler/anaconda3/envs/ray-082/lib/python3.7/site-packages (from requests) (1.25.8)\n",
      "Requirement already satisfied: idna<3,>=2.5 in /Users/deanwampler/anaconda3/envs/ray-082/lib/python3.7/site-packages (from requests) (2.9)\n",
      "Collecting tensorflow\n",
      "  Downloading tensorflow-2.1.0-cp37-cp37m-macosx_10_11_x86_64.whl (120.8 MB)\n",
      "\u001b[K     |████████████████████████████████| 120.8 MB 10.4 MB/s eta 0:00:01    |█████▏                          | 19.4 MB 14.1 MB/s eta 0:00:08\n",
      "\u001b[?25hCollecting keras-applications>=1.0.8\n",
      "  Using cached Keras_Applications-1.0.8-py3-none-any.whl (50 kB)\n",
      "Processing /Users/deanwampler/Library/Caches/pip/wheels/7c/06/54/bc84598ba1daf8f970247f550b175aaaee85f68b4b0c5ab2c6/termcolor-1.1.0-cp37-none-any.whl\n",
      "Collecting google-pasta>=0.1.6\n",
      "  Downloading google_pasta-0.2.0-py3-none-any.whl (57 kB)\n",
      "\u001b[K     |████████████████████████████████| 57 kB 9.4 MB/s  eta 0:00:01\n",
      "\u001b[?25hCollecting wrapt>=1.11.1\n",
      "  Downloading wrapt-1.12.1.tar.gz (27 kB)\n",
      "Collecting opt-einsum>=2.3.2\n",
      "  Downloading opt_einsum-3.2.0-py3-none-any.whl (63 kB)\n",
      "\u001b[K     |████████████████████████████████| 63 kB 5.5 MB/s  eta 0:00:01\n",
      "\u001b[?25hCollecting tensorboard<2.2.0,>=2.1.0\n",
      "  Downloading tensorboard-2.1.1-py3-none-any.whl (3.8 MB)\n",
      "\u001b[K     |████████████████████████████████| 3.8 MB 14.0 MB/s eta 0:00:01\n",
      "\u001b[?25hCollecting tensorflow-estimator<2.2.0,>=2.1.0rc0\n",
      "  Downloading tensorflow_estimator-2.1.0-py2.py3-none-any.whl (448 kB)\n",
      "\u001b[K     |████████████████████████████████| 448 kB 14.6 MB/s eta 0:00:01\n",
      "\u001b[?25hProcessing /Users/deanwampler/Library/Caches/pip/wheels/5c/2e/7e/a1d4d4fcebe6c381f378ce7743a3ced3699feb89bcfbdadadd/gast-0.2.2-cp37-none-any.whl\n",
      "Collecting astor>=0.6.0\n",
      "  Using cached astor-0.8.1-py2.py3-none-any.whl (27 kB)\n",
      "Collecting keras-preprocessing>=1.1.0\n",
      "  Using cached Keras_Preprocessing-1.1.0-py2.py3-none-any.whl (41 kB)\n",
      "Requirement already satisfied: numpy<2.0,>=1.16.0 in /Users/deanwampler/anaconda3/envs/ray-082/lib/python3.7/site-packages (from tensorflow) (1.18.2)\n",
      "Requirement already satisfied: grpcio>=1.8.6 in /Users/deanwampler/anaconda3/envs/ray-082/lib/python3.7/site-packages (from tensorflow) (1.27.2)\n",
      "Requirement already satisfied: wheel>=0.26; python_version >= \"3\" in /Users/deanwampler/anaconda3/envs/ray-082/lib/python3.7/site-packages (from tensorflow) (0.34.2)\n",
      "Requirement already satisfied: protobuf>=3.8.0 in /Users/deanwampler/anaconda3/envs/ray-082/lib/python3.7/site-packages (from tensorflow) (3.11.3)\n",
      "Processing /Users/deanwampler/Library/Caches/pip/wheels/cc/af/1a/498a24d0730ef484019e007bb9e8cef3ac00311a672c049a3e/absl_py-0.9.0-py3-none-any.whl\n",
      "Requirement already satisfied: scipy==1.4.1; python_version >= \"3\" in /Users/deanwampler/anaconda3/envs/ray-082/lib/python3.7/site-packages (from tensorflow) (1.4.1)\n",
      "Requirement already satisfied: six>=1.12.0 in /Users/deanwampler/anaconda3/envs/ray-082/lib/python3.7/site-packages (from tensorflow) (1.14.0)\n",
      "Collecting h5py\n",
      "  Downloading h5py-2.10.0-cp37-cp37m-macosx_10_6_intel.whl (3.0 MB)\n",
      "\u001b[K     |████████████████████████████████| 3.0 MB 16.9 MB/s eta 0:00:01\n",
      "\u001b[?25hRequirement already satisfied: requests<3,>=2.21.0 in /Users/deanwampler/anaconda3/envs/ray-082/lib/python3.7/site-packages (from tensorboard<2.2.0,>=2.1.0->tensorflow) (2.23.0)\n",
      "Collecting google-auth<2,>=1.6.3\n",
      "  Downloading google_auth-1.12.0-py2.py3-none-any.whl (83 kB)\n",
      "\u001b[K     |████████████████████████████████| 83 kB 5.8 MB/s  eta 0:00:01\n",
      "\u001b[?25hCollecting google-auth-oauthlib<0.5,>=0.4.1\n",
      "  Using cached google_auth_oauthlib-0.4.1-py2.py3-none-any.whl (18 kB)\n",
      "Requirement already satisfied: setuptools>=41.0.0 in /Users/deanwampler/anaconda3/envs/ray-082/lib/python3.7/site-packages (from tensorboard<2.2.0,>=2.1.0->tensorflow) (46.1.1.post20200323)\n",
      "Collecting markdown>=2.6.8\n",
      "  Using cached Markdown-3.2.1-py2.py3-none-any.whl (88 kB)\n",
      "Collecting werkzeug>=0.11.15\n",
      "  Using cached Werkzeug-1.0.0-py2.py3-none-any.whl (298 kB)\n",
      "Requirement already satisfied: urllib3!=1.25.0,!=1.25.1,<1.26,>=1.21.1 in /Users/deanwampler/anaconda3/envs/ray-082/lib/python3.7/site-packages (from requests<3,>=2.21.0->tensorboard<2.2.0,>=2.1.0->tensorflow) (1.25.8)\n",
      "Requirement already satisfied: idna<3,>=2.5 in /Users/deanwampler/anaconda3/envs/ray-082/lib/python3.7/site-packages (from requests<3,>=2.21.0->tensorboard<2.2.0,>=2.1.0->tensorflow) (2.9)\n",
      "Requirement already satisfied: chardet<4,>=3.0.2 in /Users/deanwampler/anaconda3/envs/ray-082/lib/python3.7/site-packages (from requests<3,>=2.21.0->tensorboard<2.2.0,>=2.1.0->tensorflow) (3.0.4)\n",
      "Requirement already satisfied: certifi>=2017.4.17 in /Users/deanwampler/anaconda3/envs/ray-082/lib/python3.7/site-packages (from requests<3,>=2.21.0->tensorboard<2.2.0,>=2.1.0->tensorflow) (2019.11.28)\n",
      "Collecting cachetools<5.0,>=2.0.0\n",
      "  Using cached cachetools-4.0.0-py3-none-any.whl (10 kB)\n",
      "Collecting rsa<4.1,>=3.1.4\n",
      "  Using cached rsa-4.0-py2.py3-none-any.whl (38 kB)\n",
      "Collecting pyasn1-modules>=0.2.1\n",
      "  Using cached pyasn1_modules-0.2.8-py2.py3-none-any.whl (155 kB)\n",
      "Collecting requests-oauthlib>=0.7.0\n",
      "  Using cached requests_oauthlib-1.3.0-py2.py3-none-any.whl (23 kB)\n",
      "Collecting pyasn1>=0.1.3\n",
      "  Using cached pyasn1-0.4.8-py2.py3-none-any.whl (77 kB)\n",
      "Collecting oauthlib>=3.0.0\n",
      "  Using cached oauthlib-3.1.0-py2.py3-none-any.whl (147 kB)\n",
      "Building wheels for collected packages: wrapt\n",
      "  Building wheel for wrapt (setup.py) ... \u001b[?25ldone\n",
      "\u001b[?25h  Created wheel for wrapt: filename=wrapt-1.12.1-cp37-cp37m-macosx_10_9_x86_64.whl size=32422 sha256=eb047cf247c52c82d3a7757e7c40eadc42f806b0f5c2c1b09b92ffb26c5a6f1a\n",
      "  Stored in directory: /Users/deanwampler/Library/Caches/pip/wheels/62/76/4c/aa25851149f3f6d9785f6c869387ad82b3fd37582fa8147ac6\n",
      "Successfully built wrapt\n",
      "Installing collected packages: h5py, keras-applications, termcolor, google-pasta, wrapt, opt-einsum, cachetools, pyasn1, rsa, pyasn1-modules, google-auth, oauthlib, requests-oauthlib, google-auth-oauthlib, absl-py, markdown, werkzeug, tensorboard, tensorflow-estimator, gast, astor, keras-preprocessing, tensorflow\n",
      "Successfully installed absl-py-0.9.0 astor-0.8.1 cachetools-4.0.0 gast-0.2.2 google-auth-1.12.0 google-auth-oauthlib-0.4.1 google-pasta-0.2.0 h5py-2.10.0 keras-applications-1.0.8 keras-preprocessing-1.1.0 markdown-3.2.1 oauthlib-3.1.0 opt-einsum-3.2.0 pyasn1-0.4.8 pyasn1-modules-0.2.8 requests-oauthlib-1.3.0 rsa-4.0 tensorboard-2.1.1 tensorflow-2.1.0 tensorflow-estimator-2.1.0 termcolor-1.1.0 werkzeug-1.0.0 wrapt-1.12.1\n"
     ]
    }
   ],
   "source": [
    "!pip install ray[rllib]\n",
    "!pip install ray[debug]\n",
    "!pip install ray[tune]\n",
    "!pip install pandas\n",
    "!pip install requests\n",
    "!pip install tensorflow"
   ]
  },
  {
   "cell_type": "markdown",
   "metadata": {},
   "source": [
    "Then we start Ray…"
   ]
  },
  {
   "cell_type": "code",
   "execution_count": 8,
   "metadata": {},
   "outputs": [],
   "source": [
    "import ray"
   ]
  },
  {
   "cell_type": "code",
   "execution_count": 9,
   "metadata": {},
   "outputs": [],
   "source": [
    "import ray.rllib.agents.ppo as ppo"
   ]
  },
  {
   "cell_type": "code",
   "execution_count": 10,
   "metadata": {},
   "outputs": [
    {
     "name": "stderr",
     "output_type": "stream",
     "text": [
      "2020-03-26 13:59:34,521\tINFO resource_spec.py:212 -- Starting Ray with 4.25 GiB memory available for workers and up to 2.14 GiB for objects. You can adjust these settings with ray.init(memory=<bytes>, object_store_memory=<bytes>).\n",
      "2020-03-26 13:59:35,642\tINFO services.py:498 -- Failed to connect to the redis server, retrying.\n",
      "2020-03-26 13:59:36,225\tINFO services.py:1078 -- View the Ray dashboard at \u001b[1m\u001b[32mlocalhost:8265\u001b[39m\u001b[22m\n"
     ]
    },
    {
     "data": {
      "text/plain": [
       "{'node_ip_address': '192.168.1.149',\n",
       " 'redis_address': '192.168.1.149:64846',\n",
       " 'object_store_address': '/tmp/ray/session_2020-03-26_13-59-34_507167_72537/sockets/plasma_store',\n",
       " 'raylet_socket_name': '/tmp/ray/session_2020-03-26_13-59-34_507167_72537/sockets/raylet',\n",
       " 'webui_url': 'localhost:8265',\n",
       " 'session_dir': '/tmp/ray/session_2020-03-26_13-59-34_507167_72537'}"
      ]
     },
     "execution_count": 10,
     "metadata": {},
     "output_type": "execute_result"
    }
   ],
   "source": [
    "ray.shutdown()\n",
    "ray.init(ignore_reinit_error=True)"
   ]
  },
  {
   "cell_type": "markdown",
   "metadata": {},
   "source": [
    "After a successful launch, there should be a log output line that reads something to the effect of `View the Ray dashboard at localhost:8265` in which case open another browser tab for the Ray dashboard at <http://localhost:8265/>"
   ]
  },
  {
   "cell_type": "markdown",
   "metadata": {},
   "source": [
    "Next we'll train an RLlib policy with the `CartPole-v0` environment, which is a relatively simple and quick example. For more details about this problem, see the tutorial [*Cartpole - Introduction to Reinforcement Learning (DQN - Deep Q-Learning)*](https://towardsdatascience.com/cartpole-introduction-to-reinforcement-learning-ed0eb5b58288) by [Greg Surma](https://twitter.com/GSurma)."
   ]
  },
  {
   "cell_type": "code",
   "execution_count": 11,
   "metadata": {},
   "outputs": [
    {
     "name": "stderr",
     "output_type": "stream",
     "text": [
      "2020-03-26 15:11:39,770\tINFO trainer.py:580 -- Current log_level is WARN. For more information, set 'log_level': 'INFO' / 'DEBUG' or use the -v and -vv flags.\n"
     ]
    },
    {
     "ename": "ImportError",
     "evalue": "Could not import tensorflow",
     "output_type": "error",
     "traceback": [
      "\u001b[0;31m---------------------------------------------------------------------------\u001b[0m",
      "\u001b[0;31mImportError\u001b[0m                               Traceback (most recent call last)",
      "\u001b[0;32m<ipython-input-11-e9c1d80ee5c4>\u001b[0m in \u001b[0;36m<module>\u001b[0;34m\u001b[0m\n\u001b[1;32m      5\u001b[0m \u001b[0mreward_history\u001b[0m \u001b[0;34m=\u001b[0m \u001b[0;34m[\u001b[0m\u001b[0;34m]\u001b[0m\u001b[0;34m\u001b[0m\u001b[0;34m\u001b[0m\u001b[0m\n\u001b[1;32m      6\u001b[0m \u001b[0;34m\u001b[0m\u001b[0m\n\u001b[0;32m----> 7\u001b[0;31m \u001b[0magent\u001b[0m \u001b[0;34m=\u001b[0m \u001b[0mppo\u001b[0m\u001b[0;34m.\u001b[0m\u001b[0mPPOTrainer\u001b[0m\u001b[0;34m(\u001b[0m\u001b[0mconfig\u001b[0m\u001b[0;34m,\u001b[0m \u001b[0menv\u001b[0m\u001b[0;34m=\u001b[0m\u001b[0;34m\"CartPole-v0\"\u001b[0m\u001b[0;34m)\u001b[0m\u001b[0;34m\u001b[0m\u001b[0;34m\u001b[0m\u001b[0m\n\u001b[0m\u001b[1;32m      8\u001b[0m \u001b[0;34m\u001b[0m\u001b[0m\n\u001b[1;32m      9\u001b[0m \u001b[0;32mfor\u001b[0m \u001b[0m_\u001b[0m \u001b[0;32min\u001b[0m \u001b[0mrange\u001b[0m\u001b[0;34m(\u001b[0m\u001b[0mn_iter\u001b[0m\u001b[0;34m)\u001b[0m\u001b[0;34m:\u001b[0m\u001b[0;34m\u001b[0m\u001b[0;34m\u001b[0m\u001b[0m\n",
      "\u001b[0;32m~/anaconda3/envs/ray-082/lib/python3.7/site-packages/ray/rllib/agents/trainer_template.py\u001b[0m in \u001b[0;36m__init__\u001b[0;34m(self, config, env, logger_creator)\u001b[0m\n\u001b[1;32m     84\u001b[0m \u001b[0;34m\u001b[0m\u001b[0m\n\u001b[1;32m     85\u001b[0m         \u001b[0;32mdef\u001b[0m \u001b[0m__init__\u001b[0m\u001b[0;34m(\u001b[0m\u001b[0mself\u001b[0m\u001b[0;34m,\u001b[0m \u001b[0mconfig\u001b[0m\u001b[0;34m=\u001b[0m\u001b[0;32mNone\u001b[0m\u001b[0;34m,\u001b[0m \u001b[0menv\u001b[0m\u001b[0;34m=\u001b[0m\u001b[0;32mNone\u001b[0m\u001b[0;34m,\u001b[0m \u001b[0mlogger_creator\u001b[0m\u001b[0;34m=\u001b[0m\u001b[0;32mNone\u001b[0m\u001b[0;34m)\u001b[0m\u001b[0;34m:\u001b[0m\u001b[0;34m\u001b[0m\u001b[0;34m\u001b[0m\u001b[0m\n\u001b[0;32m---> 86\u001b[0;31m             \u001b[0mTrainer\u001b[0m\u001b[0;34m.\u001b[0m\u001b[0m__init__\u001b[0m\u001b[0;34m(\u001b[0m\u001b[0mself\u001b[0m\u001b[0;34m,\u001b[0m \u001b[0mconfig\u001b[0m\u001b[0;34m,\u001b[0m \u001b[0menv\u001b[0m\u001b[0;34m,\u001b[0m \u001b[0mlogger_creator\u001b[0m\u001b[0;34m)\u001b[0m\u001b[0;34m\u001b[0m\u001b[0;34m\u001b[0m\u001b[0m\n\u001b[0m\u001b[1;32m     87\u001b[0m \u001b[0;34m\u001b[0m\u001b[0m\n\u001b[1;32m     88\u001b[0m         \u001b[0;32mdef\u001b[0m \u001b[0m_init\u001b[0m\u001b[0;34m(\u001b[0m\u001b[0mself\u001b[0m\u001b[0;34m,\u001b[0m \u001b[0mconfig\u001b[0m\u001b[0;34m,\u001b[0m \u001b[0menv_creator\u001b[0m\u001b[0;34m)\u001b[0m\u001b[0;34m:\u001b[0m\u001b[0;34m\u001b[0m\u001b[0;34m\u001b[0m\u001b[0m\n",
      "\u001b[0;32m~/anaconda3/envs/ray-082/lib/python3.7/site-packages/ray/rllib/agents/trainer.py\u001b[0m in \u001b[0;36m__init__\u001b[0;34m(self, config, env, logger_creator)\u001b[0m\n\u001b[1;32m    445\u001b[0m             \u001b[0mlogger_creator\u001b[0m \u001b[0;34m=\u001b[0m \u001b[0mdefault_logger_creator\u001b[0m\u001b[0;34m\u001b[0m\u001b[0;34m\u001b[0m\u001b[0m\n\u001b[1;32m    446\u001b[0m \u001b[0;34m\u001b[0m\u001b[0m\n\u001b[0;32m--> 447\u001b[0;31m         \u001b[0msuper\u001b[0m\u001b[0;34m(\u001b[0m\u001b[0;34m)\u001b[0m\u001b[0;34m.\u001b[0m\u001b[0m__init__\u001b[0m\u001b[0;34m(\u001b[0m\u001b[0mconfig\u001b[0m\u001b[0;34m,\u001b[0m \u001b[0mlogger_creator\u001b[0m\u001b[0;34m)\u001b[0m\u001b[0;34m\u001b[0m\u001b[0;34m\u001b[0m\u001b[0m\n\u001b[0m\u001b[1;32m    448\u001b[0m \u001b[0;34m\u001b[0m\u001b[0m\n\u001b[1;32m    449\u001b[0m     \u001b[0;34m@\u001b[0m\u001b[0mclassmethod\u001b[0m\u001b[0;34m\u001b[0m\u001b[0;34m\u001b[0m\u001b[0m\n",
      "\u001b[0;32m~/anaconda3/envs/ray-082/lib/python3.7/site-packages/ray/tune/trainable.py\u001b[0m in \u001b[0;36m__init__\u001b[0;34m(self, config, logger_creator)\u001b[0m\n\u001b[1;32m    170\u001b[0m \u001b[0;34m\u001b[0m\u001b[0m\n\u001b[1;32m    171\u001b[0m         \u001b[0mstart_time\u001b[0m \u001b[0;34m=\u001b[0m \u001b[0mtime\u001b[0m\u001b[0;34m.\u001b[0m\u001b[0mtime\u001b[0m\u001b[0;34m(\u001b[0m\u001b[0;34m)\u001b[0m\u001b[0;34m\u001b[0m\u001b[0;34m\u001b[0m\u001b[0m\n\u001b[0;32m--> 172\u001b[0;31m         \u001b[0mself\u001b[0m\u001b[0;34m.\u001b[0m\u001b[0m_setup\u001b[0m\u001b[0;34m(\u001b[0m\u001b[0mcopy\u001b[0m\u001b[0;34m.\u001b[0m\u001b[0mdeepcopy\u001b[0m\u001b[0;34m(\u001b[0m\u001b[0mself\u001b[0m\u001b[0;34m.\u001b[0m\u001b[0mconfig\u001b[0m\u001b[0;34m)\u001b[0m\u001b[0;34m)\u001b[0m\u001b[0;34m\u001b[0m\u001b[0;34m\u001b[0m\u001b[0m\n\u001b[0m\u001b[1;32m    173\u001b[0m         \u001b[0msetup_time\u001b[0m \u001b[0;34m=\u001b[0m \u001b[0mtime\u001b[0m\u001b[0;34m.\u001b[0m\u001b[0mtime\u001b[0m\u001b[0;34m(\u001b[0m\u001b[0;34m)\u001b[0m \u001b[0;34m-\u001b[0m \u001b[0mstart_time\u001b[0m\u001b[0;34m\u001b[0m\u001b[0;34m\u001b[0m\u001b[0m\n\u001b[1;32m    174\u001b[0m         \u001b[0;32mif\u001b[0m \u001b[0msetup_time\u001b[0m \u001b[0;34m>\u001b[0m \u001b[0mSETUP_TIME_THRESHOLD\u001b[0m\u001b[0;34m:\u001b[0m\u001b[0;34m\u001b[0m\u001b[0;34m\u001b[0m\u001b[0m\n",
      "\u001b[0;32m~/anaconda3/envs/ray-082/lib/python3.7/site-packages/ray/rllib/agents/trainer.py\u001b[0m in \u001b[0;36m_setup\u001b[0;34m(self, config)\u001b[0m\n\u001b[1;32m    589\u001b[0m \u001b[0;34m\u001b[0m\u001b[0m\n\u001b[1;32m    590\u001b[0m         \u001b[0;32mwith\u001b[0m \u001b[0mget_scope\u001b[0m\u001b[0;34m(\u001b[0m\u001b[0;34m)\u001b[0m\u001b[0;34m:\u001b[0m\u001b[0;34m\u001b[0m\u001b[0;34m\u001b[0m\u001b[0m\n\u001b[0;32m--> 591\u001b[0;31m             \u001b[0mself\u001b[0m\u001b[0;34m.\u001b[0m\u001b[0m_init\u001b[0m\u001b[0;34m(\u001b[0m\u001b[0mself\u001b[0m\u001b[0;34m.\u001b[0m\u001b[0mconfig\u001b[0m\u001b[0;34m,\u001b[0m \u001b[0mself\u001b[0m\u001b[0;34m.\u001b[0m\u001b[0menv_creator\u001b[0m\u001b[0;34m)\u001b[0m\u001b[0;34m\u001b[0m\u001b[0;34m\u001b[0m\u001b[0m\n\u001b[0m\u001b[1;32m    592\u001b[0m \u001b[0;34m\u001b[0m\u001b[0m\n\u001b[1;32m    593\u001b[0m             \u001b[0;31m# Evaluation setup.\u001b[0m\u001b[0;34m\u001b[0m\u001b[0;34m\u001b[0m\u001b[0;34m\u001b[0m\u001b[0m\n",
      "\u001b[0;32m~/anaconda3/envs/ray-082/lib/python3.7/site-packages/ray/rllib/agents/trainer_template.py\u001b[0m in \u001b[0;36m_init\u001b[0;34m(self, config, env_creator)\u001b[0m\n\u001b[1;32m    103\u001b[0m             \u001b[0;32melse\u001b[0m\u001b[0;34m:\u001b[0m\u001b[0;34m\u001b[0m\u001b[0;34m\u001b[0m\u001b[0m\n\u001b[1;32m    104\u001b[0m                 self.workers = self._make_workers(env_creator, policy, config,\n\u001b[0;32m--> 105\u001b[0;31m                                                   self.config[\"num_workers\"])\n\u001b[0m\u001b[1;32m    106\u001b[0m             \u001b[0mself\u001b[0m\u001b[0;34m.\u001b[0m\u001b[0mtrain_pipeline\u001b[0m \u001b[0;34m=\u001b[0m \u001b[0;32mNone\u001b[0m\u001b[0;34m\u001b[0m\u001b[0;34m\u001b[0m\u001b[0m\n\u001b[1;32m    107\u001b[0m             \u001b[0mself\u001b[0m\u001b[0;34m.\u001b[0m\u001b[0moptimizer\u001b[0m \u001b[0;34m=\u001b[0m \u001b[0;32mNone\u001b[0m\u001b[0;34m\u001b[0m\u001b[0;34m\u001b[0m\u001b[0m\n",
      "\u001b[0;32m~/anaconda3/envs/ray-082/lib/python3.7/site-packages/ray/rllib/agents/trainer.py\u001b[0m in \u001b[0;36m_make_workers\u001b[0;34m(self, env_creator, policy, config, num_workers)\u001b[0m\n\u001b[1;32m    656\u001b[0m             \u001b[0mconfig\u001b[0m\u001b[0;34m,\u001b[0m\u001b[0;34m\u001b[0m\u001b[0;34m\u001b[0m\u001b[0m\n\u001b[1;32m    657\u001b[0m             \u001b[0mnum_workers\u001b[0m\u001b[0;34m=\u001b[0m\u001b[0mnum_workers\u001b[0m\u001b[0;34m,\u001b[0m\u001b[0;34m\u001b[0m\u001b[0;34m\u001b[0m\u001b[0m\n\u001b[0;32m--> 658\u001b[0;31m             logdir=self.logdir)\n\u001b[0m\u001b[1;32m    659\u001b[0m \u001b[0;34m\u001b[0m\u001b[0m\n\u001b[1;32m    660\u001b[0m     \u001b[0;34m@\u001b[0m\u001b[0mDeveloperAPI\u001b[0m\u001b[0;34m\u001b[0m\u001b[0;34m\u001b[0m\u001b[0m\n",
      "\u001b[0;32m~/anaconda3/envs/ray-082/lib/python3.7/site-packages/ray/rllib/evaluation/worker_set.py\u001b[0m in \u001b[0;36m__init__\u001b[0;34m(self, env_creator, policy, trainer_config, num_workers, logdir, _setup)\u001b[0m\n\u001b[1;32m     58\u001b[0m             \u001b[0;31m# Always create a local worker\u001b[0m\u001b[0;34m\u001b[0m\u001b[0;34m\u001b[0m\u001b[0;34m\u001b[0m\u001b[0m\n\u001b[1;32m     59\u001b[0m             self._local_worker = self._make_worker(\n\u001b[0;32m---> 60\u001b[0;31m                 RolloutWorker, env_creator, policy, 0, self._local_config)\n\u001b[0m\u001b[1;32m     61\u001b[0m \u001b[0;34m\u001b[0m\u001b[0m\n\u001b[1;32m     62\u001b[0m             \u001b[0;31m# Create a number of remote workers\u001b[0m\u001b[0;34m\u001b[0m\u001b[0;34m\u001b[0m\u001b[0;34m\u001b[0m\u001b[0m\n",
      "\u001b[0;32m~/anaconda3/envs/ray-082/lib/python3.7/site-packages/ray/rllib/evaluation/worker_set.py\u001b[0m in \u001b[0;36m_make_worker\u001b[0;34m(self, cls, env_creator, policy, worker_index, config)\u001b[0m\n\u001b[1;32m    260\u001b[0m             \u001b[0mseed\u001b[0m\u001b[0;34m=\u001b[0m\u001b[0;34m(\u001b[0m\u001b[0mconfig\u001b[0m\u001b[0;34m[\u001b[0m\u001b[0;34m\"seed\"\u001b[0m\u001b[0;34m]\u001b[0m \u001b[0;34m+\u001b[0m \u001b[0mworker_index\u001b[0m\u001b[0;34m)\u001b[0m\u001b[0;34m\u001b[0m\u001b[0;34m\u001b[0m\u001b[0m\n\u001b[1;32m    261\u001b[0m             \u001b[0;32mif\u001b[0m \u001b[0mconfig\u001b[0m\u001b[0;34m[\u001b[0m\u001b[0;34m\"seed\"\u001b[0m\u001b[0;34m]\u001b[0m \u001b[0;32mis\u001b[0m \u001b[0;32mnot\u001b[0m \u001b[0;32mNone\u001b[0m \u001b[0;32melse\u001b[0m \u001b[0;32mNone\u001b[0m\u001b[0;34m,\u001b[0m\u001b[0;34m\u001b[0m\u001b[0;34m\u001b[0m\u001b[0m\n\u001b[0;32m--> 262\u001b[0;31m             _fake_sampler=config.get(\"_fake_sampler\", False))\n\u001b[0m",
      "\u001b[0;32m~/anaconda3/envs/ray-082/lib/python3.7/site-packages/ray/rllib/evaluation/rollout_worker.py\u001b[0m in \u001b[0;36m__init__\u001b[0;34m(self, env_creator, policy, policy_mapping_fn, policies_to_train, tf_session_creator, batch_steps, batch_mode, episode_horizon, preprocessor_pref, sample_async, compress_observations, num_envs, observation_filter, clip_rewards, clip_actions, env_config, model_config, policy_config, worker_index, num_workers, monitor_path, log_dir, log_level, callbacks, input_creator, input_evaluation, output_creator, remote_worker_envs, remote_env_batch_wait_ms, soft_horizon, no_done_at_end, seed, _fake_sampler)\u001b[0m\n\u001b[1;32m    340\u001b[0m                                                        tf.executing_eagerly()):\n\u001b[1;32m    341\u001b[0m             \u001b[0;32mif\u001b[0m \u001b[0;32mnot\u001b[0m \u001b[0mtf\u001b[0m\u001b[0;34m:\u001b[0m\u001b[0;34m\u001b[0m\u001b[0;34m\u001b[0m\u001b[0m\n\u001b[0;32m--> 342\u001b[0;31m                 \u001b[0;32mraise\u001b[0m \u001b[0mImportError\u001b[0m\u001b[0;34m(\u001b[0m\u001b[0;34m\"Could not import tensorflow\"\u001b[0m\u001b[0;34m)\u001b[0m\u001b[0;34m\u001b[0m\u001b[0;34m\u001b[0m\u001b[0m\n\u001b[0m\u001b[1;32m    343\u001b[0m             \u001b[0;32mwith\u001b[0m \u001b[0mtf\u001b[0m\u001b[0;34m.\u001b[0m\u001b[0mGraph\u001b[0m\u001b[0;34m(\u001b[0m\u001b[0;34m)\u001b[0m\u001b[0;34m.\u001b[0m\u001b[0mas_default\u001b[0m\u001b[0;34m(\u001b[0m\u001b[0;34m)\u001b[0m\u001b[0;34m:\u001b[0m\u001b[0;34m\u001b[0m\u001b[0;34m\u001b[0m\u001b[0m\n\u001b[1;32m    344\u001b[0m                 \u001b[0;32mif\u001b[0m \u001b[0mtf_session_creator\u001b[0m\u001b[0;34m:\u001b[0m\u001b[0;34m\u001b[0m\u001b[0;34m\u001b[0m\u001b[0m\n",
      "\u001b[0;31mImportError\u001b[0m: Could not import tensorflow"
     ]
    }
   ],
   "source": [
    "config = ppo.DEFAULT_CONFIG.copy()\n",
    "config[\"log_level\"] = \"WARN\"\n",
    "\n",
    "n_iter = 10\n",
    "reward_history = []\n",
    "\n",
    "agent = ppo.PPOTrainer(config, env=\"CartPole-v0\")\n",
    "\n",
    "for _ in range(n_iter):\n",
    "    result = agent.train()\n",
    "    print(result)\n",
    "\n",
    "    max_reward = result[\"episode_reward_max\"]\n",
    "    reward_history.append(max_reward)\n",
    "\n",
    "    file_name = agent.save(\"/tmp/ppo\")\n",
    "    print(f\"\\n{file_name}\")"
   ]
  },
  {
   "cell_type": "code",
   "execution_count": 4,
   "metadata": {},
   "outputs": [
    {
     "name": "stdout",
     "output_type": "stream",
     "text": [
      "[75.0, 145.0, 200.0, 200.0, 200.0, 200.0, 200.0, 200.0, 200.0, 200.0]\n"
     ]
    }
   ],
   "source": [
    "print(reward_history)"
   ]
  },
  {
   "cell_type": "markdown",
   "metadata": {
    "colab_type": "text",
    "id": "Gp1LgeCJjGLk"
   },
   "source": [
    "The history of `max_reward` shows that this model `200` by the third iteration -- which is good, since the [*solution*](https://gym.openai.com/envs/CartPole-v0/) for `CartPole-v0` is to get an average reward of `195.0` over a hundred consecutive trials."
   ]
  },
  {
   "cell_type": "code",
   "execution_count": 7,
   "metadata": {},
   "outputs": [
    {
     "name": "stdout",
     "output_type": "stream",
     "text": [
      "2020-03-21 18:13:13,752\tINFO resource_spec.py:212 -- Starting Ray with 4.15 GiB memory available for workers and up to 2.09 GiB for objects. You can adjust these settings with ray.init(memory=<bytes>, object_store_memory=<bytes>).\n",
      "2020-03-21 18:13:14,122\tINFO services.py:1078 -- View the Ray dashboard at \u001b[1m\u001b[32mlocalhost:8266\u001b[39m\u001b[22m\n",
      "2020-03-21 18:13:14,807\tINFO trainer.py:420 -- Tip: set 'eager': true or the --eager flag to enable TensorFlow eager execution\n",
      "2020-03-21 18:13:14,840\tINFO trainer.py:580 -- Current log_level is WARN. For more information, set 'log_level': 'INFO' / 'DEBUG' or use the -v and -vv flags.\n",
      "/opt/anaconda3/lib/python3.7/site-packages/ray/rllib/utils/from_config.py:134: YAMLLoadWarning: calling yaml.load() without Loader=... is deprecated, as the default Loader is unsafe. Please read https://msg.pyyaml.org/load for full details.\n",
      "  obj = yaml.load(type_)\n",
      "2020-03-21 18:13:19,704\tWARNING util.py:37 -- Install gputil for GPU system monitoring.\n",
      "2020-03-21 18:13:19,802\tWARNING trainable.py:210 -- Getting current IP.\n",
      "2020-03-21 18:13:19,802\tINFO trainable.py:416 -- Restored on 192.168.1.65 from checkpoint: /tmp/ppo/checkpoint_10/checkpoint-10\n",
      "2020-03-21 18:13:19,802\tINFO trainable.py:423 -- Current state after restoring: {'_iteration': 10, '_timesteps_total': 40000, '_time_total': 41.65511107444763, '_episodes_total': 448}\n",
      "\u001b[2m\u001b[36m(pid=3040)\u001b[0m /opt/anaconda3/lib/python3.7/site-packages/ray/rllib/utils/from_config.py:134: YAMLLoadWarning: calling yaml.load() without Loader=... is deprecated, as the default Loader is unsafe. Please read https://msg.pyyaml.org/load for full details.\n",
      "\u001b[2m\u001b[36m(pid=3040)\u001b[0m   obj = yaml.load(type_)\n",
      "\u001b[2m\u001b[36m(pid=3043)\u001b[0m /opt/anaconda3/lib/python3.7/site-packages/ray/rllib/utils/from_config.py:134: YAMLLoadWarning: calling yaml.load() without Loader=... is deprecated, as the default Loader is unsafe. Please read https://msg.pyyaml.org/load for full details.\n",
      "\u001b[2m\u001b[36m(pid=3043)\u001b[0m   obj = yaml.load(type_)\n",
      "Episode #0: reward: 200.0\n",
      "Episode #1: reward: 200.0\n",
      "Episode #2: reward: 200.0\n",
      "Episode #3: reward: 200.0\n",
      "Episode #4: reward: 200.0\n",
      "Episode #5: reward: 200.0\n",
      "Episode #6: reward: 200.0\n",
      "Episode #7: reward: 200.0\n",
      "Episode #8: reward: 200.0\n",
      "Episode #9: reward: 200.0\n"
     ]
    }
   ],
   "source": [
    "! rllib rollout \\\n",
    "    /tmp/ppo/checkpoint_10/checkpoint-10 \\\n",
    "    --config \"{\\\"env\\\": \\\"CartPole-v0\\\"}\" --run PPO \\\n",
    "    --steps 2000"
   ]
  },
  {
   "cell_type": "markdown",
   "metadata": {
    "colab_type": "text",
    "id": "tI9vJ1vU6Mj1"
   },
   "source": [
    "Now that we've trained a model, we can look at its resulting policy…"
   ]
  },
  {
   "cell_type": "code",
   "execution_count": 5,
   "metadata": {
    "colab": {
     "base_uri": "https://localhost:8080/",
     "height": 272
    },
    "colab_type": "code",
    "id": "NylH7aYqh72O",
    "outputId": "54469bad-83d0-471c-c036-04d6ca2838d3"
   },
   "outputs": [
    {
     "name": "stdout",
     "output_type": "stream",
     "text": [
      "[<tf.Variable 'default_policy/fc_1/kernel:0' shape=(4, 256) dtype=float32>,\n",
      " <tf.Variable 'default_policy/fc_1/bias:0' shape=(256,) dtype=float32>,\n",
      " <tf.Variable 'default_policy/fc_value_1/kernel:0' shape=(4, 256) dtype=float32>,\n",
      " <tf.Variable 'default_policy/fc_value_1/bias:0' shape=(256,) dtype=float32>,\n",
      " <tf.Variable 'default_policy/fc_2/kernel:0' shape=(256, 256) dtype=float32>,\n",
      " <tf.Variable 'default_policy/fc_2/bias:0' shape=(256,) dtype=float32>,\n",
      " <tf.Variable 'default_policy/fc_value_2/kernel:0' shape=(256, 256) dtype=float32>,\n",
      " <tf.Variable 'default_policy/fc_value_2/bias:0' shape=(256,) dtype=float32>,\n",
      " <tf.Variable 'default_policy/fc_out/kernel:0' shape=(256, 2) dtype=float32>,\n",
      " <tf.Variable 'default_policy/fc_out/bias:0' shape=(2,) dtype=float32>,\n",
      " <tf.Variable 'default_policy/value_out/kernel:0' shape=(256, 1) dtype=float32>,\n",
      " <tf.Variable 'default_policy/value_out/bias:0' shape=(1,) dtype=float32>]\n",
      "<tf.Tensor 'Reshape:0' shape=(?,) dtype=float32>\n"
     ]
    }
   ],
   "source": [
    "import pprint\n",
    "\n",
    "policy = agent.get_policy()\n",
    "model = policy.model\n",
    "\n",
    "pprint.pprint(model.variables())\n",
    "pprint.pprint(model.value_function())"
   ]
  },
  {
   "cell_type": "code",
   "execution_count": 6,
   "metadata": {
    "colab": {
     "base_uri": "https://localhost:8080/",
     "height": 289
    },
    "colab_type": "code",
    "id": "QxLGf4eQGP9Q",
    "outputId": "d9b20198-06cc-444d-bf20-25803c7e8486"
   },
   "outputs": [
    {
     "name": "stdout",
     "output_type": "stream",
     "text": [
      "Model: \"model\"\n",
      "__________________________________________________________________________________________________\n",
      "Layer (type)                    Output Shape         Param #     Connected to                     \n",
      "==================================================================================================\n",
      "observations (InputLayer)       [(None, 4)]          0                                            \n",
      "__________________________________________________________________________________________________\n",
      "fc_1 (Dense)                    (None, 256)          1280        observations[0][0]               \n",
      "__________________________________________________________________________________________________\n",
      "fc_value_1 (Dense)              (None, 256)          1280        observations[0][0]               \n",
      "__________________________________________________________________________________________________\n",
      "fc_2 (Dense)                    (None, 256)          65792       fc_1[0][0]                       \n",
      "__________________________________________________________________________________________________\n",
      "fc_value_2 (Dense)              (None, 256)          65792       fc_value_1[0][0]                 \n",
      "__________________________________________________________________________________________________\n",
      "fc_out (Dense)                  (None, 2)            514         fc_2[0][0]                       \n",
      "__________________________________________________________________________________________________\n",
      "value_out (Dense)               (None, 1)            257         fc_value_2[0][0]                 \n",
      "==================================================================================================\n",
      "Total params: 134,915\n",
      "Trainable params: 134,915\n",
      "Non-trainable params: 0\n",
      "__________________________________________________________________________________________________\n"
     ]
    }
   ],
   "source": [
    "model.base_model.summary()"
   ]
  }
 ],
 "metadata": {
  "colab": {
   "collapsed_sections": [],
   "name": "Copy of rllib_ppo_dqn.ipynb",
   "provenance": []
  },
  "kernelspec": {
   "display_name": "Python 3",
   "language": "python",
   "name": "python3"
  },
  "language_info": {
   "codemirror_mode": {
    "name": "ipython",
    "version": 3
   },
   "file_extension": ".py",
   "mimetype": "text/x-python",
   "name": "python",
   "nbconvert_exporter": "python",
   "pygments_lexer": "ipython3",
   "version": "3.7.7"
  }
 },
 "nbformat": 4,
 "nbformat_minor": 4
}
