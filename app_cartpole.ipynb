{
 "cells": [
  {
   "cell_type": "markdown",
   "metadata": {
    "colab_type": "text",
    "id": "JD0Eu7JWdVqY"
   },
   "source": [
    "# RLlib Sample Application: CartPole"
   ]
  },
  {
   "cell_type": "markdown",
   "metadata": {},
   "source": [
    "First, let's make sure that Ray and RLlib are installed…"
   ]
  },
  {
   "cell_type": "code",
   "execution_count": 1,
   "metadata": {},
   "outputs": [
    {
     "name": "stdout",
     "output_type": "stream",
     "text": [
      "Requirement already satisfied: ray[rllib] in /opt/anaconda3/lib/python3.7/site-packages (0.8.2)\n",
      "Requirement already satisfied: funcsigs in /opt/anaconda3/lib/python3.7/site-packages (from ray[rllib]) (1.0.2)\n",
      "Requirement already satisfied: pyyaml in /opt/anaconda3/lib/python3.7/site-packages (from ray[rllib]) (5.1.2)\n",
      "Requirement already satisfied: cloudpickle in /opt/anaconda3/lib/python3.7/site-packages (from ray[rllib]) (1.2.2)\n",
      "Requirement already satisfied: redis>=3.3.2 in /opt/anaconda3/lib/python3.7/site-packages (from ray[rllib]) (3.3.11)\n",
      "Requirement already satisfied: click in /opt/anaconda3/lib/python3.7/site-packages (from ray[rllib]) (7.0)\n",
      "Requirement already satisfied: grpcio in /opt/anaconda3/lib/python3.7/site-packages (from ray[rllib]) (1.26.0)\n",
      "Requirement already satisfied: packaging in /opt/anaconda3/lib/python3.7/site-packages (from ray[rllib]) (19.2)\n",
      "Requirement already satisfied: protobuf>=3.8.0 in /opt/anaconda3/lib/python3.7/site-packages (from ray[rllib]) (3.11.2)\n",
      "Requirement already satisfied: jsonschema in /opt/anaconda3/lib/python3.7/site-packages (from ray[rllib]) (3.0.2)\n",
      "Requirement already satisfied: numpy>=1.16 in /opt/anaconda3/lib/python3.7/site-packages (from ray[rllib]) (1.18.1)\n",
      "Requirement already satisfied: pytest in /opt/anaconda3/lib/python3.7/site-packages (from ray[rllib]) (4.1.1)\n",
      "Requirement already satisfied: google in /opt/anaconda3/lib/python3.7/site-packages (from ray[rllib]) (2.0.3)\n",
      "Requirement already satisfied: aiohttp in /opt/anaconda3/lib/python3.7/site-packages (from ray[rllib]) (3.6.2)\n",
      "Requirement already satisfied: py-spy>=0.2.0 in /opt/anaconda3/lib/python3.7/site-packages (from ray[rllib]) (0.3.3)\n",
      "Requirement already satisfied: six>=1.0.0 in /opt/anaconda3/lib/python3.7/site-packages (from ray[rllib]) (1.12.0)\n",
      "Requirement already satisfied: filelock in /opt/anaconda3/lib/python3.7/site-packages (from ray[rllib]) (3.0.12)\n",
      "Requirement already satisfied: colorama in /opt/anaconda3/lib/python3.7/site-packages (from ray[rllib]) (0.4.1)\n",
      "Requirement already satisfied: scipy; extra == \"rllib\" in /opt/anaconda3/lib/python3.7/site-packages (from ray[rllib]) (1.4.1)\n",
      "Requirement already satisfied: lz4; extra == \"rllib\" in /opt/anaconda3/lib/python3.7/site-packages (from ray[rllib]) (3.0.2)\n",
      "Requirement already satisfied: gym[atari]; extra == \"rllib\" in /opt/anaconda3/lib/python3.7/site-packages (from ray[rllib]) (0.15.4)\n",
      "Requirement already satisfied: tabulate; extra == \"rllib\" in /opt/anaconda3/lib/python3.7/site-packages (from ray[rllib]) (0.8.6)\n",
      "Requirement already satisfied: tensorboardX; extra == \"rllib\" in /opt/anaconda3/lib/python3.7/site-packages (from ray[rllib]) (1.9)\n",
      "Requirement already satisfied: opencv-python-headless; extra == \"rllib\" in /opt/anaconda3/lib/python3.7/site-packages (from ray[rllib]) (4.1.2.30)\n",
      "Requirement already satisfied: pyparsing>=2.0.2 in /opt/anaconda3/lib/python3.7/site-packages (from packaging->ray[rllib]) (2.3.1)\n",
      "Requirement already satisfied: setuptools in /opt/anaconda3/lib/python3.7/site-packages (from protobuf>=3.8.0->ray[rllib]) (45.2.0)\n",
      "Requirement already satisfied: attrs>=17.4.0 in /opt/anaconda3/lib/python3.7/site-packages (from jsonschema->ray[rllib]) (19.2.0)\n",
      "Requirement already satisfied: pyrsistent>=0.14.0 in /opt/anaconda3/lib/python3.7/site-packages (from jsonschema->ray[rllib]) (0.15.4)\n",
      "Requirement already satisfied: more-itertools>=4.0.0 in /opt/anaconda3/lib/python3.7/site-packages (from pytest->ray[rllib]) (7.2.0)\n",
      "Requirement already satisfied: pluggy>=0.7 in /opt/anaconda3/lib/python3.7/site-packages (from pytest->ray[rllib]) (0.13.0)\n",
      "Requirement already satisfied: atomicwrites>=1.0 in /opt/anaconda3/lib/python3.7/site-packages (from pytest->ray[rllib]) (1.3.0)\n",
      "Requirement already satisfied: py>=1.5.0 in /opt/anaconda3/lib/python3.7/site-packages (from pytest->ray[rllib]) (1.8.0)\n",
      "Requirement already satisfied: beautifulsoup4 in /opt/anaconda3/lib/python3.7/site-packages (from google->ray[rllib]) (4.8.0)\n",
      "Requirement already satisfied: async-timeout<4.0,>=3.0 in /opt/anaconda3/lib/python3.7/site-packages (from aiohttp->ray[rllib]) (3.0.1)\n",
      "Requirement already satisfied: chardet<4.0,>=2.0 in /opt/anaconda3/lib/python3.7/site-packages (from aiohttp->ray[rllib]) (3.0.4)\n",
      "Requirement already satisfied: yarl<2.0,>=1.0 in /opt/anaconda3/lib/python3.7/site-packages (from aiohttp->ray[rllib]) (1.4.2)\n",
      "Requirement already satisfied: multidict<5.0,>=4.5 in /opt/anaconda3/lib/python3.7/site-packages (from aiohttp->ray[rllib]) (4.7.5)\n",
      "Requirement already satisfied: opencv-python in /opt/anaconda3/lib/python3.7/site-packages (from gym[atari]; extra == \"rllib\"->ray[rllib]) (4.1.2.30)\n",
      "Requirement already satisfied: pyglet<=1.3.2,>=1.2.0 in /opt/anaconda3/lib/python3.7/site-packages (from gym[atari]; extra == \"rllib\"->ray[rllib]) (1.3.2)\n",
      "Requirement already satisfied: atari-py~=0.2.0; extra == \"atari\" in /opt/anaconda3/lib/python3.7/site-packages (from gym[atari]; extra == \"rllib\"->ray[rllib]) (0.2.6)\n",
      "Requirement already satisfied: Pillow; extra == \"atari\" in /opt/anaconda3/lib/python3.7/site-packages (from gym[atari]; extra == \"rllib\"->ray[rllib]) (6.2.0)\n",
      "Requirement already satisfied: importlib-metadata>=0.12; python_version < \"3.8\" in /opt/anaconda3/lib/python3.7/site-packages (from pluggy>=0.7->pytest->ray[rllib]) (0.23)\n",
      "Requirement already satisfied: soupsieve>=1.2 in /opt/anaconda3/lib/python3.7/site-packages (from beautifulsoup4->google->ray[rllib]) (1.9.3)\n",
      "Requirement already satisfied: idna>=2.0 in /opt/anaconda3/lib/python3.7/site-packages (from yarl<2.0,>=1.0->aiohttp->ray[rllib]) (2.8)\n",
      "Requirement already satisfied: future in /opt/anaconda3/lib/python3.7/site-packages (from pyglet<=1.3.2,>=1.2.0->gym[atari]; extra == \"rllib\"->ray[rllib]) (0.17.1)\n",
      "Requirement already satisfied: zipp>=0.5 in /opt/anaconda3/lib/python3.7/site-packages (from importlib-metadata>=0.12; python_version < \"3.8\"->pluggy>=0.7->pytest->ray[rllib]) (0.6.0)\n",
      "Requirement already satisfied: ray[debug] in /opt/anaconda3/lib/python3.7/site-packages (0.8.2)\n",
      "Requirement already satisfied: aiohttp in /opt/anaconda3/lib/python3.7/site-packages (from ray[debug]) (3.6.2)\n",
      "Requirement already satisfied: pytest in /opt/anaconda3/lib/python3.7/site-packages (from ray[debug]) (4.1.1)\n",
      "Requirement already satisfied: click in /opt/anaconda3/lib/python3.7/site-packages (from ray[debug]) (7.0)\n",
      "Requirement already satisfied: numpy>=1.16 in /opt/anaconda3/lib/python3.7/site-packages (from ray[debug]) (1.18.1)\n",
      "Requirement already satisfied: filelock in /opt/anaconda3/lib/python3.7/site-packages (from ray[debug]) (3.0.12)\n",
      "Requirement already satisfied: pyyaml in /opt/anaconda3/lib/python3.7/site-packages (from ray[debug]) (5.1.2)\n",
      "Requirement already satisfied: packaging in /opt/anaconda3/lib/python3.7/site-packages (from ray[debug]) (19.2)\n",
      "Requirement already satisfied: six>=1.0.0 in /opt/anaconda3/lib/python3.7/site-packages (from ray[debug]) (1.12.0)\n",
      "Requirement already satisfied: jsonschema in /opt/anaconda3/lib/python3.7/site-packages (from ray[debug]) (3.0.2)\n",
      "Requirement already satisfied: colorama in /opt/anaconda3/lib/python3.7/site-packages (from ray[debug]) (0.4.1)\n",
      "Requirement already satisfied: cloudpickle in /opt/anaconda3/lib/python3.7/site-packages (from ray[debug]) (1.2.2)\n",
      "Requirement already satisfied: grpcio in /opt/anaconda3/lib/python3.7/site-packages (from ray[debug]) (1.26.0)\n",
      "Requirement already satisfied: redis>=3.3.2 in /opt/anaconda3/lib/python3.7/site-packages (from ray[debug]) (3.3.11)\n",
      "Requirement already satisfied: py-spy>=0.2.0 in /opt/anaconda3/lib/python3.7/site-packages (from ray[debug]) (0.3.3)\n",
      "Requirement already satisfied: google in /opt/anaconda3/lib/python3.7/site-packages (from ray[debug]) (2.0.3)\n",
      "Requirement already satisfied: protobuf>=3.8.0 in /opt/anaconda3/lib/python3.7/site-packages (from ray[debug]) (3.11.2)\n",
      "Requirement already satisfied: funcsigs in /opt/anaconda3/lib/python3.7/site-packages (from ray[debug]) (1.0.2)\n",
      "Requirement already satisfied: async-timeout<4.0,>=3.0 in /opt/anaconda3/lib/python3.7/site-packages (from aiohttp->ray[debug]) (3.0.1)\n",
      "Requirement already satisfied: attrs>=17.3.0 in /opt/anaconda3/lib/python3.7/site-packages (from aiohttp->ray[debug]) (19.2.0)\n",
      "Requirement already satisfied: multidict<5.0,>=4.5 in /opt/anaconda3/lib/python3.7/site-packages (from aiohttp->ray[debug]) (4.7.5)\n"
     ]
    },
    {
     "name": "stdout",
     "output_type": "stream",
     "text": [
      "Requirement already satisfied: yarl<2.0,>=1.0 in /opt/anaconda3/lib/python3.7/site-packages (from aiohttp->ray[debug]) (1.4.2)\n",
      "Requirement already satisfied: chardet<4.0,>=2.0 in /opt/anaconda3/lib/python3.7/site-packages (from aiohttp->ray[debug]) (3.0.4)\n",
      "Requirement already satisfied: pluggy>=0.7 in /opt/anaconda3/lib/python3.7/site-packages (from pytest->ray[debug]) (0.13.0)\n",
      "Requirement already satisfied: py>=1.5.0 in /opt/anaconda3/lib/python3.7/site-packages (from pytest->ray[debug]) (1.8.0)\n",
      "Requirement already satisfied: atomicwrites>=1.0 in /opt/anaconda3/lib/python3.7/site-packages (from pytest->ray[debug]) (1.3.0)\n",
      "Requirement already satisfied: more-itertools>=4.0.0 in /opt/anaconda3/lib/python3.7/site-packages (from pytest->ray[debug]) (7.2.0)\n",
      "Requirement already satisfied: setuptools in /opt/anaconda3/lib/python3.7/site-packages (from pytest->ray[debug]) (45.2.0)\n",
      "Requirement already satisfied: pyparsing>=2.0.2 in /opt/anaconda3/lib/python3.7/site-packages (from packaging->ray[debug]) (2.3.1)\n",
      "Requirement already satisfied: pyrsistent>=0.14.0 in /opt/anaconda3/lib/python3.7/site-packages (from jsonschema->ray[debug]) (0.15.4)\n",
      "Requirement already satisfied: beautifulsoup4 in /opt/anaconda3/lib/python3.7/site-packages (from google->ray[debug]) (4.8.0)\n",
      "Requirement already satisfied: idna>=2.0 in /opt/anaconda3/lib/python3.7/site-packages (from yarl<2.0,>=1.0->aiohttp->ray[debug]) (2.8)\n",
      "Requirement already satisfied: importlib-metadata>=0.12; python_version < \"3.8\" in /opt/anaconda3/lib/python3.7/site-packages (from pluggy>=0.7->pytest->ray[debug]) (0.23)\n",
      "Requirement already satisfied: soupsieve>=1.2 in /opt/anaconda3/lib/python3.7/site-packages (from beautifulsoup4->google->ray[debug]) (1.9.3)\n",
      "Requirement already satisfied: zipp>=0.5 in /opt/anaconda3/lib/python3.7/site-packages (from importlib-metadata>=0.12; python_version < \"3.8\"->pluggy>=0.7->pytest->ray[debug]) (0.6.0)\n",
      "Requirement already satisfied: ray[tune] in /opt/anaconda3/lib/python3.7/site-packages (0.8.2)\n",
      "Requirement already satisfied: jsonschema in /opt/anaconda3/lib/python3.7/site-packages (from ray[tune]) (3.0.2)\n",
      "Requirement already satisfied: grpcio in /opt/anaconda3/lib/python3.7/site-packages (from ray[tune]) (1.26.0)\n",
      "Requirement already satisfied: click in /opt/anaconda3/lib/python3.7/site-packages (from ray[tune]) (7.0)\n",
      "Requirement already satisfied: six>=1.0.0 in /opt/anaconda3/lib/python3.7/site-packages (from ray[tune]) (1.12.0)\n",
      "Requirement already satisfied: packaging in /opt/anaconda3/lib/python3.7/site-packages (from ray[tune]) (19.2)\n",
      "Requirement already satisfied: filelock in /opt/anaconda3/lib/python3.7/site-packages (from ray[tune]) (3.0.12)\n",
      "Requirement already satisfied: pyyaml in /opt/anaconda3/lib/python3.7/site-packages (from ray[tune]) (5.1.2)\n",
      "Requirement already satisfied: redis>=3.3.2 in /opt/anaconda3/lib/python3.7/site-packages (from ray[tune]) (3.3.11)\n",
      "Requirement already satisfied: numpy>=1.16 in /opt/anaconda3/lib/python3.7/site-packages (from ray[tune]) (1.18.1)\n",
      "Requirement already satisfied: colorama in /opt/anaconda3/lib/python3.7/site-packages (from ray[tune]) (0.4.1)\n",
      "Requirement already satisfied: funcsigs in /opt/anaconda3/lib/python3.7/site-packages (from ray[tune]) (1.0.2)\n",
      "Requirement already satisfied: aiohttp in /opt/anaconda3/lib/python3.7/site-packages (from ray[tune]) (3.6.2)\n",
      "Requirement already satisfied: protobuf>=3.8.0 in /opt/anaconda3/lib/python3.7/site-packages (from ray[tune]) (3.11.2)\n",
      "Requirement already satisfied: py-spy>=0.2.0 in /opt/anaconda3/lib/python3.7/site-packages (from ray[tune]) (0.3.3)\n",
      "Requirement already satisfied: cloudpickle in /opt/anaconda3/lib/python3.7/site-packages (from ray[tune]) (1.2.2)\n",
      "Requirement already satisfied: pytest in /opt/anaconda3/lib/python3.7/site-packages (from ray[tune]) (4.1.1)\n",
      "Requirement already satisfied: google in /opt/anaconda3/lib/python3.7/site-packages (from ray[tune]) (2.0.3)\n",
      "Requirement already satisfied: tensorboardX; extra == \"tune\" in /opt/anaconda3/lib/python3.7/site-packages (from ray[tune]) (1.9)\n",
      "Requirement already satisfied: tabulate; extra == \"tune\" in /opt/anaconda3/lib/python3.7/site-packages (from ray[tune]) (0.8.6)\n",
      "Requirement already satisfied: attrs>=17.4.0 in /opt/anaconda3/lib/python3.7/site-packages (from jsonschema->ray[tune]) (19.2.0)\n",
      "Requirement already satisfied: setuptools in /opt/anaconda3/lib/python3.7/site-packages (from jsonschema->ray[tune]) (45.2.0)\n",
      "Requirement already satisfied: pyrsistent>=0.14.0 in /opt/anaconda3/lib/python3.7/site-packages (from jsonschema->ray[tune]) (0.15.4)\n",
      "Requirement already satisfied: pyparsing>=2.0.2 in /opt/anaconda3/lib/python3.7/site-packages (from packaging->ray[tune]) (2.3.1)\n",
      "Requirement already satisfied: multidict<5.0,>=4.5 in /opt/anaconda3/lib/python3.7/site-packages (from aiohttp->ray[tune]) (4.7.5)\n",
      "Requirement already satisfied: yarl<2.0,>=1.0 in /opt/anaconda3/lib/python3.7/site-packages (from aiohttp->ray[tune]) (1.4.2)\n",
      "Requirement already satisfied: chardet<4.0,>=2.0 in /opt/anaconda3/lib/python3.7/site-packages (from aiohttp->ray[tune]) (3.0.4)\n",
      "Requirement already satisfied: async-timeout<4.0,>=3.0 in /opt/anaconda3/lib/python3.7/site-packages (from aiohttp->ray[tune]) (3.0.1)\n",
      "Requirement already satisfied: pluggy>=0.7 in /opt/anaconda3/lib/python3.7/site-packages (from pytest->ray[tune]) (0.13.0)\n",
      "Requirement already satisfied: more-itertools>=4.0.0 in /opt/anaconda3/lib/python3.7/site-packages (from pytest->ray[tune]) (7.2.0)\n",
      "Requirement already satisfied: atomicwrites>=1.0 in /opt/anaconda3/lib/python3.7/site-packages (from pytest->ray[tune]) (1.3.0)\n",
      "Requirement already satisfied: py>=1.5.0 in /opt/anaconda3/lib/python3.7/site-packages (from pytest->ray[tune]) (1.8.0)\n",
      "Requirement already satisfied: beautifulsoup4 in /opt/anaconda3/lib/python3.7/site-packages (from google->ray[tune]) (4.8.0)\n",
      "Requirement already satisfied: idna>=2.0 in /opt/anaconda3/lib/python3.7/site-packages (from yarl<2.0,>=1.0->aiohttp->ray[tune]) (2.8)\n",
      "Requirement already satisfied: importlib-metadata>=0.12; python_version < \"3.8\" in /opt/anaconda3/lib/python3.7/site-packages (from pluggy>=0.7->pytest->ray[tune]) (0.23)\n",
      "Requirement already satisfied: soupsieve>=1.2 in /opt/anaconda3/lib/python3.7/site-packages (from beautifulsoup4->google->ray[tune]) (1.9.3)\n",
      "Requirement already satisfied: zipp>=0.5 in /opt/anaconda3/lib/python3.7/site-packages (from importlib-metadata>=0.12; python_version < \"3.8\"->pluggy>=0.7->pytest->ray[tune]) (0.6.0)\n",
      "Requirement already satisfied: pandas in /opt/anaconda3/lib/python3.7/site-packages (0.25.3)\n",
      "Requirement already satisfied: pytz>=2017.2 in /opt/anaconda3/lib/python3.7/site-packages (from pandas) (2019.3)\n",
      "Requirement already satisfied: numpy>=1.13.3 in /opt/anaconda3/lib/python3.7/site-packages (from pandas) (1.18.1)\n",
      "Requirement already satisfied: python-dateutil>=2.6.1 in /opt/anaconda3/lib/python3.7/site-packages (from pandas) (2.8.0)\n",
      "Requirement already satisfied: six>=1.5 in /opt/anaconda3/lib/python3.7/site-packages (from python-dateutil>=2.6.1->pandas) (1.12.0)\n",
      "Requirement already satisfied: requests in /opt/anaconda3/lib/python3.7/site-packages (2.22.0)\n",
      "Requirement already satisfied: idna<2.9,>=2.5 in /opt/anaconda3/lib/python3.7/site-packages (from requests) (2.8)\n",
      "Requirement already satisfied: chardet<3.1.0,>=3.0.2 in /opt/anaconda3/lib/python3.7/site-packages (from requests) (3.0.4)\n",
      "Requirement already satisfied: certifi>=2017.4.17 in /opt/anaconda3/lib/python3.7/site-packages (from requests) (2019.9.11)\n",
      "Requirement already satisfied: urllib3!=1.25.0,!=1.25.1,<1.26,>=1.21.1 in /opt/anaconda3/lib/python3.7/site-packages (from requests) (1.24.2)\n",
      "Requirement already satisfied: tensorflow in /opt/anaconda3/lib/python3.7/site-packages (2.1.0)\n",
      "Requirement already satisfied: absl-py>=0.7.0 in /opt/anaconda3/lib/python3.7/site-packages (from tensorflow) (0.9.0)\n",
      "Requirement already satisfied: gast==0.2.2 in /opt/anaconda3/lib/python3.7/site-packages (from tensorflow) (0.2.2)\n",
      "Requirement already satisfied: keras-preprocessing>=1.1.0 in /opt/anaconda3/lib/python3.7/site-packages (from tensorflow) (1.1.0)\n",
      "Requirement already satisfied: opt-einsum>=2.3.2 in /opt/anaconda3/lib/python3.7/site-packages (from tensorflow) (3.1.0)\n"
     ]
    },
    {
     "name": "stdout",
     "output_type": "stream",
     "text": [
      "Requirement already satisfied: tensorflow-estimator<2.2.0,>=2.1.0rc0 in /opt/anaconda3/lib/python3.7/site-packages (from tensorflow) (2.1.0)\n",
      "Requirement already satisfied: wrapt>=1.11.1 in /opt/anaconda3/lib/python3.7/site-packages (from tensorflow) (1.11.2)\n",
      "Requirement already satisfied: keras-applications>=1.0.8 in /opt/anaconda3/lib/python3.7/site-packages (from tensorflow) (1.0.8)\n",
      "Requirement already satisfied: six>=1.12.0 in /opt/anaconda3/lib/python3.7/site-packages (from tensorflow) (1.12.0)\n",
      "Requirement already satisfied: grpcio>=1.8.6 in /opt/anaconda3/lib/python3.7/site-packages (from tensorflow) (1.26.0)\n",
      "Requirement already satisfied: protobuf>=3.8.0 in /opt/anaconda3/lib/python3.7/site-packages (from tensorflow) (3.11.2)\n",
      "Requirement already satisfied: google-pasta>=0.1.6 in /opt/anaconda3/lib/python3.7/site-packages (from tensorflow) (0.1.8)\n",
      "Requirement already satisfied: termcolor>=1.1.0 in /opt/anaconda3/lib/python3.7/site-packages (from tensorflow) (1.1.0)\n",
      "Requirement already satisfied: wheel>=0.26; python_version >= \"3\" in /opt/anaconda3/lib/python3.7/site-packages (from tensorflow) (0.34.2)\n",
      "Requirement already satisfied: scipy==1.4.1; python_version >= \"3\" in /opt/anaconda3/lib/python3.7/site-packages (from tensorflow) (1.4.1)\n",
      "Requirement already satisfied: astor>=0.6.0 in /opt/anaconda3/lib/python3.7/site-packages (from tensorflow) (0.8.1)\n",
      "Requirement already satisfied: numpy<2.0,>=1.16.0 in /opt/anaconda3/lib/python3.7/site-packages (from tensorflow) (1.18.1)\n",
      "Requirement already satisfied: tensorboard<2.2.0,>=2.1.0 in /opt/anaconda3/lib/python3.7/site-packages (from tensorflow) (2.1.0)\n",
      "Requirement already satisfied: h5py in /opt/anaconda3/lib/python3.7/site-packages (from keras-applications>=1.0.8->tensorflow) (2.9.0)\n",
      "Requirement already satisfied: setuptools in /opt/anaconda3/lib/python3.7/site-packages (from protobuf>=3.8.0->tensorflow) (45.2.0)\n",
      "Requirement already satisfied: werkzeug>=0.11.15 in /opt/anaconda3/lib/python3.7/site-packages (from tensorboard<2.2.0,>=2.1.0->tensorflow) (0.16.0)\n",
      "Requirement already satisfied: google-auth-oauthlib<0.5,>=0.4.1 in /opt/anaconda3/lib/python3.7/site-packages (from tensorboard<2.2.0,>=2.1.0->tensorflow) (0.4.1)\n",
      "Requirement already satisfied: markdown>=2.6.8 in /opt/anaconda3/lib/python3.7/site-packages (from tensorboard<2.2.0,>=2.1.0->tensorflow) (3.1.1)\n",
      "Requirement already satisfied: requests<3,>=2.21.0 in /opt/anaconda3/lib/python3.7/site-packages (from tensorboard<2.2.0,>=2.1.0->tensorflow) (2.22.0)\n",
      "Requirement already satisfied: google-auth<2,>=1.6.3 in /opt/anaconda3/lib/python3.7/site-packages (from tensorboard<2.2.0,>=2.1.0->tensorflow) (1.10.1)\n",
      "Requirement already satisfied: requests-oauthlib>=0.7.0 in /opt/anaconda3/lib/python3.7/site-packages (from google-auth-oauthlib<0.5,>=0.4.1->tensorboard<2.2.0,>=2.1.0->tensorflow) (1.3.0)\n",
      "Requirement already satisfied: certifi>=2017.4.17 in /opt/anaconda3/lib/python3.7/site-packages (from requests<3,>=2.21.0->tensorboard<2.2.0,>=2.1.0->tensorflow) (2019.9.11)\n",
      "Requirement already satisfied: idna<2.9,>=2.5 in /opt/anaconda3/lib/python3.7/site-packages (from requests<3,>=2.21.0->tensorboard<2.2.0,>=2.1.0->tensorflow) (2.8)\n",
      "Requirement already satisfied: chardet<3.1.0,>=3.0.2 in /opt/anaconda3/lib/python3.7/site-packages (from requests<3,>=2.21.0->tensorboard<2.2.0,>=2.1.0->tensorflow) (3.0.4)\n",
      "Requirement already satisfied: urllib3!=1.25.0,!=1.25.1,<1.26,>=1.21.1 in /opt/anaconda3/lib/python3.7/site-packages (from requests<3,>=2.21.0->tensorboard<2.2.0,>=2.1.0->tensorflow) (1.24.2)\n",
      "Requirement already satisfied: rsa<4.1,>=3.1.4 in /opt/anaconda3/lib/python3.7/site-packages (from google-auth<2,>=1.6.3->tensorboard<2.2.0,>=2.1.0->tensorflow) (3.4.2)\n",
      "Requirement already satisfied: pyasn1-modules>=0.2.1 in /opt/anaconda3/lib/python3.7/site-packages (from google-auth<2,>=1.6.3->tensorboard<2.2.0,>=2.1.0->tensorflow) (0.2.8)\n",
      "Requirement already satisfied: cachetools<5.0,>=2.0.0 in /opt/anaconda3/lib/python3.7/site-packages (from google-auth<2,>=1.6.3->tensorboard<2.2.0,>=2.1.0->tensorflow) (4.0.0)\n",
      "Requirement already satisfied: oauthlib>=3.0.0 in /opt/anaconda3/lib/python3.7/site-packages (from requests-oauthlib>=0.7.0->google-auth-oauthlib<0.5,>=0.4.1->tensorboard<2.2.0,>=2.1.0->tensorflow) (3.1.0)\n",
      "Requirement already satisfied: pyasn1>=0.1.3 in /opt/anaconda3/lib/python3.7/site-packages (from rsa<4.1,>=3.1.4->google-auth<2,>=1.6.3->tensorboard<2.2.0,>=2.1.0->tensorflow) (0.4.8)\n"
     ]
    }
   ],
   "source": [
    "!pip install ray[rllib]\n",
    "!pip install ray[debug]\n",
    "!pip install ray[tune]\n",
    "!pip install pandas\n",
    "!pip install requests\n",
    "!pip install tensorflow"
   ]
  },
  {
   "cell_type": "markdown",
   "metadata": {},
   "source": [
    "Then we start Ray…"
   ]
  },
  {
   "cell_type": "code",
   "execution_count": 2,
   "metadata": {},
   "outputs": [],
   "source": [
    "import ray"
   ]
  },
  {
   "cell_type": "code",
   "execution_count": 3,
   "metadata": {},
   "outputs": [],
   "source": [
    "import ray.rllib.agents.ppo as ppo"
   ]
  },
  {
   "cell_type": "code",
   "execution_count": 4,
   "metadata": {},
   "outputs": [
    {
     "name": "stderr",
     "output_type": "stream",
     "text": [
      "2020-03-29 16:09:22,817\tINFO resource_spec.py:212 -- Starting Ray with 4.59 GiB memory available for workers and up to 2.31 GiB for objects. You can adjust these settings with ray.init(memory=<bytes>, object_store_memory=<bytes>).\n",
      "2020-03-29 16:09:23,315\tINFO services.py:1078 -- View the Ray dashboard at \u001b[1m\u001b[32mlocalhost:8265\u001b[39m\u001b[22m\n"
     ]
    },
    {
     "data": {
      "text/plain": [
       "{'node_ip_address': '192.168.1.244',\n",
       " 'redis_address': '192.168.1.244:32105',\n",
       " 'object_store_address': '/tmp/ray/session_2020-03-29_16-09-22_797419_27655/sockets/plasma_store',\n",
       " 'raylet_socket_name': '/tmp/ray/session_2020-03-29_16-09-22_797419_27655/sockets/raylet',\n",
       " 'webui_url': 'localhost:8265',\n",
       " 'session_dir': '/tmp/ray/session_2020-03-29_16-09-22_797419_27655'}"
      ]
     },
     "execution_count": 4,
     "metadata": {},
     "output_type": "execute_result"
    }
   ],
   "source": [
    "ray.shutdown()\n",
    "ray.init(ignore_reinit_error=True)"
   ]
  },
  {
   "cell_type": "markdown",
   "metadata": {},
   "source": [
    "After a successful launch, there should be a log output line that reads something to the effect of `View the Ray dashboard at localhost:8265` in which case open another browser tab for the Ray dashboard at <http://localhost:8265/>"
   ]
  },
  {
   "cell_type": "markdown",
   "metadata": {},
   "source": [
    "Next we'll train an RLlib policy with the `CartPole-v0` environment, which is a relatively simple and quick example. For more details about this problem, see the tutorial [*Cartpole - Introduction to Reinforcement Learning (DQN - Deep Q-Learning)*](https://towardsdatascience.com/cartpole-introduction-to-reinforcement-learning-ed0eb5b58288) by [Greg Surma](https://twitter.com/GSurma)."
   ]
  },
  {
   "cell_type": "code",
   "execution_count": 5,
   "metadata": {},
   "outputs": [
    {
     "name": "stderr",
     "output_type": "stream",
     "text": [
      "2020-03-29 16:09:24,076\tINFO trainer.py:420 -- Tip: set 'eager': true or the --eager flag to enable TensorFlow eager execution\n",
      "2020-03-29 16:09:24,199\tINFO trainer.py:580 -- Current log_level is WARN. For more information, set 'log_level': 'INFO' / 'DEBUG' or use the -v and -vv flags.\n",
      "/opt/anaconda3/lib/python3.7/site-packages/ray/rllib/utils/from_config.py:134: YAMLLoadWarning: calling yaml.load() without Loader=... is deprecated, as the default Loader is unsafe. Please read https://msg.pyyaml.org/load for full details.\n",
      "  obj = yaml.load(type_)\n",
      "2020-03-29 16:09:30,101\tWARNING util.py:37 -- Install gputil for GPU system monitoring.\n"
     ]
    },
    {
     "name": "stdout",
     "output_type": "stream",
     "text": [
      "\u001b[2m\u001b[36m(pid=27702)\u001b[0m /opt/anaconda3/lib/python3.7/site-packages/ray/rllib/utils/from_config.py:134: YAMLLoadWarning: calling yaml.load() without Loader=... is deprecated, as the default Loader is unsafe. Please read https://msg.pyyaml.org/load for full details.\n",
      "\u001b[2m\u001b[36m(pid=27702)\u001b[0m   obj = yaml.load(type_)\n",
      "\u001b[2m\u001b[36m(pid=27699)\u001b[0m /opt/anaconda3/lib/python3.7/site-packages/ray/rllib/utils/from_config.py:134: YAMLLoadWarning: calling yaml.load() without Loader=... is deprecated, as the default Loader is unsafe. Please read https://msg.pyyaml.org/load for full details.\n",
      "\u001b[2m\u001b[36m(pid=27699)\u001b[0m   obj = yaml.load(type_)\n",
      "{'episode_reward_max': 77.0, 'episode_reward_min': 8.0, 'episode_reward_mean': 21.884615384615383, 'episode_len_mean': 21.884615384615383, 'episodes_this_iter': 182, 'policy_reward_min': {}, 'policy_reward_max': {}, 'policy_reward_mean': {}, 'custom_metrics': {}, 'hist_stats': {'episode_reward': [16.0, 15.0, 12.0, 17.0, 18.0, 13.0, 17.0, 13.0, 13.0, 19.0, 11.0, 15.0, 16.0, 17.0, 11.0, 38.0, 21.0, 10.0, 35.0, 11.0, 53.0, 24.0, 15.0, 13.0, 25.0, 18.0, 15.0, 28.0, 14.0, 15.0, 17.0, 44.0, 19.0, 20.0, 12.0, 24.0, 13.0, 19.0, 19.0, 19.0, 16.0, 21.0, 36.0, 14.0, 12.0, 33.0, 43.0, 12.0, 12.0, 13.0, 14.0, 26.0, 16.0, 9.0, 12.0, 14.0, 27.0, 15.0, 24.0, 10.0, 31.0, 17.0, 38.0, 14.0, 11.0, 52.0, 28.0, 22.0, 55.0, 23.0, 33.0, 22.0, 10.0, 14.0, 14.0, 10.0, 17.0, 45.0, 17.0, 20.0, 39.0, 15.0, 17.0, 13.0, 26.0, 13.0, 11.0, 36.0, 17.0, 8.0, 14.0, 23.0, 17.0, 12.0, 17.0, 13.0, 23.0, 29.0, 12.0, 30.0, 32.0, 34.0, 39.0, 18.0, 20.0, 12.0, 17.0, 16.0, 45.0, 21.0, 38.0, 14.0, 27.0, 39.0, 21.0, 38.0, 27.0, 23.0, 12.0, 14.0, 20.0, 39.0, 31.0, 10.0, 19.0, 25.0, 25.0, 17.0, 77.0, 19.0, 49.0, 19.0, 10.0, 18.0, 23.0, 30.0, 25.0, 27.0, 16.0, 28.0, 22.0, 30.0, 17.0, 32.0, 21.0, 16.0, 34.0, 26.0, 21.0, 23.0, 8.0, 25.0, 26.0, 48.0, 17.0, 21.0, 15.0, 16.0, 18.0, 16.0, 21.0, 23.0, 44.0, 19.0, 24.0, 34.0, 27.0, 17.0, 13.0, 18.0, 27.0, 25.0, 40.0, 10.0, 16.0, 9.0, 17.0, 15.0, 16.0, 24.0, 19.0, 18.0], 'episode_lengths': [16, 15, 12, 17, 18, 13, 17, 13, 13, 19, 11, 15, 16, 17, 11, 38, 21, 10, 35, 11, 53, 24, 15, 13, 25, 18, 15, 28, 14, 15, 17, 44, 19, 20, 12, 24, 13, 19, 19, 19, 16, 21, 36, 14, 12, 33, 43, 12, 12, 13, 14, 26, 16, 9, 12, 14, 27, 15, 24, 10, 31, 17, 38, 14, 11, 52, 28, 22, 55, 23, 33, 22, 10, 14, 14, 10, 17, 45, 17, 20, 39, 15, 17, 13, 26, 13, 11, 36, 17, 8, 14, 23, 17, 12, 17, 13, 23, 29, 12, 30, 32, 34, 39, 18, 20, 12, 17, 16, 45, 21, 38, 14, 27, 39, 21, 38, 27, 23, 12, 14, 20, 39, 31, 10, 19, 25, 25, 17, 77, 19, 49, 19, 10, 18, 23, 30, 25, 27, 16, 28, 22, 30, 17, 32, 21, 16, 34, 26, 21, 23, 8, 25, 26, 48, 17, 21, 15, 16, 18, 16, 21, 23, 44, 19, 24, 34, 27, 17, 13, 18, 27, 25, 40, 10, 16, 9, 17, 15, 16, 24, 19, 18]}, 'sampler_perf': {'mean_env_wait_ms': 0.06350054126224168, 'mean_processing_ms': 0.17464640136723272, 'mean_inference_ms': 0.7759952575804515}, 'off_policy_estimator': {}, 'info': {'num_steps_trained': 3968, 'num_steps_sampled': 4000, 'sample_time_ms': 4011.525, 'load_time_ms': 56.648, 'grad_time_ms': 3087.522, 'update_time_ms': 813.782, 'learner': {'default_policy': {'cur_kl_coeff': 0.20000000298023224, 'cur_lr': 4.999999873689376e-05, 'total_loss': 81.99227, 'policy_loss': -0.042800233, 'vf_loss': 82.02856, 'vf_explained_var': 0.04461947, 'kl': 0.032561082, 'entropy': 0.66121453, 'entropy_coeff': 0.0}}}, 'timesteps_this_iter': 4000, 'done': False, 'timesteps_total': 4000, 'episodes_total': 182, 'training_iteration': 1, 'experiment_id': 'b7df3932ffd34f45ad055defffcce8e4', 'date': '2020-03-29_16-09-38', 'timestamp': 1585523378, 'time_this_iter_s': 8.022701978683472, 'time_total_s': 8.022701978683472, 'pid': 27655, 'hostname': 'derwen', 'node_ip': '192.168.1.244', 'config': {'num_workers': 2, 'num_envs_per_worker': 1, 'sample_batch_size': 200, 'batch_mode': 'truncate_episodes', 'num_gpus': 0, 'train_batch_size': 4000, 'model': {'conv_filters': None, 'conv_activation': 'relu', 'fcnet_activation': 'tanh', 'fcnet_hiddens': [256, 256], 'free_log_std': False, 'no_final_linear': False, 'vf_share_layers': True, 'use_lstm': False, 'max_seq_len': 20, 'lstm_cell_size': 256, 'lstm_use_prev_action_reward': False, 'state_shape': None, 'framestack': True, 'dim': 84, 'grayscale': False, 'zero_mean': True, 'custom_model': None, 'custom_action_dist': None, 'custom_options': {}, 'custom_preprocessor': None}, 'optimizer': {}, 'gamma': 0.99, 'horizon': None, 'soft_horizon': False, 'no_done_at_end': False, 'env_config': {}, 'env': 'CartPole-v0', 'normalize_actions': False, 'clip_rewards': None, 'clip_actions': True, 'preprocessor_pref': 'deepmind', 'lr': 5e-05, 'monitor': False, 'log_level': 'WARN', 'callbacks': {'on_episode_start': None, 'on_episode_step': None, 'on_episode_end': None, 'on_sample_end': None, 'on_train_result': None, 'on_postprocess_traj': None}, 'ignore_worker_failures': False, 'log_sys_usage': True, 'use_pytorch': False, 'eager': False, 'eager_tracing': False, 'no_eager_on_workers': False, 'explore': True, 'exploration_config': {'type': 'StochasticSampling'}, 'evaluation_interval': None, 'evaluation_num_episodes': 10, 'in_evaluation': False, 'evaluation_config': {}, 'evaluation_num_workers': 0, 'custom_eval_function': None, 'sample_async': False, 'observation_filter': 'NoFilter', 'synchronize_filters': True, 'tf_session_args': {'intra_op_parallelism_threads': 2, 'inter_op_parallelism_threads': 2, 'gpu_options': {'allow_growth': True}, 'log_device_placement': False, 'device_count': {'CPU': 1}, 'allow_soft_placement': True}, 'local_tf_session_args': {'intra_op_parallelism_threads': 8, 'inter_op_parallelism_threads': 8}, 'compress_observations': False, 'collect_metrics_timeout': 180, 'metrics_smoothing_episodes': 100, 'remote_worker_envs': False, 'remote_env_batch_wait_ms': 0, 'min_iter_time_s': 0, 'timesteps_per_iteration': 0, 'seed': None, 'num_cpus_per_worker': 1, 'num_gpus_per_worker': 0, 'custom_resources_per_worker': {}, 'num_cpus_for_driver': 1, 'memory': 0, 'object_store_memory': 0, 'memory_per_worker': 0, 'object_store_memory_per_worker': 0, 'input': 'sampler', 'input_evaluation': ['is', 'wis'], 'postprocess_inputs': False, 'shuffle_buffer_size': 0, 'output': None, 'output_compress_columns': ['obs', 'new_obs'], 'output_max_file_size': 67108864, 'multiagent': {'policies': {}, 'policy_mapping_fn': None, 'policies_to_train': None}, 'use_critic': True, 'use_gae': True, 'lambda': 1.0, 'kl_coeff': 0.2, 'sgd_minibatch_size': 128, 'shuffle_sequences': True, 'num_sgd_iter': 30, 'lr_schedule': None, 'vf_share_layers': False, 'vf_loss_coeff': 1.0, 'entropy_coeff': 0.0, 'entropy_coeff_schedule': None, 'clip_param': 0.3, 'vf_clip_param': 10.0, 'grad_clip': None, 'kl_target': 0.01, 'simple_optimizer': False}, 'time_since_restore': 8.022701978683472, 'timesteps_since_restore': 4000, 'iterations_since_restore': 1, 'perf': {'cpu_util_percent': 74.94166666666666, 'ram_util_percent': 69.77499999999999}, 'num_healthy_workers': 2}\n",
      "\n",
      "/tmp/ppo/checkpoint_1/checkpoint-1\n",
      "{'episode_reward_max': 200.0, 'episode_reward_min': 9.0, 'episode_reward_mean': 43.33, 'episode_len_mean': 43.33, 'episodes_this_iter': 83, 'policy_reward_min': {}, 'policy_reward_max': {}, 'policy_reward_mean': {}, 'custom_metrics': {}, 'hist_stats': {'episode_reward': [28.0, 25.0, 49.0, 86.0, 41.0, 64.0, 180.0, 13.0, 12.0, 69.0, 16.0, 33.0, 51.0, 89.0, 13.0, 67.0, 30.0, 32.0, 41.0, 15.0, 12.0, 35.0, 50.0, 84.0, 27.0, 18.0, 88.0, 36.0, 36.0, 16.0, 71.0, 61.0, 37.0, 38.0, 12.0, 102.0, 22.0, 102.0, 76.0, 14.0, 13.0, 93.0, 10.0, 59.0, 72.0, 43.0, 14.0, 22.0, 54.0, 22.0, 24.0, 52.0, 117.0, 87.0, 25.0, 68.0, 200.0, 12.0, 47.0, 30.0, 19.0, 11.0, 44.0, 16.0, 24.0, 35.0, 76.0, 18.0, 147.0, 67.0, 17.0, 35.0, 32.0, 24.0, 77.0, 18.0, 62.0, 61.0, 108.0, 32.0, 18.0, 23.0, 69.0, 34.0, 27.0, 17.0, 13.0, 18.0, 27.0, 25.0, 40.0, 10.0, 16.0, 9.0, 17.0, 15.0, 16.0, 24.0, 19.0, 18.0], 'episode_lengths': [28, 25, 49, 86, 41, 64, 180, 13, 12, 69, 16, 33, 51, 89, 13, 67, 30, 32, 41, 15, 12, 35, 50, 84, 27, 18, 88, 36, 36, 16, 71, 61, 37, 38, 12, 102, 22, 102, 76, 14, 13, 93, 10, 59, 72, 43, 14, 22, 54, 22, 24, 52, 117, 87, 25, 68, 200, 12, 47, 30, 19, 11, 44, 16, 24, 35, 76, 18, 147, 67, 17, 35, 32, 24, 77, 18, 62, 61, 108, 32, 18, 23, 69, 34, 27, 17, 13, 18, 27, 25, 40, 10, 16, 9, 17, 15, 16, 24, 19, 18]}, 'sampler_perf': {'mean_env_wait_ms': 0.06256059192139596, 'mean_processing_ms': 0.1709613070116413, 'mean_inference_ms': 0.7674053304367167}, 'off_policy_estimator': {}, 'info': {'num_steps_trained': 7936, 'num_steps_sampled': 8000, 'sample_time_ms': 3003.308, 'load_time_ms': 28.958, 'grad_time_ms': 3048.008, 'update_time_ms': 408.953, 'learner': {'default_policy': {'cur_kl_coeff': 0.30000001192092896, 'cur_lr': 4.999999873689376e-05, 'total_loss': 333.55292, 'policy_loss': -0.031019403, 'vf_loss': 333.578, 'vf_explained_var': 0.09457003, 'kl': 0.019943664, 'entropy': 0.6083468, 'entropy_coeff': 0.0}}}, 'timesteps_this_iter': 4000, 'done': False, 'timesteps_total': 8000, 'episodes_total': 265, 'training_iteration': 2, 'experiment_id': 'b7df3932ffd34f45ad055defffcce8e4', 'date': '2020-03-29_16-09-43', 'timestamp': 1585523383, 'time_this_iter_s': 5.015803813934326, 'time_total_s': 13.038505792617798, 'pid': 27655, 'hostname': 'derwen', 'node_ip': '192.168.1.244', 'config': {'num_workers': 2, 'num_envs_per_worker': 1, 'sample_batch_size': 200, 'batch_mode': 'truncate_episodes', 'num_gpus': 0, 'train_batch_size': 4000, 'model': {'conv_filters': None, 'conv_activation': 'relu', 'fcnet_activation': 'tanh', 'fcnet_hiddens': [256, 256], 'free_log_std': False, 'no_final_linear': False, 'vf_share_layers': True, 'use_lstm': False, 'max_seq_len': 20, 'lstm_cell_size': 256, 'lstm_use_prev_action_reward': False, 'state_shape': None, 'framestack': True, 'dim': 84, 'grayscale': False, 'zero_mean': True, 'custom_model': None, 'custom_action_dist': None, 'custom_options': {}, 'custom_preprocessor': None}, 'optimizer': {}, 'gamma': 0.99, 'horizon': None, 'soft_horizon': False, 'no_done_at_end': False, 'env_config': {}, 'env': 'CartPole-v0', 'normalize_actions': False, 'clip_rewards': None, 'clip_actions': True, 'preprocessor_pref': 'deepmind', 'lr': 5e-05, 'monitor': False, 'log_level': 'WARN', 'callbacks': {'on_episode_start': None, 'on_episode_step': None, 'on_episode_end': None, 'on_sample_end': None, 'on_train_result': None, 'on_postprocess_traj': None}, 'ignore_worker_failures': False, 'log_sys_usage': True, 'use_pytorch': False, 'eager': False, 'eager_tracing': False, 'no_eager_on_workers': False, 'explore': True, 'exploration_config': {'type': 'StochasticSampling'}, 'evaluation_interval': None, 'evaluation_num_episodes': 10, 'in_evaluation': False, 'evaluation_config': {}, 'evaluation_num_workers': 0, 'custom_eval_function': None, 'sample_async': False, 'observation_filter': 'NoFilter', 'synchronize_filters': True, 'tf_session_args': {'intra_op_parallelism_threads': 2, 'inter_op_parallelism_threads': 2, 'gpu_options': {'allow_growth': True}, 'log_device_placement': False, 'device_count': {'CPU': 1}, 'allow_soft_placement': True}, 'local_tf_session_args': {'intra_op_parallelism_threads': 8, 'inter_op_parallelism_threads': 8}, 'compress_observations': False, 'collect_metrics_timeout': 180, 'metrics_smoothing_episodes': 100, 'remote_worker_envs': False, 'remote_env_batch_wait_ms': 0, 'min_iter_time_s': 0, 'timesteps_per_iteration': 0, 'seed': None, 'num_cpus_per_worker': 1, 'num_gpus_per_worker': 0, 'custom_resources_per_worker': {}, 'num_cpus_for_driver': 1, 'memory': 0, 'object_store_memory': 0, 'memory_per_worker': 0, 'object_store_memory_per_worker': 0, 'input': 'sampler', 'input_evaluation': ['is', 'wis'], 'postprocess_inputs': False, 'shuffle_buffer_size': 0, 'output': None, 'output_compress_columns': ['obs', 'new_obs'], 'output_max_file_size': 67108864, 'multiagent': {'policies': {}, 'policy_mapping_fn': None, 'policies_to_train': None}, 'use_critic': True, 'use_gae': True, 'lambda': 1.0, 'kl_coeff': 0.2, 'sgd_minibatch_size': 128, 'shuffle_sequences': True, 'num_sgd_iter': 30, 'lr_schedule': None, 'vf_share_layers': False, 'vf_loss_coeff': 1.0, 'entropy_coeff': 0.0, 'entropy_coeff_schedule': None, 'clip_param': 0.3, 'vf_clip_param': 10.0, 'grad_clip': None, 'kl_target': 0.01, 'simple_optimizer': False}, 'time_since_restore': 13.038505792617798, 'timesteps_since_restore': 8000, 'iterations_since_restore': 2, 'perf': {'cpu_util_percent': 81.82857142857142, 'ram_util_percent': 69.82857142857144}, 'num_healthy_workers': 2}\n",
      "\n",
      "/tmp/ppo/checkpoint_2/checkpoint-2\n"
     ]
    },
    {
     "name": "stdout",
     "output_type": "stream",
     "text": [
      "{'episode_reward_max': 200.0, 'episode_reward_min': 10.0, 'episode_reward_mean': 67.14, 'episode_len_mean': 67.14, 'episodes_this_iter': 42, 'policy_reward_min': {}, 'policy_reward_max': {}, 'policy_reward_mean': {}, 'custom_metrics': {}, 'hist_stats': {'episode_reward': [123.0, 49.0, 29.0, 117.0, 166.0, 60.0, 54.0, 116.0, 170.0, 149.0, 31.0, 177.0, 85.0, 85.0, 77.0, 79.0, 188.0, 101.0, 50.0, 37.0, 26.0, 27.0, 84.0, 51.0, 77.0, 84.0, 42.0, 50.0, 45.0, 127.0, 23.0, 113.0, 18.0, 151.0, 200.0, 175.0, 13.0, 91.0, 135.0, 152.0, 136.0, 125.0, 18.0, 88.0, 36.0, 36.0, 16.0, 71.0, 61.0, 37.0, 38.0, 12.0, 102.0, 22.0, 102.0, 76.0, 14.0, 13.0, 93.0, 10.0, 59.0, 72.0, 43.0, 14.0, 22.0, 54.0, 22.0, 24.0, 52.0, 117.0, 87.0, 25.0, 68.0, 200.0, 12.0, 47.0, 30.0, 19.0, 11.0, 44.0, 16.0, 24.0, 35.0, 76.0, 18.0, 147.0, 67.0, 17.0, 35.0, 32.0, 24.0, 77.0, 18.0, 62.0, 61.0, 108.0, 32.0, 18.0, 23.0, 69.0], 'episode_lengths': [123, 49, 29, 117, 166, 60, 54, 116, 170, 149, 31, 177, 85, 85, 77, 79, 188, 101, 50, 37, 26, 27, 84, 51, 77, 84, 42, 50, 45, 127, 23, 113, 18, 151, 200, 175, 13, 91, 135, 152, 136, 125, 18, 88, 36, 36, 16, 71, 61, 37, 38, 12, 102, 22, 102, 76, 14, 13, 93, 10, 59, 72, 43, 14, 22, 54, 22, 24, 52, 117, 87, 25, 68, 200, 12, 47, 30, 19, 11, 44, 16, 24, 35, 76, 18, 147, 67, 17, 35, 32, 24, 77, 18, 62, 61, 108, 32, 18, 23, 69]}, 'sampler_perf': {'mean_env_wait_ms': 0.06423878995424889, 'mean_processing_ms': 0.17233883306582487, 'mean_inference_ms': 0.7885379903207465}, 'off_policy_estimator': {}, 'info': {'num_steps_trained': 11904, 'num_steps_sampled': 12000, 'sample_time_ms': 2806.958, 'load_time_ms': 19.688, 'grad_time_ms': 2808.659, 'update_time_ms': 274.665, 'learner': {'default_policy': {'cur_kl_coeff': 0.30000001192092896, 'cur_lr': 4.999999873689376e-05, 'total_loss': 422.85297, 'policy_loss': -0.017754208, 'vf_loss': 422.86755, 'vf_explained_var': 0.15407653, 'kl': 0.010593312, 'entropy': 0.5625115, 'entropy_coeff': 0.0}}}, 'timesteps_this_iter': 4000, 'done': False, 'timesteps_total': 12000, 'episodes_total': 307, 'training_iteration': 3, 'experiment_id': 'b7df3932ffd34f45ad055defffcce8e4', 'date': '2020-03-29_16-09-48', 'timestamp': 1585523388, 'time_this_iter_s': 4.755011081695557, 'time_total_s': 17.793516874313354, 'pid': 27655, 'hostname': 'derwen', 'node_ip': '192.168.1.244', 'config': {'num_workers': 2, 'num_envs_per_worker': 1, 'sample_batch_size': 200, 'batch_mode': 'truncate_episodes', 'num_gpus': 0, 'train_batch_size': 4000, 'model': {'conv_filters': None, 'conv_activation': 'relu', 'fcnet_activation': 'tanh', 'fcnet_hiddens': [256, 256], 'free_log_std': False, 'no_final_linear': False, 'vf_share_layers': True, 'use_lstm': False, 'max_seq_len': 20, 'lstm_cell_size': 256, 'lstm_use_prev_action_reward': False, 'state_shape': None, 'framestack': True, 'dim': 84, 'grayscale': False, 'zero_mean': True, 'custom_model': None, 'custom_action_dist': None, 'custom_options': {}, 'custom_preprocessor': None}, 'optimizer': {}, 'gamma': 0.99, 'horizon': None, 'soft_horizon': False, 'no_done_at_end': False, 'env_config': {}, 'env': 'CartPole-v0', 'normalize_actions': False, 'clip_rewards': None, 'clip_actions': True, 'preprocessor_pref': 'deepmind', 'lr': 5e-05, 'monitor': False, 'log_level': 'WARN', 'callbacks': {'on_episode_start': None, 'on_episode_step': None, 'on_episode_end': None, 'on_sample_end': None, 'on_train_result': None, 'on_postprocess_traj': None}, 'ignore_worker_failures': False, 'log_sys_usage': True, 'use_pytorch': False, 'eager': False, 'eager_tracing': False, 'no_eager_on_workers': False, 'explore': True, 'exploration_config': {'type': 'StochasticSampling'}, 'evaluation_interval': None, 'evaluation_num_episodes': 10, 'in_evaluation': False, 'evaluation_config': {}, 'evaluation_num_workers': 0, 'custom_eval_function': None, 'sample_async': False, 'observation_filter': 'NoFilter', 'synchronize_filters': True, 'tf_session_args': {'intra_op_parallelism_threads': 2, 'inter_op_parallelism_threads': 2, 'gpu_options': {'allow_growth': True}, 'log_device_placement': False, 'device_count': {'CPU': 1}, 'allow_soft_placement': True}, 'local_tf_session_args': {'intra_op_parallelism_threads': 8, 'inter_op_parallelism_threads': 8}, 'compress_observations': False, 'collect_metrics_timeout': 180, 'metrics_smoothing_episodes': 100, 'remote_worker_envs': False, 'remote_env_batch_wait_ms': 0, 'min_iter_time_s': 0, 'timesteps_per_iteration': 0, 'seed': None, 'num_cpus_per_worker': 1, 'num_gpus_per_worker': 0, 'custom_resources_per_worker': {}, 'num_cpus_for_driver': 1, 'memory': 0, 'object_store_memory': 0, 'memory_per_worker': 0, 'object_store_memory_per_worker': 0, 'input': 'sampler', 'input_evaluation': ['is', 'wis'], 'postprocess_inputs': False, 'shuffle_buffer_size': 0, 'output': None, 'output_compress_columns': ['obs', 'new_obs'], 'output_max_file_size': 67108864, 'multiagent': {'policies': {}, 'policy_mapping_fn': None, 'policies_to_train': None}, 'use_critic': True, 'use_gae': True, 'lambda': 1.0, 'kl_coeff': 0.2, 'sgd_minibatch_size': 128, 'shuffle_sequences': True, 'num_sgd_iter': 30, 'lr_schedule': None, 'vf_share_layers': False, 'vf_loss_coeff': 1.0, 'entropy_coeff': 0.0, 'entropy_coeff_schedule': None, 'clip_param': 0.3, 'vf_clip_param': 10.0, 'grad_clip': None, 'kl_target': 0.01, 'simple_optimizer': False}, 'time_since_restore': 17.793516874313354, 'timesteps_since_restore': 12000, 'iterations_since_restore': 3, 'perf': {'cpu_util_percent': 82.05714285714285, 'ram_util_percent': 69.61428571428571}, 'num_healthy_workers': 2}\n",
      "\n",
      "/tmp/ppo/checkpoint_3/checkpoint-3\n",
      "{'episode_reward_max': 200.0, 'episode_reward_min': 11.0, 'episode_reward_mean': 96.57, 'episode_len_mean': 96.57, 'episodes_this_iter': 23, 'policy_reward_min': {}, 'policy_reward_max': {}, 'policy_reward_mean': {}, 'custom_metrics': {}, 'hist_stats': {'episode_reward': [200.0, 200.0, 200.0, 152.0, 200.0, 175.0, 200.0, 178.0, 71.0, 200.0, 200.0, 200.0, 129.0, 179.0, 163.0, 156.0, 200.0, 200.0, 192.0, 200.0, 200.0, 78.0, 125.0, 54.0, 22.0, 24.0, 52.0, 117.0, 87.0, 25.0, 68.0, 200.0, 12.0, 47.0, 30.0, 19.0, 11.0, 44.0, 16.0, 24.0, 35.0, 76.0, 18.0, 147.0, 67.0, 17.0, 35.0, 32.0, 24.0, 77.0, 18.0, 62.0, 61.0, 108.0, 32.0, 18.0, 23.0, 69.0, 123.0, 49.0, 29.0, 117.0, 166.0, 60.0, 54.0, 116.0, 170.0, 149.0, 31.0, 177.0, 85.0, 85.0, 77.0, 79.0, 188.0, 101.0, 50.0, 37.0, 26.0, 27.0, 84.0, 51.0, 77.0, 84.0, 42.0, 50.0, 45.0, 127.0, 23.0, 113.0, 18.0, 151.0, 200.0, 175.0, 13.0, 91.0, 135.0, 152.0, 136.0, 125.0], 'episode_lengths': [200, 200, 200, 152, 200, 175, 200, 178, 71, 200, 200, 200, 129, 179, 163, 156, 200, 200, 192, 200, 200, 78, 125, 54, 22, 24, 52, 117, 87, 25, 68, 200, 12, 47, 30, 19, 11, 44, 16, 24, 35, 76, 18, 147, 67, 17, 35, 32, 24, 77, 18, 62, 61, 108, 32, 18, 23, 69, 123, 49, 29, 117, 166, 60, 54, 116, 170, 149, 31, 177, 85, 85, 77, 79, 188, 101, 50, 37, 26, 27, 84, 51, 77, 84, 42, 50, 45, 127, 23, 113, 18, 151, 200, 175, 13, 91, 135, 152, 136, 125]}, 'sampler_perf': {'mean_env_wait_ms': 0.06473822088325046, 'mean_processing_ms': 0.17124060874553387, 'mean_inference_ms': 0.7928257438058648}, 'off_policy_estimator': {}, 'info': {'num_steps_trained': 15872, 'num_steps_sampled': 16000, 'sample_time_ms': 2544.921, 'load_time_ms': 15.05, 'grad_time_ms': 2670.84, 'update_time_ms': 207.123, 'learner': {'default_policy': {'cur_kl_coeff': 0.30000001192092896, 'cur_lr': 4.999999873689376e-05, 'total_loss': 551.6992, 'policy_loss': -0.0078014694, 'vf_loss': 551.7057, 'vf_explained_var': 0.23656172, 'kl': 0.0045062257, 'entropy': 0.5700497, 'entropy_coeff': 0.0}}}, 'timesteps_this_iter': 4000, 'done': False, 'timesteps_total': 16000, 'episodes_total': 330, 'training_iteration': 4, 'experiment_id': 'b7df3932ffd34f45ad055defffcce8e4', 'date': '2020-03-29_16-09-52', 'timestamp': 1585523392, 'time_this_iter_s': 4.02483606338501, 'time_total_s': 21.818352937698364, 'pid': 27655, 'hostname': 'derwen', 'node_ip': '192.168.1.244', 'config': {'num_workers': 2, 'num_envs_per_worker': 1, 'sample_batch_size': 200, 'batch_mode': 'truncate_episodes', 'num_gpus': 0, 'train_batch_size': 4000, 'model': {'conv_filters': None, 'conv_activation': 'relu', 'fcnet_activation': 'tanh', 'fcnet_hiddens': [256, 256], 'free_log_std': False, 'no_final_linear': False, 'vf_share_layers': True, 'use_lstm': False, 'max_seq_len': 20, 'lstm_cell_size': 256, 'lstm_use_prev_action_reward': False, 'state_shape': None, 'framestack': True, 'dim': 84, 'grayscale': False, 'zero_mean': True, 'custom_model': None, 'custom_action_dist': None, 'custom_options': {}, 'custom_preprocessor': None}, 'optimizer': {}, 'gamma': 0.99, 'horizon': None, 'soft_horizon': False, 'no_done_at_end': False, 'env_config': {}, 'env': 'CartPole-v0', 'normalize_actions': False, 'clip_rewards': None, 'clip_actions': True, 'preprocessor_pref': 'deepmind', 'lr': 5e-05, 'monitor': False, 'log_level': 'WARN', 'callbacks': {'on_episode_start': None, 'on_episode_step': None, 'on_episode_end': None, 'on_sample_end': None, 'on_train_result': None, 'on_postprocess_traj': None}, 'ignore_worker_failures': False, 'log_sys_usage': True, 'use_pytorch': False, 'eager': False, 'eager_tracing': False, 'no_eager_on_workers': False, 'explore': True, 'exploration_config': {'type': 'StochasticSampling'}, 'evaluation_interval': None, 'evaluation_num_episodes': 10, 'in_evaluation': False, 'evaluation_config': {}, 'evaluation_num_workers': 0, 'custom_eval_function': None, 'sample_async': False, 'observation_filter': 'NoFilter', 'synchronize_filters': True, 'tf_session_args': {'intra_op_parallelism_threads': 2, 'inter_op_parallelism_threads': 2, 'gpu_options': {'allow_growth': True}, 'log_device_placement': False, 'device_count': {'CPU': 1}, 'allow_soft_placement': True}, 'local_tf_session_args': {'intra_op_parallelism_threads': 8, 'inter_op_parallelism_threads': 8}, 'compress_observations': False, 'collect_metrics_timeout': 180, 'metrics_smoothing_episodes': 100, 'remote_worker_envs': False, 'remote_env_batch_wait_ms': 0, 'min_iter_time_s': 0, 'timesteps_per_iteration': 0, 'seed': None, 'num_cpus_per_worker': 1, 'num_gpus_per_worker': 0, 'custom_resources_per_worker': {}, 'num_cpus_for_driver': 1, 'memory': 0, 'object_store_memory': 0, 'memory_per_worker': 0, 'object_store_memory_per_worker': 0, 'input': 'sampler', 'input_evaluation': ['is', 'wis'], 'postprocess_inputs': False, 'shuffle_buffer_size': 0, 'output': None, 'output_compress_columns': ['obs', 'new_obs'], 'output_max_file_size': 67108864, 'multiagent': {'policies': {}, 'policy_mapping_fn': None, 'policies_to_train': None}, 'use_critic': True, 'use_gae': True, 'lambda': 1.0, 'kl_coeff': 0.2, 'sgd_minibatch_size': 128, 'shuffle_sequences': True, 'num_sgd_iter': 30, 'lr_schedule': None, 'vf_share_layers': False, 'vf_loss_coeff': 1.0, 'entropy_coeff': 0.0, 'entropy_coeff_schedule': None, 'clip_param': 0.3, 'vf_clip_param': 10.0, 'grad_clip': None, 'kl_target': 0.01, 'simple_optimizer': False}, 'time_since_restore': 21.818352937698364, 'timesteps_since_restore': 16000, 'iterations_since_restore': 4, 'perf': {'cpu_util_percent': 74.8, 'ram_util_percent': 69.71666666666667}, 'num_healthy_workers': 2}\n",
      "\n",
      "/tmp/ppo/checkpoint_4/checkpoint-4\n"
     ]
    },
    {
     "name": "stdout",
     "output_type": "stream",
     "text": [
      "{'episode_reward_max': 200.0, 'episode_reward_min': 13.0, 'episode_reward_mean': 123.8, 'episode_len_mean': 123.8, 'episodes_this_iter': 23, 'policy_reward_min': {}, 'policy_reward_max': {}, 'policy_reward_mean': {}, 'custom_metrics': {}, 'hist_stats': {'episode_reward': [200.0, 200.0, 109.0, 200.0, 200.0, 87.0, 200.0, 200.0, 162.0, 127.0, 200.0, 200.0, 200.0, 200.0, 200.0, 14.0, 200.0, 82.0, 154.0, 200.0, 200.0, 200.0, 200.0, 35.0, 32.0, 24.0, 77.0, 18.0, 62.0, 61.0, 108.0, 32.0, 18.0, 23.0, 69.0, 123.0, 49.0, 29.0, 117.0, 166.0, 60.0, 54.0, 116.0, 170.0, 149.0, 31.0, 177.0, 85.0, 85.0, 77.0, 79.0, 188.0, 101.0, 50.0, 37.0, 26.0, 27.0, 84.0, 51.0, 77.0, 84.0, 42.0, 50.0, 45.0, 127.0, 23.0, 113.0, 18.0, 151.0, 200.0, 175.0, 13.0, 91.0, 135.0, 152.0, 136.0, 125.0, 200.0, 200.0, 200.0, 152.0, 200.0, 175.0, 200.0, 178.0, 71.0, 200.0, 200.0, 200.0, 129.0, 179.0, 163.0, 156.0, 200.0, 200.0, 192.0, 200.0, 200.0, 78.0, 125.0], 'episode_lengths': [200, 200, 109, 200, 200, 87, 200, 200, 162, 127, 200, 200, 200, 200, 200, 14, 200, 82, 154, 200, 200, 200, 200, 35, 32, 24, 77, 18, 62, 61, 108, 32, 18, 23, 69, 123, 49, 29, 117, 166, 60, 54, 116, 170, 149, 31, 177, 85, 85, 77, 79, 188, 101, 50, 37, 26, 27, 84, 51, 77, 84, 42, 50, 45, 127, 23, 113, 18, 151, 200, 175, 13, 91, 135, 152, 136, 125, 200, 200, 200, 152, 200, 175, 200, 178, 71, 200, 200, 200, 129, 179, 163, 156, 200, 200, 192, 200, 200, 78, 125]}, 'sampler_perf': {'mean_env_wait_ms': 0.06528372835578664, 'mean_processing_ms': 0.16904176096254864, 'mean_inference_ms': 0.7955175060832889}, 'off_policy_estimator': {}, 'info': {'num_steps_trained': 19840, 'num_steps_sampled': 20000, 'sample_time_ms': 2432.163, 'load_time_ms': 12.279, 'grad_time_ms': 2612.053, 'update_time_ms': 166.619, 'learner': {'default_policy': {'cur_kl_coeff': 0.15000000596046448, 'cur_lr': 4.999999873689376e-05, 'total_loss': 463.3653, 'policy_loss': -0.0022730043, 'vf_loss': 463.367, 'vf_explained_var': 0.27402228, 'kl': 0.003611335, 'entropy': 0.5530573, 'entropy_coeff': 0.0}}}, 'timesteps_this_iter': 4000, 'done': False, 'timesteps_total': 20000, 'episodes_total': 353, 'training_iteration': 5, 'experiment_id': 'b7df3932ffd34f45ad055defffcce8e4', 'date': '2020-03-29_16-09-56', 'timestamp': 1585523396, 'time_this_iter_s': 4.367142915725708, 'time_total_s': 26.185495853424072, 'pid': 27655, 'hostname': 'derwen', 'node_ip': '192.168.1.244', 'config': {'num_workers': 2, 'num_envs_per_worker': 1, 'sample_batch_size': 200, 'batch_mode': 'truncate_episodes', 'num_gpus': 0, 'train_batch_size': 4000, 'model': {'conv_filters': None, 'conv_activation': 'relu', 'fcnet_activation': 'tanh', 'fcnet_hiddens': [256, 256], 'free_log_std': False, 'no_final_linear': False, 'vf_share_layers': True, 'use_lstm': False, 'max_seq_len': 20, 'lstm_cell_size': 256, 'lstm_use_prev_action_reward': False, 'state_shape': None, 'framestack': True, 'dim': 84, 'grayscale': False, 'zero_mean': True, 'custom_model': None, 'custom_action_dist': None, 'custom_options': {}, 'custom_preprocessor': None}, 'optimizer': {}, 'gamma': 0.99, 'horizon': None, 'soft_horizon': False, 'no_done_at_end': False, 'env_config': {}, 'env': 'CartPole-v0', 'normalize_actions': False, 'clip_rewards': None, 'clip_actions': True, 'preprocessor_pref': 'deepmind', 'lr': 5e-05, 'monitor': False, 'log_level': 'WARN', 'callbacks': {'on_episode_start': None, 'on_episode_step': None, 'on_episode_end': None, 'on_sample_end': None, 'on_train_result': None, 'on_postprocess_traj': None}, 'ignore_worker_failures': False, 'log_sys_usage': True, 'use_pytorch': False, 'eager': False, 'eager_tracing': False, 'no_eager_on_workers': False, 'explore': True, 'exploration_config': {'type': 'StochasticSampling'}, 'evaluation_interval': None, 'evaluation_num_episodes': 10, 'in_evaluation': False, 'evaluation_config': {}, 'evaluation_num_workers': 0, 'custom_eval_function': None, 'sample_async': False, 'observation_filter': 'NoFilter', 'synchronize_filters': True, 'tf_session_args': {'intra_op_parallelism_threads': 2, 'inter_op_parallelism_threads': 2, 'gpu_options': {'allow_growth': True}, 'log_device_placement': False, 'device_count': {'CPU': 1}, 'allow_soft_placement': True}, 'local_tf_session_args': {'intra_op_parallelism_threads': 8, 'inter_op_parallelism_threads': 8}, 'compress_observations': False, 'collect_metrics_timeout': 180, 'metrics_smoothing_episodes': 100, 'remote_worker_envs': False, 'remote_env_batch_wait_ms': 0, 'min_iter_time_s': 0, 'timesteps_per_iteration': 0, 'seed': None, 'num_cpus_per_worker': 1, 'num_gpus_per_worker': 0, 'custom_resources_per_worker': {}, 'num_cpus_for_driver': 1, 'memory': 0, 'object_store_memory': 0, 'memory_per_worker': 0, 'object_store_memory_per_worker': 0, 'input': 'sampler', 'input_evaluation': ['is', 'wis'], 'postprocess_inputs': False, 'shuffle_buffer_size': 0, 'output': None, 'output_compress_columns': ['obs', 'new_obs'], 'output_max_file_size': 67108864, 'multiagent': {'policies': {}, 'policy_mapping_fn': None, 'policies_to_train': None}, 'use_critic': True, 'use_gae': True, 'lambda': 1.0, 'kl_coeff': 0.2, 'sgd_minibatch_size': 128, 'shuffle_sequences': True, 'num_sgd_iter': 30, 'lr_schedule': None, 'vf_share_layers': False, 'vf_loss_coeff': 1.0, 'entropy_coeff': 0.0, 'entropy_coeff_schedule': None, 'clip_param': 0.3, 'vf_clip_param': 10.0, 'grad_clip': None, 'kl_target': 0.01, 'simple_optimizer': False}, 'time_since_restore': 26.185495853424072, 'timesteps_since_restore': 20000, 'iterations_since_restore': 5, 'perf': {'cpu_util_percent': 64.36666666666666, 'ram_util_percent': 70.36666666666667}, 'num_healthy_workers': 2}\n",
      "\n",
      "/tmp/ppo/checkpoint_5/checkpoint-5\n",
      "{'episode_reward_max': 200.0, 'episode_reward_min': 13.0, 'episode_reward_mean': 150.89, 'episode_len_mean': 150.89, 'episodes_this_iter': 20, 'policy_reward_min': {}, 'policy_reward_max': {}, 'policy_reward_mean': {}, 'custom_metrics': {}, 'hist_stats': {'episode_reward': [185.0, 200.0, 200.0, 200.0, 200.0, 200.0, 200.0, 200.0, 200.0, 200.0, 197.0, 200.0, 200.0, 200.0, 200.0, 200.0, 200.0, 200.0, 200.0, 200.0, 170.0, 149.0, 31.0, 177.0, 85.0, 85.0, 77.0, 79.0, 188.0, 101.0, 50.0, 37.0, 26.0, 27.0, 84.0, 51.0, 77.0, 84.0, 42.0, 50.0, 45.0, 127.0, 23.0, 113.0, 18.0, 151.0, 200.0, 175.0, 13.0, 91.0, 135.0, 152.0, 136.0, 125.0, 200.0, 200.0, 200.0, 152.0, 200.0, 175.0, 200.0, 178.0, 71.0, 200.0, 200.0, 200.0, 129.0, 179.0, 163.0, 156.0, 200.0, 200.0, 192.0, 200.0, 200.0, 78.0, 125.0, 200.0, 200.0, 109.0, 200.0, 200.0, 87.0, 200.0, 200.0, 162.0, 127.0, 200.0, 200.0, 200.0, 200.0, 200.0, 14.0, 200.0, 82.0, 154.0, 200.0, 200.0, 200.0, 200.0], 'episode_lengths': [185, 200, 200, 200, 200, 200, 200, 200, 200, 200, 197, 200, 200, 200, 200, 200, 200, 200, 200, 200, 170, 149, 31, 177, 85, 85, 77, 79, 188, 101, 50, 37, 26, 27, 84, 51, 77, 84, 42, 50, 45, 127, 23, 113, 18, 151, 200, 175, 13, 91, 135, 152, 136, 125, 200, 200, 200, 152, 200, 175, 200, 178, 71, 200, 200, 200, 129, 179, 163, 156, 200, 200, 192, 200, 200, 78, 125, 200, 200, 109, 200, 200, 87, 200, 200, 162, 127, 200, 200, 200, 200, 200, 14, 200, 82, 154, 200, 200, 200, 200]}, 'sampler_perf': {'mean_env_wait_ms': 0.06509242878182091, 'mean_processing_ms': 0.16580941767299978, 'mean_inference_ms': 0.7904190750525231}, 'off_policy_estimator': {}, 'info': {'num_steps_trained': 23808, 'num_steps_sampled': 24000, 'sample_time_ms': 2319.288, 'load_time_ms': 10.433, 'grad_time_ms': 2571.574, 'update_time_ms': 139.617, 'learner': {'default_policy': {'cur_kl_coeff': 0.07500000298023224, 'cur_lr': 4.999999873689376e-05, 'total_loss': 354.242, 'policy_loss': -0.0028743274, 'vf_loss': 354.2444, 'vf_explained_var': 0.35973415, 'kl': 0.0059652436, 'entropy': 0.538462, 'entropy_coeff': 0.0}}}, 'timesteps_this_iter': 4000, 'done': False, 'timesteps_total': 24000, 'episodes_total': 373, 'training_iteration': 6, 'experiment_id': 'b7df3932ffd34f45ad055defffcce8e4', 'date': '2020-03-29_16-10-00', 'timestamp': 1585523400, 'time_this_iter_s': 4.133035898208618, 'time_total_s': 30.31853175163269, 'pid': 27655, 'hostname': 'derwen', 'node_ip': '192.168.1.244', 'config': {'num_workers': 2, 'num_envs_per_worker': 1, 'sample_batch_size': 200, 'batch_mode': 'truncate_episodes', 'num_gpus': 0, 'train_batch_size': 4000, 'model': {'conv_filters': None, 'conv_activation': 'relu', 'fcnet_activation': 'tanh', 'fcnet_hiddens': [256, 256], 'free_log_std': False, 'no_final_linear': False, 'vf_share_layers': True, 'use_lstm': False, 'max_seq_len': 20, 'lstm_cell_size': 256, 'lstm_use_prev_action_reward': False, 'state_shape': None, 'framestack': True, 'dim': 84, 'grayscale': False, 'zero_mean': True, 'custom_model': None, 'custom_action_dist': None, 'custom_options': {}, 'custom_preprocessor': None}, 'optimizer': {}, 'gamma': 0.99, 'horizon': None, 'soft_horizon': False, 'no_done_at_end': False, 'env_config': {}, 'env': 'CartPole-v0', 'normalize_actions': False, 'clip_rewards': None, 'clip_actions': True, 'preprocessor_pref': 'deepmind', 'lr': 5e-05, 'monitor': False, 'log_level': 'WARN', 'callbacks': {'on_episode_start': None, 'on_episode_step': None, 'on_episode_end': None, 'on_sample_end': None, 'on_train_result': None, 'on_postprocess_traj': None}, 'ignore_worker_failures': False, 'log_sys_usage': True, 'use_pytorch': False, 'eager': False, 'eager_tracing': False, 'no_eager_on_workers': False, 'explore': True, 'exploration_config': {'type': 'StochasticSampling'}, 'evaluation_interval': None, 'evaluation_num_episodes': 10, 'in_evaluation': False, 'evaluation_config': {}, 'evaluation_num_workers': 0, 'custom_eval_function': None, 'sample_async': False, 'observation_filter': 'NoFilter', 'synchronize_filters': True, 'tf_session_args': {'intra_op_parallelism_threads': 2, 'inter_op_parallelism_threads': 2, 'gpu_options': {'allow_growth': True}, 'log_device_placement': False, 'device_count': {'CPU': 1}, 'allow_soft_placement': True}, 'local_tf_session_args': {'intra_op_parallelism_threads': 8, 'inter_op_parallelism_threads': 8}, 'compress_observations': False, 'collect_metrics_timeout': 180, 'metrics_smoothing_episodes': 100, 'remote_worker_envs': False, 'remote_env_batch_wait_ms': 0, 'min_iter_time_s': 0, 'timesteps_per_iteration': 0, 'seed': None, 'num_cpus_per_worker': 1, 'num_gpus_per_worker': 0, 'custom_resources_per_worker': {}, 'num_cpus_for_driver': 1, 'memory': 0, 'object_store_memory': 0, 'memory_per_worker': 0, 'object_store_memory_per_worker': 0, 'input': 'sampler', 'input_evaluation': ['is', 'wis'], 'postprocess_inputs': False, 'shuffle_buffer_size': 0, 'output': None, 'output_compress_columns': ['obs', 'new_obs'], 'output_max_file_size': 67108864, 'multiagent': {'policies': {}, 'policy_mapping_fn': None, 'policies_to_train': None}, 'use_critic': True, 'use_gae': True, 'lambda': 1.0, 'kl_coeff': 0.2, 'sgd_minibatch_size': 128, 'shuffle_sequences': True, 'num_sgd_iter': 30, 'lr_schedule': None, 'vf_share_layers': False, 'vf_loss_coeff': 1.0, 'entropy_coeff': 0.0, 'entropy_coeff_schedule': None, 'clip_param': 0.3, 'vf_clip_param': 10.0, 'grad_clip': None, 'kl_target': 0.01, 'simple_optimizer': False}, 'time_since_restore': 30.31853175163269, 'timesteps_since_restore': 24000, 'iterations_since_restore': 6, 'perf': {'cpu_util_percent': 75.28333333333332, 'ram_util_percent': 70.7}, 'num_healthy_workers': 2}\n",
      "\n",
      "/tmp/ppo/checkpoint_6/checkpoint-6\n"
     ]
    },
    {
     "name": "stdout",
     "output_type": "stream",
     "text": [
      "{'episode_reward_max': 200.0, 'episode_reward_min': 13.0, 'episode_reward_mean': 174.15, 'episode_len_mean': 174.15, 'episodes_this_iter': 20, 'policy_reward_min': {}, 'policy_reward_max': {}, 'policy_reward_mean': {}, 'custom_metrics': {}, 'hist_stats': {'episode_reward': [200.0, 200.0, 200.0, 200.0, 200.0, 200.0, 200.0, 200.0, 200.0, 200.0, 200.0, 200.0, 200.0, 200.0, 200.0, 200.0, 196.0, 200.0, 200.0, 200.0, 45.0, 127.0, 23.0, 113.0, 18.0, 151.0, 200.0, 175.0, 13.0, 91.0, 135.0, 152.0, 136.0, 125.0, 200.0, 200.0, 200.0, 152.0, 200.0, 175.0, 200.0, 178.0, 71.0, 200.0, 200.0, 200.0, 129.0, 179.0, 163.0, 156.0, 200.0, 200.0, 192.0, 200.0, 200.0, 78.0, 125.0, 200.0, 200.0, 109.0, 200.0, 200.0, 87.0, 200.0, 200.0, 162.0, 127.0, 200.0, 200.0, 200.0, 200.0, 200.0, 14.0, 200.0, 82.0, 154.0, 200.0, 200.0, 200.0, 200.0, 185.0, 200.0, 200.0, 200.0, 200.0, 200.0, 200.0, 200.0, 200.0, 200.0, 197.0, 200.0, 200.0, 200.0, 200.0, 200.0, 200.0, 200.0, 200.0, 200.0], 'episode_lengths': [200, 200, 200, 200, 200, 200, 200, 200, 200, 200, 200, 200, 200, 200, 200, 200, 196, 200, 200, 200, 45, 127, 23, 113, 18, 151, 200, 175, 13, 91, 135, 152, 136, 125, 200, 200, 200, 152, 200, 175, 200, 178, 71, 200, 200, 200, 129, 179, 163, 156, 200, 200, 192, 200, 200, 78, 125, 200, 200, 109, 200, 200, 87, 200, 200, 162, 127, 200, 200, 200, 200, 200, 14, 200, 82, 154, 200, 200, 200, 200, 185, 200, 200, 200, 200, 200, 200, 200, 200, 200, 197, 200, 200, 200, 200, 200, 200, 200, 200, 200]}, 'sampler_perf': {'mean_env_wait_ms': 0.06418145467894167, 'mean_processing_ms': 0.16161483965529527, 'mean_inference_ms': 0.7780791866223576}, 'off_policy_estimator': {}, 'info': {'num_steps_trained': 27776, 'num_steps_sampled': 28000, 'sample_time_ms': 2256.458, 'load_time_ms': 9.108, 'grad_time_ms': 2533.861, 'update_time_ms': 120.259, 'learner': {'default_policy': {'cur_kl_coeff': 0.07500000298023224, 'cur_lr': 4.999999873689376e-05, 'total_loss': 285.13742, 'policy_loss': -0.0009922147, 'vf_loss': 285.1379, 'vf_explained_var': 0.5315819, 'kl': 0.006632106, 'entropy': 0.52417886, 'entropy_coeff': 0.0}}}, 'timesteps_this_iter': 4000, 'done': False, 'timesteps_total': 28000, 'episodes_total': 393, 'training_iteration': 7, 'experiment_id': 'b7df3932ffd34f45ad055defffcce8e4', 'date': '2020-03-29_16-10-04', 'timestamp': 1585523404, 'time_this_iter_s': 4.197656154632568, 'time_total_s': 34.51618790626526, 'pid': 27655, 'hostname': 'derwen', 'node_ip': '192.168.1.244', 'config': {'num_workers': 2, 'num_envs_per_worker': 1, 'sample_batch_size': 200, 'batch_mode': 'truncate_episodes', 'num_gpus': 0, 'train_batch_size': 4000, 'model': {'conv_filters': None, 'conv_activation': 'relu', 'fcnet_activation': 'tanh', 'fcnet_hiddens': [256, 256], 'free_log_std': False, 'no_final_linear': False, 'vf_share_layers': True, 'use_lstm': False, 'max_seq_len': 20, 'lstm_cell_size': 256, 'lstm_use_prev_action_reward': False, 'state_shape': None, 'framestack': True, 'dim': 84, 'grayscale': False, 'zero_mean': True, 'custom_model': None, 'custom_action_dist': None, 'custom_options': {}, 'custom_preprocessor': None}, 'optimizer': {}, 'gamma': 0.99, 'horizon': None, 'soft_horizon': False, 'no_done_at_end': False, 'env_config': {}, 'env': 'CartPole-v0', 'normalize_actions': False, 'clip_rewards': None, 'clip_actions': True, 'preprocessor_pref': 'deepmind', 'lr': 5e-05, 'monitor': False, 'log_level': 'WARN', 'callbacks': {'on_episode_start': None, 'on_episode_step': None, 'on_episode_end': None, 'on_sample_end': None, 'on_train_result': None, 'on_postprocess_traj': None}, 'ignore_worker_failures': False, 'log_sys_usage': True, 'use_pytorch': False, 'eager': False, 'eager_tracing': False, 'no_eager_on_workers': False, 'explore': True, 'exploration_config': {'type': 'StochasticSampling'}, 'evaluation_interval': None, 'evaluation_num_episodes': 10, 'in_evaluation': False, 'evaluation_config': {}, 'evaluation_num_workers': 0, 'custom_eval_function': None, 'sample_async': False, 'observation_filter': 'NoFilter', 'synchronize_filters': True, 'tf_session_args': {'intra_op_parallelism_threads': 2, 'inter_op_parallelism_threads': 2, 'gpu_options': {'allow_growth': True}, 'log_device_placement': False, 'device_count': {'CPU': 1}, 'allow_soft_placement': True}, 'local_tf_session_args': {'intra_op_parallelism_threads': 8, 'inter_op_parallelism_threads': 8}, 'compress_observations': False, 'collect_metrics_timeout': 180, 'metrics_smoothing_episodes': 100, 'remote_worker_envs': False, 'remote_env_batch_wait_ms': 0, 'min_iter_time_s': 0, 'timesteps_per_iteration': 0, 'seed': None, 'num_cpus_per_worker': 1, 'num_gpus_per_worker': 0, 'custom_resources_per_worker': {}, 'num_cpus_for_driver': 1, 'memory': 0, 'object_store_memory': 0, 'memory_per_worker': 0, 'object_store_memory_per_worker': 0, 'input': 'sampler', 'input_evaluation': ['is', 'wis'], 'postprocess_inputs': False, 'shuffle_buffer_size': 0, 'output': None, 'output_compress_columns': ['obs', 'new_obs'], 'output_max_file_size': 67108864, 'multiagent': {'policies': {}, 'policy_mapping_fn': None, 'policies_to_train': None}, 'use_critic': True, 'use_gae': True, 'lambda': 1.0, 'kl_coeff': 0.2, 'sgd_minibatch_size': 128, 'shuffle_sequences': True, 'num_sgd_iter': 30, 'lr_schedule': None, 'vf_share_layers': False, 'vf_loss_coeff': 1.0, 'entropy_coeff': 0.0, 'entropy_coeff_schedule': None, 'clip_param': 0.3, 'vf_clip_param': 10.0, 'grad_clip': None, 'kl_target': 0.01, 'simple_optimizer': False}, 'time_since_restore': 34.51618790626526, 'timesteps_since_restore': 28000, 'iterations_since_restore': 7, 'perf': {'cpu_util_percent': 75.58333333333333, 'ram_util_percent': 69.85000000000001}, 'num_healthy_workers': 2}\n",
      "\n",
      "/tmp/ppo/checkpoint_7/checkpoint-7\n",
      "{'episode_reward_max': 200.0, 'episode_reward_min': 14.0, 'episode_reward_mean': 186.48, 'episode_len_mean': 186.48, 'episodes_this_iter': 21, 'policy_reward_min': {}, 'policy_reward_max': {}, 'policy_reward_mean': {}, 'custom_metrics': {}, 'hist_stats': {'episode_reward': [200.0, 200.0, 176.0, 200.0, 200.0, 200.0, 200.0, 200.0, 200.0, 200.0, 200.0, 152.0, 200.0, 183.0, 200.0, 157.0, 200.0, 200.0, 200.0, 200.0, 196.0, 178.0, 71.0, 200.0, 200.0, 200.0, 129.0, 179.0, 163.0, 156.0, 200.0, 200.0, 192.0, 200.0, 200.0, 78.0, 125.0, 200.0, 200.0, 109.0, 200.0, 200.0, 87.0, 200.0, 200.0, 162.0, 127.0, 200.0, 200.0, 200.0, 200.0, 200.0, 14.0, 200.0, 82.0, 154.0, 200.0, 200.0, 200.0, 200.0, 185.0, 200.0, 200.0, 200.0, 200.0, 200.0, 200.0, 200.0, 200.0, 200.0, 197.0, 200.0, 200.0, 200.0, 200.0, 200.0, 200.0, 200.0, 200.0, 200.0, 200.0, 200.0, 200.0, 200.0, 200.0, 200.0, 200.0, 200.0, 200.0, 200.0, 200.0, 200.0, 200.0, 200.0, 200.0, 200.0, 196.0, 200.0, 200.0, 200.0], 'episode_lengths': [200, 200, 176, 200, 200, 200, 200, 200, 200, 200, 200, 152, 200, 183, 200, 157, 200, 200, 200, 200, 196, 178, 71, 200, 200, 200, 129, 179, 163, 156, 200, 200, 192, 200, 200, 78, 125, 200, 200, 109, 200, 200, 87, 200, 200, 162, 127, 200, 200, 200, 200, 200, 14, 200, 82, 154, 200, 200, 200, 200, 185, 200, 200, 200, 200, 200, 200, 200, 200, 200, 197, 200, 200, 200, 200, 200, 200, 200, 200, 200, 200, 200, 200, 200, 200, 200, 200, 200, 200, 200, 200, 200, 200, 200, 200, 200, 196, 200, 200, 200]}, 'sampler_perf': {'mean_env_wait_ms': 0.0632299947146281, 'mean_processing_ms': 0.1574876093495271, 'mean_inference_ms': 0.7653580350976064}, 'off_policy_estimator': {}, 'info': {'num_steps_trained': 31744, 'num_steps_sampled': 32000, 'sample_time_ms': 2199.41, 'load_time_ms': 8.104, 'grad_time_ms': 2507.933, 'update_time_ms': 105.749, 'learner': {'default_policy': {'cur_kl_coeff': 0.07500000298023224, 'cur_lr': 4.999999873689376e-05, 'total_loss': 223.71048, 'policy_loss': -0.0034062997, 'vf_loss': 223.71346, 'vf_explained_var': 0.5775476, 'kl': 0.005036616, 'entropy': 0.51903105, 'entropy_coeff': 0.0}}}, 'timesteps_this_iter': 4000, 'done': False, 'timesteps_total': 32000, 'episodes_total': 414, 'training_iteration': 8, 'experiment_id': 'b7df3932ffd34f45ad055defffcce8e4', 'date': '2020-03-29_16-10-08', 'timestamp': 1585523408, 'time_this_iter_s': 4.134943008422852, 'time_total_s': 38.65113091468811, 'pid': 27655, 'hostname': 'derwen', 'node_ip': '192.168.1.244', 'config': {'num_workers': 2, 'num_envs_per_worker': 1, 'sample_batch_size': 200, 'batch_mode': 'truncate_episodes', 'num_gpus': 0, 'train_batch_size': 4000, 'model': {'conv_filters': None, 'conv_activation': 'relu', 'fcnet_activation': 'tanh', 'fcnet_hiddens': [256, 256], 'free_log_std': False, 'no_final_linear': False, 'vf_share_layers': True, 'use_lstm': False, 'max_seq_len': 20, 'lstm_cell_size': 256, 'lstm_use_prev_action_reward': False, 'state_shape': None, 'framestack': True, 'dim': 84, 'grayscale': False, 'zero_mean': True, 'custom_model': None, 'custom_action_dist': None, 'custom_options': {}, 'custom_preprocessor': None}, 'optimizer': {}, 'gamma': 0.99, 'horizon': None, 'soft_horizon': False, 'no_done_at_end': False, 'env_config': {}, 'env': 'CartPole-v0', 'normalize_actions': False, 'clip_rewards': None, 'clip_actions': True, 'preprocessor_pref': 'deepmind', 'lr': 5e-05, 'monitor': False, 'log_level': 'WARN', 'callbacks': {'on_episode_start': None, 'on_episode_step': None, 'on_episode_end': None, 'on_sample_end': None, 'on_train_result': None, 'on_postprocess_traj': None}, 'ignore_worker_failures': False, 'log_sys_usage': True, 'use_pytorch': False, 'eager': False, 'eager_tracing': False, 'no_eager_on_workers': False, 'explore': True, 'exploration_config': {'type': 'StochasticSampling'}, 'evaluation_interval': None, 'evaluation_num_episodes': 10, 'in_evaluation': False, 'evaluation_config': {}, 'evaluation_num_workers': 0, 'custom_eval_function': None, 'sample_async': False, 'observation_filter': 'NoFilter', 'synchronize_filters': True, 'tf_session_args': {'intra_op_parallelism_threads': 2, 'inter_op_parallelism_threads': 2, 'gpu_options': {'allow_growth': True}, 'log_device_placement': False, 'device_count': {'CPU': 1}, 'allow_soft_placement': True}, 'local_tf_session_args': {'intra_op_parallelism_threads': 8, 'inter_op_parallelism_threads': 8}, 'compress_observations': False, 'collect_metrics_timeout': 180, 'metrics_smoothing_episodes': 100, 'remote_worker_envs': False, 'remote_env_batch_wait_ms': 0, 'min_iter_time_s': 0, 'timesteps_per_iteration': 0, 'seed': None, 'num_cpus_per_worker': 1, 'num_gpus_per_worker': 0, 'custom_resources_per_worker': {}, 'num_cpus_for_driver': 1, 'memory': 0, 'object_store_memory': 0, 'memory_per_worker': 0, 'object_store_memory_per_worker': 0, 'input': 'sampler', 'input_evaluation': ['is', 'wis'], 'postprocess_inputs': False, 'shuffle_buffer_size': 0, 'output': None, 'output_compress_columns': ['obs', 'new_obs'], 'output_max_file_size': 67108864, 'multiagent': {'policies': {}, 'policy_mapping_fn': None, 'policies_to_train': None}, 'use_critic': True, 'use_gae': True, 'lambda': 1.0, 'kl_coeff': 0.2, 'sgd_minibatch_size': 128, 'shuffle_sequences': True, 'num_sgd_iter': 30, 'lr_schedule': None, 'vf_share_layers': False, 'vf_loss_coeff': 1.0, 'entropy_coeff': 0.0, 'entropy_coeff_schedule': None, 'clip_param': 0.3, 'vf_clip_param': 10.0, 'grad_clip': None, 'kl_target': 0.01, 'simple_optimizer': False}, 'time_since_restore': 38.65113091468811, 'timesteps_since_restore': 32000, 'iterations_since_restore': 8, 'perf': {'cpu_util_percent': 75.48333333333333, 'ram_util_percent': 69.39999999999999}, 'num_healthy_workers': 2}\n",
      "\n",
      "/tmp/ppo/checkpoint_8/checkpoint-8\n"
     ]
    },
    {
     "name": "stdout",
     "output_type": "stream",
     "text": [
      "{'episode_reward_max': 200.0, 'episode_reward_min': 14.0, 'episode_reward_mean': 192.14, 'episode_len_mean': 192.14, 'episodes_this_iter': 20, 'policy_reward_min': {}, 'policy_reward_max': {}, 'policy_reward_mean': {}, 'custom_metrics': {}, 'hist_stats': {'episode_reward': [174.0, 200.0, 200.0, 200.0, 200.0, 200.0, 200.0, 200.0, 200.0, 200.0, 200.0, 200.0, 200.0, 172.0, 200.0, 200.0, 200.0, 200.0, 200.0, 200.0, 200.0, 87.0, 200.0, 200.0, 162.0, 127.0, 200.0, 200.0, 200.0, 200.0, 200.0, 14.0, 200.0, 82.0, 154.0, 200.0, 200.0, 200.0, 200.0, 185.0, 200.0, 200.0, 200.0, 200.0, 200.0, 200.0, 200.0, 200.0, 200.0, 197.0, 200.0, 200.0, 200.0, 200.0, 200.0, 200.0, 200.0, 200.0, 200.0, 200.0, 200.0, 200.0, 200.0, 200.0, 200.0, 200.0, 200.0, 200.0, 200.0, 200.0, 200.0, 200.0, 200.0, 200.0, 200.0, 196.0, 200.0, 200.0, 200.0, 200.0, 200.0, 176.0, 200.0, 200.0, 200.0, 200.0, 200.0, 200.0, 200.0, 200.0, 152.0, 200.0, 183.0, 200.0, 157.0, 200.0, 200.0, 200.0, 200.0, 196.0], 'episode_lengths': [174, 200, 200, 200, 200, 200, 200, 200, 200, 200, 200, 200, 200, 172, 200, 200, 200, 200, 200, 200, 200, 87, 200, 200, 162, 127, 200, 200, 200, 200, 200, 14, 200, 82, 154, 200, 200, 200, 200, 185, 200, 200, 200, 200, 200, 200, 200, 200, 200, 197, 200, 200, 200, 200, 200, 200, 200, 200, 200, 200, 200, 200, 200, 200, 200, 200, 200, 200, 200, 200, 200, 200, 200, 200, 200, 196, 200, 200, 200, 200, 200, 176, 200, 200, 200, 200, 200, 200, 200, 200, 152, 200, 183, 200, 157, 200, 200, 200, 200, 196]}, 'sampler_perf': {'mean_env_wait_ms': 0.06260660762342515, 'mean_processing_ms': 0.15461024031475323, 'mean_inference_ms': 0.7568179492562845}, 'off_policy_estimator': {}, 'info': {'num_steps_trained': 35712, 'num_steps_sampled': 36000, 'sample_time_ms': 2152.4, 'load_time_ms': 7.34, 'grad_time_ms': 2490.677, 'update_time_ms': 94.539, 'learner': {'default_policy': {'cur_kl_coeff': 0.07500000298023224, 'cur_lr': 4.999999873689376e-05, 'total_loss': 197.8594, 'policy_loss': -0.0053176843, 'vf_loss': 197.86426, 'vf_explained_var': 0.6483635, 'kl': 0.005619007, 'entropy': 0.5065562, 'entropy_coeff': 0.0}}}, 'timesteps_this_iter': 4000, 'done': False, 'timesteps_total': 36000, 'episodes_total': 434, 'training_iteration': 9, 'experiment_id': 'b7df3932ffd34f45ad055defffcce8e4', 'date': '2020-03-29_16-10-13', 'timestamp': 1585523413, 'time_this_iter_s': 4.138245105743408, 'time_total_s': 42.78937602043152, 'pid': 27655, 'hostname': 'derwen', 'node_ip': '192.168.1.244', 'config': {'num_workers': 2, 'num_envs_per_worker': 1, 'sample_batch_size': 200, 'batch_mode': 'truncate_episodes', 'num_gpus': 0, 'train_batch_size': 4000, 'model': {'conv_filters': None, 'conv_activation': 'relu', 'fcnet_activation': 'tanh', 'fcnet_hiddens': [256, 256], 'free_log_std': False, 'no_final_linear': False, 'vf_share_layers': True, 'use_lstm': False, 'max_seq_len': 20, 'lstm_cell_size': 256, 'lstm_use_prev_action_reward': False, 'state_shape': None, 'framestack': True, 'dim': 84, 'grayscale': False, 'zero_mean': True, 'custom_model': None, 'custom_action_dist': None, 'custom_options': {}, 'custom_preprocessor': None}, 'optimizer': {}, 'gamma': 0.99, 'horizon': None, 'soft_horizon': False, 'no_done_at_end': False, 'env_config': {}, 'env': 'CartPole-v0', 'normalize_actions': False, 'clip_rewards': None, 'clip_actions': True, 'preprocessor_pref': 'deepmind', 'lr': 5e-05, 'monitor': False, 'log_level': 'WARN', 'callbacks': {'on_episode_start': None, 'on_episode_step': None, 'on_episode_end': None, 'on_sample_end': None, 'on_train_result': None, 'on_postprocess_traj': None}, 'ignore_worker_failures': False, 'log_sys_usage': True, 'use_pytorch': False, 'eager': False, 'eager_tracing': False, 'no_eager_on_workers': False, 'explore': True, 'exploration_config': {'type': 'StochasticSampling'}, 'evaluation_interval': None, 'evaluation_num_episodes': 10, 'in_evaluation': False, 'evaluation_config': {}, 'evaluation_num_workers': 0, 'custom_eval_function': None, 'sample_async': False, 'observation_filter': 'NoFilter', 'synchronize_filters': True, 'tf_session_args': {'intra_op_parallelism_threads': 2, 'inter_op_parallelism_threads': 2, 'gpu_options': {'allow_growth': True}, 'log_device_placement': False, 'device_count': {'CPU': 1}, 'allow_soft_placement': True}, 'local_tf_session_args': {'intra_op_parallelism_threads': 8, 'inter_op_parallelism_threads': 8}, 'compress_observations': False, 'collect_metrics_timeout': 180, 'metrics_smoothing_episodes': 100, 'remote_worker_envs': False, 'remote_env_batch_wait_ms': 0, 'min_iter_time_s': 0, 'timesteps_per_iteration': 0, 'seed': None, 'num_cpus_per_worker': 1, 'num_gpus_per_worker': 0, 'custom_resources_per_worker': {}, 'num_cpus_for_driver': 1, 'memory': 0, 'object_store_memory': 0, 'memory_per_worker': 0, 'object_store_memory_per_worker': 0, 'input': 'sampler', 'input_evaluation': ['is', 'wis'], 'postprocess_inputs': False, 'shuffle_buffer_size': 0, 'output': None, 'output_compress_columns': ['obs', 'new_obs'], 'output_max_file_size': 67108864, 'multiagent': {'policies': {}, 'policy_mapping_fn': None, 'policies_to_train': None}, 'use_critic': True, 'use_gae': True, 'lambda': 1.0, 'kl_coeff': 0.2, 'sgd_minibatch_size': 128, 'shuffle_sequences': True, 'num_sgd_iter': 30, 'lr_schedule': None, 'vf_share_layers': False, 'vf_loss_coeff': 1.0, 'entropy_coeff': 0.0, 'entropy_coeff_schedule': None, 'clip_param': 0.3, 'vf_clip_param': 10.0, 'grad_clip': None, 'kl_target': 0.01, 'simple_optimizer': False}, 'time_since_restore': 42.78937602043152, 'timesteps_since_restore': 36000, 'iterations_since_restore': 9, 'perf': {'cpu_util_percent': 75.16666666666667, 'ram_util_percent': 69.39999999999999}, 'num_healthy_workers': 2}\n",
      "\n",
      "/tmp/ppo/checkpoint_9/checkpoint-9\n",
      "{'episode_reward_max': 200.0, 'episode_reward_min': 100.0, 'episode_reward_mean': 196.86, 'episode_len_mean': 196.86, 'episodes_this_iter': 21, 'policy_reward_min': {}, 'policy_reward_max': {}, 'policy_reward_mean': {}, 'custom_metrics': {}, 'hist_stats': {'episode_reward': [200.0, 200.0, 200.0, 200.0, 200.0, 200.0, 200.0, 100.0, 183.0, 200.0, 200.0, 200.0, 200.0, 200.0, 200.0, 200.0, 200.0, 200.0, 200.0, 200.0, 200.0, 200.0, 200.0, 200.0, 200.0, 200.0, 200.0, 200.0, 200.0, 197.0, 200.0, 200.0, 200.0, 200.0, 200.0, 200.0, 200.0, 200.0, 200.0, 200.0, 200.0, 200.0, 200.0, 200.0, 200.0, 200.0, 200.0, 200.0, 200.0, 200.0, 200.0, 200.0, 200.0, 200.0, 200.0, 196.0, 200.0, 200.0, 200.0, 200.0, 200.0, 176.0, 200.0, 200.0, 200.0, 200.0, 200.0, 200.0, 200.0, 200.0, 152.0, 200.0, 183.0, 200.0, 157.0, 200.0, 200.0, 200.0, 200.0, 196.0, 174.0, 200.0, 200.0, 200.0, 200.0, 200.0, 200.0, 200.0, 200.0, 200.0, 200.0, 200.0, 200.0, 172.0, 200.0, 200.0, 200.0, 200.0, 200.0, 200.0], 'episode_lengths': [200, 200, 200, 200, 200, 200, 200, 100, 183, 200, 200, 200, 200, 200, 200, 200, 200, 200, 200, 200, 200, 200, 200, 200, 200, 200, 200, 200, 200, 197, 200, 200, 200, 200, 200, 200, 200, 200, 200, 200, 200, 200, 200, 200, 200, 200, 200, 200, 200, 200, 200, 200, 200, 200, 200, 196, 200, 200, 200, 200, 200, 176, 200, 200, 200, 200, 200, 200, 200, 200, 152, 200, 183, 200, 157, 200, 200, 200, 200, 196, 174, 200, 200, 200, 200, 200, 200, 200, 200, 200, 200, 200, 200, 172, 200, 200, 200, 200, 200, 200]}, 'sampler_perf': {'mean_env_wait_ms': 0.0619142158293217, 'mean_processing_ms': 0.15191917233977212, 'mean_inference_ms': 0.7477948576758361}, 'off_policy_estimator': {}, 'info': {'num_steps_trained': 39680, 'num_steps_sampled': 40000, 'sample_time_ms': 2115.143, 'load_time_ms': 6.745, 'grad_time_ms': 2522.236, 'update_time_ms': 85.507, 'learner': {'default_policy': {'cur_kl_coeff': 0.07500000298023224, 'cur_lr': 4.999999873689376e-05, 'total_loss': 230.46072, 'policy_loss': -0.003148203, 'vf_loss': 230.46344, 'vf_explained_var': 0.5877102, 'kl': 0.005594354, 'entropy': 0.48131722, 'entropy_coeff': 0.0}}}, 'timesteps_this_iter': 4000, 'done': False, 'timesteps_total': 40000, 'episodes_total': 455, 'training_iteration': 10, 'experiment_id': 'b7df3932ffd34f45ad055defffcce8e4', 'date': '2020-03-29_16-10-17', 'timestamp': 1585523417, 'time_this_iter_s': 4.595055103302002, 'time_total_s': 47.38443112373352, 'pid': 27655, 'hostname': 'derwen', 'node_ip': '192.168.1.244', 'config': {'num_workers': 2, 'num_envs_per_worker': 1, 'sample_batch_size': 200, 'batch_mode': 'truncate_episodes', 'num_gpus': 0, 'train_batch_size': 4000, 'model': {'conv_filters': None, 'conv_activation': 'relu', 'fcnet_activation': 'tanh', 'fcnet_hiddens': [256, 256], 'free_log_std': False, 'no_final_linear': False, 'vf_share_layers': True, 'use_lstm': False, 'max_seq_len': 20, 'lstm_cell_size': 256, 'lstm_use_prev_action_reward': False, 'state_shape': None, 'framestack': True, 'dim': 84, 'grayscale': False, 'zero_mean': True, 'custom_model': None, 'custom_action_dist': None, 'custom_options': {}, 'custom_preprocessor': None}, 'optimizer': {}, 'gamma': 0.99, 'horizon': None, 'soft_horizon': False, 'no_done_at_end': False, 'env_config': {}, 'env': 'CartPole-v0', 'normalize_actions': False, 'clip_rewards': None, 'clip_actions': True, 'preprocessor_pref': 'deepmind', 'lr': 5e-05, 'monitor': False, 'log_level': 'WARN', 'callbacks': {'on_episode_start': None, 'on_episode_step': None, 'on_episode_end': None, 'on_sample_end': None, 'on_train_result': None, 'on_postprocess_traj': None}, 'ignore_worker_failures': False, 'log_sys_usage': True, 'use_pytorch': False, 'eager': False, 'eager_tracing': False, 'no_eager_on_workers': False, 'explore': True, 'exploration_config': {'type': 'StochasticSampling'}, 'evaluation_interval': None, 'evaluation_num_episodes': 10, 'in_evaluation': False, 'evaluation_config': {}, 'evaluation_num_workers': 0, 'custom_eval_function': None, 'sample_async': False, 'observation_filter': 'NoFilter', 'synchronize_filters': True, 'tf_session_args': {'intra_op_parallelism_threads': 2, 'inter_op_parallelism_threads': 2, 'gpu_options': {'allow_growth': True}, 'log_device_placement': False, 'device_count': {'CPU': 1}, 'allow_soft_placement': True}, 'local_tf_session_args': {'intra_op_parallelism_threads': 8, 'inter_op_parallelism_threads': 8}, 'compress_observations': False, 'collect_metrics_timeout': 180, 'metrics_smoothing_episodes': 100, 'remote_worker_envs': False, 'remote_env_batch_wait_ms': 0, 'min_iter_time_s': 0, 'timesteps_per_iteration': 0, 'seed': None, 'num_cpus_per_worker': 1, 'num_gpus_per_worker': 0, 'custom_resources_per_worker': {}, 'num_cpus_for_driver': 1, 'memory': 0, 'object_store_memory': 0, 'memory_per_worker': 0, 'object_store_memory_per_worker': 0, 'input': 'sampler', 'input_evaluation': ['is', 'wis'], 'postprocess_inputs': False, 'shuffle_buffer_size': 0, 'output': None, 'output_compress_columns': ['obs', 'new_obs'], 'output_max_file_size': 67108864, 'multiagent': {'policies': {}, 'policy_mapping_fn': None, 'policies_to_train': None}, 'use_critic': True, 'use_gae': True, 'lambda': 1.0, 'kl_coeff': 0.2, 'sgd_minibatch_size': 128, 'shuffle_sequences': True, 'num_sgd_iter': 30, 'lr_schedule': None, 'vf_share_layers': False, 'vf_loss_coeff': 1.0, 'entropy_coeff': 0.0, 'entropy_coeff_schedule': None, 'clip_param': 0.3, 'vf_clip_param': 10.0, 'grad_clip': None, 'kl_target': 0.01, 'simple_optimizer': False}, 'time_since_restore': 47.38443112373352, 'timesteps_since_restore': 40000, 'iterations_since_restore': 10, 'perf': {'cpu_util_percent': 78.41666666666667, 'ram_util_percent': 69.2}, 'num_healthy_workers': 2}\n",
      "\n",
      "/tmp/ppo/checkpoint_10/checkpoint-10\n"
     ]
    }
   ],
   "source": [
    "config = ppo.DEFAULT_CONFIG.copy()\n",
    "config[\"log_level\"] = \"WARN\"\n",
    "\n",
    "n_iter = 10\n",
    "reward_history = []\n",
    "\n",
    "agent = ppo.PPOTrainer(config, env=\"CartPole-v0\")\n",
    "\n",
    "for _ in range(n_iter):\n",
    "    result = agent.train()\n",
    "    print(result)\n",
    "\n",
    "    max_reward = result[\"episode_reward_max\"]\n",
    "    reward_history.append(max_reward)\n",
    "\n",
    "    file_name = agent.save(\"/tmp/ppo\")\n",
    "    print(f\"\\n{file_name}\")"
   ]
  },
  {
   "cell_type": "code",
   "execution_count": 6,
   "metadata": {},
   "outputs": [
    {
     "name": "stdout",
     "output_type": "stream",
     "text": [
      "[77.0, 200.0, 200.0, 200.0, 200.0, 200.0, 200.0, 200.0, 200.0, 200.0]\n"
     ]
    }
   ],
   "source": [
    "print(reward_history)"
   ]
  },
  {
   "cell_type": "markdown",
   "metadata": {
    "colab_type": "text",
    "id": "Gp1LgeCJjGLk"
   },
   "source": [
    "The history of `max_reward` shows that this model `200` by the third iteration -- which is good, since the [*solution*](https://gym.openai.com/envs/CartPole-v0/) for `CartPole-v0` is to get an average reward of `195.0` over a hundred consecutive trials."
   ]
  },
  {
   "cell_type": "code",
   "execution_count": 7,
   "metadata": {},
   "outputs": [
    {
     "name": "stdout",
     "output_type": "stream",
     "text": [
      "2020-03-29 16:10:23,202\tINFO resource_spec.py:212 -- Starting Ray with 4.69 GiB memory available for workers and up to 2.35 GiB for objects. You can adjust these settings with ray.init(memory=<bytes>, object_store_memory=<bytes>).\n",
      "2020-03-29 16:10:23,608\tINFO services.py:1078 -- View the Ray dashboard at \u001b[1m\u001b[32mlocalhost:8266\u001b[39m\u001b[22m\n",
      "2020-03-29 16:10:24,416\tINFO trainer.py:420 -- Tip: set 'eager': true or the --eager flag to enable TensorFlow eager execution\n",
      "2020-03-29 16:10:24,459\tINFO trainer.py:580 -- Current log_level is WARN. For more information, set 'log_level': 'INFO' / 'DEBUG' or use the -v and -vv flags.\n",
      "/opt/anaconda3/lib/python3.7/site-packages/ray/rllib/utils/from_config.py:134: YAMLLoadWarning: calling yaml.load() without Loader=... is deprecated, as the default Loader is unsafe. Please read https://msg.pyyaml.org/load for full details.\n",
      "  obj = yaml.load(type_)\n",
      "2020-03-29 16:10:30,426\tWARNING util.py:37 -- Install gputil for GPU system monitoring.\n",
      "2020-03-29 16:10:30,590\tWARNING trainable.py:210 -- Getting current IP.\n",
      "2020-03-29 16:10:30,590\tINFO trainable.py:416 -- Restored on 192.168.1.244 from checkpoint: /tmp/ppo/checkpoint_10/checkpoint-10\n",
      "2020-03-29 16:10:30,590\tINFO trainable.py:423 -- Current state after restoring: {'_iteration': 10, '_timesteps_total': 40000, '_time_total': 47.38443112373352, '_episodes_total': 455}\n",
      "\u001b[2m\u001b[36m(pid=27935)\u001b[0m /opt/anaconda3/lib/python3.7/site-packages/ray/rllib/utils/from_config.py:134: YAMLLoadWarning: calling yaml.load() without Loader=... is deprecated, as the default Loader is unsafe. Please read https://msg.pyyaml.org/load for full details.\n",
      "\u001b[2m\u001b[36m(pid=27935)\u001b[0m   obj = yaml.load(type_)\n",
      "\u001b[2m\u001b[36m(pid=27934)\u001b[0m /opt/anaconda3/lib/python3.7/site-packages/ray/rllib/utils/from_config.py:134: YAMLLoadWarning: calling yaml.load() without Loader=... is deprecated, as the default Loader is unsafe. Please read https://msg.pyyaml.org/load for full details.\n",
      "\u001b[2m\u001b[36m(pid=27934)\u001b[0m   obj = yaml.load(type_)\n",
      "Episode #0: reward: 200.0\n",
      "Episode #1: reward: 200.0\n",
      "Episode #2: reward: 200.0\n",
      "Episode #3: reward: 200.0\n",
      "Episode #4: reward: 200.0\n",
      "Episode #5: reward: 200.0\n",
      "Episode #6: reward: 200.0\n",
      "Episode #7: reward: 200.0\n",
      "Episode #8: reward: 200.0\n",
      "Episode #9: reward: 200.0\n"
     ]
    }
   ],
   "source": [
    "! rllib rollout \\\n",
    "    /tmp/ppo/checkpoint_10/checkpoint-10 \\\n",
    "    --config \"{\\\"env\\\": \\\"CartPole-v0\\\"}\" --run PPO \\\n",
    "    --steps 2000"
   ]
  },
  {
   "cell_type": "markdown",
   "metadata": {
    "colab_type": "text",
    "id": "tI9vJ1vU6Mj1"
   },
   "source": [
    "Now that we've trained a model, we can look at its resulting policy…"
   ]
  },
  {
   "cell_type": "code",
   "execution_count": 8,
   "metadata": {
    "colab": {
     "base_uri": "https://localhost:8080/",
     "height": 272
    },
    "colab_type": "code",
    "id": "NylH7aYqh72O",
    "outputId": "54469bad-83d0-471c-c036-04d6ca2838d3"
   },
   "outputs": [
    {
     "name": "stdout",
     "output_type": "stream",
     "text": [
      "[<tf.Variable 'default_policy/fc_1/kernel:0' shape=(4, 256) dtype=float32>,\n",
      " <tf.Variable 'default_policy/fc_1/bias:0' shape=(256,) dtype=float32>,\n",
      " <tf.Variable 'default_policy/fc_value_1/kernel:0' shape=(4, 256) dtype=float32>,\n",
      " <tf.Variable 'default_policy/fc_value_1/bias:0' shape=(256,) dtype=float32>,\n",
      " <tf.Variable 'default_policy/fc_2/kernel:0' shape=(256, 256) dtype=float32>,\n",
      " <tf.Variable 'default_policy/fc_2/bias:0' shape=(256,) dtype=float32>,\n",
      " <tf.Variable 'default_policy/fc_value_2/kernel:0' shape=(256, 256) dtype=float32>,\n",
      " <tf.Variable 'default_policy/fc_value_2/bias:0' shape=(256,) dtype=float32>,\n",
      " <tf.Variable 'default_policy/fc_out/kernel:0' shape=(256, 2) dtype=float32>,\n",
      " <tf.Variable 'default_policy/fc_out/bias:0' shape=(2,) dtype=float32>,\n",
      " <tf.Variable 'default_policy/value_out/kernel:0' shape=(256, 1) dtype=float32>,\n",
      " <tf.Variable 'default_policy/value_out/bias:0' shape=(1,) dtype=float32>]\n",
      "<tf.Tensor 'Reshape:0' shape=(?,) dtype=float32>\n"
     ]
    }
   ],
   "source": [
    "import pprint\n",
    "\n",
    "policy = agent.get_policy()\n",
    "model = policy.model\n",
    "\n",
    "pprint.pprint(model.variables())\n",
    "pprint.pprint(model.value_function())"
   ]
  },
  {
   "cell_type": "code",
   "execution_count": 9,
   "metadata": {
    "colab": {
     "base_uri": "https://localhost:8080/",
     "height": 289
    },
    "colab_type": "code",
    "id": "QxLGf4eQGP9Q",
    "outputId": "d9b20198-06cc-444d-bf20-25803c7e8486"
   },
   "outputs": [
    {
     "name": "stdout",
     "output_type": "stream",
     "text": [
      "Model: \"model\"\n",
      "__________________________________________________________________________________________________\n",
      "Layer (type)                    Output Shape         Param #     Connected to                     \n",
      "==================================================================================================\n",
      "observations (InputLayer)       [(None, 4)]          0                                            \n",
      "__________________________________________________________________________________________________\n",
      "fc_1 (Dense)                    (None, 256)          1280        observations[0][0]               \n",
      "__________________________________________________________________________________________________\n",
      "fc_value_1 (Dense)              (None, 256)          1280        observations[0][0]               \n",
      "__________________________________________________________________________________________________\n",
      "fc_2 (Dense)                    (None, 256)          65792       fc_1[0][0]                       \n",
      "__________________________________________________________________________________________________\n",
      "fc_value_2 (Dense)              (None, 256)          65792       fc_value_1[0][0]                 \n",
      "__________________________________________________________________________________________________\n",
      "fc_out (Dense)                  (None, 2)            514         fc_2[0][0]                       \n",
      "__________________________________________________________________________________________________\n",
      "value_out (Dense)               (None, 1)            257         fc_value_2[0][0]                 \n",
      "==================================================================================================\n",
      "Total params: 134,915\n",
      "Trainable params: 134,915\n",
      "Non-trainable params: 0\n",
      "__________________________________________________________________________________________________\n"
     ]
    }
   ],
   "source": [
    "model.base_model.summary()"
   ]
  }
 ],
 "metadata": {
  "colab": {
   "collapsed_sections": [],
   "name": "Copy of rllib_ppo_dqn.ipynb",
   "provenance": []
  },
  "kernelspec": {
   "display_name": "Python 3",
   "language": "python",
   "name": "python3"
  },
  "language_info": {
   "codemirror_mode": {
    "name": "ipython",
    "version": 3
   },
   "file_extension": ".py",
   "mimetype": "text/x-python",
   "name": "python",
   "nbconvert_exporter": "python",
   "pygments_lexer": "ipython3",
   "version": "3.7.4"
  }
 },
 "nbformat": 4,
 "nbformat_minor": 4
}
