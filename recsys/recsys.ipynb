{
 "cells": [
  {
   "cell_type": "markdown",
   "metadata": {},
   "source": [
    "# RLLib RecSys Tutorial\n",
    "\n",
    "This tutorial shows one approach for using *reinforcement learning* with [Ray](https://ray.io/) and [RLlib](https://rllib.io/) to build a *recommender system*."
   ]
  },
  {
   "cell_type": "markdown",
   "metadata": {},
   "source": [
    "## Load the training data\n",
    "\n",
    "The approach given here for building a recommender system could be applied to just about any dataset where *users* are *rating* a set of *items*. It's bounded in terms of memory requirements as the number of users grows, though it would require some re-engineering to handle a very large set of items.\n",
    "\n",
    "We'll be using the Jester collaborative filtering dataset – which is known for having a high *density*, i.e., where many users have rated many of the items\n",
    "<https://goldberg.berkeley.edu/jester-data/>\n",
    "\n",
    "Jester was an online joke recommender hosted a UC Berkeley which collected data from April 1999 through May 2003. See the discussion of \"universal queries\" in:\n",
    "\n",
    "> \"Eigentaste: A Constant Time Collaborative Filtering Algorithm\"  \n",
    "Ken Goldberg, Theresa Roeder, Dhruv Gupta, Chris Perkins  \n",
    "*Information Retrieval*, 4(2), 133-151 (July 2001)  \n",
    "<https://goldberg.berkeley.edu/pubs/eigentaste.pdf>\n",
    "\n",
    "The data is split into three downloadable files, and the first file contains anonymous ratings from 24,983 users who have rated 36 or more jokes.\n",
    "\n",
    "Ratings data is organized as a matrix with dimensions `24983 X 101`\n",
    "\n",
    "  * one row per user\n",
    "  * first column gives the number of jokes rated by that user\n",
    "  * the next 100 columns give the ratings for jokes `01` through `100`\n",
    "  * ratings are real values ranging from `-10.00` to `+10.00`\n",
    "  * the value `\"99\"` corresponds to `None` = \"not rated\"\n",
    "  \n",
    "Here's a function to load the dataset:"
   ]
  },
  {
   "cell_type": "code",
   "execution_count": 2,
   "metadata": {},
   "outputs": [],
   "source": [
    "import csv\n",
    "\n",
    "NO_RATING = \"99\"\n",
    "MAX_RATING = 10.0\n",
    "\n",
    "\n",
    "def load_data (data_path):\n",
    "    rows = []\n",
    "\n",
    "    with open(data_path, newline=\"\") as csvfile:\n",
    "        csvreader = csv.reader(csvfile, delimiter=\",\")\n",
    "\n",
    "        for row in csvreader:\n",
    "            conv = [None] * (len(row) - 1)\n",
    "\n",
    "            for i in range(1, len(row)):\n",
    "                if row[i] != NO_RATING:\n",
    "                    rating = float(row[i]) / MAX_RATING\n",
    "                    conv[i - 1] = rating\n",
    "\n",
    "            rows.append(conv)\n",
    "\n",
    "    return rows"
   ]
  },
  {
   "cell_type": "markdown",
   "metadata": {},
   "source": [
    "## Data Discovery\n",
    "\n",
    "Let's load the dataset into a `pandas` dataframe, then take a look at it:"
   ]
  },
  {
   "cell_type": "code",
   "execution_count": 3,
   "metadata": {},
   "outputs": [
    {
     "data": {
      "text/html": [
       "<div>\n",
       "<style scoped>\n",
       "    .dataframe tbody tr th:only-of-type {\n",
       "        vertical-align: middle;\n",
       "    }\n",
       "\n",
       "    .dataframe tbody tr th {\n",
       "        vertical-align: top;\n",
       "    }\n",
       "\n",
       "    .dataframe thead th {\n",
       "        text-align: right;\n",
       "    }\n",
       "</style>\n",
       "<table border=\"1\" class=\"dataframe\">\n",
       "  <thead>\n",
       "    <tr style=\"text-align: right;\">\n",
       "      <th></th>\n",
       "      <th>0</th>\n",
       "      <th>1</th>\n",
       "      <th>2</th>\n",
       "      <th>3</th>\n",
       "      <th>4</th>\n",
       "      <th>5</th>\n",
       "      <th>6</th>\n",
       "      <th>7</th>\n",
       "      <th>8</th>\n",
       "      <th>9</th>\n",
       "      <th>...</th>\n",
       "      <th>90</th>\n",
       "      <th>91</th>\n",
       "      <th>92</th>\n",
       "      <th>93</th>\n",
       "      <th>94</th>\n",
       "      <th>95</th>\n",
       "      <th>96</th>\n",
       "      <th>97</th>\n",
       "      <th>98</th>\n",
       "      <th>99</th>\n",
       "    </tr>\n",
       "  </thead>\n",
       "  <tbody>\n",
       "    <tr>\n",
       "      <th>0</th>\n",
       "      <td>-0.782</td>\n",
       "      <td>0.879</td>\n",
       "      <td>-0.966</td>\n",
       "      <td>-0.816</td>\n",
       "      <td>-0.752</td>\n",
       "      <td>-0.850</td>\n",
       "      <td>-0.985</td>\n",
       "      <td>0.417</td>\n",
       "      <td>-0.898</td>\n",
       "      <td>-0.476</td>\n",
       "      <td>...</td>\n",
       "      <td>0.282</td>\n",
       "      <td>NaN</td>\n",
       "      <td>NaN</td>\n",
       "      <td>NaN</td>\n",
       "      <td>NaN</td>\n",
       "      <td>NaN</td>\n",
       "      <td>-0.563</td>\n",
       "      <td>NaN</td>\n",
       "      <td>NaN</td>\n",
       "      <td>NaN</td>\n",
       "    </tr>\n",
       "    <tr>\n",
       "      <th>1</th>\n",
       "      <td>0.408</td>\n",
       "      <td>-0.029</td>\n",
       "      <td>0.636</td>\n",
       "      <td>0.437</td>\n",
       "      <td>-0.238</td>\n",
       "      <td>-0.966</td>\n",
       "      <td>-0.073</td>\n",
       "      <td>-0.534</td>\n",
       "      <td>0.888</td>\n",
       "      <td>0.922</td>\n",
       "      <td>...</td>\n",
       "      <td>0.282</td>\n",
       "      <td>-0.495</td>\n",
       "      <td>-0.029</td>\n",
       "      <td>0.786</td>\n",
       "      <td>-0.019</td>\n",
       "      <td>-0.214</td>\n",
       "      <td>0.306</td>\n",
       "      <td>0.034</td>\n",
       "      <td>-0.432</td>\n",
       "      <td>0.107</td>\n",
       "    </tr>\n",
       "    <tr>\n",
       "      <th>2</th>\n",
       "      <td>NaN</td>\n",
       "      <td>NaN</td>\n",
       "      <td>NaN</td>\n",
       "      <td>NaN</td>\n",
       "      <td>0.903</td>\n",
       "      <td>0.927</td>\n",
       "      <td>0.903</td>\n",
       "      <td>0.927</td>\n",
       "      <td>NaN</td>\n",
       "      <td>NaN</td>\n",
       "      <td>...</td>\n",
       "      <td>NaN</td>\n",
       "      <td>NaN</td>\n",
       "      <td>NaN</td>\n",
       "      <td>0.908</td>\n",
       "      <td>NaN</td>\n",
       "      <td>NaN</td>\n",
       "      <td>NaN</td>\n",
       "      <td>NaN</td>\n",
       "      <td>NaN</td>\n",
       "      <td>NaN</td>\n",
       "    </tr>\n",
       "    <tr>\n",
       "      <th>3</th>\n",
       "      <td>NaN</td>\n",
       "      <td>0.835</td>\n",
       "      <td>NaN</td>\n",
       "      <td>NaN</td>\n",
       "      <td>0.180</td>\n",
       "      <td>0.816</td>\n",
       "      <td>-0.282</td>\n",
       "      <td>0.621</td>\n",
       "      <td>NaN</td>\n",
       "      <td>0.184</td>\n",
       "      <td>...</td>\n",
       "      <td>NaN</td>\n",
       "      <td>NaN</td>\n",
       "      <td>NaN</td>\n",
       "      <td>0.053</td>\n",
       "      <td>NaN</td>\n",
       "      <td>NaN</td>\n",
       "      <td>NaN</td>\n",
       "      <td>NaN</td>\n",
       "      <td>NaN</td>\n",
       "      <td>NaN</td>\n",
       "    </tr>\n",
       "    <tr>\n",
       "      <th>4</th>\n",
       "      <td>0.850</td>\n",
       "      <td>0.461</td>\n",
       "      <td>-0.417</td>\n",
       "      <td>-0.539</td>\n",
       "      <td>0.136</td>\n",
       "      <td>0.160</td>\n",
       "      <td>0.704</td>\n",
       "      <td>0.461</td>\n",
       "      <td>-0.044</td>\n",
       "      <td>0.573</td>\n",
       "      <td>...</td>\n",
       "      <td>0.519</td>\n",
       "      <td>0.558</td>\n",
       "      <td>0.427</td>\n",
       "      <td>0.519</td>\n",
       "      <td>0.573</td>\n",
       "      <td>0.155</td>\n",
       "      <td>0.311</td>\n",
       "      <td>0.655</td>\n",
       "      <td>0.180</td>\n",
       "      <td>0.160</td>\n",
       "    </tr>\n",
       "  </tbody>\n",
       "</table>\n",
       "<p>5 rows × 100 columns</p>\n",
       "</div>"
      ],
      "text/plain": [
       "      0      1      2      3      4      5      6      7      8      9   ...  \\\n",
       "0 -0.782  0.879 -0.966 -0.816 -0.752 -0.850 -0.985  0.417 -0.898 -0.476  ...   \n",
       "1  0.408 -0.029  0.636  0.437 -0.238 -0.966 -0.073 -0.534  0.888  0.922  ...   \n",
       "2    NaN    NaN    NaN    NaN  0.903  0.927  0.903  0.927    NaN    NaN  ...   \n",
       "3    NaN  0.835    NaN    NaN  0.180  0.816 -0.282  0.621    NaN  0.184  ...   \n",
       "4  0.850  0.461 -0.417 -0.539  0.136  0.160  0.704  0.461 -0.044  0.573  ...   \n",
       "\n",
       "      90     91     92     93     94     95     96     97     98     99  \n",
       "0  0.282    NaN    NaN    NaN    NaN    NaN -0.563    NaN    NaN    NaN  \n",
       "1  0.282 -0.495 -0.029  0.786 -0.019 -0.214  0.306  0.034 -0.432  0.107  \n",
       "2    NaN    NaN    NaN  0.908    NaN    NaN    NaN    NaN    NaN    NaN  \n",
       "3    NaN    NaN    NaN  0.053    NaN    NaN    NaN    NaN    NaN    NaN  \n",
       "4  0.519  0.558  0.427  0.519  0.573  0.155  0.311  0.655  0.180  0.160  \n",
       "\n",
       "[5 rows x 100 columns]"
      ]
     },
     "execution_count": 3,
     "metadata": {},
     "output_type": "execute_result"
    }
   ],
   "source": [
    "from pathlib import Path\n",
    "import pandas as pd\n",
    "\n",
    "DATA_PATH = Path(\"jester-data-1.csv\")\n",
    "sample = load_data(DATA_PATH)\n",
    "\n",
    "df = pd.DataFrame(sample)\n",
    "df.head()"
   ]
  },
  {
   "cell_type": "markdown",
   "metadata": {},
   "source": [
    "Notice above how there are many `NaN` values in the dataset.\n",
    "Those are *missing values*.\n",
    "Before we analyze this data any further, we'll need to [*impute*](https://en.wikipedia.org/wiki/Imputation_(statistics)) those missing values.\n",
    "In other words, substitute each missing value with some appropriate estimate, such as a column mean.\n",
    "The `SimpleImputer` class in `scikit-learn` provides a good way to handle that\n",
    "<https://scikit-learn.org/stable/modules/impute.html>\n",
    "\n",
    "We'll save the imputed sample data in the `X` matrix:"
   ]
  },
  {
   "cell_type": "code",
   "execution_count": 4,
   "metadata": {},
   "outputs": [
    {
     "name": "stdout",
     "output_type": "stream",
     "text": [
      "[[-0.782       0.408       0.09045733 ...  0.09045733  0.09045733\n",
      "   0.243     ]\n",
      " [ 0.879      -0.029       0.02084596 ...  0.02084596  0.02084596\n",
      "   0.267     ]\n",
      " [-0.966       0.636       0.03165743 ...  0.03165743  0.03165743\n",
      "  -0.398     ]\n",
      " ...\n",
      " [ 0.07676917  0.034       0.07676917 ...  0.07676917  0.07676917\n",
      "   0.07676917]\n",
      " [-0.00312438 -0.432      -0.00312438 ... -0.00312438 -0.00312438\n",
      "  -0.00312438]\n",
      " [ 0.13547109  0.107       0.13547109 ...  0.13547109  0.13547109\n",
      "   0.13547109]]\n"
     ]
    }
   ],
   "source": [
    "import numpy as np\n",
    "from sklearn.impute import SimpleImputer\n",
    "\n",
    "imp = SimpleImputer(missing_values=np.nan, strategy=\"mean\")\n",
    "imp.fit(df.values)\n",
    "\n",
    "X = imp.transform(df.values).T\n",
    "\n",
    "print(X)"
   ]
  },
  {
   "cell_type": "markdown",
   "metadata": {},
   "source": [
    "Next, we'll use *K-means clustering* as an unsupervised learning approach to understand more about how the dataset is structured. In other word, re-arrange the dataset into `k` clusters of items, based on how many different users have rated them.\n",
    "\n",
    "Since `k` is a *hyperparameter* we'll need some way to select an appropriate value for it. One approach that's popular for K-means is to evaluate the *inertia* of decreasing error in the clustering models as `k` grows from zero to some limit.\n",
    "\n",
    " * <https://scikit-learn.org/stable/auto_examples/cluster/plot_kmeans_stability_low_dim_dense.html>\n",
    " * <https://towardsdatascience.com/k-means-clustering-with-scikit-learn-6b47a369a83c>\n",
    " \n",
    "We really don't want to work with more than a few clusters – since many small clusters would lead to less *predictive power* in the recsys. Given that there are 100 items, let's measure inertia up to `k=20` clusters."
   ]
  },
  {
   "cell_type": "code",
   "execution_count": 5,
   "metadata": {},
   "outputs": [],
   "source": [
    "from sklearn.cluster import KMeans\n",
    "\n",
    "distortions = []\n",
    "\n",
    "for i in range(1, 20):\n",
    "    km = KMeans(\n",
    "        n_clusters=i,\n",
    "        init=\"random\",\n",
    "        n_init=10,\n",
    "        max_iter=300,\n",
    "        tol=1e-04,\n",
    "        random_state=0\n",
    "    )\n",
    "\n",
    "    km.fit(X)\n",
    "    distortions.append(km.inertia_)"
   ]
  },
  {
   "cell_type": "markdown",
   "metadata": {},
   "source": [
    "Let's visualize the curve of inertia, using `matplotlib`:"
   ]
  },
  {
   "cell_type": "code",
   "execution_count": 6,
   "metadata": {},
   "outputs": [
    {
     "data": {
      "image/png": "[encoded data removed]",
      "text/plain": [
       "<Figure size 432x288 with 1 Axes>"
      ]
     },
     "metadata": {
      "needs_background": "light"
     },
     "output_type": "display_data"
    }
   ],
   "source": [
    "%matplotlib inline\n",
    "import matplotlib.pyplot as plt\n",
    "\n",
    "plt.plot(range(1, 20), distortions, marker=\"o\")\n",
    "plt.xlabel(\"Number of clusters\")\n",
    "plt.ylabel(\"Distortion\")\n",
    "plt.show()"
   ]
  },
  {
   "cell_type": "markdown",
   "metadata": {},
   "source": [
    "That plot shows a \"knee\" in the curve at `k=12` where the decrease in error begins to level out. That's a reasonable number of clusters, such that each cluster will tend to have ~8% of the items. That choice has an inherent trade-off:\n",
    "\n",
    "  * too few clusters → poor predictions (less accuracy)\n",
    "  * too many clusters → poor predictive power (less recall)\n",
    "\n",
    "Now we can run K-means in `scikit-learn` with that hyperparameter `k=12` to get the clusters that we'll use in our RL environment:"
   ]
  },
  {
   "cell_type": "code",
   "execution_count": 7,
   "metadata": {},
   "outputs": [],
   "source": [
    "K_CLUSTERS = 12\n",
    "\n",
    "km = KMeans(n_clusters=K_CLUSTERS)\n",
    "km.fit(X)\n",
    "\n",
    "y_km = km.fit_predict(X)"
   ]
  },
  {
   "cell_type": "markdown",
   "metadata": {},
   "source": [
    "From this analysis we'll need the *labels* for each item, i.e., the number of the cluster to which each item gets assigned:"
   ]
  },
  {
   "cell_type": "code",
   "execution_count": 8,
   "metadata": {},
   "outputs": [],
   "source": [
    "from collections import defaultdict\n",
    "\n",
    "labels = km.labels_\n",
    "clusters = defaultdict(set)\n",
    "\n",
    "for i in range(len(labels)):\n",
    "    clusters[labels[i]].add(i)\n",
    "\n",
    "CLUSTERS = dict(clusters)"
   ]
  },
  {
   "cell_type": "markdown",
   "metadata": {},
   "source": [
    "We'll also use the cluster *centers*, which provide the vector positions (the per-dimension \"means\") for each cluster."
   ]
  },
  {
   "cell_type": "code",
   "execution_count": 9,
   "metadata": {},
   "outputs": [],
   "source": [
    "centers = km.cluster_centers_\n",
    "CENTERS = centers.tolist()"
   ]
  },
  {
   "cell_type": "markdown",
   "metadata": {},
   "source": [
    "BTW, let's take a look at the top three clusters from this analysis…"
   ]
  },
  {
   "cell_type": "code",
   "execution_count": 10,
   "metadata": {},
   "outputs": [
    {
     "data": {
      "image/png": "[encoded data removed]",
      "text/plain": [
       "<Figure size 432x288 with 1 Axes>"
      ]
     },
     "metadata": {
      "needs_background": "light"
     },
     "output_type": "display_data"
    }
   ],
   "source": [
    "plt.scatter(\n",
    "    X[y_km == 0, 0], X[y_km == 0, 1],\n",
    "    s=100, c=\"lightgreen\",\n",
    "    marker=\"s\", edgecolor=\"black\",\n",
    "    label=\"cluster 1\"\n",
    ")\n",
    "\n",
    "plt.scatter(\n",
    "    X[y_km == 1, 0], X[y_km == 1, 1],\n",
    "    s=100, c=\"orange\",\n",
    "    marker=\"o\", edgecolor=\"black\",\n",
    "    label=\"cluster 2\"\n",
    ")\n",
    "\n",
    "plt.scatter(\n",
    "    X[y_km == 2, 0], X[y_km == 2, 1],\n",
    "    s=100, c=\"lightblue\",\n",
    "    marker=\"v\", edgecolor=\"black\",\n",
    "    label=\"cluster 3\"\n",
    ")\n",
    "\n",
    "# plot the centroids\n",
    "plt.scatter(\n",
    "    km.cluster_centers_[:, 0], km.cluster_centers_[:, 1],\n",
    "    s=250, marker=\"*\",\n",
    "    c=\"red\", edgecolor=\"black\",\n",
    "    label=\"centroids\"\n",
    ")\n",
    "\n",
    "plt.legend(scatterpoints=1)\n",
    "plt.grid()\n",
    "plt.show()"
   ]
  },
  {
   "cell_type": "markdown",
   "metadata": {},
   "source": [
    "Not bad. Those clusters show some separation, at least along those three most dominant dimensions."
   ]
  },
  {
   "cell_type": "markdown",
   "metadata": {},
   "source": [
    "## A thesis for building an RL recommender system\n",
    "\n",
    "We're using a thesis here that people tend to like similar \"kinds\" of items, in this case jokes. While we could go to extra effort to build a classifier model for jokes, it's much simpler to measure ratings for them across a large sample of users likes. In a classic [*collaborative filtering*](https://en.wikipedia.org/wiki/Collaborative_filtering) approach, we could base our recommendations on other users who have similar patterns of rating items. \n",
    "\n",
    "On the one hand, that may be expensive to scale as the number of users grows. Instead, an [*item-based collaborative filter*](https://en.wikipedia.org/wiki/Item-item_collaborative_filtering) approach which was invented by [Amazon](https://ieeexplore.ieee.org/document/1167344) for \"people who bought x also bought y\". This scales to massive datasets by clustering the items based on user ratings.\n",
    "\n",
    "On the other hand, people change their interests over time but a class CF model doesn't account for that.  For a thorough study of these effects, see [\"From Amateurs to Connoisseurs: Modeling the Evolution of User Expertise through Online Reviews\"](https://arxiv.org/abs/1303.4402) by Julian McAuley and Jure Leskovec (2013-03-18).\n",
    "\n",
    "Let's use reinforcement learning to build an item-based recommender system that can \"evolve\" its recommendations for each individual over time. We'll leverage *exploration* (gather info that lead toward better recommendations in the future) versus *exploitation* (use the best decision given the info so far). So we've clustered the items (jokes) and now we can create a custom environment where:\n",
    "\n",
    "  * *actions* taken by an agent – recommend items from specific clusters\n",
    "  * *observation space* – a vector distance from the user's rating history to the cluster centers\n",
    "  * *rewards* – user ratings for recommended items, with minor penalties for unrated items\n",
    "  \n",
    "Each *episode* for an agent will simulate one user's ratings vs. which jokes get recommdened based on our *policy* which is trained using RL."
   ]
  },
  {
   "cell_type": "markdown",
   "metadata": {},
   "source": [
    "One other point: a *dense sub-matrix* – in which almost all users have rated the jokes – is defined by the following columns:"
   ]
  },
  {
   "cell_type": "code",
   "execution_count": 11,
   "metadata": {},
   "outputs": [],
   "source": [
    "DENSE_SUBMATRIX = [ 5, 7, 8, 13, 15, 16, 17, 18, 19, 20 ]"
   ]
  },
  {
   "cell_type": "markdown",
   "metadata": {},
   "source": [
    "One well-known issue encountered in production use of recommenders is the [*cold start*](https://en.wikipedia.org/wiki/Cold_start_(recommender_systems)) problem. When we first begin to make recommendations for a given user, we have zero information about them. So it's not possible to provide personalized recommendations. However, we have the dense sub-matrix above, which almost all users have rated. We can sample from this subset – as \"warm\" items – to provide to each user at the start of an *episode*. That will give the recommender some initial information to leverage as a starting point."
   ]
  },
  {
   "cell_type": "markdown",
   "metadata": {},
   "source": [
    "## A custom Gym environment\n",
    "\n",
    "Next we'll build a custom environment for training a policy with RLlib.  We'll use OpenAI [Gym](https://gym.openai.com/) as the basis for that. For details about how to build custom Gym environments for working with RLlib, see [\"Anatomy of a custom environment for RLlib\"](https://medium.com/distributed-computing-with-ray/anatomy-of-a-custom-environment-for-rllib-327157f269e5) and its accompanying source code in the <https://github.com/DerwenAI/gym_example> Git repo.\n",
    "\n",
    "First, we'll define a few globals… `MAX_STEPS` is the length of an episode, based on how many jokes can be recommended before repeating. Reward values are either the user's rating for the recommended item, or minor penalties for recommending either a \"depleted\" cluster or an item which the user never rated."
   ]
  },
  {
   "cell_type": "code",
   "execution_count": 12,
   "metadata": {},
   "outputs": [],
   "source": [
    "ROW_LENGTH = 100\n",
    "MAX_STEPS = ROW_LENGTH - len(DENSE_SUBMATRIX)\n",
    "\n",
    "REWARD_DEPLETED = -0.1\t# item recommended from a depleted cluster (no-op)\n",
    "REWARD_UNRATED = -0.05\t# item was never rated by this user"
   ]
  },
  {
   "cell_type": "markdown",
   "metadata": {},
   "source": [
    "Now for the Gym environment. This is one class and should be defined within one cell – albeit this is a long cell to scroll through…"
   ]
  },
  {
   "cell_type": "code",
   "execution_count": 13,
   "metadata": {},
   "outputs": [],
   "source": [
    "import gym\n",
    "from gym import spaces\n",
    "import random\n",
    "\n",
    "class JokeRec (gym.Env):\n",
    "    def __init__ (self, config):\n",
    "        # NB: here we're passing strings via config; RLlib use of JSON\n",
    "        # parser was throwing exceptions due to config values\n",
    "        self.dense = eval(config[\"dense\"])\n",
    "        self.centers = eval(config[\"centers\"])\n",
    "        self.clusters = eval(config[\"clusters\"])\n",
    "\n",
    "        lo = np.array([np.float64(-1.0)] * K_CLUSTERS)\n",
    "        hi = np.array([np.float64(1.0)] * K_CLUSTERS)\n",
    "\n",
    "        self.observation_space = spaces.Box(lo, hi, shape=(K_CLUSTERS,), dtype=np.float64)\n",
    "        self.action_space = spaces.Discrete(K_CLUSTERS)\n",
    "\n",
    "        # load the dataset\n",
    "        self.dataset = load_data(config[\"dataset\"])\n",
    "\n",
    "\n",
    "    def _warm_start (self):\n",
    "        \"\"\"\n",
    "        attempt a warm start, sampling half the dense submatrix of most-rated items\n",
    "        \"\"\"\n",
    "        sample_size = round(len(self.dense) / 2.0)\n",
    "\n",
    "        for action, items in self.clusters.items():\n",
    "            for item in random.sample(self.dense, sample_size):\n",
    "                if item in items:\n",
    "                    state, reward, done, info = self.step(action)\n",
    "\n",
    "\n",
    "    def _get_state (self):\n",
    "        \"\"\"\n",
    "        calculate root-mean-square (i.e., normalized vector distance) for the agent's current \n",
    "        \"distance\" measure from each cluster center as the observation\n",
    "        \"\"\"\n",
    "        n = float(len(self.used))\n",
    "\n",
    "        if n > 0.0:\n",
    "            state = [ np.sqrt(x / n) for x in self.coords ]\n",
    "        else:\n",
    "            state = self.coords\n",
    "\n",
    "        return state\n",
    "\n",
    "\n",
    "    def reset (self):\n",
    "        \"\"\"\n",
    "        reset the item recommendation history, select a new user to simulate from among the \n",
    "        dataset rows, then run an initial 'warm-start' sequence of steps before handing step\n",
    "        control back to the agent\n",
    "        \"\"\"\n",
    "        self.count = 0\n",
    "        self.used = []\n",
    "        self.depleted = 0\n",
    "        self.coords = [np.float64(0.0)] * K_CLUSTERS\n",
    "\n",
    "        # select a random user to simulate\n",
    "        self.data_row = random.choice(self.dataset)\n",
    "\n",
    "        # attempt a warm start\n",
    "        self._warm_start()\n",
    "\n",
    "        return self._get_state()\n",
    "\n",
    "\n",
    "    def step (self, action):\n",
    "        \"\"\"\n",
    "        recommend one item, which may result in a no-op -- \n",
    "        in production, skip any repeated items per user\n",
    "        \"\"\"\n",
    "        assert action in self.action_space, action\n",
    "        assert_info = \"c[item] {}, rating {}, scaled_diff {}\"\n",
    "\n",
    "        # enumerate items from the cluster selected by the action that haven't been recommended\n",
    "        # previously to the simulated user\n",
    "        items = set(self.clusters[action]).difference(set(self.used))\n",
    "\n",
    "        if len(items) < 1:\n",
    "            # oops! items from the selected cluster have been depleted, i.e. all have been \n",
    "            # recommended previously to the simulated user; hopefully the agent will learn\n",
    "            # to switch to exploring among the other clusters\n",
    "            self.depleted += 1\n",
    "            item = None\n",
    "            reward = REWARD_DEPLETED\n",
    "        else:\n",
    "            # chose an item at random from the selected cluster\n",
    "            item = random.choice(list(items))\n",
    "            rating = self.data_row[item]\n",
    "\n",
    "            if not rating:\n",
    "                # no-op! this action resulted in an unrated item\n",
    "                reward = REWARD_UNRATED\n",
    "\n",
    "            else:\n",
    "                # success! this action resulted in an item rated by the simulated user\n",
    "                reward = rating\n",
    "                self.used.append(item)\n",
    "\n",
    "                # update the coords history: agent observes its distance to each cluster \"evolve\"\n",
    "                for i in range(len(self.coords)):\n",
    "                    c = self.centers[i]\n",
    "                    scaled_diff = abs(c[item] - rating) / 2.0\n",
    "                    self.coords[i] += scaled_diff ** 2.0\n",
    "\n",
    "        self.count += 1\n",
    "        done = self.count >= MAX_STEPS\n",
    "        info = { \"item\": item, \"count\": self.count, \"depleted\": self.depleted }\n",
    "\n",
    "        return self._get_state(), reward, done, info\n",
    "\n",
    "\n",
    "    def render (self, mode=\"human\"):\n",
    "        last_used = self.used[-10:]\n",
    "        last_used.reverse()\n",
    "        print(\">> used:\", last_used)\n",
    "        print(\">> dist:\", [round(x, 2) for x in self._get_state()])\n",
    "        print(\">> depl:\", self.depleted)"
   ]
  },
  {
   "cell_type": "markdown",
   "metadata": {},
   "source": [
    "The `JokeRec.step()` method contains the heart of the simulation logic here. It determines the item to be recommend based on the input `action`, then determines the `reward` and the agent's updated vector distance to the cluster centers as the `observation space`.\n",
    "\n",
    "Overall, this approach is relatively well-behaved and bounded for its memory use as the number of items grows. We're keeping most of the data in memory, but could readily use a distributed key/value store for selecting items, maintaining user history, etc."
   ]
  },
  {
   "cell_type": "markdown",
   "metadata": {},
   "source": [
    "## Configuration\n",
    "\n",
    "Now we'll use the results of K-means clustering on the data sample to prepare a configuration for our custom environment.\n",
    "\n",
    "We'll use [*proximal policy optimization*](https://docs.ray.io/en/latest/rllib-algorithms.html?highlight=ppo#proximal-policy-optimization-ppo) (PPO) for training a policy in RLlib, taking the default PPO configuration as the foundation here."
   ]
  },
  {
   "cell_type": "code",
   "execution_count": 14,
   "metadata": {},
   "outputs": [
    {
     "name": "stdout",
     "output_type": "stream",
     "text": [
      "WARNING:tensorflow:From /opt/anaconda3/lib/python3.7/site-packages/tensorflow/python/compat/v2_compat.py:96: disable_resource_variables (from tensorflow.python.ops.variable_scope) is deprecated and will be removed in a future version.\n",
      "Instructions for updating:\n",
      "non-resource variables are not supported in the long term\n"
     ]
    }
   ],
   "source": [
    "import ray\n",
    "import ray.rllib.agents.ppo as ppo\n",
    "\n",
    "CONFIG = ppo.DEFAULT_CONFIG.copy()\n",
    "\n",
    "CONFIG[\"log_level\"] = \"WARN\"\n",
    "CONFIG[\"num_workers\"] = 3    # set to `0` for debug\n",
    "\n",
    "CONFIG[\"env_config\"] = {\n",
    "    \"dataset\": DATA_PATH,\n",
    "    \"dense\": str(DENSE_SUBMATRIX),\n",
    "    \"clusters\": repr(CLUSTERS),\n",
    "    \"centers\": repr(CENTERS),\n",
    "}"
   ]
  },
  {
   "cell_type": "markdown",
   "metadata": {},
   "source": [
    "Now let's create an instance of our custom Gym environment and call the `reset()` method, which will initialize an episode (simulating one user's ratings), run a \"warm start\", then return the initial observation:"
   ]
  },
  {
   "cell_type": "code",
   "execution_count": 15,
   "metadata": {},
   "outputs": [
    {
     "data": {
      "text/plain": [
       "[0.1702998059870974,\n",
       " 0.13160945569420535,\n",
       " 0.2681423804511393,\n",
       " 0.09841656617726818,\n",
       " 0.15863047902954483,\n",
       " 0.1002479769758727,\n",
       " 0.14685495395116913,\n",
       " 0.21318815046807832,\n",
       " 0.15619441184731006,\n",
       " 0.16726457335610548,\n",
       " 0.18355627504156224,\n",
       " 0.4404037110335968]"
      ]
     },
     "execution_count": 15,
     "metadata": {},
     "output_type": "execute_result"
    }
   ],
   "source": [
    "env = JokeRec(CONFIG[\"env_config\"])\n",
    "env.reset()"
   ]
  },
  {
   "cell_type": "markdown",
   "metadata": {},
   "source": [
    "We can randomly select an action, i.e., the label of an item cluster to recommend:"
   ]
  },
  {
   "cell_type": "code",
   "execution_count": 16,
   "metadata": {},
   "outputs": [
    {
     "name": "stdout",
     "output_type": "stream",
     "text": [
      "action: 2\n"
     ]
    }
   ],
   "source": [
    "action = env.action_space.sample()\n",
    "print(\"action:\", action)"
   ]
  },
  {
   "cell_type": "markdown",
   "metadata": {},
   "source": [
    "Let's use that action to take one step:"
   ]
  },
  {
   "cell_type": "code",
   "execution_count": 17,
   "metadata": {},
   "outputs": [
    {
     "name": "stdout",
     "output_type": "stream",
     "text": [
      "obs: [0.1775311326106294, 0.12503380167978578, 0.2572215434496479, 0.08838209735489139, 0.14682421576899915, 0.122960450751368, 0.1313566138418618, 0.20611732096066065, 0.15985236226718025, 0.18168103918681222, 0.18430292241781163, 0.4237784351983969]\n",
      "reward: 0.413\n"
     ]
    }
   ],
   "source": [
    "state, reward, done, info = env.step(action)\n",
    "print(\"obs:\", state)\n",
    "print(\"reward:\", reward)"
   ]
  },
  {
   "cell_type": "markdown",
   "metadata": {},
   "source": [
    "We can call the `render()` method to describe more about the agent's state within its environment:"
   ]
  },
  {
   "cell_type": "code",
   "execution_count": 18,
   "metadata": {},
   "outputs": [
    {
     "name": "stdout",
     "output_type": "stream",
     "text": [
      ">> used: [16, 15, 29, 70, 2]\n",
      ">> dist: [0.18, 0.13, 0.26, 0.09, 0.15, 0.12, 0.13, 0.21, 0.16, 0.18, 0.18, 0.42]\n",
      ">> depl: 0\n"
     ]
    }
   ],
   "source": [
    "env.render()"
   ]
  },
  {
   "cell_type": "markdown",
   "metadata": {},
   "source": [
    "Notice how there are already some other \"used\" items, due to the warm start.\n",
    "\n",
    "Next, we'll define a function that runs through one entire episode:"
   ]
  },
  {
   "cell_type": "code",
   "execution_count": 19,
   "metadata": {},
   "outputs": [],
   "source": [
    "def run_one_episode (env, naive=False, verbose=False):\n",
    "    \"\"\"\n",
    "    step through one episode, using either a naive strategy or random actions\n",
    "    \"\"\"\n",
    "    env.reset()\n",
    "    sum_reward = 0\n",
    "\n",
    "    action = None\n",
    "    avoid_actions = set([])\n",
    "    depleted = 0\n",
    "\n",
    "    for i in range(MAX_STEPS):\n",
    "        if not naive or not action:\n",
    "            action = env.action_space.sample()\n",
    "\n",
    "        state, reward, done, info = env.step(action)\n",
    "\n",
    "        if verbose:\n",
    "            print(\"action:\", action)\n",
    "            print(\"obs:\", i, state, reward, done, info)\n",
    "\n",
    "        # naive strategy: select items from the nearest non-depleted cluster\n",
    "        if naive:\n",
    "            if info[\"depleted\"] > depleted:\n",
    "                depleted = info[\"depleted\"]\n",
    "                avoid_actions.add(action)\n",
    "\n",
    "            obs = []\n",
    "\n",
    "            for a in range(len(state)):\n",
    "                if a not in avoid_actions:\n",
    "                    dist = round(state[a], 2)\n",
    "                    obs.append([dist, a])\n",
    "\n",
    "            action = min(obs)[1]\n",
    "\n",
    "        sum_reward += reward\n",
    "\n",
    "        if done:\n",
    "            if verbose:\n",
    "                print(\"DONE @ step {}\".format(i))\n",
    "\n",
    "            break\n",
    "\n",
    "    if verbose:\n",
    "        print(\"CUMULATIVE REWARD: \", round(sum_reward, 3))\n",
    "\n",
    "    return sum_reward"
   ]
  },
  {
   "cell_type": "markdown",
   "metadata": {},
   "source": [
    "Next, another function which uses `run_one_episode()` to measure the baseline performance of a \"naïve\" strategy, i.e., without use of reinforcement learning to train a policy:"
   ]
  },
  {
   "cell_type": "code",
   "execution_count": 20,
   "metadata": {},
   "outputs": [],
   "source": [
    "from tqdm import tqdm\n",
    "\n",
    "def measure_baseline (env, n_iter=1, naive=False, verbose=False):\n",
    "    history = []\n",
    "\n",
    "    for episode in tqdm(range(n_iter), ascii=True, desc=\"measure baseline\"):\n",
    "        sum_reward = run_one_episode(env, naive=naive, verbose=verbose)\n",
    "        history.append(sum_reward)\n",
    "\n",
    "    baseline = sum(history) / len(history)\n",
    "    return baseline"
   ]
  },
  {
   "cell_type": "markdown",
   "metadata": {},
   "source": [
    "Now let's use this to measure how well our recommender system runs without leveraging RLlib:"
   ]
  },
  {
   "cell_type": "code",
   "execution_count": 21,
   "metadata": {},
   "outputs": [
    {
     "name": "stderr",
     "output_type": "stream",
     "text": [
      "measure baseline: 100%|##########| 1000/1000 [00:06<00:00, 149.68it/s]"
     ]
    },
    {
     "name": "stdout",
     "output_type": "stream",
     "text": [
      "BASELINE CUMULATIVE REWARD -1.119\n"
     ]
    },
    {
     "name": "stderr",
     "output_type": "stream",
     "text": [
      "\n"
     ]
    }
   ],
   "source": [
    "baseline = measure_baseline(env, n_iter=1000, naive=True)\n",
    "print(\"BASELINE CUMULATIVE REWARD\", round(baseline, 3))"
   ]
  },
  {
   "cell_type": "markdown",
   "metadata": {},
   "source": [
    "## Running Ray and RLlib\n",
    "\n",
    "At this point we're ready to train a policy with RLlib. First we'll initialize the directory in which to save *checkpoints*, and the directory in which to log results…"
   ]
  },
  {
   "cell_type": "code",
   "execution_count": 22,
   "metadata": {},
   "outputs": [],
   "source": [
    "import os\n",
    "import shutil\n",
    "\n",
    "CHECKPOINT_ROOT = \"tmp/rec\"\n",
    "shutil.rmtree(CHECKPOINT_ROOT, ignore_errors=True, onerror=None)\n",
    "\n",
    "ray_results = \"{}/ray_results/\".format(os.getenv(\"HOME\"))\n",
    "shutil.rmtree(ray_results, ignore_errors=True, onerror=None)"
   ]
  },
  {
   "cell_type": "markdown",
   "metadata": {},
   "source": [
    "Now start Ray, register our custom environment, and create an agent. BTW, if you see lots of \"deprecation\" warnings from [Tensorflow](https://www.tensorflow.org/) just ignore those…"
   ]
  },
  {
   "cell_type": "code",
   "execution_count": 23,
   "metadata": {},
   "outputs": [
    {
     "name": "stderr",
     "output_type": "stream",
     "text": [
      "2020-08-29 22:31:31,230\tINFO resource_spec.py:231 -- Starting Ray with 3.32 GiB memory available for workers and up to 1.67 GiB for objects. You can adjust these settings with ray.init(memory=<bytes>, object_store_memory=<bytes>).\n",
      "2020-08-29 22:31:31,774\tINFO services.py:1193 -- View the Ray dashboard at \u001b[1m\u001b[32mlocalhost:8265\u001b[39m\u001b[22m\n",
      "2020-08-29 22:31:33,052\tINFO trainer.py:605 -- Tip: set framework=tfe or the --eager flag to enable TensorFlow eager execution\n",
      "2020-08-29 22:31:33,054\tINFO trainer.py:632 -- Current log_level is WARN. For more information, set 'log_level': 'INFO' / 'DEBUG' or use the -v and -vv flags.\n",
      "\u001b[2m\u001b[36m(pid=72421)\u001b[0m WARNING:tensorflow:From /opt/anaconda3/lib/python3.7/site-packages/tensorflow/python/compat/v2_compat.py:96: disable_resource_variables (from tensorflow.python.ops.variable_scope) is deprecated and will be removed in a future version.\n",
      "\u001b[2m\u001b[36m(pid=72421)\u001b[0m Instructions for updating:\n",
      "\u001b[2m\u001b[36m(pid=72421)\u001b[0m non-resource variables are not supported in the long term\n",
      "\u001b[2m\u001b[36m(pid=72419)\u001b[0m WARNING:tensorflow:From /opt/anaconda3/lib/python3.7/site-packages/tensorflow/python/compat/v2_compat.py:96: disable_resource_variables (from tensorflow.python.ops.variable_scope) is deprecated and will be removed in a future version.\n",
      "\u001b[2m\u001b[36m(pid=72419)\u001b[0m Instructions for updating:\n",
      "\u001b[2m\u001b[36m(pid=72419)\u001b[0m non-resource variables are not supported in the long term\n",
      "\u001b[2m\u001b[36m(pid=72422)\u001b[0m WARNING:tensorflow:From /opt/anaconda3/lib/python3.7/site-packages/tensorflow/python/compat/v2_compat.py:96: disable_resource_variables (from tensorflow.python.ops.variable_scope) is deprecated and will be removed in a future version.\n",
      "\u001b[2m\u001b[36m(pid=72422)\u001b[0m Instructions for updating:\n",
      "\u001b[2m\u001b[36m(pid=72422)\u001b[0m non-resource variables are not supported in the long term\n"
     ]
    }
   ],
   "source": [
    "from ray.tune.registry import register_env\n",
    "\n",
    "ray.init(ignore_reinit_error=True)\n",
    "\n",
    "env_key = \"JokeRec-v0\"\n",
    "register_env(env_key, lambda config_env: JokeRec(config_env))\n",
    "AGENT = ppo.PPOTrainer(CONFIG, env=env_key)"
   ]
  },
  {
   "cell_type": "markdown",
   "metadata": {},
   "source": [
    "Let's train a policy using the PPO optimizer in RLlib. As the following code steps through each training iteration, watch how the measured improvements in the min, mean, and max rewards per episode."
   ]
  },
  {
   "cell_type": "code",
   "execution_count": 24,
   "metadata": {},
   "outputs": [
    {
     "name": "stdout",
     "output_type": "stream",
     "text": [
      "WARNING:tensorflow:From /opt/anaconda3/lib/python3.7/site-packages/ray/rllib/policy/tf_policy.py:871: Variable.load (from tensorflow.python.ops.variables) is deprecated and will be removed in a future version.\n",
      "Instructions for updating:\n",
      "Prefer Variable.assign which has equivalent behavior in 2.X.\n",
      "reward -34.60   1.25  18.64  len 84.67  saved tmp/rec/checkpoint_1/checkpoint-1\n"
     ]
    },
    {
     "name": "stderr",
     "output_type": "stream",
     "text": [
      "\u001b[2m\u001b[36m(pid=72421)\u001b[0m WARNING:tensorflow:From /opt/anaconda3/lib/python3.7/site-packages/ray/rllib/policy/tf_policy.py:871: Variable.load (from tensorflow.python.ops.variables) is deprecated and will be removed in a future version.\n",
      "\u001b[2m\u001b[36m(pid=72421)\u001b[0m Instructions for updating:\n",
      "\u001b[2m\u001b[36m(pid=72421)\u001b[0m Prefer Variable.assign which has equivalent behavior in 2.X.\n",
      "\u001b[2m\u001b[36m(pid=72419)\u001b[0m WARNING:tensorflow:From /opt/anaconda3/lib/python3.7/site-packages/ray/rllib/policy/tf_policy.py:871: Variable.load (from tensorflow.python.ops.variables) is deprecated and will be removed in a future version.\n",
      "\u001b[2m\u001b[36m(pid=72419)\u001b[0m Instructions for updating:\n",
      "\u001b[2m\u001b[36m(pid=72419)\u001b[0m Prefer Variable.assign which has equivalent behavior in 2.X.\n",
      "\u001b[2m\u001b[36m(pid=72422)\u001b[0m WARNING:tensorflow:From /opt/anaconda3/lib/python3.7/site-packages/ray/rllib/policy/tf_policy.py:871: Variable.load (from tensorflow.python.ops.variables) is deprecated and will be removed in a future version.\n",
      "\u001b[2m\u001b[36m(pid=72422)\u001b[0m Instructions for updating:\n",
      "\u001b[2m\u001b[36m(pid=72422)\u001b[0m Prefer Variable.assign which has equivalent behavior in 2.X.\n"
     ]
    },
    {
     "name": "stdout",
     "output_type": "stream",
     "text": [
      "reward -41.45   1.54  28.14  len 84.91  saved tmp/rec/checkpoint_2/checkpoint-2\n",
      "reward -41.45   1.84  28.14  len 85.00  saved tmp/rec/checkpoint_3/checkpoint-3\n",
      "reward -33.15   2.85  39.00  len 84.92  saved tmp/rec/checkpoint_4/checkpoint-4\n",
      "reward -30.91   1.92  39.00  len 85.01  saved tmp/rec/checkpoint_5/checkpoint-5\n",
      "reward -31.20   1.03  32.49  len 84.90  saved tmp/rec/checkpoint_6/checkpoint-6\n",
      "reward -31.20   2.33  37.83  len 85.02  saved tmp/rec/checkpoint_7/checkpoint-7\n",
      "reward -21.70   3.35  37.83  len 85.14  saved tmp/rec/checkpoint_8/checkpoint-8\n",
      "reward -26.33   3.29  32.05  len 85.21  saved tmp/rec/checkpoint_9/checkpoint-9\n",
      "reward -26.33   4.60  32.05  len 85.23  saved tmp/rec/checkpoint_10/checkpoint-10\n",
      "reward -17.47   4.61  31.76  len 85.10  saved tmp/rec/checkpoint_11/checkpoint-11\n",
      "reward -18.32   2.51  26.98  len 85.08  saved tmp/rec/checkpoint_12/checkpoint-12\n",
      "reward -24.79   3.03  31.57  len 84.89  saved tmp/rec/checkpoint_13/checkpoint-13\n",
      "reward -24.79   4.44  35.10  len 85.10  saved tmp/rec/checkpoint_14/checkpoint-14\n",
      "reward -31.87   2.25  35.10  len 85.12  saved tmp/rec/checkpoint_15/checkpoint-15\n",
      "reward -31.87   0.77  28.28  len 84.93  saved tmp/rec/checkpoint_16/checkpoint-16\n",
      "reward -28.59   1.35  28.28  len 85.01  saved tmp/rec/checkpoint_17/checkpoint-17\n",
      "reward -34.32   1.04  20.08  len 85.09  saved tmp/rec/checkpoint_18/checkpoint-18\n",
      "reward -34.32   1.58  28.11  len 85.03  saved tmp/rec/checkpoint_19/checkpoint-19\n",
      "reward -25.27   2.58  29.32  len 84.81  saved tmp/rec/checkpoint_20/checkpoint-20\n",
      "reward -25.27   2.71  37.95  len 84.81  saved tmp/rec/checkpoint_21/checkpoint-21\n",
      "reward -24.42   1.24  37.95  len 85.01  saved tmp/rec/checkpoint_22/checkpoint-22\n",
      "reward -19.15   3.19  29.92  len 85.00  saved tmp/rec/checkpoint_23/checkpoint-23\n",
      "reward -21.66   4.96  41.64  len 84.97  saved tmp/rec/checkpoint_24/checkpoint-24\n",
      "reward -28.94   3.15  41.64  len 85.06  saved tmp/rec/checkpoint_25/checkpoint-25\n",
      "reward -28.94   3.31  28.88  len 84.90  saved tmp/rec/checkpoint_26/checkpoint-26\n",
      "reward -23.92   5.35  36.73  len 84.83  saved tmp/rec/checkpoint_27/checkpoint-27\n",
      "reward -25.57   5.76  36.73  len 85.05  saved tmp/rec/checkpoint_28/checkpoint-28\n",
      "reward -25.57   3.76  36.02  len 85.20  saved tmp/rec/checkpoint_29/checkpoint-29\n",
      "reward -33.85   1.34  31.41  len 85.14  saved tmp/rec/checkpoint_30/checkpoint-30\n"
     ]
    }
   ],
   "source": [
    "TRAIN_ITER = 30\n",
    "\n",
    "df = pd.DataFrame(columns=[ \"min_reward\", \"avg_reward\", \"max_reward\", \"steps\", \"checkpoint\"])\n",
    "status = \"reward {:6.2f} {:6.2f} {:6.2f}  len {:4.2f}  saved {}\"\n",
    "\n",
    "for i in range(TRAIN_ITER):\n",
    "    result = AGENT.train()\n",
    "    checkpoint_file = AGENT.save(CHECKPOINT_ROOT)\n",
    "\n",
    "    row = [\n",
    "        result[\"episode_reward_min\"],\n",
    "        result[\"episode_reward_mean\"],\n",
    "        result[\"episode_reward_max\"],\n",
    "        result[\"episode_len_mean\"],\n",
    "        checkpoint_file,\n",
    "        ]\n",
    "\n",
    "    df.loc[len(df)] = row\n",
    "    print(status.format(*row))"
   ]
  },
  {
   "cell_type": "markdown",
   "metadata": {},
   "source": [
    "The learning is stochastic and not guaranteed to improve *monotonically*, i.e., increase the min/mean/max rewards per episode in every training iterations.\n",
    "We can use a [*pareto archive*](https://ieeexplore.ieee.org/document/781913) to find a *non-dominated* solution.\n",
    "In other words, among the saved checkpoints of trained policies, which have the best mean rewards per episode, and among those which have the best min and max rewards?\n",
    "The following code uses the [`paretoset`](https://github.com/tommyod/paretoset) Python implementation to select the best checkpoint:"
   ]
  },
  {
   "cell_type": "code",
   "execution_count": 25,
   "metadata": {},
   "outputs": [
    {
     "name": "stdout",
     "output_type": "stream",
     "text": [
      "best checkpoint: tmp/rec/checkpoint_28/checkpoint-28\n"
     ]
    }
   ],
   "source": [
    "from paretoset import paretoset\n",
    "\n",
    "df_front = df.drop(columns=[\"steps\", \"checkpoint\"])\n",
    "mask = paretoset(df_front, sense=[\"max\", \"max\", \"max\"])\n",
    "\n",
    "optimal = df_front[mask]\n",
    "max_val = optimal[\"avg_reward\"].max()\n",
    "\n",
    "BEST_CHECKPOINT = df.loc[df[\"avg_reward\"] == max_val, \"checkpoint\"].values[0]\n",
    "print(\"best checkpoint:\", BEST_CHECKPOINT)"
   ]
  },
  {
   "cell_type": "markdown",
   "metadata": {},
   "source": [
    "## Rollout to emulate a use case deployment\n",
    "\n",
    "Now let's define a function to run a *rollout* using a checkpointed policy.\n",
    "Each rollout iteration will emuluate a deployed use of our recommender system for one user, and we'll measure the average rewards across many iterations:"
   ]
  },
  {
   "cell_type": "code",
   "execution_count": 26,
   "metadata": {},
   "outputs": [],
   "source": [
    "def run_rollout (agent, env, n_iter=1, verbose=False):\n",
    "    \"\"\"\n",
    "    iterate through `n_iter` episodes in a rollout to emulate deployment in a production use case\n",
    "    \"\"\"\n",
    "    for episode in range(n_iter):\n",
    "        state = env.reset()\n",
    "        sum_reward = 0\n",
    "\n",
    "        for step in range(MAX_STEPS):\n",
    "            try:\n",
    "                action = agent.compute_action(state)\n",
    "                state, reward, done, info = env.step(action)\n",
    "                sum_reward += reward\n",
    "\n",
    "                if verbose:\n",
    "                    print(\"reward {:6.3f}  sum {:6.3f}\".format(reward, sum_reward))\n",
    "                    env.render()\n",
    "            except Exception:\n",
    "                traceback.print_exc()\n",
    "\n",
    "            if done:\n",
    "                # report at the end of each episode\n",
    "                print(\"CUMULATIVE REWARD:\", round(sum_reward, 3), \"\\n\")\n",
    "                yield sum_reward\n",
    "                break"
   ]
  },
  {
   "cell_type": "markdown",
   "metadata": {},
   "source": [
    "Now we can apply the best trained policy in a rollout:"
   ]
  },
  {
   "cell_type": "code",
   "execution_count": 27,
   "metadata": {},
   "outputs": [
    {
     "name": "stderr",
     "output_type": "stream",
     "text": [
      "2020-08-29 22:34:18,313\tINFO trainable.py:473 -- Restored on 192.168.1.244 from checkpoint: tmp/rec/checkpoint_28/checkpoint-28\n",
      "2020-08-29 22:34:18,315\tINFO trainable.py:480 -- Current state after restoring: {'_iteration': 28, '_timesteps_total': None, '_time_total': 114.3706648349762, '_episodes_total': 1382}\n"
     ]
    },
    {
     "name": "stdout",
     "output_type": "stream",
     "text": [
      "CUMULATIVE REWARD: 8.439 \n",
      "\n",
      "CUMULATIVE REWARD: 2.592 \n",
      "\n",
      "CUMULATIVE REWARD: 4.248 \n",
      "\n",
      "CUMULATIVE REWARD: 6.659 \n",
      "\n",
      "CUMULATIVE REWARD: -8.468 \n",
      "\n",
      "CUMULATIVE REWARD: -4.047 \n",
      "\n",
      "CUMULATIVE REWARD: 29.742 \n",
      "\n",
      "CUMULATIVE REWARD: 3.48 \n",
      "\n",
      "CUMULATIVE REWARD: 20.83 \n",
      "\n",
      "CUMULATIVE REWARD: -9.888 \n",
      "\n",
      "CUMULATIVE REWARD: 29.284 \n",
      "\n",
      "CUMULATIVE REWARD: 6.572 \n",
      "\n",
      "CUMULATIVE REWARD: -11.485 \n",
      "\n",
      "CUMULATIVE REWARD: 15.551 \n",
      "\n",
      "CUMULATIVE REWARD: -0.809 \n",
      "\n",
      "CUMULATIVE REWARD: 11.055 \n",
      "\n",
      "CUMULATIVE REWARD: 4.447 \n",
      "\n",
      "CUMULATIVE REWARD: 7.749 \n",
      "\n",
      "CUMULATIVE REWARD: -2.91 \n",
      "\n",
      "CUMULATIVE REWARD: 2.898 \n",
      "\n",
      "CUMULATIVE REWARD: 15.157 \n",
      "\n",
      "CUMULATIVE REWARD: 6.053 \n",
      "\n",
      "CUMULATIVE REWARD: -21.869 \n",
      "\n",
      "CUMULATIVE REWARD: 6.385 \n",
      "\n",
      "CUMULATIVE REWARD: -13.157 \n",
      "\n",
      "CUMULATIVE REWARD: 8.79 \n",
      "\n",
      "CUMULATIVE REWARD: 9.609 \n",
      "\n",
      "CUMULATIVE REWARD: 13.713 \n",
      "\n",
      "CUMULATIVE REWARD: 3.085 \n",
      "\n",
      "CUMULATIVE REWARD: 20.987 \n",
      "\n",
      "CUMULATIVE REWARD: 8.156 \n",
      "\n",
      "CUMULATIVE REWARD: -8.71 \n",
      "\n",
      "CUMULATIVE REWARD: 3.921 \n",
      "\n",
      "CUMULATIVE REWARD: -7.116 \n",
      "\n",
      "CUMULATIVE REWARD: -14.663 \n",
      "\n",
      "CUMULATIVE REWARD: -12.609 \n",
      "\n",
      "CUMULATIVE REWARD: 5.435 \n",
      "\n",
      "CUMULATIVE REWARD: 17.88 \n",
      "\n",
      "CUMULATIVE REWARD: 8.2 \n",
      "\n",
      "CUMULATIVE REWARD: 5.422 \n",
      "\n",
      "CUMULATIVE REWARD: -2.94 \n",
      "\n",
      "CUMULATIVE REWARD: 8.233 \n",
      "\n",
      "CUMULATIVE REWARD: -12.502 \n",
      "\n",
      "CUMULATIVE REWARD: 0.608 \n",
      "\n",
      "CUMULATIVE REWARD: -14.19 \n",
      "\n",
      "CUMULATIVE REWARD: 5.096 \n",
      "\n",
      "CUMULATIVE REWARD: 6.089 \n",
      "\n",
      "CUMULATIVE REWARD: -1.698 \n",
      "\n",
      "CUMULATIVE REWARD: 1.898 \n",
      "\n",
      "CUMULATIVE REWARD: -6.85 \n",
      "\n",
      "CUMULATIVE REWARD: 2.704 \n",
      "\n",
      "CUMULATIVE REWARD: 7.26 \n",
      "\n",
      "CUMULATIVE REWARD: 17.865 \n",
      "\n",
      "CUMULATIVE REWARD: 10.839 \n",
      "\n",
      "CUMULATIVE REWARD: -16.553 \n",
      "\n",
      "CUMULATIVE REWARD: -12.973 \n",
      "\n",
      "CUMULATIVE REWARD: 7.641 \n",
      "\n",
      "CUMULATIVE REWARD: -7.131 \n",
      "\n",
      "CUMULATIVE REWARD: -0.758 \n",
      "\n",
      "CUMULATIVE REWARD: 11.672 \n",
      "\n",
      "CUMULATIVE REWARD: 9.099 \n",
      "\n",
      "CUMULATIVE REWARD: -1.138 \n",
      "\n",
      "CUMULATIVE REWARD: 4.441 \n",
      "\n",
      "CUMULATIVE REWARD: 1.486 \n",
      "\n",
      "CUMULATIVE REWARD: -12.147 \n",
      "\n",
      "CUMULATIVE REWARD: -2.75 \n",
      "\n",
      "CUMULATIVE REWARD: -12.6 \n",
      "\n",
      "CUMULATIVE REWARD: 5.303 \n",
      "\n",
      "CUMULATIVE REWARD: 6.915 \n",
      "\n",
      "CUMULATIVE REWARD: 4.146 \n",
      "\n",
      "CUMULATIVE REWARD: 13.711 \n",
      "\n",
      "CUMULATIVE REWARD: 10.436 \n",
      "\n",
      "CUMULATIVE REWARD: 12.141 \n",
      "\n",
      "CUMULATIVE REWARD: -6.42 \n",
      "\n",
      "CUMULATIVE REWARD: -27.116 \n",
      "\n",
      "CUMULATIVE REWARD: -2.233 \n",
      "\n",
      "CUMULATIVE REWARD: -3.853 \n",
      "\n",
      "CUMULATIVE REWARD: -4.087 \n",
      "\n",
      "CUMULATIVE REWARD: -7.912 \n",
      "\n",
      "CUMULATIVE REWARD: -0.822 \n",
      "\n",
      "CUMULATIVE REWARD: 15.424 \n",
      "\n",
      "CUMULATIVE REWARD: 4.073 \n",
      "\n",
      "CUMULATIVE REWARD: 10.405 \n",
      "\n",
      "CUMULATIVE REWARD: -21.677 \n",
      "\n",
      "CUMULATIVE REWARD: 7.45 \n",
      "\n",
      "CUMULATIVE REWARD: 8.845 \n",
      "\n",
      "CUMULATIVE REWARD: 22.119 \n",
      "\n",
      "CUMULATIVE REWARD: 17.491 \n",
      "\n",
      "CUMULATIVE REWARD: 27.149 \n",
      "\n",
      "CUMULATIVE REWARD: 32.288 \n",
      "\n",
      "CUMULATIVE REWARD: 2.479 \n",
      "\n",
      "CUMULATIVE REWARD: 9.696 \n",
      "\n",
      "CUMULATIVE REWARD: -0.911 \n",
      "\n",
      "CUMULATIVE REWARD: -0.25 \n",
      "\n",
      "CUMULATIVE REWARD: -7.09 \n",
      "\n",
      "CUMULATIVE REWARD: 0.693 \n",
      "\n",
      "CUMULATIVE REWARD: -22.738 \n",
      "\n",
      "CUMULATIVE REWARD: -10.531 \n",
      "\n",
      "CUMULATIVE REWARD: -2.043 \n",
      "\n",
      "CUMULATIVE REWARD: 24.374 \n",
      "\n",
      "average reward: 2.788\n"
     ]
    }
   ],
   "source": [
    "AGENT.restore(BEST_CHECKPOINT)\n",
    "history = []\n",
    "\n",
    "for episode_reward in run_rollout(AGENT, env, n_iter=100, verbose=False):\n",
    "    history.append(episode_reward)\n",
    "    \n",
    "print(\"average reward:\", round(sum(history) / len(history), 3))"
   ]
  },
  {
   "cell_type": "markdown",
   "metadata": {},
   "source": [
    "How does the reported *average reward* from many rollouts (using RLlib to train a policy) compare with the *baseline cumulative reward* above based on a naïve strategy and no learning?  How does it compare with the predicted *mean reward per episode* from training? \n",
    "\n",
    "The baseline reward from a naïve strategy should be much lower (worse user ratings) than the other two measures.\n",
    "\n",
    "These measures are an estimate for how a user would rate their recommended items.\n",
    "Of course, not all users will like the jokes, so there will be some rollouts with negative rewards.\n",
    "Overall we want the average reward to be *positive*, with `MAX_STEPS` as an upper bounds."
   ]
  },
  {
   "cell_type": "markdown",
   "metadata": {},
   "source": [
    "## Examine the trained policy\n",
    "\n",
    "Use the following code to examine the trained policy that was optimized using PPO:"
   ]
  },
  {
   "cell_type": "code",
   "execution_count": 28,
   "metadata": {},
   "outputs": [
    {
     "name": "stdout",
     "output_type": "stream",
     "text": [
      "Model: \"functional_1\"\n",
      "__________________________________________________________________________________________________\n",
      "Layer (type)                    Output Shape         Param #     Connected to                     \n",
      "==================================================================================================\n",
      "observations (InputLayer)       [(None, 12)]         0                                            \n",
      "__________________________________________________________________________________________________\n",
      "fc_1 (Dense)                    (None, 256)          3328        observations[0][0]               \n",
      "__________________________________________________________________________________________________\n",
      "fc_value_1 (Dense)              (None, 256)          3328        observations[0][0]               \n",
      "__________________________________________________________________________________________________\n",
      "fc_2 (Dense)                    (None, 256)          65792       fc_1[0][0]                       \n",
      "__________________________________________________________________________________________________\n",
      "fc_value_2 (Dense)              (None, 256)          65792       fc_value_1[0][0]                 \n",
      "__________________________________________________________________________________________________\n",
      "fc_out (Dense)                  (None, 12)           3084        fc_2[0][0]                       \n",
      "__________________________________________________________________________________________________\n",
      "value_out (Dense)               (None, 1)            257         fc_value_2[0][0]                 \n",
      "==================================================================================================\n",
      "Total params: 141,581\n",
      "Trainable params: 141,581\n",
      "Non-trainable params: 0\n",
      "__________________________________________________________________________________________________\n",
      "\n",
      " None\n"
     ]
    }
   ],
   "source": [
    "policy = AGENT.get_policy()\n",
    "model = policy.model\n",
    "\n",
    "print(\"\\n\", model.base_model.summary())"
   ]
  },
  {
   "cell_type": "markdown",
   "metadata": {},
   "source": [
    "## Evaluate learning with TensorBoard\n",
    "\n",
    "You also can run [TensorBoard](https://www.tensorflow.org/tensorboard) to visualize the RL training metrics from the log files:"
   ]
  },
  {
   "cell_type": "code",
   "execution_count": null,
   "metadata": {},
   "outputs": [
    {
     "name": "stdout",
     "output_type": "stream",
     "text": [
      "Requirement already satisfied: tensorflow in /opt/anaconda3/lib/python3.7/site-packages (2.3.0)\n",
      "Requirement already satisfied: grpcio>=1.8.6 in /opt/anaconda3/lib/python3.7/site-packages (from tensorflow) (1.31.0)\n",
      "Requirement already satisfied: gast==0.3.3 in /opt/anaconda3/lib/python3.7/site-packages (from tensorflow) (0.3.3)\n",
      "Requirement already satisfied: keras-preprocessing<1.2,>=1.1.1 in /opt/anaconda3/lib/python3.7/site-packages (from tensorflow) (1.1.2)\n",
      "Requirement already satisfied: wheel>=0.26 in /opt/anaconda3/lib/python3.7/site-packages (from tensorflow) (0.34.2)\n",
      "Requirement already satisfied: absl-py>=0.7.0 in /opt/anaconda3/lib/python3.7/site-packages (from tensorflow) (0.9.0)\n",
      "Requirement already satisfied: six>=1.12.0 in /opt/anaconda3/lib/python3.7/site-packages (from tensorflow) (1.12.0)\n",
      "Requirement already satisfied: scipy==1.4.1 in /opt/anaconda3/lib/python3.7/site-packages (from tensorflow) (1.4.1)\n",
      "Requirement already satisfied: numpy<1.19.0,>=1.16.0 in /opt/anaconda3/lib/python3.7/site-packages (from tensorflow) (1.18.5)\n",
      "Requirement already satisfied: termcolor>=1.1.0 in /opt/anaconda3/lib/python3.7/site-packages (from tensorflow) (1.1.0)\n",
      "Requirement already satisfied: protobuf>=3.9.2 in /opt/anaconda3/lib/python3.7/site-packages (from tensorflow) (3.12.4)\n",
      "Requirement already satisfied: google-pasta>=0.1.8 in /opt/anaconda3/lib/python3.7/site-packages (from tensorflow) (0.1.8)\n",
      "Requirement already satisfied: astunparse==1.6.3 in /opt/anaconda3/lib/python3.7/site-packages/astunparse-1.6.3-py3.7.egg (from tensorflow) (1.6.3)\n",
      "Requirement already satisfied: opt-einsum>=2.3.2 in /opt/anaconda3/lib/python3.7/site-packages (from tensorflow) (3.1.0)\n",
      "Requirement already satisfied: tensorflow-estimator<2.4.0,>=2.3.0 in /opt/anaconda3/lib/python3.7/site-packages (from tensorflow) (2.3.0)\n",
      "Requirement already satisfied: tensorboard<3,>=2.3.0 in /opt/anaconda3/lib/python3.7/site-packages (from tensorflow) (2.3.0)\n",
      "Requirement already satisfied: wrapt>=1.11.1 in /opt/anaconda3/lib/python3.7/site-packages (from tensorflow) (1.11.2)\n",
      "Requirement already satisfied: h5py<2.11.0,>=2.10.0 in /opt/anaconda3/lib/python3.7/site-packages (from tensorflow) (2.10.0)\n",
      "Requirement already satisfied: setuptools in /Users/paco/.local/lib/python3.7/site-packages (from protobuf>=3.9.2->tensorflow) (46.4.0)\n",
      "Requirement already satisfied: werkzeug>=0.11.15 in /opt/anaconda3/lib/python3.7/site-packages (from tensorboard<3,>=2.3.0->tensorflow) (0.16.0)\n",
      "Requirement already satisfied: google-auth<2,>=1.6.3 in /opt/anaconda3/lib/python3.7/site-packages (from tensorboard<3,>=2.3.0->tensorflow) (1.20.0)\n",
      "Requirement already satisfied: markdown>=2.6.8 in /opt/anaconda3/lib/python3.7/site-packages (from tensorboard<3,>=2.3.0->tensorflow) (3.1.1)\n",
      "Requirement already satisfied: google-auth-oauthlib<0.5,>=0.4.1 in /opt/anaconda3/lib/python3.7/site-packages (from tensorboard<3,>=2.3.0->tensorflow) (0.4.1)\n",
      "Requirement already satisfied: tensorboard-plugin-wit>=1.6.0 in /opt/anaconda3/lib/python3.7/site-packages (from tensorboard<3,>=2.3.0->tensorflow) (1.7.0)\n",
      "Requirement already satisfied: requests<3,>=2.21.0 in /opt/anaconda3/lib/python3.7/site-packages (from tensorboard<3,>=2.3.0->tensorflow) (2.22.0)\n",
      "Requirement already satisfied: pyasn1-modules>=0.2.1 in /opt/anaconda3/lib/python3.7/site-packages (from google-auth<2,>=1.6.3->tensorboard<3,>=2.3.0->tensorflow) (0.2.8)\n",
      "Requirement already satisfied: cachetools<5.0,>=2.0.0 in /opt/anaconda3/lib/python3.7/site-packages (from google-auth<2,>=1.6.3->tensorboard<3,>=2.3.0->tensorflow) (4.0.0)\n",
      "Requirement already satisfied: rsa<5,>=3.1.4; python_version >= \"3.5\" in /opt/anaconda3/lib/python3.7/site-packages (from google-auth<2,>=1.6.3->tensorboard<3,>=2.3.0->tensorflow) (3.4.2)\n",
      "Requirement already satisfied: requests-oauthlib>=0.7.0 in /opt/anaconda3/lib/python3.7/site-packages (from google-auth-oauthlib<0.5,>=0.4.1->tensorboard<3,>=2.3.0->tensorflow) (1.3.0)\n",
      "Requirement already satisfied: urllib3!=1.25.0,!=1.25.1,<1.26,>=1.21.1 in /opt/anaconda3/lib/python3.7/site-packages (from requests<3,>=2.21.0->tensorboard<3,>=2.3.0->tensorflow) (1.24.2)\n",
      "Requirement already satisfied: idna<2.9,>=2.5 in /opt/anaconda3/lib/python3.7/site-packages (from requests<3,>=2.21.0->tensorboard<3,>=2.3.0->tensorflow) (2.8)\n",
      "Requirement already satisfied: certifi>=2017.4.17 in /opt/anaconda3/lib/python3.7/site-packages (from requests<3,>=2.21.0->tensorboard<3,>=2.3.0->tensorflow) (2020.6.20)\n",
      "Requirement already satisfied: chardet<3.1.0,>=3.0.2 in /opt/anaconda3/lib/python3.7/site-packages (from requests<3,>=2.21.0->tensorboard<3,>=2.3.0->tensorflow) (3.0.4)\n",
      "Requirement already satisfied: pyasn1<0.5.0,>=0.4.6 in /opt/anaconda3/lib/python3.7/site-packages (from pyasn1-modules>=0.2.1->google-auth<2,>=1.6.3->tensorboard<3,>=2.3.0->tensorflow) (0.4.8)\n",
      "Requirement already satisfied: oauthlib>=3.0.0 in /opt/anaconda3/lib/python3.7/site-packages (from requests-oauthlib>=0.7.0->google-auth-oauthlib<0.5,>=0.4.1->tensorboard<3,>=2.3.0->tensorflow) (3.1.0)\n",
      "Serving TensorBoard on localhost; to expose to the network, use a proxy or pass --bind_all\n",
      "TensorBoard 2.3.0 at http://localhost:6006/ (Press CTRL+C to quit)\n"
     ]
    }
   ],
   "source": [
    "!pip install tensorflow\n",
    "!tensorboard --logdir=$HOME/ray_results"
   ]
  },
  {
   "cell_type": "markdown",
   "metadata": {},
   "source": [
    "That should output instructions to load a URL similar to `http://localhost:6006/` into your browser."
   ]
  },
  {
   "cell_type": "markdown",
   "metadata": {},
   "source": [
    "Finally, let's shutdown Ray gracefully:"
   ]
  },
  {
   "cell_type": "code",
   "execution_count": null,
   "metadata": {},
   "outputs": [],
   "source": [
    "ray.shutdown()"
   ]
  },
  {
   "cell_type": "code",
   "execution_count": null,
   "metadata": {},
   "outputs": [],
   "source": []
  }
 ],
 "metadata": {
  "kernelspec": {
   "display_name": "Python 3",
   "language": "python",
   "name": "python3"
  },
  "language_info": {
   "codemirror_mode": {
    "name": "ipython",
    "version": 3
   },
   "file_extension": ".py",
   "mimetype": "text/x-python",
   "name": "python",
   "nbconvert_exporter": "python",
   "pygments_lexer": "ipython3",
   "version": "3.7.4"
  }
 },
 "nbformat": 4,
 "nbformat_minor": 4
}
