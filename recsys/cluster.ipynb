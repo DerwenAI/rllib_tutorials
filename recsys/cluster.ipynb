{
 "cells": [
  {
   "cell_type": "code",
   "execution_count": 4,
   "metadata": {},
   "outputs": [
    {
     "data": {
      "text/html": [
       "<div>\n",
       "<style scoped>\n",
       "    .dataframe tbody tr th:only-of-type {\n",
       "        vertical-align: middle;\n",
       "    }\n",
       "\n",
       "    .dataframe tbody tr th {\n",
       "        vertical-align: top;\n",
       "    }\n",
       "\n",
       "    .dataframe thead th {\n",
       "        text-align: right;\n",
       "    }\n",
       "</style>\n",
       "<table border=\"1\" class=\"dataframe\">\n",
       "  <thead>\n",
       "    <tr style=\"text-align: right;\">\n",
       "      <th></th>\n",
       "      <th>0</th>\n",
       "      <th>1</th>\n",
       "      <th>2</th>\n",
       "      <th>3</th>\n",
       "      <th>4</th>\n",
       "      <th>5</th>\n",
       "      <th>6</th>\n",
       "      <th>7</th>\n",
       "      <th>8</th>\n",
       "      <th>9</th>\n",
       "      <th>...</th>\n",
       "      <th>90</th>\n",
       "      <th>91</th>\n",
       "      <th>92</th>\n",
       "      <th>93</th>\n",
       "      <th>94</th>\n",
       "      <th>95</th>\n",
       "      <th>96</th>\n",
       "      <th>97</th>\n",
       "      <th>98</th>\n",
       "      <th>99</th>\n",
       "    </tr>\n",
       "  </thead>\n",
       "  <tbody>\n",
       "    <tr>\n",
       "      <th>0</th>\n",
       "      <td>-0.782</td>\n",
       "      <td>0.879</td>\n",
       "      <td>-0.966</td>\n",
       "      <td>-0.816</td>\n",
       "      <td>-0.752</td>\n",
       "      <td>-0.850</td>\n",
       "      <td>-0.985</td>\n",
       "      <td>0.417</td>\n",
       "      <td>-0.898</td>\n",
       "      <td>-0.476</td>\n",
       "      <td>...</td>\n",
       "      <td>0.282</td>\n",
       "      <td>NaN</td>\n",
       "      <td>NaN</td>\n",
       "      <td>NaN</td>\n",
       "      <td>NaN</td>\n",
       "      <td>NaN</td>\n",
       "      <td>-0.563</td>\n",
       "      <td>NaN</td>\n",
       "      <td>NaN</td>\n",
       "      <td>NaN</td>\n",
       "    </tr>\n",
       "    <tr>\n",
       "      <th>1</th>\n",
       "      <td>0.408</td>\n",
       "      <td>-0.029</td>\n",
       "      <td>0.636</td>\n",
       "      <td>0.437</td>\n",
       "      <td>-0.238</td>\n",
       "      <td>-0.966</td>\n",
       "      <td>-0.073</td>\n",
       "      <td>-0.534</td>\n",
       "      <td>0.888</td>\n",
       "      <td>0.922</td>\n",
       "      <td>...</td>\n",
       "      <td>0.282</td>\n",
       "      <td>-0.495</td>\n",
       "      <td>-0.029</td>\n",
       "      <td>0.786</td>\n",
       "      <td>-0.019</td>\n",
       "      <td>-0.214</td>\n",
       "      <td>0.306</td>\n",
       "      <td>0.034</td>\n",
       "      <td>-0.432</td>\n",
       "      <td>0.107</td>\n",
       "    </tr>\n",
       "    <tr>\n",
       "      <th>2</th>\n",
       "      <td>NaN</td>\n",
       "      <td>NaN</td>\n",
       "      <td>NaN</td>\n",
       "      <td>NaN</td>\n",
       "      <td>0.903</td>\n",
       "      <td>0.927</td>\n",
       "      <td>0.903</td>\n",
       "      <td>0.927</td>\n",
       "      <td>NaN</td>\n",
       "      <td>NaN</td>\n",
       "      <td>...</td>\n",
       "      <td>NaN</td>\n",
       "      <td>NaN</td>\n",
       "      <td>NaN</td>\n",
       "      <td>0.908</td>\n",
       "      <td>NaN</td>\n",
       "      <td>NaN</td>\n",
       "      <td>NaN</td>\n",
       "      <td>NaN</td>\n",
       "      <td>NaN</td>\n",
       "      <td>NaN</td>\n",
       "    </tr>\n",
       "    <tr>\n",
       "      <th>3</th>\n",
       "      <td>NaN</td>\n",
       "      <td>0.835</td>\n",
       "      <td>NaN</td>\n",
       "      <td>NaN</td>\n",
       "      <td>0.180</td>\n",
       "      <td>0.816</td>\n",
       "      <td>-0.282</td>\n",
       "      <td>0.621</td>\n",
       "      <td>NaN</td>\n",
       "      <td>0.184</td>\n",
       "      <td>...</td>\n",
       "      <td>NaN</td>\n",
       "      <td>NaN</td>\n",
       "      <td>NaN</td>\n",
       "      <td>0.053</td>\n",
       "      <td>NaN</td>\n",
       "      <td>NaN</td>\n",
       "      <td>NaN</td>\n",
       "      <td>NaN</td>\n",
       "      <td>NaN</td>\n",
       "      <td>NaN</td>\n",
       "    </tr>\n",
       "    <tr>\n",
       "      <th>4</th>\n",
       "      <td>0.850</td>\n",
       "      <td>0.461</td>\n",
       "      <td>-0.417</td>\n",
       "      <td>-0.539</td>\n",
       "      <td>0.136</td>\n",
       "      <td>0.160</td>\n",
       "      <td>0.704</td>\n",
       "      <td>0.461</td>\n",
       "      <td>-0.044</td>\n",
       "      <td>0.573</td>\n",
       "      <td>...</td>\n",
       "      <td>0.519</td>\n",
       "      <td>0.558</td>\n",
       "      <td>0.427</td>\n",
       "      <td>0.519</td>\n",
       "      <td>0.573</td>\n",
       "      <td>0.155</td>\n",
       "      <td>0.311</td>\n",
       "      <td>0.655</td>\n",
       "      <td>0.180</td>\n",
       "      <td>0.160</td>\n",
       "    </tr>\n",
       "  </tbody>\n",
       "</table>\n",
       "<p>5 rows × 100 columns</p>\n",
       "</div>"
      ],
      "text/plain": [
       "      0      1      2      3      4      5      6      7      8      9   ...  \\\n",
       "0 -0.782  0.879 -0.966 -0.816 -0.752 -0.850 -0.985  0.417 -0.898 -0.476  ...   \n",
       "1  0.408 -0.029  0.636  0.437 -0.238 -0.966 -0.073 -0.534  0.888  0.922  ...   \n",
       "2    NaN    NaN    NaN    NaN  0.903  0.927  0.903  0.927    NaN    NaN  ...   \n",
       "3    NaN  0.835    NaN    NaN  0.180  0.816 -0.282  0.621    NaN  0.184  ...   \n",
       "4  0.850  0.461 -0.417 -0.539  0.136  0.160  0.704  0.461 -0.044  0.573  ...   \n",
       "\n",
       "      90     91     92     93     94     95     96     97     98     99  \n",
       "0  0.282    NaN    NaN    NaN    NaN    NaN -0.563    NaN    NaN    NaN  \n",
       "1  0.282 -0.495 -0.029  0.786 -0.019 -0.214  0.306  0.034 -0.432  0.107  \n",
       "2    NaN    NaN    NaN  0.908    NaN    NaN    NaN    NaN    NaN    NaN  \n",
       "3    NaN    NaN    NaN  0.053    NaN    NaN    NaN    NaN    NaN    NaN  \n",
       "4  0.519  0.558  0.427  0.519  0.573  0.155  0.311  0.655  0.180  0.160  \n",
       "\n",
       "[5 rows x 100 columns]"
      ]
     },
     "execution_count": 4,
     "metadata": {},
     "output_type": "execute_result"
    }
   ],
   "source": [
    "from pathlib import Path\n",
    "import csv\n",
    "import pandas as pd\n",
    "\n",
    "data_path = Path(\"jester-data-1.csv\")\n",
    "dataset = []\n",
    "\n",
    "with open(data_path, newline=\"\") as csvfile:\n",
    "    csvreader = csv.reader(csvfile, delimiter=\",\")\n",
    "\n",
    "    for row in csvreader:\n",
    "        conv = [None] * (len(row) - 1)\n",
    "\n",
    "        for i in range(1, len(row)):\n",
    "            if row[i] != \"99\":\n",
    "                conv[i - 1] = float(row[i]) / 10.0\n",
    "\n",
    "        dataset.append(conv)\n",
    "\n",
    "\n",
    "df = pd.DataFrame(dataset)\n",
    "df.head()"
   ]
  },
  {
   "cell_type": "code",
   "execution_count": 35,
   "metadata": {},
   "outputs": [
    {
     "name": "stdout",
     "output_type": "stream",
     "text": [
      "[[-0.782       0.408       0.09045733 ...  0.09045733  0.09045733\n",
      "   0.243     ]\n",
      " [ 0.879      -0.029       0.02084596 ...  0.02084596  0.02084596\n",
      "   0.267     ]\n",
      " [-0.966       0.636       0.03165743 ...  0.03165743  0.03165743\n",
      "  -0.398     ]\n",
      " ...\n",
      " [ 0.07676917  0.034       0.07676917 ...  0.07676917  0.07676917\n",
      "   0.07676917]\n",
      " [-0.00312438 -0.432      -0.00312438 ... -0.00312438 -0.00312438\n",
      "  -0.00312438]\n",
      " [ 0.13547109  0.107       0.13547109 ...  0.13547109  0.13547109\n",
      "   0.13547109]]\n"
     ]
    }
   ],
   "source": [
    "# https://scikit-learn.org/stable/modules/impute.html\n",
    "\n",
    "import numpy as np\n",
    "from sklearn.impute import SimpleImputer\n",
    "\n",
    "imp = SimpleImputer(missing_values=np.nan, strategy=\"mean\")\n",
    "imp.fit(df.values)\n",
    "\n",
    "X = imp.transform(df.values).T\n",
    "\n",
    "print(X)"
   ]
  },
  {
   "cell_type": "code",
   "execution_count": 42,
   "metadata": {},
   "outputs": [
    {
     "data": {
      "image/png": "[encoded data removed]",
      "text/plain": [
       "<Figure size 432x288 with 1 Axes>"
      ]
     },
     "metadata": {
      "needs_background": "light"
     },
     "output_type": "display_data"
    }
   ],
   "source": [
    "# https://towardsdatascience.com/k-means-clustering-with-scikit-learn-6b47a369a83c\n",
    "\n",
    "# calculate distortion for a range of number of cluster\n",
    "distortions = []\n",
    "\n",
    "for i in range(1, 20):\n",
    "    km = KMeans(\n",
    "        n_clusters=i, init='random',\n",
    "        n_init=10, max_iter=300,\n",
    "        tol=1e-04, random_state=0\n",
    "    )\n",
    "\n",
    "    km.fit(X)\n",
    "    distortions.append(km.inertia_)\n",
    "\n",
    "# plot\n",
    "plt.plot(range(1, 20), distortions, marker='o')\n",
    "plt.xlabel('Number of clusters')\n",
    "plt.ylabel('Distortion')\n",
    "plt.show()"
   ]
  },
  {
   "cell_type": "code",
   "execution_count": 47,
   "metadata": {},
   "outputs": [],
   "source": [
    "from sklearn.cluster import KMeans\n",
    "\n",
    "# Using sklearn\n",
    "km = KMeans(n_clusters=12)\n",
    "km.fit(X)\n",
    "\n",
    "# Get cluster assignment labels\n",
    "labels = km.labels_\n",
    "y_km = km.fit_predict(X)"
   ]
  },
  {
   "cell_type": "code",
   "execution_count": 46,
   "metadata": {},
   "outputs": [
    {
     "data": {
      "image/png": "[encoded data removed]",
      "text/plain": [
       "<Figure size 432x288 with 1 Axes>"
      ]
     },
     "metadata": {
      "needs_background": "light"
     },
     "output_type": "display_data"
    }
   ],
   "source": [
    "# plot the 3 clusters\n",
    "plt.scatter(\n",
    "    X[y_km == 0, 0], X[y_km == 0, 1],\n",
    "    s=10, c='lightgreen',\n",
    "    marker='s', edgecolor='black',\n",
    "    label='cluster 1'\n",
    ")\n",
    "\n",
    "plt.scatter(\n",
    "    X[y_km == 1, 0], X[y_km == 1, 1],\n",
    "    s=10, c='orange',\n",
    "    marker='o', edgecolor='black',\n",
    "    label='cluster 2'\n",
    ")\n",
    "\n",
    "plt.scatter(\n",
    "    X[y_km == 2, 0], X[y_km == 2, 1],\n",
    "    s=10, c='lightblue',\n",
    "    marker='v', edgecolor='black',\n",
    "    label='cluster 3'\n",
    ")\n",
    "\n",
    "# plot the centroids\n",
    "plt.scatter(\n",
    "    km.cluster_centers_[:, 0], km.cluster_centers_[:, 1],\n",
    "    s=250, marker='*',\n",
    "    c='red', edgecolor='black',\n",
    "    label='centroids'\n",
    ")\n",
    "\n",
    "#plt.legend(scatterpoints=1)\n",
    "plt.grid()\n",
    "plt.show()"
   ]
  },
  {
   "cell_type": "code",
   "execution_count": 48,
   "metadata": {},
   "outputs": [
    {
     "data": {
      "text/plain": [
       "array([ 0,  0,  0,  2,  2,  1,  5,  3,  3,  0,  1,  8, 10,  8, 10,  4,  2,\n",
       "        9, 11, 11,  8,  8,  3,  4,  8,  8,  1,  1,  1,  2,  1,  1,  3,  8,\n",
       "        1,  1,  4,  1,  8,  8,  2,  8,  3,  4,  1,  8,  1,  1,  7,  1,  2,\n",
       "        2,  1,  7,  3,  8,  4,  4,  2,  3,  1,  7,  2,  3,  8,  1,  3,  7,\n",
       "        1,  2,  6,  6,  6,  2,  2,  6,  6,  6,  6,  6,  6,  6,  6,  6,  6,\n",
       "        6,  6,  6,  1,  6,  6,  6,  6,  6,  6,  6,  6,  6,  6,  6],\n",
       "      dtype=int32)"
      ]
     },
     "execution_count": 48,
     "metadata": {},
     "output_type": "execute_result"
    }
   ],
   "source": [
    "y_km"
   ]
  },
  {
   "cell_type": "code",
   "execution_count": 49,
   "metadata": {},
   "outputs": [
    {
     "data": {
      "text/plain": [
       "100"
      ]
     },
     "execution_count": 49,
     "metadata": {},
     "output_type": "execute_result"
    }
   ],
   "source": [
    "len(y_km)"
   ]
  },
  {
   "cell_type": "code",
   "execution_count": 50,
   "metadata": {},
   "outputs": [
    {
     "data": {
      "text/plain": [
       "array([[-0.33625   ,  0.48425   ,  0.06827095, ...,  0.06827095,\n",
       "         0.06827095,  0.14325   ],\n",
       "       [ 0.12018274, -0.00278947,  0.7311301 , ..., -0.056718  ,\n",
       "         0.16107154,  0.46723537],\n",
       "       [-0.54278552,  0.3945    ,  0.03502291, ..., -0.08346331,\n",
       "        -0.19430862,  0.14954781],\n",
       "       ...,\n",
       "       [-0.981     , -0.068     ,  0.903     , ...,  0.723     ,\n",
       "        -0.413     ,  0.136     ],\n",
       "       [-0.718     ,  0.449     ,  0.1505    , ..., -0.663     ,\n",
       "        -0.301     , -0.8515    ],\n",
       "       [-0.985     ,  0.1045    ,  0.903     , ..., -0.012     ,\n",
       "        -0.762     , -0.114     ]])"
      ]
     },
     "execution_count": 50,
     "metadata": {},
     "output_type": "execute_result"
    }
   ],
   "source": [
    "km.cluster_centers_"
   ]
  },
  {
   "cell_type": "code",
   "execution_count": 51,
   "metadata": {},
   "outputs": [
    {
     "data": {
      "text/plain": [
       "12"
      ]
     },
     "execution_count": 51,
     "metadata": {},
     "output_type": "execute_result"
    }
   ],
   "source": [
    "len(km.cluster_centers_)"
   ]
  },
  {
   "cell_type": "code",
   "execution_count": null,
   "metadata": {},
   "outputs": [],
   "source": []
  }
 ],
 "metadata": {
  "kernelspec": {
   "display_name": "Python 3",
   "language": "python",
   "name": "python3"
  },
  "language_info": {
   "codemirror_mode": {
    "name": "ipython",
    "version": 3
   },
   "file_extension": ".py",
   "mimetype": "text/x-python",
   "name": "python",
   "nbconvert_exporter": "python",
   "pygments_lexer": "ipython3",
   "version": "3.7.4"
  }
 },
 "nbformat": 4,
 "nbformat_minor": 4
}
