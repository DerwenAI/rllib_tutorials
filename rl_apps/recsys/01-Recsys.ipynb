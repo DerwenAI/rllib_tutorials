{
 "cells": [
  {
   "cell_type": "markdown",
   "metadata": {},
   "source": [
    "# Ray RLlib - RecSys: Recommender System\n",
    "\n",
    "© 2019-2021, Anyscale. All Rights Reserved\n",
    "\n",
    "![Anyscale Academy](../../images/AnyscaleAcademyLogo.png)\n",
    "\n",
    "This section explores one approach for using *reinforcement learning* with [Ray RLlib](https://rllib.io/) to build a [*recommender system*](https://en.wikipedia.org/wiki/Recommender_system)."
   ]
  },
  {
   "cell_type": "markdown",
   "metadata": {},
   "source": [
    "For reference, the GitHub public repo for this code is available at <https://github.com/anyscale/academy/blob/main/ray-rllib/recsys> and full source code for this example recommender system is also in the `recsys.py` script. You can run that with default settings to exercise the code:\n",
    "\n",
    "```shell\n",
    "python recsys.py\n",
    "```\n",
    "\n",
    "To see the available command line options use:\n",
    "\n",
    "```shell\n",
    "python recsys.py --help\n",
    "```\n",
    "\n",
    "A full run takes about 5-10 minutes on a recent model MacBook Pro laptop."
   ]
  },
  {
   "cell_type": "markdown",
   "metadata": {},
   "source": [
    "## Load the Training Data\n",
    "\n",
    "The approach given here for building a recommender system could be applied to just about any dataset where *users* are *rating* a set of *items*. It's bounded in terms of memory requirements as the number of users grows. It could be re-engineered to handle a very large set of items.\n",
    "\n",
    "We'll be using the [Jester collaborative filtering dataset](https://goldberg.berkeley.edu/jester-data/) – which is known for having a high *density*, i.e., where many users have rated many of the items: https://goldberg.berkeley.edu/jester-data/.\n",
    "\n",
    "Jester was an online joke recommender hosted a UC Berkeley which collected data from April 1999 through May 2003. See the discussion of \"universal queries\" in:\n",
    "\n",
    "> \"Eigentaste: A Constant Time Collaborative Filtering Algorithm\"  \n",
    "Ken Goldberg, Theresa Roeder, Dhruv Gupta, Chris Perkins  \n",
    "*Information Retrieval*, 4(2), 133-151 (July 2001)  \n",
    "<https://goldberg.berkeley.edu/pubs/eigentaste.pdf>\n",
    "\n",
    "The data is split into three downloadable files, and the first file contains anonymous ratings from 24,983 users who have rated 36 or more jokes.\n",
    "\n",
    "Ratings data is organized as a matrix with dimensions `24983 X 101`\n",
    "\n",
    "  * one row per user\n",
    "  * first column gives the number of jokes rated by that user\n",
    "  * the next 100 columns give the ratings for jokes `01` through `100`\n",
    "  * ratings are real values ranging from `-10.00` to `+10.00`\n",
    "  * the value `\"99\"` corresponds to `None` = \"not rated\"\n",
    "  \n",
    "Here's a function to load the dataset:"
   ]
  },
  {
   "cell_type": "code",
   "execution_count": 1,
   "metadata": {},
   "outputs": [],
   "source": [
    "import csv\n",
    "\n",
    "NO_RATING = \"99\"\n",
    "MAX_RATING = 10.0\n",
    "\n",
    "def load_data (data_path):\n",
    "    rows = []\n",
    "\n",
    "    with open(data_path, newline=\"\") as csvfile:\n",
    "        csvreader = csv.reader(csvfile, delimiter=\",\")\n",
    "\n",
    "        for row in csvreader:\n",
    "            conv = [None] * (len(row) - 1)\n",
    "\n",
    "            for i in range(1, len(row)):\n",
    "                if row[i] != NO_RATING:\n",
    "                    rating = float(row[i]) / MAX_RATING\n",
    "                    conv[i - 1] = rating\n",
    "\n",
    "            rows.append(conv)\n",
    "\n",
    "    return rows"
   ]
  },
  {
   "cell_type": "markdown",
   "metadata": {},
   "source": [
    "## Data Discovery\n",
    "\n",
    "Let's load the dataset into a `pandas` dataframe, then take a look at it:"
   ]
  },
  {
   "cell_type": "code",
   "execution_count": 2,
   "metadata": {},
   "outputs": [
    {
     "data": {
      "text/html": [
       "<div>\n",
       "<style scoped>\n",
       "    .dataframe tbody tr th:only-of-type {\n",
       "        vertical-align: middle;\n",
       "    }\n",
       "\n",
       "    .dataframe tbody tr th {\n",
       "        vertical-align: top;\n",
       "    }\n",
       "\n",
       "    .dataframe thead th {\n",
       "        text-align: right;\n",
       "    }\n",
       "</style>\n",
       "<table border=\"1\" class=\"dataframe\">\n",
       "  <thead>\n",
       "    <tr style=\"text-align: right;\">\n",
       "      <th></th>\n",
       "      <th>0</th>\n",
       "      <th>1</th>\n",
       "      <th>2</th>\n",
       "      <th>3</th>\n",
       "      <th>4</th>\n",
       "      <th>5</th>\n",
       "      <th>6</th>\n",
       "      <th>7</th>\n",
       "      <th>8</th>\n",
       "      <th>9</th>\n",
       "      <th>...</th>\n",
       "      <th>90</th>\n",
       "      <th>91</th>\n",
       "      <th>92</th>\n",
       "      <th>93</th>\n",
       "      <th>94</th>\n",
       "      <th>95</th>\n",
       "      <th>96</th>\n",
       "      <th>97</th>\n",
       "      <th>98</th>\n",
       "      <th>99</th>\n",
       "    </tr>\n",
       "  </thead>\n",
       "  <tbody>\n",
       "    <tr>\n",
       "      <th>0</th>\n",
       "      <td>-0.782</td>\n",
       "      <td>0.879</td>\n",
       "      <td>-0.966</td>\n",
       "      <td>-0.816</td>\n",
       "      <td>-0.752</td>\n",
       "      <td>-0.850</td>\n",
       "      <td>-0.985</td>\n",
       "      <td>0.417</td>\n",
       "      <td>-0.898</td>\n",
       "      <td>-0.476</td>\n",
       "      <td>...</td>\n",
       "      <td>0.282</td>\n",
       "      <td>NaN</td>\n",
       "      <td>NaN</td>\n",
       "      <td>NaN</td>\n",
       "      <td>NaN</td>\n",
       "      <td>NaN</td>\n",
       "      <td>-0.563</td>\n",
       "      <td>NaN</td>\n",
       "      <td>NaN</td>\n",
       "      <td>NaN</td>\n",
       "    </tr>\n",
       "    <tr>\n",
       "      <th>1</th>\n",
       "      <td>0.408</td>\n",
       "      <td>-0.029</td>\n",
       "      <td>0.636</td>\n",
       "      <td>0.437</td>\n",
       "      <td>-0.238</td>\n",
       "      <td>-0.966</td>\n",
       "      <td>-0.073</td>\n",
       "      <td>-0.534</td>\n",
       "      <td>0.888</td>\n",
       "      <td>0.922</td>\n",
       "      <td>...</td>\n",
       "      <td>0.282</td>\n",
       "      <td>-0.495</td>\n",
       "      <td>-0.029</td>\n",
       "      <td>0.786</td>\n",
       "      <td>-0.019</td>\n",
       "      <td>-0.214</td>\n",
       "      <td>0.306</td>\n",
       "      <td>0.034</td>\n",
       "      <td>-0.432</td>\n",
       "      <td>0.107</td>\n",
       "    </tr>\n",
       "    <tr>\n",
       "      <th>2</th>\n",
       "      <td>NaN</td>\n",
       "      <td>NaN</td>\n",
       "      <td>NaN</td>\n",
       "      <td>NaN</td>\n",
       "      <td>0.903</td>\n",
       "      <td>0.927</td>\n",
       "      <td>0.903</td>\n",
       "      <td>0.927</td>\n",
       "      <td>NaN</td>\n",
       "      <td>NaN</td>\n",
       "      <td>...</td>\n",
       "      <td>NaN</td>\n",
       "      <td>NaN</td>\n",
       "      <td>NaN</td>\n",
       "      <td>0.908</td>\n",
       "      <td>NaN</td>\n",
       "      <td>NaN</td>\n",
       "      <td>NaN</td>\n",
       "      <td>NaN</td>\n",
       "      <td>NaN</td>\n",
       "      <td>NaN</td>\n",
       "    </tr>\n",
       "    <tr>\n",
       "      <th>3</th>\n",
       "      <td>NaN</td>\n",
       "      <td>0.835</td>\n",
       "      <td>NaN</td>\n",
       "      <td>NaN</td>\n",
       "      <td>0.180</td>\n",
       "      <td>0.816</td>\n",
       "      <td>-0.282</td>\n",
       "      <td>0.621</td>\n",
       "      <td>NaN</td>\n",
       "      <td>0.184</td>\n",
       "      <td>...</td>\n",
       "      <td>NaN</td>\n",
       "      <td>NaN</td>\n",
       "      <td>NaN</td>\n",
       "      <td>0.053</td>\n",
       "      <td>NaN</td>\n",
       "      <td>NaN</td>\n",
       "      <td>NaN</td>\n",
       "      <td>NaN</td>\n",
       "      <td>NaN</td>\n",
       "      <td>NaN</td>\n",
       "    </tr>\n",
       "    <tr>\n",
       "      <th>4</th>\n",
       "      <td>0.850</td>\n",
       "      <td>0.461</td>\n",
       "      <td>-0.417</td>\n",
       "      <td>-0.539</td>\n",
       "      <td>0.136</td>\n",
       "      <td>0.160</td>\n",
       "      <td>0.704</td>\n",
       "      <td>0.461</td>\n",
       "      <td>-0.044</td>\n",
       "      <td>0.573</td>\n",
       "      <td>...</td>\n",
       "      <td>0.519</td>\n",
       "      <td>0.558</td>\n",
       "      <td>0.427</td>\n",
       "      <td>0.519</td>\n",
       "      <td>0.573</td>\n",
       "      <td>0.155</td>\n",
       "      <td>0.311</td>\n",
       "      <td>0.655</td>\n",
       "      <td>0.180</td>\n",
       "      <td>0.160</td>\n",
       "    </tr>\n",
       "  </tbody>\n",
       "</table>\n",
       "<p>5 rows × 100 columns</p>\n",
       "</div>"
      ],
      "text/plain": [
       "      0      1      2      3      4      5      6      7      8      9   ...  \\\n",
       "0 -0.782  0.879 -0.966 -0.816 -0.752 -0.850 -0.985  0.417 -0.898 -0.476  ...   \n",
       "1  0.408 -0.029  0.636  0.437 -0.238 -0.966 -0.073 -0.534  0.888  0.922  ...   \n",
       "2    NaN    NaN    NaN    NaN  0.903  0.927  0.903  0.927    NaN    NaN  ...   \n",
       "3    NaN  0.835    NaN    NaN  0.180  0.816 -0.282  0.621    NaN  0.184  ...   \n",
       "4  0.850  0.461 -0.417 -0.539  0.136  0.160  0.704  0.461 -0.044  0.573  ...   \n",
       "\n",
       "      90     91     92     93     94     95     96     97     98     99  \n",
       "0  0.282    NaN    NaN    NaN    NaN    NaN -0.563    NaN    NaN    NaN  \n",
       "1  0.282 -0.495 -0.029  0.786 -0.019 -0.214  0.306  0.034 -0.432  0.107  \n",
       "2    NaN    NaN    NaN  0.908    NaN    NaN    NaN    NaN    NaN    NaN  \n",
       "3    NaN    NaN    NaN  0.053    NaN    NaN    NaN    NaN    NaN    NaN  \n",
       "4  0.519  0.558  0.427  0.519  0.573  0.155  0.311  0.655  0.180  0.160  \n",
       "\n",
       "[5 rows x 100 columns]"
      ]
     },
     "execution_count": 2,
     "metadata": {},
     "output_type": "execute_result"
    }
   ],
   "source": [
    "from pathlib import Path\n",
    "import os\n",
    "import pandas as pd\n",
    "\n",
    "DATA_PATH = Path(os.getcwd()) / Path(\"jester-data-1.csv\")\n",
    "sample = load_data(DATA_PATH)\n",
    "\n",
    "df = pd.DataFrame(sample)\n",
    "df.head()"
   ]
  },
  {
   "cell_type": "markdown",
   "metadata": {},
   "source": [
    "Notice above how there are many `NaN` values in the dataset.\n",
    "Those are *missing values*.\n",
    "Before we analyze this data any further, we'll need to [*impute*](https://en.wikipedia.org/wiki/Imputation_(statistics)) those missing values.\n",
    "In other words, substitute each missing value with some appropriate estimate, such as a column mean.\n",
    "The `SimpleImputer` class in `scikit-learn` provides a good way to handle that requirement:\n",
    "<https://scikit-learn.org/stable/modules/impute.html>.\n",
    "\n",
    "We'll save the imputed sample data in the `X` matrix:"
   ]
  },
  {
   "cell_type": "code",
   "execution_count": 3,
   "metadata": {},
   "outputs": [
    {
     "name": "stdout",
     "output_type": "stream",
     "text": [
      "[[-0.782       0.408       0.09045733 ...  0.09045733  0.09045733\n",
      "   0.243     ]\n",
      " [ 0.879      -0.029       0.02084596 ...  0.02084596  0.02084596\n",
      "   0.267     ]\n",
      " [-0.966       0.636       0.03165743 ...  0.03165743  0.03165743\n",
      "  -0.398     ]\n",
      " ...\n",
      " [ 0.07676917  0.034       0.07676917 ...  0.07676917  0.07676917\n",
      "   0.07676917]\n",
      " [-0.00312438 -0.432      -0.00312438 ... -0.00312438 -0.00312438\n",
      "  -0.00312438]\n",
      " [ 0.13547109  0.107       0.13547109 ...  0.13547109  0.13547109\n",
      "   0.13547109]]\n"
     ]
    }
   ],
   "source": [
    "import numpy as np\n",
    "from sklearn.impute import SimpleImputer\n",
    "\n",
    "imp = SimpleImputer(missing_values=np.nan, strategy=\"mean\")\n",
    "imp.fit(df.values)\n",
    "\n",
    "X = imp.transform(df.values).T\n",
    "\n",
    "print(X)"
   ]
  },
  {
   "cell_type": "markdown",
   "metadata": {},
   "source": [
    "Next, we'll use *K-means clustering* as an unsupervised learning approach to understand more about how the dataset is structured. In other words, let's re-arrange the dataset into `k` clusters of items, based on how many different users have rated them.\n",
    "\n",
    "Since `k` is a *hyperparameter* we'll need some way to select an appropriate value for it. One approach that's popular for K-means is to evaluate the *inertia* of decreasing error in the clustering models as `k` grows from zero to some limit.\n",
    "\n",
    " * <https://scikit-learn.org/stable/auto_examples/cluster/plot_kmeans_stability_low_dim_dense.html>\n",
    " * <https://towardsdatascience.com/k-means-clustering-with-scikit-learn-6b47a369a83c>\n",
    " \n",
    "We really don't want to work with more than a few clusters – since many small clusters would lead to less *predictive power* in the _recsys_. Given that there are 100 items, let's measure inertia up to `k=20` clusters."
   ]
  },
  {
   "cell_type": "code",
   "execution_count": 4,
   "metadata": {},
   "outputs": [],
   "source": [
    "from sklearn.cluster import KMeans\n",
    "\n",
    "distortions = []\n",
    "\n",
    "for i in range(1, 20):\n",
    "    km = KMeans(\n",
    "        n_clusters=i,\n",
    "        init=\"random\",\n",
    "        n_init=10,\n",
    "        max_iter=300,\n",
    "        tol=1e-04,\n",
    "        random_state=0\n",
    "    )\n",
    "\n",
    "    km.fit(X)\n",
    "    distortions.append(km.inertia_)"
   ]
  },
  {
   "cell_type": "markdown",
   "metadata": {},
   "source": [
    "Let's visualize the curve of inertia, using `matplotlib`:"
   ]
  },
  {
   "cell_type": "code",
   "execution_count": 5,
   "metadata": {},
   "outputs": [
    {
     "data": {
      "image/png": "[encoded data removed]",
      "text/plain": [
       "<Figure size 432x288 with 1 Axes>"
      ]
     },
     "metadata": {
      "needs_background": "light"
     },
     "output_type": "display_data"
    }
   ],
   "source": [
    "%matplotlib inline\n",
    "import matplotlib.pyplot as plt\n",
    "\n",
    "plt.plot(range(1, 20), distortions, marker=\"o\")\n",
    "plt.xlabel(\"Number of clusters\")\n",
    "plt.ylabel(\"Distortion\")\n",
    "plt.show()"
   ]
  },
  {
   "cell_type": "markdown",
   "metadata": {},
   "source": [
    "This kind of cluster analysis has stochastic aspects, so results may differ on different runs. Generally, the plot shows a \"knee\" in the curve near `k=7` as the decrease in error begins to level out. That's a reasonable number of clusters, such that each cluster will tend to have ~14% of the items. That choice has an inherent trade-off:\n",
    "\n",
    "  * too few clusters → poor predictions (less precision)\n",
    "  * too many clusters → poor predictive power (less recall)\n",
    "\n",
    "Now we can run K-means in `scikit-learn` with that hyperparameter `k=7` to get the clusters that we'll use in our RL environment:"
   ]
  },
  {
   "cell_type": "code",
   "execution_count": 6,
   "metadata": {},
   "outputs": [],
   "source": [
    "K_CLUSTERS = 7\n",
    "\n",
    "km = KMeans(n_clusters=K_CLUSTERS)\n",
    "km.fit(X)\n",
    "\n",
    "y_km = km.fit_predict(X)"
   ]
  },
  {
   "cell_type": "markdown",
   "metadata": {},
   "source": [
    "From this analysis we'll need the *labels* for each item, i.e., the number of the cluster to which each item gets assigned:"
   ]
  },
  {
   "cell_type": "code",
   "execution_count": 7,
   "metadata": {},
   "outputs": [],
   "source": [
    "from collections import defaultdict\n",
    "\n",
    "labels = km.labels_\n",
    "clusters = defaultdict(set)\n",
    "\n",
    "for i in range(len(labels)):\n",
    "    clusters[labels[i]].add(i)\n",
    "\n",
    "CLUSTERS = dict(clusters)"
   ]
  },
  {
   "cell_type": "markdown",
   "metadata": {},
   "source": [
    "We'll also use the cluster *centers*, which provide the vector positions (the per-dimension \"means\") for each cluster."
   ]
  },
  {
   "cell_type": "code",
   "execution_count": 8,
   "metadata": {},
   "outputs": [],
   "source": [
    "centers = km.cluster_centers_\n",
    "CENTERS = centers.tolist()"
   ]
  },
  {
   "cell_type": "markdown",
   "metadata": {},
   "source": [
    "BTW, let's take a look at the K clusters from this analysis…"
   ]
  },
  {
   "cell_type": "code",
   "execution_count": 9,
   "metadata": {},
   "outputs": [
    {
     "data": {
      "image/png": "[encoded data removed]",
      "text/plain": [
       "<Figure size 432x288 with 1 Axes>"
      ]
     },
     "metadata": {
      "needs_background": "light"
     },
     "output_type": "display_data"
    }
   ],
   "source": [
    "plt.scatter(\n",
    "    X[y_km == 0, 0], X[y_km == 0, 1],\n",
    "    s=50, c=\"lightgreen\",\n",
    "    marker=\"s\", edgecolor=\"black\",\n",
    "    label=\"cluster 0\"\n",
    ")\n",
    "\n",
    "plt.scatter(\n",
    "    X[y_km == 1, 0], X[y_km == 1, 1],\n",
    "    s=50, c=\"orange\",\n",
    "    marker=\"o\", edgecolor=\"black\",\n",
    "    label=\"cluster 1\"\n",
    ")\n",
    "\n",
    "plt.scatter(\n",
    "    X[y_km == 2, 0], X[y_km == 2, 1],\n",
    "    s=50, c=\"lightblue\",\n",
    "    marker=\"v\", edgecolor=\"black\",\n",
    "    label=\"cluster 2\"\n",
    ")\n",
    "\n",
    "plt.scatter(\n",
    "    X[y_km == 3, 0], X[y_km == 3, 1],\n",
    "    s=50, c=\"blue\",\n",
    "    marker=\"^\", edgecolor=\"black\",\n",
    "    label=\"cluster 3\"\n",
    ")\n",
    "\n",
    "plt.scatter(\n",
    "    X[y_km == 4, 0], X[y_km == 4, 1],\n",
    "    s=50, c=\"yellow\",\n",
    "    marker=\"<\", edgecolor=\"black\",\n",
    "    label=\"cluster 4\"\n",
    ")\n",
    "\n",
    "plt.scatter(\n",
    "    X[y_km == 5, 0], X[y_km == 5, 1],\n",
    "    s=50, c=\"purple\",\n",
    "    marker=\">\", edgecolor=\"black\",\n",
    "    label=\"cluster 5\"\n",
    ")\n",
    "\n",
    "plt.scatter(\n",
    "    X[y_km == 6, 0], X[y_km == 6, 1],\n",
    "    s=50, c=\"brown\",\n",
    "    marker=\"X\", edgecolor=\"black\",\n",
    "    label=\"cluster 6\"\n",
    ")\n",
    "\n",
    "# plot the centroids\n",
    "plt.scatter(\n",
    "    km.cluster_centers_[:, 0], km.cluster_centers_[:, 1],\n",
    "    s=250, marker=\"*\",\n",
    "    c=\"red\", edgecolor=\"black\",\n",
    "    label=\"centers\"\n",
    ")\n",
    "\n",
    "plt.legend(scatterpoints=1)\n",
    "plt.grid()\n",
    "plt.show()"
   ]
  },
  {
   "cell_type": "markdown",
   "metadata": {},
   "source": [
    "Not bad, based on the centers these clusters show some separation – at least when we plot in 2 dimensions."
   ]
  },
  {
   "cell_type": "markdown",
   "metadata": {},
   "source": [
    "## Thesis for Building an RL Recommender System\n",
    "\n",
    "We're using a thesis here that people tend to like similar \"kinds\" of items, in this case jokes. While we could go to extra effort to build a classifier model for jokes, it's much simpler to measure ratings for them across a large sample of users' likes. In a classic [*collaborative filtering*](https://en.wikipedia.org/wiki/Collaborative_filtering) approach, we could base our recommendations on other users who have similar patterns of rating items. \n",
    "\n",
    "On the one hand, that may be expensive to scale as the number of users grows. Instead, an [*item-based collaborative filter*](https://en.wikipedia.org/wiki/Item-item_collaborative_filtering) approach which was invented by [Amazon](https://ieeexplore.ieee.org/document/1167344) for \"people who bought x also bought y\". This scales to massive datasets by clustering the items based on user ratings.\n",
    "\n",
    "On the other hand, people change their interests over time but a class CF model doesn't account for that.  For a thorough study of these effects, see [\"From Amateurs to Connoisseurs: Modeling the Evolution of User Expertise through Online Reviews\"](https://arxiv.org/abs/1303.4402) by Julian McAuley and Jure Leskovec (2013-03-18).\n",
    "\n",
    "Let's use reinforcement learning to build an item-based recommender system that can \"evolve\" its recommendations for each individual over time. We'll leverage *exploration* (gather info that leads toward better recommendations in the future) versus *exploitation* (use the best decision given the info known so far). We have clustered the items (jokes), so now we can create a custom environment where:\n",
    "\n",
    "  * *actions* taken by an agent – recommend items from specific clusters\n",
    "  * *observation space* – a vector distance from the user's rating history to the cluster centers\n",
    "  * *rewards* – user ratings for recommended items, with minor penalties for unrated items\n",
    "  \n",
    "Each *episode* for an agent will simulate one user's ratings vs. which jokes get recommdened based on our *policy* which is trained using RL."
   ]
  },
  {
   "cell_type": "markdown",
   "metadata": {},
   "source": [
    "One other point: a *dense sub-matrix* – in which almost all users have rated the jokes – is defined by the following columns:"
   ]
  },
  {
   "cell_type": "code",
   "execution_count": 10,
   "metadata": {},
   "outputs": [],
   "source": [
    "DENSE_SUBMATRIX = [ 5, 7, 8, 13, 15, 16, 17, 18, 19, 20 ]"
   ]
  },
  {
   "cell_type": "markdown",
   "metadata": {},
   "source": [
    "One well-known issue encountered in production use of recommenders is the [*cold start*](https://en.wikipedia.org/wiki/Cold_start_(recommender_systems)) problem. When we first begin to make recommendations for a given user, we have zero information about them. So it's not possible to provide personalized recommendations. However, we have the dense sub-matrix above, which almost all users have rated. We can sample from this subset – as \"warm\" items – to provide to each user at the start of an *episode*. That will give the recommender some initial information to leverage as a starting point."
   ]
  },
  {
   "cell_type": "markdown",
   "metadata": {},
   "source": [
    "## A Custom Gym Environment\n",
    "\n",
    "Next we'll build a custom environment for training a policy with RLlib.  We'll use OpenAI [Gym](https://gym.openai.com/) as the basis for it. For details about how to build custom Gym environments for working with RLlib, see [\"Anatomy of a custom environment for RLlib\"](https://medium.com/distributed-computing-with-ray/anatomy-of-a-custom-environment-for-rllib-327157f269e5) and its accompanying source code in the <https://github.com/DerwenAI/gym_example> Git repo. Some details are also covered in the _Explore RLlib_ lesson, [Custom Environments and Reward Shaping](../explore-rllib/03-Custom-Environments-Reward-Shaping.ipynb)"
   ]
  },
  {
   "cell_type": "markdown",
   "metadata": {},
   "source": [
    "First, we'll define a few globals… `MAX_STEPS` is the length of an episode, based on how many jokes can be recommended before repeating. Reward values are either the user's rating for the recommended item, or minor penalties for recommending either a \"depleted\" cluster or an item which the user never rated."
   ]
  },
  {
   "cell_type": "code",
   "execution_count": 11,
   "metadata": {},
   "outputs": [],
   "source": [
    "ROW_LENGTH = 100\n",
    "MAX_STEPS = ROW_LENGTH - len(DENSE_SUBMATRIX)\n",
    "\n",
    "REWARD_DEPLETED = -0.1\t# item recommended from a depleted cluster (no-op)\n",
    "REWARD_UNRATED = -0.05\t# item was never rated by this user"
   ]
  },
  {
   "cell_type": "markdown",
   "metadata": {},
   "source": [
    "Now for the Gym environment. This is one class and should be defined within one cell – albeit this is a long cell to scroll through…"
   ]
  },
  {
   "cell_type": "code",
   "execution_count": 12,
   "metadata": {},
   "outputs": [],
   "source": [
    "import gym\n",
    "from gym import spaces\n",
    "import random\n",
    "\n",
    "class JokeRec (gym.Env):\n",
    "    def __init__ (self, config):\n",
    "        # NB: here we're passing strings via config; RLlib use of JSON\n",
    "        # parser was throwing exceptions due to config values\n",
    "        self.dense = eval(config[\"dense\"])\n",
    "        self.centers = eval(config[\"centers\"])\n",
    "        self.clusters = eval(config[\"clusters\"])\n",
    "\n",
    "        lo = np.array([np.float64(-1.0)] * K_CLUSTERS)\n",
    "        hi = np.array([np.float64(1.0)] * K_CLUSTERS)\n",
    "\n",
    "        self.observation_space = spaces.Box(lo, hi, shape=(K_CLUSTERS,), dtype=np.float64)\n",
    "        self.action_space = spaces.Discrete(K_CLUSTERS)\n",
    "\n",
    "        # load the dataset\n",
    "        self.dataset = load_data(config[\"dataset\"])\n",
    "\n",
    "\n",
    "    def _warm_start (self):\n",
    "        \"\"\"\n",
    "        attempt a warm start, sampling half the dense submatrix of most-rated items\n",
    "        \"\"\"\n",
    "        sample_size = round(len(self.dense) / 2.0)\n",
    "\n",
    "        for action, items in self.clusters.items():\n",
    "            for item in random.sample(self.dense, sample_size):\n",
    "                if item in items:\n",
    "                    state, reward, done, info = self.step(action)\n",
    "\n",
    "\n",
    "    def _get_state (self):\n",
    "        \"\"\"\n",
    "        calculate root-mean-square (i.e., normalized vector distance) for the agent's current \n",
    "        \"distance\" measure from each cluster center as the observation\n",
    "        \"\"\"\n",
    "        n = float(len(self.used))\n",
    "\n",
    "        if n > 0.0:\n",
    "            state = [ np.sqrt(x / n) for x in self.coords ]\n",
    "        else:\n",
    "            state = self.coords\n",
    "\n",
    "        return state\n",
    "\n",
    "\n",
    "    def reset (self):\n",
    "        \"\"\"\n",
    "        reset the item recommendation history, select a new user to simulate from among the \n",
    "        dataset rows, then run an initial 'warm-start' sequence of steps before handing step\n",
    "        control back to the agent\n",
    "        \"\"\"\n",
    "        self.count = 0\n",
    "        self.used = []\n",
    "        self.depleted = 0\n",
    "        self.coords = [np.float64(0.0)] * K_CLUSTERS\n",
    "\n",
    "        # select a random user to simulate\n",
    "        self.data_row = random.choice(self.dataset)\n",
    "\n",
    "        # attempt a warm start\n",
    "        self._warm_start()\n",
    "\n",
    "        return self._get_state()\n",
    "\n",
    "\n",
    "    def step (self, action):\n",
    "        \"\"\"\n",
    "        recommend one item, which may result in a no-op -- \n",
    "        in production, skip any repeated items per user\n",
    "        \"\"\"\n",
    "        assert action in self.action_space, action\n",
    "        assert_info = \"c[item] {}, rating {}, scaled_diff {}\"\n",
    "\n",
    "        # enumerate items from the cluster selected by the action that haven't been recommended\n",
    "        # previously to the simulated user\n",
    "        items = set(self.clusters[action]).difference(set(self.used))\n",
    "\n",
    "        if len(items) < 1:\n",
    "            # oops! items from the selected cluster have been depleted, i.e. all have been \n",
    "            # recommended previously to the simulated user; hopefully the agent will learn\n",
    "            # to switch to exploring among the other clusters\n",
    "            self.depleted += 1\n",
    "            item = None\n",
    "            reward = REWARD_DEPLETED\n",
    "        else:\n",
    "            # chose an item at random from the selected cluster\n",
    "            item = random.choice(list(items))\n",
    "            rating = self.data_row[item]\n",
    "\n",
    "            if not rating:\n",
    "                # no-op! this action resulted in an unrated item\n",
    "                reward = REWARD_UNRATED\n",
    "\n",
    "            else:\n",
    "                # success! this action resulted in an item rated by the simulated user\n",
    "                reward = rating\n",
    "                self.used.append(item)\n",
    "\n",
    "                # update the coords history: agent observes its distance to each cluster \"evolve\"\n",
    "                for i in range(len(self.coords)):\n",
    "                    c = self.centers[i]\n",
    "                    scaled_diff = abs(c[item] - rating) / 2.0\n",
    "                    self.coords[i] += scaled_diff ** 2.0\n",
    "\n",
    "        self.count += 1\n",
    "        done = self.count >= MAX_STEPS\n",
    "        info = { \"item\": item, \"count\": self.count, \"depleted\": self.depleted }\n",
    "\n",
    "        return self._get_state(), reward, done, info\n",
    "\n",
    "\n",
    "    def render (self, mode=\"human\"):\n",
    "        last_used = self.used[-10:]\n",
    "        last_used.reverse()\n",
    "        print(\">> used:\", last_used)\n",
    "        print(\">> dist:\", [round(x, 2) for x in self._get_state()])\n",
    "        print(\">> depl:\", self.depleted)"
   ]
  },
  {
   "cell_type": "markdown",
   "metadata": {},
   "source": [
    "The `JokeRec.step()` method contains the heart of the simulation logic here. It determines the item to be recommend based on the input `action`, then determines the `reward` and the agent's updated vector distance to the cluster centers as the `observation space`.\n",
    "\n",
    "Overall, this approach is relatively well-behaved and bounded for its memory use as the number of items grows. We're keeping most of the data in memory, but could readily use a distributed key/value store for selecting items, maintaining user history, etc."
   ]
  },
  {
   "cell_type": "markdown",
   "metadata": {},
   "source": [
    "## Configuration\n",
    "\n",
    "Now we'll use the results of K-means clustering on the data sample to prepare a configuration for our custom environment.\n",
    "\n",
    "We'll use [*proximal policy optimization*](https://docs.ray.io/en/latest/rllib-algorithms.html?highlight=ppo#proximal-policy-optimization-ppo) (PPO) for training a policy in RLlib, taking the default PPO configuration as the foundation here."
   ]
  },
  {
   "cell_type": "code",
   "execution_count": 13,
   "metadata": {},
   "outputs": [
    {
     "name": "stdout",
     "output_type": "stream",
     "text": [
      "WARNING:tensorflow:From /opt/anaconda3/lib/python3.7/site-packages/tensorflow/python/compat/v2_compat.py:96: disable_resource_variables (from tensorflow.python.ops.variable_scope) is deprecated and will be removed in a future version.\n",
      "Instructions for updating:\n",
      "non-resource variables are not supported in the long term\n"
     ]
    }
   ],
   "source": [
    "import ray\n",
    "import ray.rllib.agents.ppo as ppo\n",
    "\n",
    "CONFIG = ppo.DEFAULT_CONFIG.copy()\n",
    "\n",
    "CONFIG[\"log_level\"] = \"WARN\"\n",
    "CONFIG[\"num_workers\"] = 3    # set to `0` for debug\n",
    "\n",
    "CONFIG[\"env_config\"] = {\n",
    "    \"dataset\": DATA_PATH,\n",
    "    \"dense\": str(DENSE_SUBMATRIX),\n",
    "    \"clusters\": repr(CLUSTERS),\n",
    "    \"centers\": repr(CENTERS),\n",
    "}"
   ]
  },
  {
   "cell_type": "markdown",
   "metadata": {},
   "source": [
    "Now let's create an instance of our custom Gym environment and call the `reset()` method, which will initialize an episode (simulating one user's ratings), run a \"warm start\", then return the initial observation:"
   ]
  },
  {
   "cell_type": "code",
   "execution_count": 14,
   "metadata": {},
   "outputs": [
    {
     "data": {
      "text/plain": [
       "[0.24976395106179755,\n",
       " 0.17752687188546482,\n",
       " 0.152640559177836,\n",
       " 0.24812044676740608,\n",
       " 0.08405590681473327,\n",
       " 0.13601133535157003,\n",
       " 0.276227186900085]"
      ]
     },
     "execution_count": 14,
     "metadata": {},
     "output_type": "execute_result"
    }
   ],
   "source": [
    "env = JokeRec(CONFIG[\"env_config\"])\n",
    "env.reset()"
   ]
  },
  {
   "cell_type": "markdown",
   "metadata": {},
   "source": [
    "We can randomly select an action, i.e., the label of an item cluster to recommend:"
   ]
  },
  {
   "cell_type": "code",
   "execution_count": 15,
   "metadata": {},
   "outputs": [
    {
     "name": "stdout",
     "output_type": "stream",
     "text": [
      "action: 4\n"
     ]
    }
   ],
   "source": [
    "action = env.action_space.sample()\n",
    "print(\"action:\", action)"
   ]
  },
  {
   "cell_type": "markdown",
   "metadata": {},
   "source": [
    "Let's use that action to take one step:"
   ]
  },
  {
   "cell_type": "code",
   "execution_count": 16,
   "metadata": {},
   "outputs": [
    {
     "name": "stdout",
     "output_type": "stream",
     "text": [
      "obs: [0.2671883932733606, 0.21148190542541684, 0.15601877830464342, 0.24624509760849367, 0.0766893425793088, 0.13787203888312116, 0.28282617119445846]\n",
      "reward: 0.602\n"
     ]
    }
   ],
   "source": [
    "state, reward, done, info = env.step(action)\n",
    "print(\"obs:\", state)\n",
    "print(\"reward:\", reward)"
   ]
  },
  {
   "cell_type": "markdown",
   "metadata": {},
   "source": [
    "We can call the `render()` method to describe more about the agent's state within its environment:"
   ]
  },
  {
   "cell_type": "code",
   "execution_count": 17,
   "metadata": {},
   "outputs": [
    {
     "name": "stdout",
     "output_type": "stream",
     "text": [
      ">> used: [41, 19, 15, 43, 36]\n",
      ">> dist: [0.27, 0.21, 0.16, 0.25, 0.08, 0.14, 0.28]\n",
      ">> depl: 0\n"
     ]
    }
   ],
   "source": [
    "env.render()"
   ]
  },
  {
   "cell_type": "markdown",
   "metadata": {},
   "source": [
    "Notice how there are already some other \"used\" items, due to the warm start.\n",
    "\n",
    "Next, we'll define a function that runs through one entire episode:"
   ]
  },
  {
   "cell_type": "code",
   "execution_count": 18,
   "metadata": {},
   "outputs": [],
   "source": [
    "def run_one_episode (env, naive=False, verbose=False):\n",
    "    \"\"\"\n",
    "    step through one episode, using either a naive strategy or random actions\n",
    "    \"\"\"\n",
    "    env.reset()\n",
    "    sum_reward = 0\n",
    "\n",
    "    action = None\n",
    "    avoid_actions = set([])\n",
    "    depleted = 0\n",
    "\n",
    "    for i in range(MAX_STEPS):\n",
    "        if not naive or not action:\n",
    "            action = env.action_space.sample()\n",
    "\n",
    "        state, reward, done, info = env.step(action)\n",
    "\n",
    "        if verbose:\n",
    "            print(\"action:\", action)\n",
    "            print(\"obs:\", i, state, reward, done, info)\n",
    "\n",
    "        # naive strategy: select items from the nearest non-depleted cluster\n",
    "        if naive:\n",
    "            if info[\"depleted\"] > depleted:\n",
    "                depleted = info[\"depleted\"]\n",
    "                avoid_actions.add(action)\n",
    "\n",
    "            obs = []\n",
    "\n",
    "            for a in range(len(state)):\n",
    "                if a not in avoid_actions:\n",
    "                    dist = round(state[a], 2)\n",
    "                    obs.append([dist, a])\n",
    "\n",
    "            action = min(obs)[1]\n",
    "\n",
    "        sum_reward += reward\n",
    "\n",
    "        if done:\n",
    "            if verbose:\n",
    "                print(\"DONE @ step {}\".format(i))\n",
    "\n",
    "            break\n",
    "\n",
    "    if verbose:\n",
    "        print(\"CUMULATIVE REWARD: \", round(sum_reward, 3))\n",
    "\n",
    "    return sum_reward"
   ]
  },
  {
   "cell_type": "markdown",
   "metadata": {},
   "source": [
    "Next, another function which uses `run_one_episode()` to measure the baseline performance of a \"naïve\" strategy, i.e., without use of reinforcement learning to train a policy:"
   ]
  },
  {
   "cell_type": "code",
   "execution_count": 19,
   "metadata": {},
   "outputs": [],
   "source": [
    "from tqdm import tqdm\n",
    "\n",
    "def measure_baseline (env, n_iter=1, naive=False, verbose=False):\n",
    "    history = []\n",
    "\n",
    "    for episode in tqdm(range(n_iter), ascii=True, desc=\"measure baseline\"):\n",
    "        sum_reward = run_one_episode(env, naive=naive, verbose=verbose)\n",
    "        history.append(sum_reward)\n",
    "\n",
    "    baseline = sum(history) / len(history)\n",
    "    return baseline"
   ]
  },
  {
   "cell_type": "markdown",
   "metadata": {},
   "source": [
    "Now let's use this to measure how well our recommender system runs without leveraging RLlib:"
   ]
  },
  {
   "cell_type": "code",
   "execution_count": 20,
   "metadata": {},
   "outputs": [
    {
     "name": "stderr",
     "output_type": "stream",
     "text": [
      "measure baseline: 100%|##########| 1000/1000 [00:04<00:00, 212.41it/s]"
     ]
    },
    {
     "name": "stdout",
     "output_type": "stream",
     "text": [
      "BASELINE CUMULATIVE REWARD 0.492\n"
     ]
    },
    {
     "name": "stderr",
     "output_type": "stream",
     "text": [
      "\n"
     ]
    }
   ],
   "source": [
    "baseline = measure_baseline(env, n_iter=1000, naive=True)\n",
    "print(\"BASELINE CUMULATIVE REWARD\", round(baseline, 3))"
   ]
  },
  {
   "cell_type": "markdown",
   "metadata": {},
   "source": [
    "## Running Ray and RLlib\n",
    "\n",
    "At this point we're ready to train a policy with RLlib. First we'll initialize the directory in which to save *checkpoints*, and the directory in which to log results…"
   ]
  },
  {
   "cell_type": "code",
   "execution_count": 21,
   "metadata": {},
   "outputs": [],
   "source": [
    "import os\n",
    "import shutil\n",
    "\n",
    "CHECKPOINT_ROOT = \"tmp/rec\"\n",
    "shutil.rmtree(CHECKPOINT_ROOT, ignore_errors=True, onerror=None)\n",
    "\n",
    "ray_results = \"{}/ray_results/\".format(os.getenv(\"HOME\"))\n",
    "shutil.rmtree(ray_results, ignore_errors=True, onerror=None)"
   ]
  },
  {
   "cell_type": "markdown",
   "metadata": {},
   "source": [
    "Now start Ray, register our custom environment, and create an agent. BTW, if you see lots of \"deprecation\" warnings from [Tensorflow](https://www.tensorflow.org/) just ignore those…"
   ]
  },
  {
   "cell_type": "code",
   "execution_count": 22,
   "metadata": {},
   "outputs": [
    {
     "name": "stderr",
     "output_type": "stream",
     "text": [
      "File descriptor limit 256 is too low for production servers and may result in connection errors. At least 8192 is recommended. --- Fix with 'ulimit -n 8192'\n",
      "2021-05-19 17:04:25,838\tINFO services.py:1174 -- View the Ray dashboard at \u001b[1m\u001b[32mhttp://127.0.0.1:8267\u001b[39m\u001b[22m\n"
     ]
    }
   ],
   "source": [
    "info = ray.init(ignore_reinit_error=True)"
   ]
  },
  {
   "cell_type": "markdown",
   "metadata": {},
   "source": [
    "Register our environment so we can reference it by name. Then create a `PPOTrainer`."
   ]
  },
  {
   "cell_type": "code",
   "execution_count": 23,
   "metadata": {
    "scrolled": true
   },
   "outputs": [
    {
     "name": "stderr",
     "output_type": "stream",
     "text": [
      "2021-05-19 17:04:29,842\tINFO trainer.py:616 -- Tip: set framework=tfe or the --eager flag to enable TensorFlow eager execution\n",
      "2021-05-19 17:04:29,844\tINFO trainer.py:643 -- Current log_level is WARN. For more information, set 'log_level': 'INFO' / 'DEBUG' or use the -v and -vv flags.\n",
      "\u001b[2m\u001b[36m(pid=71683)\u001b[0m WARNING:tensorflow:From /opt/anaconda3/lib/python3.7/site-packages/tensorflow/python/compat/v2_compat.py:96: disable_resource_variables (from tensorflow.python.ops.variable_scope) is deprecated and will be removed in a future version.\n",
      "\u001b[2m\u001b[36m(pid=71683)\u001b[0m Instructions for updating:\n",
      "\u001b[2m\u001b[36m(pid=71683)\u001b[0m non-resource variables are not supported in the long term\n",
      "\u001b[2m\u001b[36m(pid=71684)\u001b[0m WARNING:tensorflow:From /opt/anaconda3/lib/python3.7/site-packages/tensorflow/python/compat/v2_compat.py:96: disable_resource_variables (from tensorflow.python.ops.variable_scope) is deprecated and will be removed in a future version.\n",
      "\u001b[2m\u001b[36m(pid=71684)\u001b[0m Instructions for updating:\n",
      "\u001b[2m\u001b[36m(pid=71684)\u001b[0m non-resource variables are not supported in the long term\n",
      "\u001b[2m\u001b[36m(pid=71686)\u001b[0m WARNING:tensorflow:From /opt/anaconda3/lib/python3.7/site-packages/tensorflow/python/compat/v2_compat.py:96: disable_resource_variables (from tensorflow.python.ops.variable_scope) is deprecated and will be removed in a future version.\n",
      "\u001b[2m\u001b[36m(pid=71686)\u001b[0m Instructions for updating:\n",
      "\u001b[2m\u001b[36m(pid=71686)\u001b[0m non-resource variables are not supported in the long term\n",
      "2021-05-19 17:04:34,099\tWARNING worker.py:1107 -- Failed to unpickle actor class 'RolloutWorker' for actor ID a67dc375e60ddd1a23bd3bb901000000. Traceback:\n",
      "Traceback (most recent call last):\n",
      "  File \"/opt/anaconda3/lib/python3.7/site-packages/ray/function_manager.py\", line 496, in _load_actor_class_from_gcs\n",
      "    actor_class = pickle.loads(pickled_class)\n",
      "  File \"/opt/anaconda3/lib/python3.7/site-packages/ray/rllib/__init__.py\", line 5, in <module>\n",
      "    from ray.rllib.env.base_env import BaseEnv\n",
      "  File \"/opt/anaconda3/lib/python3.7/site-packages/ray/rllib/env/__init__.py\", line 1, in <module>\n",
      "    from ray.rllib.env.base_env import BaseEnv\n",
      "  File \"/opt/anaconda3/lib/python3.7/site-packages/ray/rllib/env/base_env.py\", line 3, in <module>\n",
      "    from ray.rllib.env.external_env import ExternalEnv\n",
      "  File \"/opt/anaconda3/lib/python3.7/site-packages/ray/rllib/env/external_env.py\", line 7, in <module>\n",
      "    from ray.rllib.utils.annotations import PublicAPI\n",
      "  File \"/opt/anaconda3/lib/python3.7/site-packages/ray/rllib/utils/__init__.py\", line 10, in <module>\n",
      "    from ray.rllib.utils.numpy import sigmoid, softmax, relu, one_hot, fc, lstm, \\\n",
      "  File \"/opt/anaconda3/lib/python3.7/site-packages/ray/rllib/utils/numpy.py\", line 8, in <module>\n",
      "    torch, _ = try_import_torch()\n",
      "  File \"/opt/anaconda3/lib/python3.7/site-packages/ray/rllib/utils/framework.py\", line 178, in try_import_torch\n",
      "    import torch\n",
      "  File \"/opt/anaconda3/lib/python3.7/site-packages/torch/__init__.py\", line 635, in <module>\n",
      "    import torch.utils.data\n",
      "  File \"/opt/anaconda3/lib/python3.7/site-packages/torch/utils/data/__init__.py\", line 6, in <module>\n",
      "    from .dataloader import DataLoader, _DatasetKind, get_worker_info\n",
      "  File \"/opt/anaconda3/lib/python3.7/site-packages/torch/utils/data/dataloader.py\", line 21, in <module>\n",
      "    from . import _utils\n",
      "  File \"/opt/anaconda3/lib/python3.7/site-packages/torch/utils/data/_utils/__init__.py\", line 45, in <module>\n",
      "    from . import worker, signal_handling, pin_memory, collate, fetch\n",
      "  File \"/opt/anaconda3/lib/python3.7/site-packages/torch/utils/data/_utils/worker.py\", line 114, in <module>\n",
      "    class _IterableDatasetStopIteration(object):\n",
      "  File \"/opt/anaconda3/lib/python3.7/site-packages/dataclasses.py\", line 950, in wrap\n",
      "    return _process_class(cls, init, repr, eq, order, unsafe_hash, frozen)\n",
      "  File \"/opt/anaconda3/lib/python3.7/site-packages/dataclasses.py\", line 801, in _process_class\n",
      "    for name, type in cls_annotations.items()]\n",
      "  File \"/opt/anaconda3/lib/python3.7/site-packages/dataclasses.py\", line 801, in <listcomp>\n",
      "    for name, type in cls_annotations.items()]\n",
      "  File \"/opt/anaconda3/lib/python3.7/site-packages/dataclasses.py\", line 659, in _get_field\n",
      "    if (_is_classvar(a_type, typing)\n",
      "  File \"/opt/anaconda3/lib/python3.7/site-packages/dataclasses.py\", line 550, in _is_classvar\n",
      "    return type(a_type) is typing._ClassVar\n",
      "AttributeError: module 'typing' has no attribute '_ClassVar'\n",
      "\n",
      "2021-05-19 17:04:34,101\tWARNING worker.py:1107 -- Failed to unpickle actor class 'RolloutWorker' for actor ID 69a6825d641b461327313d1c01000000. Traceback:\n",
      "Traceback (most recent call last):\n",
      "  File \"/opt/anaconda3/lib/python3.7/site-packages/ray/function_manager.py\", line 496, in _load_actor_class_from_gcs\n",
      "    actor_class = pickle.loads(pickled_class)\n",
      "  File \"/opt/anaconda3/lib/python3.7/site-packages/ray/rllib/__init__.py\", line 5, in <module>\n",
      "    from ray.rllib.env.base_env import BaseEnv\n",
      "  File \"/opt/anaconda3/lib/python3.7/site-packages/ray/rllib/env/__init__.py\", line 1, in <module>\n",
      "    from ray.rllib.env.base_env import BaseEnv\n",
      "  File \"/opt/anaconda3/lib/python3.7/site-packages/ray/rllib/env/base_env.py\", line 3, in <module>\n",
      "    from ray.rllib.env.external_env import ExternalEnv\n",
      "  File \"/opt/anaconda3/lib/python3.7/site-packages/ray/rllib/env/external_env.py\", line 7, in <module>\n",
      "    from ray.rllib.utils.annotations import PublicAPI\n",
      "  File \"/opt/anaconda3/lib/python3.7/site-packages/ray/rllib/utils/__init__.py\", line 10, in <module>\n",
      "    from ray.rllib.utils.numpy import sigmoid, softmax, relu, one_hot, fc, lstm, \\\n",
      "  File \"/opt/anaconda3/lib/python3.7/site-packages/ray/rllib/utils/numpy.py\", line 8, in <module>\n",
      "    torch, _ = try_import_torch()\n",
      "  File \"/opt/anaconda3/lib/python3.7/site-packages/ray/rllib/utils/framework.py\", line 178, in try_import_torch\n",
      "    import torch\n",
      "  File \"/opt/anaconda3/lib/python3.7/site-packages/torch/__init__.py\", line 635, in <module>\n",
      "    import torch.utils.data\n",
      "  File \"/opt/anaconda3/lib/python3.7/site-packages/torch/utils/data/__init__.py\", line 6, in <module>\n",
      "    from .dataloader import DataLoader, _DatasetKind, get_worker_info\n",
      "  File \"/opt/anaconda3/lib/python3.7/site-packages/torch/utils/data/dataloader.py\", line 21, in <module>\n",
      "    from . import _utils\n",
      "  File \"/opt/anaconda3/lib/python3.7/site-packages/torch/utils/data/_utils/__init__.py\", line 45, in <module>\n",
      "    from . import worker, signal_handling, pin_memory, collate, fetch\n",
      "  File \"/opt/anaconda3/lib/python3.7/site-packages/torch/utils/data/_utils/worker.py\", line 114, in <module>\n",
      "    class _IterableDatasetStopIteration(object):\n",
      "  File \"/opt/anaconda3/lib/python3.7/site-packages/dataclasses.py\", line 950, in wrap\n",
      "    return _process_class(cls, init, repr, eq, order, unsafe_hash, frozen)\n",
      "  File \"/opt/anaconda3/lib/python3.7/site-packages/dataclasses.py\", line 801, in _process_class\n",
      "    for name, type in cls_annotations.items()]\n",
      "  File \"/opt/anaconda3/lib/python3.7/site-packages/dataclasses.py\", line 801, in <listcomp>\n",
      "    for name, type in cls_annotations.items()]\n",
      "  File \"/opt/anaconda3/lib/python3.7/site-packages/dataclasses.py\", line 659, in _get_field\n",
      "    if (_is_classvar(a_type, typing)\n",
      "  File \"/opt/anaconda3/lib/python3.7/site-packages/dataclasses.py\", line 550, in _is_classvar\n",
      "    return type(a_type) is typing._ClassVar\n",
      "AttributeError: module 'typing' has no attribute '_ClassVar'\n",
      "\n",
      "2021-05-19 17:04:34,102\tWARNING worker.py:1107 -- Failed to unpickle actor class 'RolloutWorker' for actor ID 63964fa4841d4a2ecb45751801000000. Traceback:\n",
      "Traceback (most recent call last):\n",
      "  File \"/opt/anaconda3/lib/python3.7/site-packages/ray/function_manager.py\", line 496, in _load_actor_class_from_gcs\n",
      "    actor_class = pickle.loads(pickled_class)\n",
      "  File \"/opt/anaconda3/lib/python3.7/site-packages/ray/rllib/__init__.py\", line 5, in <module>\n",
      "    from ray.rllib.env.base_env import BaseEnv\n",
      "  File \"/opt/anaconda3/lib/python3.7/site-packages/ray/rllib/env/__init__.py\", line 1, in <module>\n",
      "    from ray.rllib.env.base_env import BaseEnv\n",
      "  File \"/opt/anaconda3/lib/python3.7/site-packages/ray/rllib/env/base_env.py\", line 3, in <module>\n",
      "    from ray.rllib.env.external_env import ExternalEnv\n",
      "  File \"/opt/anaconda3/lib/python3.7/site-packages/ray/rllib/env/external_env.py\", line 7, in <module>\n",
      "    from ray.rllib.utils.annotations import PublicAPI\n",
      "  File \"/opt/anaconda3/lib/python3.7/site-packages/ray/rllib/utils/__init__.py\", line 10, in <module>\n",
      "    from ray.rllib.utils.numpy import sigmoid, softmax, relu, one_hot, fc, lstm, \\\n",
      "  File \"/opt/anaconda3/lib/python3.7/site-packages/ray/rllib/utils/numpy.py\", line 8, in <module>\n",
      "    torch, _ = try_import_torch()\n",
      "  File \"/opt/anaconda3/lib/python3.7/site-packages/ray/rllib/utils/framework.py\", line 178, in try_import_torch\n",
      "    import torch\n",
      "  File \"/opt/anaconda3/lib/python3.7/site-packages/torch/__init__.py\", line 635, in <module>\n",
      "    import torch.utils.data\n",
      "  File \"/opt/anaconda3/lib/python3.7/site-packages/torch/utils/data/__init__.py\", line 6, in <module>\n",
      "    from .dataloader import DataLoader, _DatasetKind, get_worker_info\n",
      "  File \"/opt/anaconda3/lib/python3.7/site-packages/torch/utils/data/dataloader.py\", line 21, in <module>\n",
      "    from . import _utils\n",
      "  File \"/opt/anaconda3/lib/python3.7/site-packages/torch/utils/data/_utils/__init__.py\", line 45, in <module>\n",
      "    from . import worker, signal_handling, pin_memory, collate, fetch\n",
      "  File \"/opt/anaconda3/lib/python3.7/site-packages/torch/utils/data/_utils/worker.py\", line 114, in <module>\n",
      "    class _IterableDatasetStopIteration(object):\n",
      "  File \"/opt/anaconda3/lib/python3.7/site-packages/dataclasses.py\", line 950, in wrap\n",
      "    return _process_class(cls, init, repr, eq, order, unsafe_hash, frozen)\n",
      "  File \"/opt/anaconda3/lib/python3.7/site-packages/dataclasses.py\", line 801, in _process_class\n",
      "    for name, type in cls_annotations.items()]\n",
      "  File \"/opt/anaconda3/lib/python3.7/site-packages/dataclasses.py\", line 801, in <listcomp>\n",
      "    for name, type in cls_annotations.items()]\n",
      "  File \"/opt/anaconda3/lib/python3.7/site-packages/dataclasses.py\", line 659, in _get_field\n",
      "    if (_is_classvar(a_type, typing)\n",
      "  File \"/opt/anaconda3/lib/python3.7/site-packages/dataclasses.py\", line 550, in _is_classvar\n",
      "    return type(a_type) is typing._ClassVar\n",
      "AttributeError: module 'typing' has no attribute '_ClassVar'\n",
      "\n",
      "\u001b[2m\u001b[36m(pid=71683)\u001b[0m 2021-05-19 17:04:34,089\tERROR function_manager.py:498 -- Failed to load actor class RolloutWorker.\n",
      "\u001b[2m\u001b[36m(pid=71683)\u001b[0m Traceback (most recent call last):\n",
      "\u001b[2m\u001b[36m(pid=71683)\u001b[0m   File \"/opt/anaconda3/lib/python3.7/site-packages/ray/function_manager.py\", line 496, in _load_actor_class_from_gcs\n",
      "\u001b[2m\u001b[36m(pid=71683)\u001b[0m     actor_class = pickle.loads(pickled_class)\n",
      "\u001b[2m\u001b[36m(pid=71683)\u001b[0m   File \"/opt/anaconda3/lib/python3.7/site-packages/ray/rllib/__init__.py\", line 5, in <module>\n",
      "\u001b[2m\u001b[36m(pid=71683)\u001b[0m     from ray.rllib.env.base_env import BaseEnv\n",
      "\u001b[2m\u001b[36m(pid=71683)\u001b[0m   File \"/opt/anaconda3/lib/python3.7/site-packages/ray/rllib/env/__init__.py\", line 1, in <module>\n",
      "\u001b[2m\u001b[36m(pid=71683)\u001b[0m     from ray.rllib.env.base_env import BaseEnv\n",
      "\u001b[2m\u001b[36m(pid=71683)\u001b[0m   File \"/opt/anaconda3/lib/python3.7/site-packages/ray/rllib/env/base_env.py\", line 3, in <module>\n",
      "\u001b[2m\u001b[36m(pid=71683)\u001b[0m     from ray.rllib.env.external_env import ExternalEnv\n",
      "\u001b[2m\u001b[36m(pid=71683)\u001b[0m   File \"/opt/anaconda3/lib/python3.7/site-packages/ray/rllib/env/external_env.py\", line 7, in <module>\n",
      "\u001b[2m\u001b[36m(pid=71683)\u001b[0m     from ray.rllib.utils.annotations import PublicAPI\n",
      "\u001b[2m\u001b[36m(pid=71683)\u001b[0m   File \"/opt/anaconda3/lib/python3.7/site-packages/ray/rllib/utils/__init__.py\", line 10, in <module>\n",
      "\u001b[2m\u001b[36m(pid=71683)\u001b[0m     from ray.rllib.utils.numpy import sigmoid, softmax, relu, one_hot, fc, lstm, \\\n",
      "\u001b[2m\u001b[36m(pid=71683)\u001b[0m   File \"/opt/anaconda3/lib/python3.7/site-packages/ray/rllib/utils/numpy.py\", line 8, in <module>\n",
      "\u001b[2m\u001b[36m(pid=71683)\u001b[0m     torch, _ = try_import_torch()\n",
      "\u001b[2m\u001b[36m(pid=71683)\u001b[0m   File \"/opt/anaconda3/lib/python3.7/site-packages/ray/rllib/utils/framework.py\", line 178, in try_import_torch\n",
      "\u001b[2m\u001b[36m(pid=71683)\u001b[0m     import torch\n",
      "\u001b[2m\u001b[36m(pid=71683)\u001b[0m   File \"/opt/anaconda3/lib/python3.7/site-packages/torch/__init__.py\", line 635, in <module>\n",
      "\u001b[2m\u001b[36m(pid=71683)\u001b[0m     import torch.utils.data\n",
      "\u001b[2m\u001b[36m(pid=71683)\u001b[0m   File \"/opt/anaconda3/lib/python3.7/site-packages/torch/utils/data/__init__.py\", line 6, in <module>\n",
      "\u001b[2m\u001b[36m(pid=71683)\u001b[0m     from .dataloader import DataLoader, _DatasetKind, get_worker_info\n",
      "\u001b[2m\u001b[36m(pid=71683)\u001b[0m   File \"/opt/anaconda3/lib/python3.7/site-packages/torch/utils/data/dataloader.py\", line 21, in <module>\n",
      "\u001b[2m\u001b[36m(pid=71683)\u001b[0m     from . import _utils\n",
      "\u001b[2m\u001b[36m(pid=71683)\u001b[0m   File \"/opt/anaconda3/lib/python3.7/site-packages/torch/utils/data/_utils/__init__.py\", line 45, in <module>\n",
      "\u001b[2m\u001b[36m(pid=71683)\u001b[0m     from . import worker, signal_handling, pin_memory, collate, fetch\n",
      "\u001b[2m\u001b[36m(pid=71683)\u001b[0m   File \"/opt/anaconda3/lib/python3.7/site-packages/torch/utils/data/_utils/worker.py\", line 114, in <module>\n",
      "\u001b[2m\u001b[36m(pid=71683)\u001b[0m     class _IterableDatasetStopIteration(object):\n",
      "\u001b[2m\u001b[36m(pid=71683)\u001b[0m   File \"/opt/anaconda3/lib/python3.7/site-packages/dataclasses.py\", line 950, in wrap\n",
      "\u001b[2m\u001b[36m(pid=71683)\u001b[0m     return _process_class(cls, init, repr, eq, order, unsafe_hash, frozen)\n",
      "\u001b[2m\u001b[36m(pid=71683)\u001b[0m   File \"/opt/anaconda3/lib/python3.7/site-packages/dataclasses.py\", line 801, in _process_class\n",
      "\u001b[2m\u001b[36m(pid=71683)\u001b[0m     for name, type in cls_annotations.items()]\n",
      "\u001b[2m\u001b[36m(pid=71683)\u001b[0m   File \"/opt/anaconda3/lib/python3.7/site-packages/dataclasses.py\", line 801, in <listcomp>\n",
      "\u001b[2m\u001b[36m(pid=71683)\u001b[0m     for name, type in cls_annotations.items()]\n",
      "\u001b[2m\u001b[36m(pid=71683)\u001b[0m   File \"/opt/anaconda3/lib/python3.7/site-packages/dataclasses.py\", line 659, in _get_field\n",
      "\u001b[2m\u001b[36m(pid=71683)\u001b[0m     if (_is_classvar(a_type, typing)\n",
      "\u001b[2m\u001b[36m(pid=71683)\u001b[0m   File \"/opt/anaconda3/lib/python3.7/site-packages/dataclasses.py\", line 550, in _is_classvar\n",
      "\u001b[2m\u001b[36m(pid=71683)\u001b[0m     return type(a_type) is typing._ClassVar\n",
      "\u001b[2m\u001b[36m(pid=71683)\u001b[0m AttributeError: module 'typing' has no attribute '_ClassVar'\n",
      "\u001b[2m\u001b[36m(pid=71684)\u001b[0m 2021-05-19 17:04:34,089\tERROR function_manager.py:498 -- Failed to load actor class RolloutWorker.\n",
      "\u001b[2m\u001b[36m(pid=71684)\u001b[0m Traceback (most recent call last):\n",
      "\u001b[2m\u001b[36m(pid=71684)\u001b[0m   File \"/opt/anaconda3/lib/python3.7/site-packages/ray/function_manager.py\", line 496, in _load_actor_class_from_gcs\n",
      "\u001b[2m\u001b[36m(pid=71684)\u001b[0m     actor_class = pickle.loads(pickled_class)\n",
      "\u001b[2m\u001b[36m(pid=71684)\u001b[0m   File \"/opt/anaconda3/lib/python3.7/site-packages/ray/rllib/__init__.py\", line 5, in <module>\n",
      "\u001b[2m\u001b[36m(pid=71684)\u001b[0m     from ray.rllib.env.base_env import BaseEnv\n",
      "\u001b[2m\u001b[36m(pid=71684)\u001b[0m   File \"/opt/anaconda3/lib/python3.7/site-packages/ray/rllib/env/__init__.py\", line 1, in <module>\n",
      "\u001b[2m\u001b[36m(pid=71684)\u001b[0m     from ray.rllib.env.base_env import BaseEnv\n",
      "\u001b[2m\u001b[36m(pid=71684)\u001b[0m   File \"/opt/anaconda3/lib/python3.7/site-packages/ray/rllib/env/base_env.py\", line 3, in <module>\n",
      "\u001b[2m\u001b[36m(pid=71684)\u001b[0m     from ray.rllib.env.external_env import ExternalEnv\n",
      "\u001b[2m\u001b[36m(pid=71684)\u001b[0m   File \"/opt/anaconda3/lib/python3.7/site-packages/ray/rllib/env/external_env.py\", line 7, in <module>\n",
      "\u001b[2m\u001b[36m(pid=71684)\u001b[0m     from ray.rllib.utils.annotations import PublicAPI\n",
      "\u001b[2m\u001b[36m(pid=71684)\u001b[0m   File \"/opt/anaconda3/lib/python3.7/site-packages/ray/rllib/utils/__init__.py\", line 10, in <module>\n",
      "\u001b[2m\u001b[36m(pid=71684)\u001b[0m     from ray.rllib.utils.numpy import sigmoid, softmax, relu, one_hot, fc, lstm, \\\n",
      "\u001b[2m\u001b[36m(pid=71684)\u001b[0m   File \"/opt/anaconda3/lib/python3.7/site-packages/ray/rllib/utils/numpy.py\", line 8, in <module>\n",
      "\u001b[2m\u001b[36m(pid=71684)\u001b[0m     torch, _ = try_import_torch()\n",
      "\u001b[2m\u001b[36m(pid=71684)\u001b[0m   File \"/opt/anaconda3/lib/python3.7/site-packages/ray/rllib/utils/framework.py\", line 178, in try_import_torch\n",
      "\u001b[2m\u001b[36m(pid=71684)\u001b[0m     import torch\n",
      "\u001b[2m\u001b[36m(pid=71684)\u001b[0m   File \"/opt/anaconda3/lib/python3.7/site-packages/torch/__init__.py\", line 635, in <module>\n",
      "\u001b[2m\u001b[36m(pid=71684)\u001b[0m     import torch.utils.data\n",
      "\u001b[2m\u001b[36m(pid=71684)\u001b[0m   File \"/opt/anaconda3/lib/python3.7/site-packages/torch/utils/data/__init__.py\", line 6, in <module>\n",
      "\u001b[2m\u001b[36m(pid=71684)\u001b[0m     from .dataloader import DataLoader, _DatasetKind, get_worker_info\n",
      "\u001b[2m\u001b[36m(pid=71684)\u001b[0m   File \"/opt/anaconda3/lib/python3.7/site-packages/torch/utils/data/dataloader.py\", line 21, in <module>\n",
      "\u001b[2m\u001b[36m(pid=71684)\u001b[0m     from . import _utils\n",
      "\u001b[2m\u001b[36m(pid=71684)\u001b[0m   File \"/opt/anaconda3/lib/python3.7/site-packages/torch/utils/data/_utils/__init__.py\", line 45, in <module>\n",
      "\u001b[2m\u001b[36m(pid=71684)\u001b[0m     from . import worker, signal_handling, pin_memory, collate, fetch\n",
      "\u001b[2m\u001b[36m(pid=71684)\u001b[0m   File \"/opt/anaconda3/lib/python3.7/site-packages/torch/utils/data/_utils/worker.py\", line 114, in <module>\n",
      "\u001b[2m\u001b[36m(pid=71684)\u001b[0m     class _IterableDatasetStopIteration(object):\n",
      "\u001b[2m\u001b[36m(pid=71684)\u001b[0m   File \"/opt/anaconda3/lib/python3.7/site-packages/dataclasses.py\", line 950, in wrap\n",
      "\u001b[2m\u001b[36m(pid=71684)\u001b[0m     return _process_class(cls, init, repr, eq, order, unsafe_hash, frozen)\n",
      "\u001b[2m\u001b[36m(pid=71684)\u001b[0m   File \"/opt/anaconda3/lib/python3.7/site-packages/dataclasses.py\", line 801, in _process_class\n",
      "\u001b[2m\u001b[36m(pid=71684)\u001b[0m     for name, type in cls_annotations.items()]\n",
      "\u001b[2m\u001b[36m(pid=71684)\u001b[0m   File \"/opt/anaconda3/lib/python3.7/site-packages/dataclasses.py\", line 801, in <listcomp>\n",
      "\u001b[2m\u001b[36m(pid=71684)\u001b[0m     for name, type in cls_annotations.items()]\n",
      "\u001b[2m\u001b[36m(pid=71684)\u001b[0m   File \"/opt/anaconda3/lib/python3.7/site-packages/dataclasses.py\", line 659, in _get_field\n",
      "\u001b[2m\u001b[36m(pid=71684)\u001b[0m     if (_is_classvar(a_type, typing)\n",
      "\u001b[2m\u001b[36m(pid=71684)\u001b[0m   File \"/opt/anaconda3/lib/python3.7/site-packages/dataclasses.py\", line 550, in _is_classvar\n",
      "\u001b[2m\u001b[36m(pid=71684)\u001b[0m     return type(a_type) is typing._ClassVar\n",
      "\u001b[2m\u001b[36m(pid=71684)\u001b[0m AttributeError: module 'typing' has no attribute '_ClassVar'\n",
      "\u001b[2m\u001b[36m(pid=71686)\u001b[0m 2021-05-19 17:04:34,089\tERROR function_manager.py:498 -- Failed to load actor class RolloutWorker.\n",
      "\u001b[2m\u001b[36m(pid=71686)\u001b[0m Traceback (most recent call last):\n",
      "\u001b[2m\u001b[36m(pid=71686)\u001b[0m   File \"/opt/anaconda3/lib/python3.7/site-packages/ray/function_manager.py\", line 496, in _load_actor_class_from_gcs\n",
      "\u001b[2m\u001b[36m(pid=71686)\u001b[0m     actor_class = pickle.loads(pickled_class)\n",
      "\u001b[2m\u001b[36m(pid=71686)\u001b[0m   File \"/opt/anaconda3/lib/python3.7/site-packages/ray/rllib/__init__.py\", line 5, in <module>\n",
      "\u001b[2m\u001b[36m(pid=71686)\u001b[0m     from ray.rllib.env.base_env import BaseEnv\n",
      "\u001b[2m\u001b[36m(pid=71686)\u001b[0m   File \"/opt/anaconda3/lib/python3.7/site-packages/ray/rllib/env/__init__.py\", line 1, in <module>\n",
      "\u001b[2m\u001b[36m(pid=71686)\u001b[0m     from ray.rllib.env.base_env import BaseEnv\n",
      "\u001b[2m\u001b[36m(pid=71686)\u001b[0m   File \"/opt/anaconda3/lib/python3.7/site-packages/ray/rllib/env/base_env.py\", line 3, in <module>\n",
      "\u001b[2m\u001b[36m(pid=71686)\u001b[0m     from ray.rllib.env.external_env import ExternalEnv\n",
      "\u001b[2m\u001b[36m(pid=71686)\u001b[0m   File \"/opt/anaconda3/lib/python3.7/site-packages/ray/rllib/env/external_env.py\", line 7, in <module>\n",
      "\u001b[2m\u001b[36m(pid=71686)\u001b[0m     from ray.rllib.utils.annotations import PublicAPI\n",
      "\u001b[2m\u001b[36m(pid=71686)\u001b[0m   File \"/opt/anaconda3/lib/python3.7/site-packages/ray/rllib/utils/__init__.py\", line 10, in <module>\n",
      "\u001b[2m\u001b[36m(pid=71686)\u001b[0m     from ray.rllib.utils.numpy import sigmoid, softmax, relu, one_hot, fc, lstm, \\\n",
      "\u001b[2m\u001b[36m(pid=71686)\u001b[0m   File \"/opt/anaconda3/lib/python3.7/site-packages/ray/rllib/utils/numpy.py\", line 8, in <module>\n",
      "\u001b[2m\u001b[36m(pid=71686)\u001b[0m     torch, _ = try_import_torch()\n",
      "\u001b[2m\u001b[36m(pid=71686)\u001b[0m   File \"/opt/anaconda3/lib/python3.7/site-packages/ray/rllib/utils/framework.py\", line 178, in try_import_torch\n",
      "\u001b[2m\u001b[36m(pid=71686)\u001b[0m     import torch\n",
      "\u001b[2m\u001b[36m(pid=71686)\u001b[0m   File \"/opt/anaconda3/lib/python3.7/site-packages/torch/__init__.py\", line 635, in <module>\n",
      "\u001b[2m\u001b[36m(pid=71686)\u001b[0m     import torch.utils.data\n",
      "\u001b[2m\u001b[36m(pid=71686)\u001b[0m   File \"/opt/anaconda3/lib/python3.7/site-packages/torch/utils/data/__init__.py\", line 6, in <module>\n",
      "\u001b[2m\u001b[36m(pid=71686)\u001b[0m     from .dataloader import DataLoader, _DatasetKind, get_worker_info\n",
      "\u001b[2m\u001b[36m(pid=71686)\u001b[0m   File \"/opt/anaconda3/lib/python3.7/site-packages/torch/utils/data/dataloader.py\", line 21, in <module>\n",
      "\u001b[2m\u001b[36m(pid=71686)\u001b[0m     from . import _utils\n",
      "\u001b[2m\u001b[36m(pid=71686)\u001b[0m   File \"/opt/anaconda3/lib/python3.7/site-packages/torch/utils/data/_utils/__init__.py\", line 45, in <module>\n",
      "\u001b[2m\u001b[36m(pid=71686)\u001b[0m     from . import worker, signal_handling, pin_memory, collate, fetch\n",
      "\u001b[2m\u001b[36m(pid=71686)\u001b[0m   File \"/opt/anaconda3/lib/python3.7/site-packages/torch/utils/data/_utils/worker.py\", line 114, in <module>\n",
      "\u001b[2m\u001b[36m(pid=71686)\u001b[0m     class _IterableDatasetStopIteration(object):\n",
      "\u001b[2m\u001b[36m(pid=71686)\u001b[0m   File \"/opt/anaconda3/lib/python3.7/site-packages/dataclasses.py\", line 950, in wrap\n",
      "\u001b[2m\u001b[36m(pid=71686)\u001b[0m     return _process_class(cls, init, repr, eq, order, unsafe_hash, frozen)\n",
      "\u001b[2m\u001b[36m(pid=71686)\u001b[0m   File \"/opt/anaconda3/lib/python3.7/site-packages/dataclasses.py\", line 801, in _process_class\n",
      "\u001b[2m\u001b[36m(pid=71686)\u001b[0m     for name, type in cls_annotations.items()]\n",
      "\u001b[2m\u001b[36m(pid=71686)\u001b[0m   File \"/opt/anaconda3/lib/python3.7/site-packages/dataclasses.py\", line 801, in <listcomp>\n",
      "\u001b[2m\u001b[36m(pid=71686)\u001b[0m     for name, type in cls_annotations.items()]\n",
      "\u001b[2m\u001b[36m(pid=71686)\u001b[0m   File \"/opt/anaconda3/lib/python3.7/site-packages/dataclasses.py\", line 659, in _get_field\n",
      "\u001b[2m\u001b[36m(pid=71686)\u001b[0m     if (_is_classvar(a_type, typing)\n",
      "\u001b[2m\u001b[36m(pid=71686)\u001b[0m   File \"/opt/anaconda3/lib/python3.7/site-packages/dataclasses.py\", line 550, in _is_classvar\n",
      "\u001b[2m\u001b[36m(pid=71686)\u001b[0m     return type(a_type) is typing._ClassVar\n",
      "\u001b[2m\u001b[36m(pid=71686)\u001b[0m AttributeError: module 'typing' has no attribute '_ClassVar'\n"
     ]
    },
    {
     "ename": "RayTaskError(NameError)",
     "evalue": "\u001b[36mray::RolloutWorker.foreach_policy()\u001b[39m (pid=71686, ip=192.168.1.65)\n  File \"python/ray/_raylet.pyx\", line 439, in ray._raylet.execute_task\n  File \"python/ray/_raylet.pyx\", line 442, in ray._raylet.execute_task\n  File \"python/ray/_raylet.pyx\", line 459, in ray._raylet.execute_task\n  File \"/opt/anaconda3/lib/python3.7/site-packages/ray/serialization.py\", line 245, in deserialize_objects\n    self._deserialize_object(data, metadata, object_ref))\n  File \"/opt/anaconda3/lib/python3.7/site-packages/ray/serialization.py\", line 192, in _deserialize_object\n    return self._deserialize_msgpack_data(data, metadata_fields)\n  File \"/opt/anaconda3/lib/python3.7/site-packages/ray/serialization.py\", line 170, in _deserialize_msgpack_data\n    python_objects = self._deserialize_pickle5_data(pickle5_data)\n  File \"/opt/anaconda3/lib/python3.7/site-packages/ray/serialization.py\", line 160, in _deserialize_pickle5_data\n    obj = pickle.loads(in_band)\n  File \"/opt/anaconda3/lib/python3.7/site-packages/ray/rllib/__init__.py\", line 5, in <module>\n    from ray.rllib.env.base_env import BaseEnv\n  File \"/opt/anaconda3/lib/python3.7/site-packages/ray/rllib/env/__init__.py\", line 6, in <module>\n    from ray.rllib.env.policy_client import PolicyClient\n  File \"/opt/anaconda3/lib/python3.7/site-packages/ray/rllib/env/policy_client.py\", line 14, in <module>\n    from ray.rllib.policy.sample_batch import MultiAgentBatch\n  File \"/opt/anaconda3/lib/python3.7/site-packages/ray/rllib/policy/__init__.py\", line 1, in <module>\n    from ray.rllib.policy.policy import Policy\n  File \"/opt/anaconda3/lib/python3.7/site-packages/ray/rllib/policy/policy.py\", line 9, in <module>\n    from ray.rllib.models.catalog import ModelCatalog\n  File \"/opt/anaconda3/lib/python3.7/site-packages/ray/rllib/models/__init__.py\", line 1, in <module>\n    from ray.rllib.models.action_dist import ActionDistribution\n  File \"/opt/anaconda3/lib/python3.7/site-packages/ray/rllib/models/action_dist.py\", line 4, in <module>\n    from ray.rllib.models.modelv2 import ModelV2\n  File \"/opt/anaconda3/lib/python3.7/site-packages/ray/rllib/models/modelv2.py\", line 7, in <module>\n    from ray.rllib.models.preprocessors import get_preprocessor, \\\n  File \"/opt/anaconda3/lib/python3.7/site-packages/ray/rllib/models/preprocessors.py\", line 9, in <module>\n    from ray.rllib.utils.spaces.repeated import Repeated\n  File \"/opt/anaconda3/lib/python3.7/site-packages/ray/rllib/utils/__init__.py\", line 10, in <module>\n    from ray.rllib.utils.numpy import sigmoid, softmax, relu, one_hot, fc, lstm, \\\n  File \"/opt/anaconda3/lib/python3.7/site-packages/ray/rllib/utils/numpy.py\", line 8, in <module>\n    torch, _ = try_import_torch()\n  File \"/opt/anaconda3/lib/python3.7/site-packages/ray/rllib/utils/framework.py\", line 178, in try_import_torch\n    import torch\n  File \"/opt/anaconda3/lib/python3.7/site-packages/torch/__init__.py\", line 228, in <module>\n    __all__ += [name for name in dir(_C)\nNameError: name '_C' is not defined",
     "output_type": "error",
     "traceback": [
      "\u001b[0;31m---------------------------------------------------------------------------\u001b[0m",
      "\u001b[0;31mRayTaskError(NameError)\u001b[0m                   Traceback (most recent call last)",
      "\u001b[0;32m<ipython-input-23-0a9b86035091>\u001b[0m in \u001b[0;36m<module>\u001b[0;34m\u001b[0m\n\u001b[1;32m      3\u001b[0m \u001b[0menv_key\u001b[0m \u001b[0;34m=\u001b[0m \u001b[0;34m\"JokeRec-v0\"\u001b[0m\u001b[0;34m\u001b[0m\u001b[0;34m\u001b[0m\u001b[0m\n\u001b[1;32m      4\u001b[0m \u001b[0mregister_env\u001b[0m\u001b[0;34m(\u001b[0m\u001b[0menv_key\u001b[0m\u001b[0;34m,\u001b[0m \u001b[0;32mlambda\u001b[0m \u001b[0mconfig_env\u001b[0m\u001b[0;34m:\u001b[0m \u001b[0mJokeRec\u001b[0m\u001b[0;34m(\u001b[0m\u001b[0mconfig_env\u001b[0m\u001b[0;34m)\u001b[0m\u001b[0;34m)\u001b[0m\u001b[0;34m\u001b[0m\u001b[0;34m\u001b[0m\u001b[0m\n\u001b[0;32m----> 5\u001b[0;31m \u001b[0mAGENT\u001b[0m \u001b[0;34m=\u001b[0m \u001b[0mppo\u001b[0m\u001b[0;34m.\u001b[0m\u001b[0mPPOTrainer\u001b[0m\u001b[0;34m(\u001b[0m\u001b[0mCONFIG\u001b[0m\u001b[0;34m,\u001b[0m \u001b[0menv\u001b[0m\u001b[0;34m=\u001b[0m\u001b[0menv_key\u001b[0m\u001b[0;34m)\u001b[0m\u001b[0;34m\u001b[0m\u001b[0;34m\u001b[0m\u001b[0m\n\u001b[0m",
      "\u001b[0;32m/opt/anaconda3/lib/python3.7/site-packages/ray/rllib/agents/trainer_template.py\u001b[0m in \u001b[0;36m__init__\u001b[0;34m(self, config, env, logger_creator)\u001b[0m\n\u001b[1;32m    105\u001b[0m \u001b[0;34m\u001b[0m\u001b[0m\n\u001b[1;32m    106\u001b[0m         \u001b[0;32mdef\u001b[0m \u001b[0m__init__\u001b[0m\u001b[0;34m(\u001b[0m\u001b[0mself\u001b[0m\u001b[0;34m,\u001b[0m \u001b[0mconfig\u001b[0m\u001b[0;34m=\u001b[0m\u001b[0;32mNone\u001b[0m\u001b[0;34m,\u001b[0m \u001b[0menv\u001b[0m\u001b[0;34m=\u001b[0m\u001b[0;32mNone\u001b[0m\u001b[0;34m,\u001b[0m \u001b[0mlogger_creator\u001b[0m\u001b[0;34m=\u001b[0m\u001b[0;32mNone\u001b[0m\u001b[0;34m)\u001b[0m\u001b[0;34m:\u001b[0m\u001b[0;34m\u001b[0m\u001b[0;34m\u001b[0m\u001b[0m\n\u001b[0;32m--> 107\u001b[0;31m             \u001b[0mTrainer\u001b[0m\u001b[0;34m.\u001b[0m\u001b[0m__init__\u001b[0m\u001b[0;34m(\u001b[0m\u001b[0mself\u001b[0m\u001b[0;34m,\u001b[0m \u001b[0mconfig\u001b[0m\u001b[0;34m,\u001b[0m \u001b[0menv\u001b[0m\u001b[0;34m,\u001b[0m \u001b[0mlogger_creator\u001b[0m\u001b[0;34m)\u001b[0m\u001b[0;34m\u001b[0m\u001b[0;34m\u001b[0m\u001b[0m\n\u001b[0m\u001b[1;32m    108\u001b[0m \u001b[0;34m\u001b[0m\u001b[0m\n\u001b[1;32m    109\u001b[0m         def _init(self, config: TrainerConfigDict,\n",
      "\u001b[0;32m/opt/anaconda3/lib/python3.7/site-packages/ray/rllib/agents/trainer.py\u001b[0m in \u001b[0;36m__init__\u001b[0;34m(self, config, env, logger_creator)\u001b[0m\n\u001b[1;32m    484\u001b[0m             \u001b[0mlogger_creator\u001b[0m \u001b[0;34m=\u001b[0m \u001b[0mdefault_logger_creator\u001b[0m\u001b[0;34m\u001b[0m\u001b[0;34m\u001b[0m\u001b[0m\n\u001b[1;32m    485\u001b[0m \u001b[0;34m\u001b[0m\u001b[0m\n\u001b[0;32m--> 486\u001b[0;31m         \u001b[0msuper\u001b[0m\u001b[0;34m(\u001b[0m\u001b[0;34m)\u001b[0m\u001b[0;34m.\u001b[0m\u001b[0m__init__\u001b[0m\u001b[0;34m(\u001b[0m\u001b[0mconfig\u001b[0m\u001b[0;34m,\u001b[0m \u001b[0mlogger_creator\u001b[0m\u001b[0;34m)\u001b[0m\u001b[0;34m\u001b[0m\u001b[0;34m\u001b[0m\u001b[0m\n\u001b[0m\u001b[1;32m    487\u001b[0m \u001b[0;34m\u001b[0m\u001b[0m\n\u001b[1;32m    488\u001b[0m     \u001b[0;34m@\u001b[0m\u001b[0mclassmethod\u001b[0m\u001b[0;34m\u001b[0m\u001b[0;34m\u001b[0m\u001b[0m\n",
      "\u001b[0;32m/opt/anaconda3/lib/python3.7/site-packages/ray/tune/trainable.py\u001b[0m in \u001b[0;36m__init__\u001b[0;34m(self, config, logger_creator)\u001b[0m\n\u001b[1;32m     95\u001b[0m \u001b[0;34m\u001b[0m\u001b[0m\n\u001b[1;32m     96\u001b[0m         \u001b[0mstart_time\u001b[0m \u001b[0;34m=\u001b[0m \u001b[0mtime\u001b[0m\u001b[0;34m.\u001b[0m\u001b[0mtime\u001b[0m\u001b[0;34m(\u001b[0m\u001b[0;34m)\u001b[0m\u001b[0;34m\u001b[0m\u001b[0;34m\u001b[0m\u001b[0m\n\u001b[0;32m---> 97\u001b[0;31m         \u001b[0mself\u001b[0m\u001b[0;34m.\u001b[0m\u001b[0msetup\u001b[0m\u001b[0;34m(\u001b[0m\u001b[0mcopy\u001b[0m\u001b[0;34m.\u001b[0m\u001b[0mdeepcopy\u001b[0m\u001b[0;34m(\u001b[0m\u001b[0mself\u001b[0m\u001b[0;34m.\u001b[0m\u001b[0mconfig\u001b[0m\u001b[0;34m)\u001b[0m\u001b[0;34m)\u001b[0m\u001b[0;34m\u001b[0m\u001b[0;34m\u001b[0m\u001b[0m\n\u001b[0m\u001b[1;32m     98\u001b[0m         \u001b[0msetup_time\u001b[0m \u001b[0;34m=\u001b[0m \u001b[0mtime\u001b[0m\u001b[0;34m.\u001b[0m\u001b[0mtime\u001b[0m\u001b[0;34m(\u001b[0m\u001b[0;34m)\u001b[0m \u001b[0;34m-\u001b[0m \u001b[0mstart_time\u001b[0m\u001b[0;34m\u001b[0m\u001b[0;34m\u001b[0m\u001b[0m\n\u001b[1;32m     99\u001b[0m         \u001b[0;32mif\u001b[0m \u001b[0msetup_time\u001b[0m \u001b[0;34m>\u001b[0m \u001b[0mSETUP_TIME_THRESHOLD\u001b[0m\u001b[0;34m:\u001b[0m\u001b[0;34m\u001b[0m\u001b[0;34m\u001b[0m\u001b[0m\n",
      "\u001b[0;32m/opt/anaconda3/lib/python3.7/site-packages/ray/rllib/agents/trainer.py\u001b[0m in \u001b[0;36msetup\u001b[0;34m(self, config)\u001b[0m\n\u001b[1;32m    652\u001b[0m \u001b[0;34m\u001b[0m\u001b[0m\n\u001b[1;32m    653\u001b[0m         \u001b[0;32mwith\u001b[0m \u001b[0mget_scope\u001b[0m\u001b[0;34m(\u001b[0m\u001b[0;34m)\u001b[0m\u001b[0;34m:\u001b[0m\u001b[0;34m\u001b[0m\u001b[0;34m\u001b[0m\u001b[0m\n\u001b[0;32m--> 654\u001b[0;31m             \u001b[0mself\u001b[0m\u001b[0;34m.\u001b[0m\u001b[0m_init\u001b[0m\u001b[0;34m(\u001b[0m\u001b[0mself\u001b[0m\u001b[0;34m.\u001b[0m\u001b[0mconfig\u001b[0m\u001b[0;34m,\u001b[0m \u001b[0mself\u001b[0m\u001b[0;34m.\u001b[0m\u001b[0menv_creator\u001b[0m\u001b[0;34m)\u001b[0m\u001b[0;34m\u001b[0m\u001b[0;34m\u001b[0m\u001b[0m\n\u001b[0m\u001b[1;32m    655\u001b[0m \u001b[0;34m\u001b[0m\u001b[0m\n\u001b[1;32m    656\u001b[0m             \u001b[0;31m# Evaluation setup.\u001b[0m\u001b[0;34m\u001b[0m\u001b[0;34m\u001b[0m\u001b[0;34m\u001b[0m\u001b[0m\n",
      "\u001b[0;32m/opt/anaconda3/lib/python3.7/site-packages/ray/rllib/agents/trainer_template.py\u001b[0m in \u001b[0;36m_init\u001b[0;34m(self, config, env_creator)\u001b[0m\n\u001b[1;32m    137\u001b[0m                 \u001b[0mpolicy_class\u001b[0m\u001b[0;34m=\u001b[0m\u001b[0mself\u001b[0m\u001b[0;34m.\u001b[0m\u001b[0m_policy_class\u001b[0m\u001b[0;34m,\u001b[0m\u001b[0;34m\u001b[0m\u001b[0;34m\u001b[0m\u001b[0m\n\u001b[1;32m    138\u001b[0m                 \u001b[0mconfig\u001b[0m\u001b[0;34m=\u001b[0m\u001b[0mconfig\u001b[0m\u001b[0;34m,\u001b[0m\u001b[0;34m\u001b[0m\u001b[0;34m\u001b[0m\u001b[0m\n\u001b[0;32m--> 139\u001b[0;31m                 num_workers=self.config[\"num_workers\"])\n\u001b[0m\u001b[1;32m    140\u001b[0m             \u001b[0mself\u001b[0m\u001b[0;34m.\u001b[0m\u001b[0mexecution_plan\u001b[0m \u001b[0;34m=\u001b[0m \u001b[0mexecution_plan\u001b[0m\u001b[0;34m\u001b[0m\u001b[0;34m\u001b[0m\u001b[0m\n\u001b[1;32m    141\u001b[0m             \u001b[0mself\u001b[0m\u001b[0;34m.\u001b[0m\u001b[0mtrain_exec_impl\u001b[0m \u001b[0;34m=\u001b[0m \u001b[0mexecution_plan\u001b[0m\u001b[0;34m(\u001b[0m\u001b[0mself\u001b[0m\u001b[0;34m.\u001b[0m\u001b[0mworkers\u001b[0m\u001b[0;34m,\u001b[0m \u001b[0mconfig\u001b[0m\u001b[0;34m)\u001b[0m\u001b[0;34m\u001b[0m\u001b[0;34m\u001b[0m\u001b[0m\n",
      "\u001b[0;32m/opt/anaconda3/lib/python3.7/site-packages/ray/rllib/agents/trainer.py\u001b[0m in \u001b[0;36m_make_workers\u001b[0;34m(self, env_creator, validate_env, policy_class, config, num_workers)\u001b[0m\n\u001b[1;32m    729\u001b[0m             \u001b[0mtrainer_config\u001b[0m\u001b[0;34m=\u001b[0m\u001b[0mconfig\u001b[0m\u001b[0;34m,\u001b[0m\u001b[0;34m\u001b[0m\u001b[0;34m\u001b[0m\u001b[0m\n\u001b[1;32m    730\u001b[0m             \u001b[0mnum_workers\u001b[0m\u001b[0;34m=\u001b[0m\u001b[0mnum_workers\u001b[0m\u001b[0;34m,\u001b[0m\u001b[0;34m\u001b[0m\u001b[0;34m\u001b[0m\u001b[0m\n\u001b[0;32m--> 731\u001b[0;31m             logdir=self.logdir)\n\u001b[0m\u001b[1;32m    732\u001b[0m \u001b[0;34m\u001b[0m\u001b[0m\n\u001b[1;32m    733\u001b[0m     \u001b[0;34m@\u001b[0m\u001b[0mDeveloperAPI\u001b[0m\u001b[0;34m\u001b[0m\u001b[0;34m\u001b[0m\u001b[0m\n",
      "\u001b[0;32m/opt/anaconda3/lib/python3.7/site-packages/ray/rllib/evaluation/worker_set.py\u001b[0m in \u001b[0;36m__init__\u001b[0;34m(self, env_creator, validate_env, policy_class, trainer_config, num_workers, logdir, _setup)\u001b[0m\n\u001b[1;32m     79\u001b[0m                 remote_spaces = ray.get(self.remote_workers(\n\u001b[1;32m     80\u001b[0m                 \u001b[0;34m)\u001b[0m\u001b[0;34m[\u001b[0m\u001b[0;36m0\u001b[0m\u001b[0;34m]\u001b[0m\u001b[0;34m.\u001b[0m\u001b[0mforeach_policy\u001b[0m\u001b[0;34m.\u001b[0m\u001b[0mremote\u001b[0m\u001b[0;34m(\u001b[0m\u001b[0;34m\u001b[0m\u001b[0;34m\u001b[0m\u001b[0m\n\u001b[0;32m---> 81\u001b[0;31m                     lambda p, pid: (pid, p.observation_space, p.action_space)))\n\u001b[0m\u001b[1;32m     82\u001b[0m                 spaces = {\n\u001b[1;32m     83\u001b[0m                     \u001b[0me\u001b[0m\u001b[0;34m[\u001b[0m\u001b[0;36m0\u001b[0m\u001b[0;34m]\u001b[0m\u001b[0;34m:\u001b[0m \u001b[0;34m(\u001b[0m\u001b[0mgetattr\u001b[0m\u001b[0;34m(\u001b[0m\u001b[0me\u001b[0m\u001b[0;34m[\u001b[0m\u001b[0;36m1\u001b[0m\u001b[0;34m]\u001b[0m\u001b[0;34m,\u001b[0m \u001b[0;34m\"original_space\"\u001b[0m\u001b[0;34m,\u001b[0m \u001b[0me\u001b[0m\u001b[0;34m[\u001b[0m\u001b[0;36m1\u001b[0m\u001b[0;34m]\u001b[0m\u001b[0;34m)\u001b[0m\u001b[0;34m,\u001b[0m \u001b[0me\u001b[0m\u001b[0;34m[\u001b[0m\u001b[0;36m2\u001b[0m\u001b[0;34m]\u001b[0m\u001b[0;34m)\u001b[0m\u001b[0;34m\u001b[0m\u001b[0;34m\u001b[0m\u001b[0m\n",
      "\u001b[0;32m/opt/anaconda3/lib/python3.7/site-packages/ray/_private/client_mode_hook.py\u001b[0m in \u001b[0;36mwrapper\u001b[0;34m(*args, **kwargs)\u001b[0m\n\u001b[1;32m     45\u001b[0m         \u001b[0;32mif\u001b[0m \u001b[0mclient_mode_enabled\u001b[0m \u001b[0;32mand\u001b[0m \u001b[0m_client_hook_enabled\u001b[0m\u001b[0;34m:\u001b[0m\u001b[0;34m\u001b[0m\u001b[0;34m\u001b[0m\u001b[0m\n\u001b[1;32m     46\u001b[0m             \u001b[0;32mreturn\u001b[0m \u001b[0mgetattr\u001b[0m\u001b[0;34m(\u001b[0m\u001b[0mray\u001b[0m\u001b[0;34m,\u001b[0m \u001b[0mfunc\u001b[0m\u001b[0;34m.\u001b[0m\u001b[0m__name__\u001b[0m\u001b[0;34m)\u001b[0m\u001b[0;34m(\u001b[0m\u001b[0;34m*\u001b[0m\u001b[0margs\u001b[0m\u001b[0;34m,\u001b[0m \u001b[0;34m**\u001b[0m\u001b[0mkwargs\u001b[0m\u001b[0;34m)\u001b[0m\u001b[0;34m\u001b[0m\u001b[0;34m\u001b[0m\u001b[0m\n\u001b[0;32m---> 47\u001b[0;31m         \u001b[0;32mreturn\u001b[0m \u001b[0mfunc\u001b[0m\u001b[0;34m(\u001b[0m\u001b[0;34m*\u001b[0m\u001b[0margs\u001b[0m\u001b[0;34m,\u001b[0m \u001b[0;34m**\u001b[0m\u001b[0mkwargs\u001b[0m\u001b[0;34m)\u001b[0m\u001b[0;34m\u001b[0m\u001b[0;34m\u001b[0m\u001b[0m\n\u001b[0m\u001b[1;32m     48\u001b[0m \u001b[0;34m\u001b[0m\u001b[0m\n\u001b[1;32m     49\u001b[0m     \u001b[0;32mreturn\u001b[0m \u001b[0mwrapper\u001b[0m\u001b[0;34m\u001b[0m\u001b[0;34m\u001b[0m\u001b[0m\n",
      "\u001b[0;32m/opt/anaconda3/lib/python3.7/site-packages/ray/worker.py\u001b[0m in \u001b[0;36mget\u001b[0;34m(object_refs, timeout)\u001b[0m\n\u001b[1;32m   1454\u001b[0m                     \u001b[0mworker\u001b[0m\u001b[0;34m.\u001b[0m\u001b[0mcore_worker\u001b[0m\u001b[0;34m.\u001b[0m\u001b[0mdump_object_store_memory_usage\u001b[0m\u001b[0;34m(\u001b[0m\u001b[0;34m)\u001b[0m\u001b[0;34m\u001b[0m\u001b[0;34m\u001b[0m\u001b[0m\n\u001b[1;32m   1455\u001b[0m                 \u001b[0;32mif\u001b[0m \u001b[0misinstance\u001b[0m\u001b[0;34m(\u001b[0m\u001b[0mvalue\u001b[0m\u001b[0;34m,\u001b[0m \u001b[0mRayTaskError\u001b[0m\u001b[0;34m)\u001b[0m\u001b[0;34m:\u001b[0m\u001b[0;34m\u001b[0m\u001b[0;34m\u001b[0m\u001b[0m\n\u001b[0;32m-> 1456\u001b[0;31m                     \u001b[0;32mraise\u001b[0m \u001b[0mvalue\u001b[0m\u001b[0;34m.\u001b[0m\u001b[0mas_instanceof_cause\u001b[0m\u001b[0;34m(\u001b[0m\u001b[0;34m)\u001b[0m\u001b[0;34m\u001b[0m\u001b[0;34m\u001b[0m\u001b[0m\n\u001b[0m\u001b[1;32m   1457\u001b[0m                 \u001b[0;32melse\u001b[0m\u001b[0;34m:\u001b[0m\u001b[0;34m\u001b[0m\u001b[0;34m\u001b[0m\u001b[0m\n\u001b[1;32m   1458\u001b[0m                     \u001b[0;32mraise\u001b[0m \u001b[0mvalue\u001b[0m\u001b[0;34m\u001b[0m\u001b[0;34m\u001b[0m\u001b[0m\n",
      "\u001b[0;31mRayTaskError(NameError)\u001b[0m: \u001b[36mray::RolloutWorker.foreach_policy()\u001b[39m (pid=71686, ip=192.168.1.65)\n  File \"python/ray/_raylet.pyx\", line 439, in ray._raylet.execute_task\n  File \"python/ray/_raylet.pyx\", line 442, in ray._raylet.execute_task\n  File \"python/ray/_raylet.pyx\", line 459, in ray._raylet.execute_task\n  File \"/opt/anaconda3/lib/python3.7/site-packages/ray/serialization.py\", line 245, in deserialize_objects\n    self._deserialize_object(data, metadata, object_ref))\n  File \"/opt/anaconda3/lib/python3.7/site-packages/ray/serialization.py\", line 192, in _deserialize_object\n    return self._deserialize_msgpack_data(data, metadata_fields)\n  File \"/opt/anaconda3/lib/python3.7/site-packages/ray/serialization.py\", line 170, in _deserialize_msgpack_data\n    python_objects = self._deserialize_pickle5_data(pickle5_data)\n  File \"/opt/anaconda3/lib/python3.7/site-packages/ray/serialization.py\", line 160, in _deserialize_pickle5_data\n    obj = pickle.loads(in_band)\n  File \"/opt/anaconda3/lib/python3.7/site-packages/ray/rllib/__init__.py\", line 5, in <module>\n    from ray.rllib.env.base_env import BaseEnv\n  File \"/opt/anaconda3/lib/python3.7/site-packages/ray/rllib/env/__init__.py\", line 6, in <module>\n    from ray.rllib.env.policy_client import PolicyClient\n  File \"/opt/anaconda3/lib/python3.7/site-packages/ray/rllib/env/policy_client.py\", line 14, in <module>\n    from ray.rllib.policy.sample_batch import MultiAgentBatch\n  File \"/opt/anaconda3/lib/python3.7/site-packages/ray/rllib/policy/__init__.py\", line 1, in <module>\n    from ray.rllib.policy.policy import Policy\n  File \"/opt/anaconda3/lib/python3.7/site-packages/ray/rllib/policy/policy.py\", line 9, in <module>\n    from ray.rllib.models.catalog import ModelCatalog\n  File \"/opt/anaconda3/lib/python3.7/site-packages/ray/rllib/models/__init__.py\", line 1, in <module>\n    from ray.rllib.models.action_dist import ActionDistribution\n  File \"/opt/anaconda3/lib/python3.7/site-packages/ray/rllib/models/action_dist.py\", line 4, in <module>\n    from ray.rllib.models.modelv2 import ModelV2\n  File \"/opt/anaconda3/lib/python3.7/site-packages/ray/rllib/models/modelv2.py\", line 7, in <module>\n    from ray.rllib.models.preprocessors import get_preprocessor, \\\n  File \"/opt/anaconda3/lib/python3.7/site-packages/ray/rllib/models/preprocessors.py\", line 9, in <module>\n    from ray.rllib.utils.spaces.repeated import Repeated\n  File \"/opt/anaconda3/lib/python3.7/site-packages/ray/rllib/utils/__init__.py\", line 10, in <module>\n    from ray.rllib.utils.numpy import sigmoid, softmax, relu, one_hot, fc, lstm, \\\n  File \"/opt/anaconda3/lib/python3.7/site-packages/ray/rllib/utils/numpy.py\", line 8, in <module>\n    torch, _ = try_import_torch()\n  File \"/opt/anaconda3/lib/python3.7/site-packages/ray/rllib/utils/framework.py\", line 178, in try_import_torch\n    import torch\n  File \"/opt/anaconda3/lib/python3.7/site-packages/torch/__init__.py\", line 228, in <module>\n    __all__ += [name for name in dir(_C)\nNameError: name '_C' is not defined"
     ]
    }
   ],
   "source": [
    "from ray.tune.registry import register_env\n",
    "\n",
    "env_key = \"JokeRec-v0\"\n",
    "register_env(env_key, lambda config_env: JokeRec(config_env))\n",
    "AGENT = ppo.PPOTrainer(CONFIG, env=env_key)"
   ]
  },
  {
   "cell_type": "markdown",
   "metadata": {},
   "source": [
    "Let's train a policy using the PPO optimizer in RLlib. As the following code steps through each training iteration, watch how the measured improvements in the min, mean, and max rewards per episode."
   ]
  },
  {
   "cell_type": "code",
   "execution_count": null,
   "metadata": {
    "scrolled": true
   },
   "outputs": [],
   "source": [
    "TRAIN_ITER = 20\n",
    "\n",
    "df = pd.DataFrame(columns=[ \"min_reward\", \"avg_reward\", \"max_reward\", \"steps\", \"checkpoint\"])\n",
    "status = \"reward {:6.2f} {:6.2f} {:6.2f}  len {:4.2f}  saved {}\"\n",
    "\n",
    "for i in range(TRAIN_ITER):\n",
    "    result = AGENT.train()\n",
    "    checkpoint_file = AGENT.save(CHECKPOINT_ROOT)\n",
    "\n",
    "    row = [\n",
    "        result[\"episode_reward_min\"],\n",
    "        result[\"episode_reward_mean\"],\n",
    "        result[\"episode_reward_max\"],\n",
    "        result[\"episode_len_mean\"],\n",
    "        checkpoint_file,\n",
    "        ]\n",
    "\n",
    "    df.loc[len(df)] = row\n",
    "    print(status.format(*row))\n",
    "    \n",
    "BEST_CHECKPOINT = checkpoint_file"
   ]
  },
  {
   "cell_type": "markdown",
   "metadata": {},
   "source": [
    "## Rollout to Emulate a Use Case Deployment\n",
    "\n",
    "Now let's define a function to run a *rollout* using a checkpointed policy.\n",
    "Each rollout iteration will emuluate a deployed use of our recommender system for one user, and we'll measure the average rewards across many iterations:"
   ]
  },
  {
   "cell_type": "code",
   "execution_count": 24,
   "metadata": {},
   "outputs": [],
   "source": [
    "def run_rollout (agent, env, n_iter=1, verbose=False):\n",
    "    \"\"\"\n",
    "    iterate through `n_iter` episodes in a rollout to emulate deployment in a production use case\n",
    "    \"\"\"\n",
    "    for episode in range(n_iter):\n",
    "        state = env.reset()\n",
    "        sum_reward = 0\n",
    "\n",
    "        for step in range(MAX_STEPS):\n",
    "            try:\n",
    "                action = agent.compute_action(state)\n",
    "                state, reward, done, info = env.step(action)\n",
    "                sum_reward += reward\n",
    "\n",
    "                if verbose:\n",
    "                    print(\"reward {:6.3f}  sum {:6.3f}\".format(reward, sum_reward))\n",
    "                    env.render()\n",
    "            except Exception:\n",
    "                traceback.print_exc()\n",
    "\n",
    "            if done:\n",
    "                # report at the end of each episode\n",
    "                print(\"CUMULATIVE REWARD:\", round(sum_reward, 3), \"\\n\")\n",
    "                yield sum_reward\n",
    "                break"
   ]
  },
  {
   "cell_type": "markdown",
   "metadata": {},
   "source": [
    "Now we can apply the best trained policy in a rollout:"
   ]
  },
  {
   "cell_type": "code",
   "execution_count": 25,
   "metadata": {
    "scrolled": true
   },
   "outputs": [
    {
     "ename": "NameError",
     "evalue": "name 'AGENT' is not defined",
     "output_type": "error",
     "traceback": [
      "\u001b[0;31m---------------------------------------------------------------------------\u001b[0m",
      "\u001b[0;31mNameError\u001b[0m                                 Traceback (most recent call last)",
      "\u001b[0;32m<ipython-input-25-ff141f193eb7>\u001b[0m in \u001b[0;36m<module>\u001b[0;34m\u001b[0m\n\u001b[0;32m----> 1\u001b[0;31m \u001b[0mAGENT\u001b[0m\u001b[0;34m.\u001b[0m\u001b[0mrestore\u001b[0m\u001b[0;34m(\u001b[0m\u001b[0mBEST_CHECKPOINT\u001b[0m\u001b[0;34m)\u001b[0m\u001b[0;34m\u001b[0m\u001b[0;34m\u001b[0m\u001b[0m\n\u001b[0m\u001b[1;32m      2\u001b[0m \u001b[0mhistory\u001b[0m \u001b[0;34m=\u001b[0m \u001b[0;34m[\u001b[0m\u001b[0;34m]\u001b[0m\u001b[0;34m\u001b[0m\u001b[0;34m\u001b[0m\u001b[0m\n\u001b[1;32m      3\u001b[0m \u001b[0;34m\u001b[0m\u001b[0m\n\u001b[1;32m      4\u001b[0m \u001b[0;32mfor\u001b[0m \u001b[0mepisode_reward\u001b[0m \u001b[0;32min\u001b[0m \u001b[0mrun_rollout\u001b[0m\u001b[0;34m(\u001b[0m\u001b[0mAGENT\u001b[0m\u001b[0;34m,\u001b[0m \u001b[0menv\u001b[0m\u001b[0;34m,\u001b[0m \u001b[0mn_iter\u001b[0m\u001b[0;34m=\u001b[0m\u001b[0;36m500\u001b[0m\u001b[0;34m,\u001b[0m \u001b[0mverbose\u001b[0m\u001b[0;34m=\u001b[0m\u001b[0;32mFalse\u001b[0m\u001b[0;34m)\u001b[0m\u001b[0;34m:\u001b[0m\u001b[0;34m\u001b[0m\u001b[0;34m\u001b[0m\u001b[0m\n\u001b[1;32m      5\u001b[0m     \u001b[0mhistory\u001b[0m\u001b[0;34m.\u001b[0m\u001b[0mappend\u001b[0m\u001b[0;34m(\u001b[0m\u001b[0mepisode_reward\u001b[0m\u001b[0;34m)\u001b[0m\u001b[0;34m\u001b[0m\u001b[0;34m\u001b[0m\u001b[0m\n",
      "\u001b[0;31mNameError\u001b[0m: name 'AGENT' is not defined"
     ]
    }
   ],
   "source": [
    "AGENT.restore(BEST_CHECKPOINT)\n",
    "history = []\n",
    "\n",
    "for episode_reward in run_rollout(AGENT, env, n_iter=500, verbose=False):\n",
    "    history.append(episode_reward)\n",
    "    \n",
    "print(\"average reward:\", round(sum(history) / len(history), 3))"
   ]
  },
  {
   "cell_type": "markdown",
   "metadata": {},
   "source": [
    "How does the reported *average reward* from many rollouts (using RLlib to train a policy) compare with the *baseline cumulative reward* above based on a naïve strategy and no learning?  How does it compare with the predicted *mean reward per episode* from training? \n",
    "\n",
    "The baseline reward from a naïve strategy should be much lower (worse user ratings) than the other two measures.\n",
    "\n",
    "These measures are an estimate for how a user would rate their recommended items.\n",
    "Of course, not all users will like the jokes, so there will be some rollouts with negative rewards.\n",
    "Overall we want the average reward to be *positive*, with `MAX_STEPS` as an upper bounds."
   ]
  },
  {
   "cell_type": "markdown",
   "metadata": {},
   "source": [
    "## Examine the trained policy\n",
    "\n",
    "Use the following code to examine the trained policy that was optimized using PPO:"
   ]
  },
  {
   "cell_type": "code",
   "execution_count": null,
   "metadata": {},
   "outputs": [],
   "source": [
    "policy = AGENT.get_policy()\n",
    "model = policy.model\n",
    "\n",
    "print(\"\\n\", model.base_model.summary())"
   ]
  },
  {
   "cell_type": "markdown",
   "metadata": {},
   "source": [
    "## Evaluate learning with TensorBoard\n",
    "\n",
    "You also can run [TensorBoard](https://www.tensorflow.org/tensorboard) to visualize the RL training metrics from the log files. The results during training were written to a directory under `$HOME/ray_results`\n",
    "\n",
    "If you are viewing this lesson on the Anyscale hosted platform, use the provided link to open TensorBoard.\n",
    "\n",
    "If you are viewing this lesson on a laptop, open a terminal and run the following command, then open the URL shown in the output. (You can open a terminal using the `+` in the upper left-hand corner of Jupyter Lab.)\n",
    "\n",
    "```shell\n",
    "tensorboard --logdir=~/ray_results\n",
    "```\n",
    "\n",
    "Open the URL printed to view the TensorBoard GUI."
   ]
  },
  {
   "cell_type": "markdown",
   "metadata": {},
   "source": [
    "---"
   ]
  },
  {
   "cell_type": "markdown",
   "metadata": {},
   "source": [
    "## Exercise 1\n",
    "\n",
    "Compare use of the other datasets `\"jester-data-2.csv\"` and `\"jester-data-3.csv\"` by substituting them during the rollout.\n",
    "\n",
    "How do the mean cumulative reward differ from the metrics in the lesson?"
   ]
  },
  {
   "cell_type": "markdown",
   "metadata": {},
   "source": [
    "## Exercise 2\n",
    "\n",
    "Compare the effect of using a larger `K` value for the number of clusters.\n",
    "\n",
    "Show the difference, if any, by comparing:\n",
    "\n",
    "  * baseline with random actions \n",
    "  * baseline with the naïve strategy\n",
    "  * predicted average reward from training\n",
    "  * stats from the rollout"
   ]
  },
  {
   "cell_type": "markdown",
   "metadata": {},
   "source": [
    "## Discussion Questions\n",
    "\n",
    "  1. In what ways could the \"warm start\" be improved?\n",
    "  2. How could this code be modified to scale to millions of users?  Or to thousands of items?"
   ]
  },
  {
   "cell_type": "markdown",
   "metadata": {},
   "source": [
    "## Clean up\n",
    "\n",
    "Finally, let's shutdown Ray gracefully:"
   ]
  },
  {
   "cell_type": "code",
   "execution_count": null,
   "metadata": {},
   "outputs": [],
   "source": [
    "ray.shutdown()"
   ]
  }
 ],
 "metadata": {
  "kernelspec": {
   "display_name": "Python 3",
   "language": "python",
   "name": "python3"
  },
  "language_info": {
   "codemirror_mode": {
    "name": "ipython",
    "version": 3
   },
   "file_extension": ".py",
   "mimetype": "text/x-python",
   "name": "python",
   "nbconvert_exporter": "python",
   "pygments_lexer": "ipython3",
   "version": "3.7.4"
  }
 },
 "nbformat": 4,
 "nbformat_minor": 4
}
